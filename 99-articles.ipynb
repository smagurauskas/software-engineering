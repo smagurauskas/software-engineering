{
 "cells": [
  {
   "cell_type": "markdown",
   "metadata": {},
   "source": [
    "# Articles\n",
    "\n",
    "This notebook contains links to various articles that I think are worth a read.\n",
    "\n",
    "- Overview of how the AI impacts the state of Software Engineering and what to think about it https://www.oreilly.com/radar/the-end-of-programming-as-we-know-it/."
   ]
  }
 ],
 "metadata": {
  "language_info": {
   "name": "csharp"
  }
 },
 "nbformat": 4,
 "nbformat_minor": 2
}
