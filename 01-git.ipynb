{
 "cells": [
  {
   "cell_type": "markdown",
   "metadata": {},
   "source": [
    "# Git\n",
    "\n",
    "[Git](https://git-scm.com/) is an open source version control system. Originally authored by Linus Torvalds in 2005. Git was created for use in the development of Linux kernel, but quickly spread into other organisations as well. Although Git can be used to version any files, it is typically used by software engineers to version code.\n",
    "\n",
    "Version control systems allow track changes and collaborate working with files. Some of the primary features of VCSs are:\n",
    "- Tracking how file have change over time,\n",
    "- Being able to revert the file state to specific point,\n",
    "- Allowing multiple people to collaborate working on the same file base,\n",
    "- Graciously managing the scenarios when multiple people are trying to make simultaneous changes to same files."
   ]
  },
  {
   "cell_type": "markdown",
   "metadata": {},
   "source": [
    "Although Git is defintely not the only VCS available, it is by far the most dominant one. During the 2022 [StackOverflow developer survey](https://survey.stackoverflow.co/2022/#section-version-control-version-control-systems) over 93% respondents stated that they use Git as a primary version control system. In comparison the second most popular VCS was [SVN](https://en.wikipedia.org/wiki/Apache_Subversion) at 5%.\n",
    "\n",
    "Some companies, like Facebook, choose to use non-Git version control systems like Mercurial. More about the Facebook case can be read [here](https://engineering.fb.com/2014/01/07/core-infra/scaling-mercurial-at-facebook/) and [here](https://github.com/facebook/sapling). Some of the factors why companies might choose alternative VCS are enormous scale of their codebases."
   ]
  },
  {
   "cell_type": "markdown",
   "metadata": {},
   "source": [
    "## Git overview\n",
    "\n"
   ]
  },
  {
   "cell_type": "markdown",
   "metadata": {},
   "source": [
    "Git versions the data by storing full snapshots of it at various stages.\n",
    "\n",
    "Most other VCS usually track only the changes to the original files rather than full snapshots. Using this approach the latest file state can be reconstructure by taking the original file and the applying all the changes ever made to that file. This typically does not impact the workflows of how Git is used, but keeping this model in mind, helps to explain some of the aspects of how Git works, i.e. deatched heads, forced changes and so on."
   ]
  },
  {
   "cell_type": "markdown",
   "metadata": {},
   "source": [
    "Git has 3 main states the files can be in: *modified*, *staged* and *commited*.\n",
    "\n",
    "> - Modified means that you have changed the file but have not committed it to your database yet.\n",
    "> - Staged means that you have marked a modified file in its current version to go into your next commit snapshot.\n",
    "> - Committed means that the data is safely stored in your local database.\n",
    "\n",
    "More on this on [git-scm.com](https://git-scm.com/book/en/v2/Getting-Started-What-is-Git%3F)."
   ]
  },
  {
   "cell_type": "markdown",
   "metadata": {},
   "source": [
    "Once the code is locally *commited*, then it can be pushed to a remote repository to be made available to other people as well. Remote repositories need to be hosted somewhere, and this is where the Git platforms like [github.com](https://github.com), [gitlab.com](https://gitlab.com) and others comes into play. These platforms creating repositories and which people can collaborate with others for free.\n",
    "\n",
    "Once the code is published (*pushed*) to remote repository, then the changes become immediately available for everyone else to *pull*."
   ]
  },
  {
   "cell_type": "markdown",
   "metadata": {},
   "source": [
    "## Basic Git commands\n",
    "\n",
    "Git is primarily command line tool. There are various GUI interfaces that wrap Git, which might make some use cases easier, i.e. [SourceTree](https://www.sourcetreeapp.com/), [Git Extensions](https://gitextensions.github.io/) or various VS Code extensions.\n",
    "\n",
    "Command-line interface (CLI) is the simplest (not necessarily the easiest) way to work with Git, so we are going to focus on CLI commands."
   ]
  },
  {
   "cell_type": "markdown",
   "metadata": {},
   "source": [
    "## Writing good commit messages\n",
    "\n",
    "How to write them?\n",
    "\n",
    "### Squash your commits\n",
    "\n",
    "Squashing"
   ]
  },
  {
   "cell_type": "markdown",
   "metadata": {},
   "source": [
    "## Pull requests\n",
    "\n",
    "How to review them?"
   ]
  },
  {
   "cell_type": "markdown",
   "metadata": {},
   "source": [
    "## Additional reading\n",
    "\n"
   ]
  }
 ],
 "metadata": {
  "kernelspec": {
   "display_name": ".NET (C#)",
   "language": "C#",
   "name": ".net-csharp"
  },
  "language_info": {
   "name": "polyglot-notebook"
  },
  "polyglot_notebook": {
   "kernelInfo": {
    "defaultKernelName": "csharp",
    "items": [
     {
      "aliases": [],
      "languageName": "csharp",
      "name": "csharp"
     }
    ]
   }
  }
 },
 "nbformat": 4,
 "nbformat_minor": 2
}
