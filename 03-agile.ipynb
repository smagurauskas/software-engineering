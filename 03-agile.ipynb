{
 "cells": [
  {
   "cell_type": "markdown",
   "metadata": {},
   "source": [
    "# Agile\n",
    "\n",
    "## Topics\n",
    "- What is Agile\n",
    "- Popular Agile frameworks"
   ]
  },
  {
   "cell_type": "markdown",
   "metadata": {},
   "source": [
    "### What is Agile?\n",
    "\n",
    "Agile could be defined as software development paradigm that focuses on continuous improvement and iterative approaches.\n",
    "\n",
    "\"Paradigm\" just means a set of concepts or thought patterns. To help put Agile into practice, there are numerous frameworks, like Scrum or Kanban created. \n",
    "\n",
    "You do not need to work according to a specific framework rules to be Agile. Being Agile is more about the general principles that you follow and how you approach the problems, rather than following some specific routines."
   ]
  },
  {
   "cell_type": "markdown",
   "metadata": {},
   "source": [
    "### Manifesto for Agile Software development\n",
    "\n",
    "Can be found at [agilemanifersto.org](https://agilemanifesto.org/).\n",
    "\n",
    "Manifesto is a set principles, written by 21 famous software engineers, to follow when developing the software.\n",
    "\n",
    "While these principles appear obvious nowadays, they were not obvious at the time when the manifesto was written back in 2021."
   ]
  },
  {
   "cell_type": "markdown",
   "metadata": {},
   "source": [
    "## Agile in practice\n",
    "\n",
    "While there is no *the agile process*, there are some practices that are generally agreed upon to be good software development practices and make you agile.\n",
    "\n"
   ]
  },
  {
   "cell_type": "markdown",
   "metadata": {},
   "source": [
    "## Waterfall model and historical context\n",
    "\n",
    "While today the idea of approaching software development sounds pretty standard that was not always the case. In the 90s and early 00s software development was largely seen as a sequential process. Work would be split up into distinct phases and one phase would have to be completed before the next phase could begin. When thinking visually, this approach where phases are moving forward one after another and never backwards, resembles as waterfall, where water only falls down and not up. Thus it was given the *waterfall* name."
   ]
  },
  {
   "cell_type": "markdown",
   "metadata": {},
   "source": [
    "Historically this was most likely because software engineering being a new field (relatively speaking) did not have standardized practices yet and had to borrow these practices from neighbouring fields. Some of these neighbouring fields were building construction and hardware manufacturing. When the building is being built, once a 2nd floor is finished, you can argue that it would be impractical to completely redo the 1st floor, thus it creates a need to plan in advance, because redos might be overly costly. Same applies to computer hardware, because hardware manufacturing is costly process, it might be too expensive to manufacture multiple chips just to find out that they are not behaving exactly as needed.\n",
    "\n",
    "However software development has one big difference from these other fields - it is (relatively) cheap to do it. Ignoring all the maintenance, technical debt and similar considerations, it is very easy to change some functionality and deploy it to make it available to all users. Because of this approaches like thinking of a solution to a problem, developing an iteration of solution, getting user feedback and adjusting the solution to the given feedback becomes viable in software engineering, but not necessarily in other fields."
   ]
  },
  {
   "cell_type": "markdown",
   "metadata": {},
   "source": [
    "#### Waterfall visualized\n",
    "\n",
    "```mermaid\n",
    "sequenceDiagram\n",
    "    Requirements->>Analysis: Analysis\n",
    "    Analysis->>Design: Design\n",
    "    Design->>Coding: Coding\n",
    "    Coding->>Testing: Testing\n",
    "    Testing->>Deployment: Deployment\n",
    "    Deployment->>Maintenance: Maintenance\n",
    "```"
   ]
  },
  {
   "cell_type": "markdown",
   "metadata": {},
   "source": []
  }
 ],
 "metadata": {
  "kernelspec": {
   "display_name": ".NET (C#)",
   "language": "C#",
   "name": ".net-csharp"
  },
  "language_info": {
   "name": "polyglot-notebook"
  },
  "polyglot_notebook": {
   "kernelInfo": {
    "defaultKernelName": "csharp",
    "items": [
     {
      "aliases": [],
      "languageName": "csharp",
      "name": "csharp"
     }
    ]
   }
  }
 },
 "nbformat": 4,
 "nbformat_minor": 2
}
