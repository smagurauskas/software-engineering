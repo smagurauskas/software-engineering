{
 "cells": [
  {
   "cell_type": "markdown",
   "metadata": {},
   "source": [
    "# Agile\n",
    "\n",
    "## Topics\n",
    "- What is Agile\n",
    "- Popular Agile frameworks"
   ]
  },
  {
   "cell_type": "markdown",
   "metadata": {},
   "source": [
    "### What is Agile?\n",
    "\n",
    "Agile could be defined as software development paradigm that focuses on continuous improvement and iterative approaches.\n",
    "\n",
    "\"Paradigm\" just means a set of concepts or thought patterns. To help put Agile into practice, there are numerous frameworks, like Scrum or Kanban created. \n",
    "\n",
    "You do not need to work according to a specific framework rules to be Agile. Being Agile is more about the general principles that you follow and how you approach the problems, rather than following some specific routines."
   ]
  },
  {
   "cell_type": "markdown",
   "metadata": {},
   "source": [
    "### Manifesto for Agile Software development\n",
    "\n",
    "Can be found at [agilemanifersto.org](https://agilemanifesto.org/).\n",
    "\n",
    "Manifesto is a set principles, written by 21 famous software engineers, to follow when developing the software.\n",
    "\n",
    "While these principles appear obvious nowadays, they were not obvious at the time when the manifesto was written back in 2021."
   ]
  }
 ],
 "metadata": {
  "kernelspec": {
   "display_name": ".NET (C#)",
   "language": "C#",
   "name": ".net-csharp"
  },
  "language_info": {
   "name": "polyglot-notebook"
  },
  "polyglot_notebook": {
   "kernelInfo": {
    "defaultKernelName": "csharp",
    "items": [
     {
      "aliases": [],
      "languageName": "csharp",
      "name": "csharp"
     }
    ]
   }
  }
 },
 "nbformat": 4,
 "nbformat_minor": 2
}
