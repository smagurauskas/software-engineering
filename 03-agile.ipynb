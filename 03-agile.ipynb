{
 "cells": [
  {
   "cell_type": "markdown",
   "metadata": {
    "slideshow": {
     "slide_type": "slide"
    }
   },
   "source": [
    "# Agile"
   ]
  },
  {
   "cell_type": "markdown",
   "metadata": {
    "slideshow": {
     "slide_type": "slide"
    }
   },
   "source": [
    "## Waterfall model and historical context\n",
    "\n",
    "While today the idea of approaching software development in iterative fashion sounds pretty standard that was not always the case. \n",
    "\n",
    "In the 90s and early 00s software development was largely viewed as a *sequential* process."
   ]
  },
  {
   "cell_type": "markdown",
   "metadata": {
    "slideshow": {
     "slide_type": "subslide"
    }
   },
   "source": [
    "The whole project delivery would be split up into distinct phases and one phase would have to be completed before the next phase could begin.\n",
    "\n",
    "When thinking visually, this approach where phases are moving forward one after another and never backwards, resembles as waterfall, where water only falls down and not up. Thus it was given the *waterfall* name."
   ]
  },
  {
   "cell_type": "markdown",
   "metadata": {
    "slideshow": {
     "slide_type": "notes"
    }
   },
   "source": [
    "Historically this was most likely because software engineering being a new field (relatively speaking) did not have standardized practices yet and had to borrow these practices from neighboring fields. Some of these neighboring fields were building construction and hardware manufacturing. When the building is being built, once a 2nd floor is finished, you can argue that it would be impractical to completely redo the 1st floor, thus it creates a need to plan in advance, because redos might be overly costly. Same applies to computer hardware, because hardware manufacturing is costly process, it might be too expensive to manufacture multiple chips just to find out that they are not behaving exactly as needed.\n",
    "\n",
    "However software development has one big difference from these other fields - it is (relatively) cheap to do it. Ignoring all the maintenance, technical debt and similar considerations, it is very easy to change some functionality and deploy it to make it available to all users. Because of this approaches like thinking of a solution to a problem, developing an iteration of solution, getting user feedback and adjusting the solution to the given feedback becomes viable in software engineering, but not necessarily in other fields."
   ]
  },
  {
   "cell_type": "markdown",
   "metadata": {
    "slideshow": {
     "slide_type": "subslide"
    }
   },
   "source": [
    "### Waterfall visualized\n",
    "\n",
    "```mermaid\n",
    "sequenceDiagram\n",
    "    Requirements->>Analysis: Analysis\n",
    "    Analysis->>Design: Design\n",
    "    Design->>Coding: Coding\n",
    "    Coding->>Testing: Testing\n",
    "    Testing->>Deployment: Deployment\n",
    "    Deployment->>Maintenance: Maintenance\n",
    "```"
   ]
  },
  {
   "cell_type": "markdown",
   "metadata": {
    "slideshow": {
     "slide_type": "slide"
    }
   },
   "source": [
    "## What is Agile?\n",
    "\n",
    "Agile could be defined as software development paradigm that focuses on continuous improvement and iterative approaches.\n",
    "\n",
    "\"Paradigm\" just means a set of concepts or thought patterns. To help put Agile into practice, there are numerous frameworks, like Scrum or Kanban created. \n",
    "\n",
    "You do not need to work according to a specific framework rules to be Agile. Being Agile is more about the general principles that you follow and how you approach the problems, rather than following some specific routines."
   ]
  },
  {
   "cell_type": "markdown",
   "metadata": {
    "slideshow": {
     "slide_type": "slide"
    }
   },
   "source": [
    "## Manifesto for Agile Software development\n",
    "\n",
    "Can be found at [agilemanifersto.org](https://agilemanifesto.org/).\n",
    "\n",
    "Manifesto is a set principles, written by 21 famous software engineers, to follow when developing the software.\n",
    "\n",
    "While these principles appear obvious nowadays, they were not obvious at the time when the manifesto was written back in 2021."
   ]
  },
  {
   "cell_type": "markdown",
   "metadata": {
    "slideshow": {
     "slide_type": "subslide"
    }
   },
   "source": [
    "### Agile principles\n",
    "\n",
    "As listed in https://agilemanifesto.org/principles.html."
   ]
  },
  {
   "cell_type": "markdown",
   "metadata": {
    "slideshow": {
     "slide_type": "subslide"
    }
   },
   "source": [
    "> Our highest priority is to satisfy the customer through early and continuous delivery of valuable software."
   ]
  },
  {
   "cell_type": "markdown",
   "metadata": {
    "slideshow": {
     "slide_type": "subslide"
    }
   },
   "source": [
    "> Welcome changing requirements, even late in development. Agile processes harness change for the customer's competitive advantage."
   ]
  },
  {
   "cell_type": "markdown",
   "metadata": {
    "slideshow": {
     "slide_type": "subslide"
    }
   },
   "source": [
    "> Deliver working software frequently, from a couple of weeks to a couple of months, with a preference to the shorter timescale."
   ]
  },
  {
   "cell_type": "markdown",
   "metadata": {
    "slideshow": {
     "slide_type": "subslide"
    }
   },
   "source": [
    "> Business people and developers must work together daily throughout the project."
   ]
  },
  {
   "cell_type": "markdown",
   "metadata": {
    "slideshow": {
     "slide_type": "subslide"
    }
   },
   "source": [
    "> Build projects around motivated individuals. Give them the environment and support they need, and trust them to get the job done."
   ]
  },
  {
   "cell_type": "markdown",
   "metadata": {
    "slideshow": {
     "slide_type": "subslide"
    }
   },
   "source": [
    "> The most efficient and effective method of conveying information to and within a development team is face-to-face conversation."
   ]
  },
  {
   "cell_type": "markdown",
   "metadata": {
    "slideshow": {
     "slide_type": "subslide"
    }
   },
   "source": [
    "> Working software is the primary measure of progress."
   ]
  },
  {
   "cell_type": "markdown",
   "metadata": {
    "slideshow": {
     "slide_type": "subslide"
    }
   },
   "source": [
    "> Agile processes promote sustainable development. The sponsors, developers, and users should be able to maintain a constant pace indefinitely."
   ]
  },
  {
   "cell_type": "markdown",
   "metadata": {
    "slideshow": {
     "slide_type": "subslide"
    }
   },
   "source": [
    "> Continuous attention to technical excellence and good design enhances agility."
   ]
  },
  {
   "cell_type": "markdown",
   "metadata": {
    "slideshow": {
     "slide_type": "subslide"
    }
   },
   "source": [
    "> Simplicity--the art of maximizing the amount of work not done--is essential."
   ]
  },
  {
   "cell_type": "markdown",
   "metadata": {
    "slideshow": {
     "slide_type": "subslide"
    }
   },
   "source": [
    "> The best architectures, requirements, and designs emerge from self-organizing teams."
   ]
  },
  {
   "cell_type": "markdown",
   "metadata": {
    "slideshow": {
     "slide_type": "subslide"
    }
   },
   "source": [
    "> At regular intervals, the team reflects on how to become more effective, then tunes and adjusts its behavior accordingly."
   ]
  },
  {
   "cell_type": "markdown",
   "metadata": {
    "slideshow": {
     "slide_type": "slide"
    }
   },
   "source": [
    "## Agile in practice\n",
    "\n",
    "While there is no \"*the agile process*\", there are some practices that are generally agreed upon to be good software development practices and make you agile.\n",
    "\n",
    "However to there are numerous Agile methodologies created that define the process that should help the teams to adopt the Agile way of work."
   ]
  },
  {
   "cell_type": "markdown",
   "metadata": {
    "slideshow": {
     "slide_type": "subslide"
    }
   },
   "source": [
    "### Agile Sprints Visualized\n",
    "\n",
    "Sprint is technically a Scrum term, but it can be used illustrate the Agile methodology well. Work happens in small batches (sprints) and detailed planing usually happens only for immediate work. \n",
    "\n",
    "```mermaid\n",
    "graph TD\n",
    "    A[Backlog] --> B[Sprint Planning]\n",
    "    B --> C[Sprint]\n",
    "    C --> D[Daily Standup]\n",
    "    C --> E[Increment]\n",
    "    E --> F[Review & Retrospective]\n",
    "    F --> A\n",
    "```\n"
   ]
  },
  {
   "cell_type": "markdown",
   "metadata": {
    "slideshow": {
     "slide_type": "subslide"
    }
   },
   "source": [
    "While waterfall development can be illustrated like this:\n",
    "\n",
    "```text\n",
    "      :(              :(            :(               :|              :)\n",
    "                                                                     __\n",
    "                                                   _    _          _|  |_\n",
    "                                  |      |        |      |        |      |\n",
    "                   |______|       |______|        |______|        |______|\n",
    "      O  O           O  O           O  O            O  O            O  O\n",
    "```"
   ]
  },
  {
   "cell_type": "markdown",
   "metadata": {
    "slideshow": {
     "slide_type": "subslide"
    }
   },
   "source": [
    "The Agile development can be better illustrated like this:\n",
    "\n",
    "```text\n",
    "🛼 -> 🛹 -> 🚲 -> 🛵 -> 🏍️ -> 🚗 -> 🚌\n",
    "```"
   ]
  },
  {
   "cell_type": "markdown",
   "metadata": {
    "slideshow": {
     "slide_type": "notes"
    }
   },
   "source": [
    "Agile favours creating value incrementally. This means that every iteration should produce some value that is beneficial to the end users and takes the project closer towards the end goal.\n",
    "\n",
    "Looking at the emoji example above, there is a chain of changes that go from roller skates until the bus. Each step becomes a bit more sophisticated piece of machinery until it finally concludes with the bus.\n",
    "\n",
    "For example if the goal of the project was to \"be able to transport large groups of people simultaneously\", then the bus is a valid conclusion to this goal. While in the early steps first iterations can only transport single or couple of people simultaneously, they slowly progress and get better with each step making the capability better. "
   ]
  },
  {
   "cell_type": "markdown",
   "metadata": {
    "slideshow": {
     "slide_type": "subslide"
    }
   },
   "source": [
    "## Scrum agile framework\n",
    "\n",
    "Scrum is [probably the most popular agile framework](https://www.researchgate.net/publication/316271974_Optimizing_IT_Infrastructure_by_Virtualization_Approach).\n",
    "\n",
    "Scrum uses the term sprint to define small work iterations, where the team should deliver value at the end of it.\n",
    "\n",
    "Scrum also adds a bunch of predefined process that the team should follow during the sprint as well as roles on top of it."
   ]
  },
  {
   "cell_type": "markdown",
   "metadata": {
    "slideshow": {
     "slide_type": "subslide"
    }
   },
   "source": [
    "Scrum.org has a [poster](https://www.scrum.org/resources/scrum-framework-poster) illustrating the scrum process."
   ]
  },
  {
   "cell_type": "markdown",
   "metadata": {
    "slideshow": {
     "slide_type": "subslide"
    }
   },
   "source": [
    "## Extreme programming\n",
    "\n",
    "Extreme programming (XP) was predecessor to Agile. XP came few years earlier than the \"Agile\" term was coined, but shares many of the same ideas.\n",
    "\n",
    "XP “advocates frequent releases in short development cycles, intended to improve productivity and introduce checkpoints at which new customer requirements can be adopted” [wikipedia].\n",
    "\n",
    "XP does not introduce any specific rituals or processes, but takes already existing software development practices and takes them to the “extreme” levels. Has 12 defined practices that the teams should employ to make their software development more *Agile*."
   ]
  },
  {
   "cell_type": "markdown",
   "metadata": {
    "slideshow": {
     "slide_type": "subslide"
    }
   },
   "source": [
    "Extreme programming has a [website](http://www.extremeprogramming.org/) where more of XP philosophy is explained."
   ]
  },
  {
   "cell_type": "markdown",
   "metadata": {
    "slideshow": {
     "slide_type": "subslide"
    }
   },
   "source": [
    "List of XP practices:\n",
    "\n",
    "- Pair programming\n",
    "- Planning game\n",
    "- Test driven development\n",
    "- Whole team.\n",
    "- Continuous integration\n",
    "- Design improvement\n",
    "- Small releases\n",
    "- Coding standard\n",
    "- Collective code ownership\n",
    "- Simple design\n",
    "- System metaphor\n",
    "- Sustainable pace"
   ]
  },
  {
   "cell_type": "markdown",
   "metadata": {
    "slideshow": {
     "slide_type": "subslide"
    }
   },
   "source": [
    "## Kanban framework\n",
    "\n",
    "Kanban works by prioritizing visualization of work. Work is split into tasks and they have predefined list of stages to pass through. \n",
    "\n",
    "Once the team members starts working on an item it is moved to the appropriate column.\n",
    "\n",
    "Kanban can be further restricted limiting the number of items in certain columns.\n",
    "\n",
    "```text\n",
    "+----------------+----------------+----------------+\n",
    "|    To Do       |   In Progress  |     Done       |\n",
    "+----------------+----------------+----------------+\n",
    "| - Task 1       | - Task 4       | - Task 7       |\n",
    "| - Task 2       | - Task 5       | - Task 8       |\n",
    "| - Task 3       | - Task 6       | - Task 9       |\n",
    "+----------------+----------------+----------------+\n",
    "```"
   ]
  },
  {
   "cell_type": "markdown",
   "metadata": {
    "slideshow": {
     "slide_type": "slide"
    }
   },
   "source": [
    "## Agile criticism\n",
    "\n",
    "While Agile undoubtedly delivers some benefits to the software engineering process, even if it is done \"*correctly*\" it does have issues that Agile opponents like to highlight:\n",
    "\n",
    "- Unpredictability: hard to forecast delivery dates into the future, while the business context still needs them.\n",
    "- Scope creep: since scope is only vaguely understood at the beginning it is easy to left features slide in.\n",
    "- Documentation: skipped documentation does not always get created later, which defers problems for the future.\n",
    "- Client inclusion: usually getting quick and reliable feedback from clients is way easier said than done."
   ]
  }
 ],
 "metadata": {
  "kernelspec": {
   "display_name": ".NET (C#)",
   "language": "C#",
   "name": ".net-csharp"
  },
  "language_info": {
   "name": "polyglot-notebook"
  },
  "polyglot_notebook": {
   "kernelInfo": {
    "defaultKernelName": "csharp",
    "items": [
     {
      "aliases": [],
      "languageName": "csharp",
      "name": "csharp"
     }
    ]
   }
  }
 },
 "nbformat": 4,
 "nbformat_minor": 2
}
