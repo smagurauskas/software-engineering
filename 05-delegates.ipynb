{
 "cells": [
  {
   "cell_type": "markdown",
   "metadata": {
    "slideshow": {
     "slide_type": "slide"
    }
   },
   "source": [
    "# Delegates\n",
    "\n",
    "This notebook covers C# delegates, named and anonymous methods as well as lambdas."
   ]
  },
  {
   "cell_type": "markdown",
   "metadata": {
    "slideshow": {
     "slide_type": "slide"
    }
   },
   "source": [
    "## `delegate`\n",
    "\n",
    "Most simple delegates can be declared using the `delegate` keyword. Delegate defines a type that represents method with particular parameter list and return type. "
   ]
  },
  {
   "cell_type": "code",
   "execution_count": null,
   "metadata": {
    "dotnet_interactive": {
     "language": "csharp"
    },
    "polyglot_notebook": {
     "kernelName": "csharp"
    },
    "slideshow": {
     "slide_type": "subslide"
    }
   },
   "outputs": [],
   "source": [
    "// Declare the delegate type\n",
    "delegate string OperationOnString(string str);\n",
    "\n",
    "// Declare a method that matches the delegate type\n",
    "string ReverseString(string str)\n",
    "{\n",
    "    char[] charArray = str.ToCharArray();\n",
    "    Array.Reverse(charArray);\n",
    "    return new string(charArray);\n",
    "}\n",
    "\n",
    "// The name of delegate can be used as a type\n",
    "OperationOnString operation = ReverseString;\n",
    "\n",
    "// Call the method using the delegate\n",
    "Console.WriteLine(operation(\"Hello World!\"));"
   ]
  },
  {
   "cell_type": "code",
   "execution_count": null,
   "metadata": {
    "dotnet_interactive": {
     "language": "csharp"
    },
    "polyglot_notebook": {
     "kernelName": "csharp"
    },
    "slideshow": {
     "slide_type": "subslide"
    }
   },
   "outputs": [],
   "source": [
    "// Capability to use delegate as type can be used further to pass the method as an argument\n",
    "string ApplyOperationOnString(OperationOnString operation, string str)\n",
    "{\n",
    "    return operation(str);\n",
    "}\n",
    "\n",
    "Console.WriteLine(ApplyOperationOnString(ReverseString, \"Hello World!\"));"
   ]
  },
  {
   "cell_type": "code",
   "execution_count": null,
   "metadata": {
    "dotnet_interactive": {
     "language": "csharp"
    },
    "polyglot_notebook": {
     "kernelName": "csharp"
    },
    "slideshow": {
     "slide_type": "subslide"
    }
   },
   "outputs": [],
   "source": [
    "// This type behaviour also extends everywhere else like properties, fields, etc.\n",
    "class ClassWithDelegate\n",
    "{\n",
    "    public required OperationOnString Operation { get; set; }\n",
    "}\n",
    "\n",
    "var classWithDelegate = new ClassWithDelegate\n",
    "{\n",
    "    Operation = ReverseString\n",
    "};\n",
    "\n",
    "Console.WriteLine(classWithDelegate.Operation(\"Hello World!\"));"
   ]
  },
  {
   "cell_type": "code",
   "execution_count": null,
   "metadata": {
    "dotnet_interactive": {
     "language": "csharp"
    },
    "polyglot_notebook": {
     "kernelName": "csharp"
    },
    "slideshow": {
     "slide_type": "subslide"
    }
   },
   "outputs": [],
   "source": [
    "// Delegates can also be combined with genererics inside the class\n",
    "delegate string GenericOperationOnString<T>(T value);\n",
    "\n",
    "class GenericClassWithDelegate<T>\n",
    "{\n",
    "    public GenericOperationOnString<T> Operation { get; set; }\n",
    "}\n",
    "\n",
    "var genericClassWithDelegate = new GenericClassWithDelegate<string>\n",
    "{\n",
    "    Operation = (obj) => obj.ToString()\n",
    "};\n",
    "\n",
    "Console.WriteLine(genericClassWithDelegate.Operation(\"Hello World!\"));"
   ]
  },
  {
   "cell_type": "markdown",
   "metadata": {
    "slideshow": {
     "slide_type": "slide"
    }
   },
   "source": [
    "### Multicasting delegates"
   ]
  },
  {
   "cell_type": "code",
   "execution_count": null,
   "metadata": {
    "dotnet_interactive": {
     "language": "csharp"
    },
    "polyglot_notebook": {
     "kernelName": "csharp"
    },
    "slideshow": {
     "slide_type": "fragment"
    }
   },
   "outputs": [],
   "source": [
    "// Interestingly enough, delegates can be joined using the + operator\n",
    "\n",
    "OperationOnString operation1 = (str) => str.ToUpper();\n",
    "OperationOnString operation2 = (str) => str.ToLower();\n",
    "\n",
    "// Delegates will be called in the order they were added\n",
    "OperationOnString combinedOperation = operation1 + operation2;\n",
    "\n",
    "Console.WriteLine(combinedOperation(\"Hello World!\"));"
   ]
  },
  {
   "cell_type": "code",
   "execution_count": null,
   "metadata": {
    "dotnet_interactive": {
     "language": "csharp"
    },
    "polyglot_notebook": {
     "kernelName": "csharp"
    },
    "slideshow": {
     "slide_type": "subslide"
    }
   },
   "outputs": [],
   "source": [
    "// The - operator can also be used to remove a delegate from the chain\n",
    "\n",
    "combinedOperation -= operation2;\n",
    "\n",
    "Console.WriteLine(combinedOperation(\"Hello World!\"));"
   ]
  },
  {
   "cell_type": "markdown",
   "metadata": {
    "slideshow": {
     "slide_type": "subslide"
    }
   },
   "source": [
    "### Sample use case\n",
    "\n",
    "Consider that the class `Event` contains the date of that event. Depending on the region, this date should be formatted differently so that the native format would appropriate for the region."
   ]
  },
  {
   "cell_type": "code",
   "execution_count": null,
   "metadata": {
    "dotnet_interactive": {
     "language": "csharp"
    },
    "polyglot_notebook": {
     "kernelName": "csharp"
    },
    "slideshow": {
     "slide_type": "subslide"
    }
   },
   "outputs": [],
   "source": [
    "// The naive approach would be to do the formatting inside the class\n",
    "\n",
    "class Event\n",
    "{\n",
    "    public string Name { get; set; }\n",
    "    public DateTime DateOfEvent { get; set; }\n",
    "\n",
    "    public string Title => Name + \" on \" + FormatDate(DateOfEvent);\n",
    "\n",
    "    private string FormatDate(DateTime date)\n",
    "    {\n",
    "        return date.ToString(\"dd/MM/yyyy\");\n",
    "    }\n",
    "}\n",
    "\n",
    "var event1 = new Event\n",
    "{\n",
    "    Name = \"Event 1\",\n",
    "    DateOfEvent = DateTime.Now\n",
    "};\n",
    "\n",
    "Console.WriteLine(event1.Title);\n",
    "\n",
    "// But this approach does not solve the problem of adapting the formatting to different needs"
   ]
  },
  {
   "cell_type": "code",
   "execution_count": null,
   "metadata": {
    "dotnet_interactive": {
     "language": "csharp"
    },
    "polyglot_notebook": {
     "kernelName": "csharp"
    },
    "slideshow": {
     "slide_type": "subslide"
    }
   },
   "outputs": [],
   "source": [
    "// One way to solve this problem is to use a delegate\n",
    "delegate string FormatEventDate(DateTime date);\n",
    "\n",
    "class Event\n",
    "{\n",
    "    public string Name { get; set; }\n",
    "    public DateTime DateOfEvent { get; set; }\n",
    "\n",
    "    public string Title => Name + \" on \" + FormatDate(DateOfEvent);\n",
    "\n",
    "    public required FormatEventDate FormatDate { get; set; }\n",
    "}\n",
    "\n",
    "var event2 = new Event\n",
    "{\n",
    "    Name = \"Event 2\",\n",
    "    DateOfEvent = DateTime.Now,\n",
    "    FormatDate = (date) => date.ToString(\"dd/MM/yyyy\")\n",
    "};\n",
    "\n",
    "Console.WriteLine(event2.Title);\n",
    "\n",
    "var event3 = new Event\n",
    "{\n",
    "    Name = \"Event 3\",\n",
    "    DateOfEvent = DateTime.Now,\n",
    "    FormatDate = (date) => date.ToString(\"yyyy-MM-dd\")\n",
    "};\n",
    "\n",
    "Console.WriteLine(event3.Title);"
   ]
  },
  {
   "cell_type": "markdown",
   "metadata": {
    "slideshow": {
     "slide_type": "slide"
    }
   },
   "source": [
    "## Lambda expressions\n",
    "\n",
    "Lambda expressions in C# can be used to declare anonymous methods."
   ]
  },
  {
   "cell_type": "code",
   "execution_count": null,
   "metadata": {
    "dotnet_interactive": {
     "language": "csharp"
    },
    "polyglot_notebook": {
     "kernelName": "csharp"
    },
    "slideshow": {
     "slide_type": "subslide"
    }
   },
   "outputs": [],
   "source": [
    "// Lambda expression adding 2 numbers\n",
    "var lambda1 = (int num1, int num2) => num1 + num2;\n",
    "\n",
    "Console.WriteLine(lambda1(1, 2));"
   ]
  },
  {
   "cell_type": "code",
   "execution_count": null,
   "metadata": {
    "dotnet_interactive": {
     "language": "csharp"
    },
    "polyglot_notebook": {
     "kernelName": "csharp"
    },
    "slideshow": {
     "slide_type": "subslide"
    }
   },
   "outputs": [],
   "source": [
    "// Lambda expression can also have no parameters\n",
    "var lambda2 = () => \"Hello World!\";\n",
    "\n",
    "Console.WriteLine(lambda2());"
   ]
  },
  {
   "cell_type": "code",
   "execution_count": null,
   "metadata": {
    "dotnet_interactive": {
     "language": "csharp"
    },
    "polyglot_notebook": {
     "kernelName": "csharp"
    },
    "slideshow": {
     "slide_type": "subslide"
    }
   },
   "outputs": [],
   "source": [
    "// There are 2 types to which lambda expression can be converted to\n",
    "// 1. Func<T> - Represents a method that takes no arguments and returns a value of the type specified by the TResult parameter.\n",
    "// 2. Action - Represents a method that takes no arguments and does not return a value.\n",
    "\n",
    "// The last generic parameter is the return type\n",
    "Func<int, int, int> lambda3 = (num1, num2) => num1 + num2;\n",
    "Func<int, int> lambda4 = (num) => num;\n",
    "\n",
    "// Action does not have a return type\n",
    "Action lambda5 = () => Console.WriteLine(\"Hello World!\");\n",
    "\n",
    "// However Action can still have parameters\n",
    "Action<int, int> lambda6 = (num1, num2) => Console.WriteLine(num1 + num2);"
   ]
  },
  {
   "cell_type": "markdown",
   "metadata": {
    "slideshow": {
     "slide_type": "subslide"
    }
   },
   "source": [
    "### Lambda type inference"
   ]
  },
  {
   "cell_type": "code",
   "execution_count": null,
   "metadata": {
    "dotnet_interactive": {
     "language": "csharp"
    },
    "polyglot_notebook": {
     "kernelName": "csharp"
    },
    "slideshow": {
     "slide_type": "fragment"
    }
   },
   "outputs": [],
   "source": [
    "// When lambdas are defined and assigned to type Func or Action, then argument types are inferred\n",
    "\n",
    "// Do not need to specify type of num1 or num2, because compiler infers them from Action<int, int>\n",
    "Action<int, int> lambda7 = (num1, num2) => {};\n",
    "\n",
    "// Alternatively if the type is defined with var, then the type of lambda is inferred to the type of the variable\n",
    "var lambda8 = (int num1, int num2) => {};\n",
    "Console.WriteLine(lambda8.GetType().ToString());"
   ]
  },
  {
   "cell_type": "code",
   "execution_count": null,
   "metadata": {
    "dotnet_interactive": {
     "language": "csharp"
    },
    "polyglot_notebook": {
     "kernelName": "csharp"
    },
    "slideshow": {
     "slide_type": "subslide"
    }
   },
   "outputs": [],
   "source": [
    "// As seen in previous example, lambda expressions can be defined {} like a traditional method'\n",
    "\n",
    "var lambda9 = (int num1, int num2) => { return num1 + num2; };\n",
    "\n",
    "// This way statement lambdas consist of multiple statements\n",
    "\n",
    "var lambda10 = (int num1, int num2) => \n",
    "{\n",
    "    var sum = num1 + num2;\n",
    "    return sum;\n",
    "};"
   ]
  },
  {
   "cell_type": "markdown",
   "metadata": {
    "slideshow": {
     "slide_type": "slide"
    }
   },
   "source": [
    "## Expression trees"
   ]
  },
  {
   "cell_type": "code",
   "execution_count": null,
   "metadata": {
    "dotnet_interactive": {
     "language": "csharp"
    },
    "polyglot_notebook": {
     "kernelName": "csharp"
    },
    "slideshow": {
     "slide_type": "subslide"
    }
   },
   "outputs": [],
   "source": [
    "// Lambda expressions can be used to define expression trees\n",
    "using System.Linq.Expressions;\n",
    "\n",
    "Expression<Func<int, int, int>> lambda11 = (num1, num2) => num1 + num2;\n",
    "\n",
    "// Expression trees can be compiled to a delegate\n",
    "var compiledLambda11 = lambda11.Compile();\n",
    "\n",
    "Console.WriteLine(compiledLambda11(1, 2));"
   ]
  },
  {
   "cell_type": "code",
   "execution_count": null,
   "metadata": {
    "dotnet_interactive": {
     "language": "csharp"
    },
    "polyglot_notebook": {
     "kernelName": "csharp"
    },
    "slideshow": {
     "slide_type": "subslide"
    }
   },
   "outputs": [],
   "source": [
    "// Deconstruct expression into parts\n",
    "using System.Reflection;\n",
    "\n",
    "// Expressions can be used to build complex logic\n",
    "Expression<Func<int, int, int>> lambda12 = (num1, num2) => num1 + num2;\n",
    "\n",
    "var binaryExpression = (BinaryExpression)lambda12.Body;\n",
    "\n",
    "var leftParameter = (ParameterExpression)binaryExpression.Left;\n",
    "var rightParameter = (ParameterExpression)binaryExpression.Right;\n",
    "\n",
    "var methodCallExpression = lambda12.Body.NodeType;\n",
    "\n",
    "Console.WriteLine(leftParameter.Name);\n",
    "Console.WriteLine(rightParameter.Name);\n",
    "Console.WriteLine(methodCallExpression);"
   ]
  }
 ],
 "metadata": {
  "kernelspec": {
   "display_name": ".NET (C#)",
   "language": "C#",
   "name": ".net-csharp"
  },
  "language_info": {
   "name": "polyglot-notebook"
  },
  "polyglot_notebook": {
   "kernelInfo": {
    "defaultKernelName": "csharp",
    "items": [
     {
      "aliases": [],
      "languageName": "csharp",
      "name": "csharp"
     }
    ]
   }
  }
 },
 "nbformat": 4,
 "nbformat_minor": 2
}
