{
 "cells": [
  {
   "cell_type": "markdown",
   "metadata": {},
   "source": [
    "# Git\n",
    "\n",
    "[Git](https://git-scm.com/) is an open source version control system. Originally authored by Linus Torvalds in 2005. Git was created for use in the development of Linux kernel, but quickly spread into other organizations as well. Although Git can be used to version any files, it is typically used by software engineers to version code.\n",
    "\n",
    "Version control systems allow track changes and collaborate working with files. Some of the primary features of VCSs are:\n",
    "- Tracking how files have changed over time,\n",
    "- Being able to revert the file state to specific point,\n",
    "- Allowing multiple people to collaborate working on the same file base,\n",
    "- Graciously managing the scenarios when multiple people are trying to make simultaneous changes to same files."
   ]
  },
  {
   "cell_type": "markdown",
   "metadata": {},
   "source": [
    "Although Git is definitely not the only VCS available, it is by far the most dominant one. During the 2022 [StackOverflow developer survey](https://survey.stackoverflow.co/2022/#section-version-control-version-control-systems) over 93% respondents stated that they use Git as a primary version control system. In comparison the second most popular VCS was [SVN](https://en.wikipedia.org/wiki/Apache_Subversion) at 5%.\n",
    "\n",
    "Some companies, like Facebook, choose to use non-Git version control systems like Mercurial. More about the Facebook case can be read [here](https://engineering.fb.com/2014/01/07/core-infra/scaling-mercurial-at-facebook/) and [here](https://github.com/facebook/sapling). Some of the factors why companies might choose alternative VCS are enormous scale of their codebases."
   ]
  },
  {
   "cell_type": "markdown",
   "metadata": {},
   "source": [
    "## Git overview\n",
    "\n"
   ]
  },
  {
   "cell_type": "markdown",
   "metadata": {},
   "source": [
    "Git versions the data by storing full snapshots of it at various stages.\n",
    "\n",
    "Most other VCS usually track only the changes to the original files rather than full snapshots. Using this approach the latest file state can be reconstructed by taking the original file and then applying all the changes ever made to that file. This typically does not impact the workflows of how Git is used, but keeping this model in mind, helps to explain some of the aspects of how Git works, i.e. detached heads, forced changes and so on."
   ]
  },
  {
   "cell_type": "markdown",
   "metadata": {},
   "source": [
    "Git is a distributed version control system (DVCS) meaning that does not require central repository or some other synchronization point to function. It is entirely possible to use Git only within the local computer and take advantage of many of it's features.\n",
    "\n",
    "However, because software development is collaborative effort, there is a need to use Git collaboratively with other developers. Remote Git repositories (platforms) are used for this purpose."
   ]
  },
  {
   "cell_type": "markdown",
   "metadata": {},
   "source": [
    "Git has 3 main states the files can be in: *modified*, *staged* and *committed*.\n",
    "\n",
    "> - Modified means that you have changed the file but have not committed it to your database yet.\n",
    "> - Staged means that you have marked a modified file in its current version to go into your next commit snapshot.\n",
    "> - Committed means that the data is safely stored in your local database.\n",
    "\n",
    "More on this on [git-scm.com](https://git-scm.com/book/en/v2/Getting-Started-What-is-Git%3F)."
   ]
  },
  {
   "cell_type": "markdown",
   "metadata": {},
   "source": [
    "Once the code is locally *committed*, then it can be pushed to a remote repository to be made available to other people as well. Remote repositories need to be hosted somewhere, and this is where the Git platforms like [github.com](https://github.com), [gitlab.com](https://gitlab.com) and others come into play. These platforms create repositories where people can collaborate with others for free.\n",
    "\n",
    "Once the code is published (*pushed*) to remote repository, then the changes become immediately available for everyone else to *pull*."
   ]
  },
  {
   "cell_type": "markdown",
   "metadata": {},
   "source": [
    "## Basic Git commands\n",
    "\n",
    "Git is primarily command line tool. There are various GUI interfaces that wrap Git, which might make some use cases easier, i.e. [SourceTree](https://www.sourcetreeapp.com/), [Git Extensions](https://gitextensions.github.io/) or various VS Code extensions.\n",
    "\n",
    "Command-line interface (CLI) is the simplest (not necessarily the easiest) way to work with Git, so we are going to focus on CLI commands.\n",
    "\n",
    "Usage of the commands covered here is simplified and covered only at the surface level. All of these commands are much more nuanced than covered here. The goal of this overview is to provide the minimal information needed to start working with Git and syncing changes with remote repository. Official docs go into full details about these commands here [git-scm.com/docs](https://git-scm.com/docs).\n",
    "\n",
    "#### `clone`\n",
    "\n",
    "Clones the remote repository. Makes a copy of that repository on your local machine.\n",
    "\n",
    "Whenever you go to some Git platform, you can usually find a URL for cloning, which looks something like this: `https://github.com/smagurauskas/software-engineering.git`. Depending on the authentication scheme used, these URLs might look completely different.\n",
    "\n",
    "In this example, the full command to clone this repository would look like this: `git clone https://github.com/smagurauskas/software-engineering.git`.\n",
    "\n",
    "#### `status`\n",
    "\n",
    "Displays status of the current working directory. Will show the current working branch and what files are staged or modified.\n",
    "\n",
    "Usage: `git status`.\n",
    "\n",
    "#### `add`\n",
    "\n",
    "Stages files to be committed. Only the staged files would be included in the `commit`. If you have edited multiple files locally, but want to push only part of the changes, then `add`ing only these specific files allows you to cherry pick what you want to commit. After staging the files, they are displayed in green text when using the `status` command.\n",
    "\n",
    "Adding a single file: `git add path/to/file.txt`.\n",
    "Adding all files in the current directory: `git add .`.\n",
    "Adding all the files with `.cs` extension: `git add *.cs`.\n",
    "Adding the entire working tree: `git add -A`.\n",
    "\n",
    "#### `commit`\n",
    "\n",
    "Commits the staged files. Commit creates a revision of all the changes together with message and description of what these changes are about. Commit must be created, before the changes can be pushed to remote repository. Code can also be reverted to a state that it was at the specific commit if needed.\n",
    "\n",
    "Usage: `git commit -m \"Message indicating what was done\"`. How to write a good message is a much discussed topic, which will be reviewed a bit later, but the general guidelines are that the message should be relatively short and should unambiguously describe what are the changes included in commit.\n",
    "\n",
    "Alternatively it could be used by simply typical `git commit`, which would prompt Git to open editor, where message together with longer accompanying description could be specified.\n",
    "\n",
    "#### `pull`\n",
    "\n",
    "Pulls changes from remote repository. If the changes are compatible with the local changes it would be applied automatically. If there are some incompatibilities (called *conflicts* in this context), then you will be prompted to resolve them manually.\n",
    "\n",
    "Usage: `git pull {repository} {branch}`. Typically would looks something like this: `git pull origin main`.\n",
    "\n",
    "You can pull from the remote branch with which your current branch is synced with, or from any branch that is within the ancestry line. Meaning that if branched my `working_branch` from the `main` branch, then it means it valid for me to pull changes from both `main` and `working_branch` into my local `working_branch`.\n",
    "\n",
    "#### `push`\n",
    "\n",
    "Pushes committed changes to the remote repository. In order to push the changes, the local branch should be *synced* with the head of remote repository or the changes will be rejected. In best cases in means that the changes only have to be pulled and in more complicated cases it means that the conflicts will also have to be resolved.\n",
    "\n",
    "Usage: `git push {repository name} {branch name}`. Typically would look like this: `git push origin my_branch`.\n",
    "\n",
    "#### Working with branches\n",
    "\n",
    "- `git branch branch_name` - creates a new branch from your current branch.\n",
    "- `git switch branch_name` - changes your current working branch.\n",
    "\n",
    "Shorthand for this can also be used: `git checkout -b branch_name`. \n",
    "\n",
    "[More on branching (and merging)](https://git-scm.com/book/en/v2/Git-Branching-Basic-Branching-and-Merging).\n",
    "\n",
    "#### What the sample workflow could look like\n",
    "\n",
    "```\n",
    "# Clone the remote repository\n",
    "git clone {repository URL}\n",
    "\n",
    "# Create a branch where the work will happen\n",
    "git checkout -b my_work\n",
    "\n",
    "# Write sample junk\n",
    "echo \"aaa\" >> aaa.txt\n",
    "\n",
    "# Stage the newly created file\n",
    "git add aaa.txt\n",
    "\n",
    "# Commit the staged file\n",
    "git commit -m \"Wrote something into a file\"\n",
    "\n",
    "# Push the changes to remote\n",
    "git push origin my_work\n",
    "\n",
    "# Pull request can now be created to propose merging changes from my_work branch into main branch\n",
    "```"
   ]
  },
  {
   "cell_type": "markdown",
   "metadata": {},
   "source": [
    "## Writing good commit messages\n",
    "\n",
    "Git commit messages allows to provide details for future readers about what the commit was about. It is useful when scanning through commit log (`git log`) and trying to find some specific commit which introduced change. Or when looking into a bug trying to find change which is the most likely culprit that introduced that bug.\n",
    "\n",
    "For most engineers the difficult part comes when trying to describe a change that took a day or even more to develop in a short sentence.\n",
    "\n",
    "Good commit message should perfectly describe what was done in a specific commit. It does not need to go into motivation behind the change or specific implementation details of the change. A commit message should briefly describe what changes after this commit, preferably in imperative tense.\n",
    "\n",
    "Examples of commit messages:\n",
    "- `Add HTTP action request and response logging`\n",
    "- `Fix bug which caused user deletion to fail`\n",
    "- `Add user registration form`\n",
    "- `Bump package version from x to y`\n",
    "\n",
    "If it is too difficult to come up with a single message that explains all the changes, it indicates that it most likely should be several commits instead."
   ]
  },
  {
   "cell_type": "markdown",
   "metadata": {},
   "source": [
    "### Bad commit messages\n",
    "\n",
    "It is sometimes tempting just to write whatever message without putting any effort into it. However this trashes commit history and makes it more difficult for future developers (or even yourself) to figure what or why something was changed. Remember that messages are potentially going to be read multiple times over ther project history, and every single time when a reader has to dive into the file changes of the commit to figure out what was actualy changed adds up to the invisible cost.\n",
    "\n",
    "Not so good examples:\n",
    "- `asd`\n",
    "- `bugfix`\n",
    "- `wip`\n",
    "- `update xyz`"
   ]
  },
  {
   "cell_type": "markdown",
   "metadata": {},
   "source": [
    "Historically it was accepted that commit messages (and other lines of code) should be no longer than 80 symbols. This was rooted in old technical standards like punch cards and terminals being 80 characters width. Currently people are working with way larger monitors than back in a day, and arguably everyone can fit more horizontal characters in their screens that ever before, so being strict on 80 characters limit makes little sense.\n",
    "\n",
    "However there is still a valid point to keep the messages (and other lines of code) *short*. While there is no hard limit how many characters there should be, but there is (imaginative) limit on how long of a message reader can quickly skim. There is still a need to keep messages quick and understandable for the reader."
   ]
  },
  {
   "cell_type": "markdown",
   "metadata": {},
   "source": [
    "### Squashing the commits\n",
    "\n",
    "It is common to create multiple commits in your working branch before merging them into trunk. While there might be many small commits, it is possible that they don't add up to anything individually, and they only make sense when considered together. In such cases converting all of them into a single commit makes more sense.\n",
    "\n",
    "While there are several different ways to do this (see the link below), probably the easiest options is to do this when merging the pull request. Many of the Git platforms (including GitHub) offers an option to \"Squash and merge\" when merging the commit. This takes all of the commits included in the pull requests and merges them into a single new commit with a message you provide during the merge.\n",
    "\n",
    "Read more in this Stack Overflow question [https://stackoverflow.com/questions/5189560/how-do-i-squash-my-last-n-commits-together](https://stackoverflow.com/questions/5189560/how-do-i-squash-my-last-n-commits-together)."
   ]
  },
  {
   "cell_type": "markdown",
   "metadata": {},
   "source": [
    "## Pull requests\n",
    "\n",
    "Pull requests allow to get second (or even more) look on changes before they become they are merged into the main trunk. Pull requests involves other engineers looking through the submited changes and providing comments on what could potentially be improved.\n",
    "\n",
    "Pull requests (and code reviews) in general are considered one of the *best practices* in software engineering. If done correctly they can help engineering teams to prevent bugs from slipping into production and ensuring that the code will be understood in the future."
   ]
  },
  {
   "cell_type": "markdown",
   "metadata": {},
   "source": [
    "Generally comments can be grouped into 2 categories:\n",
    "1. Readability related comments\n",
    "2. Code logic related comments"
   ]
  },
  {
   "cell_type": "markdown",
   "metadata": {},
   "source": [
    "### Some tips for pull requests\n",
    "\n",
    "When reviewing a pull request it is best to focus only on what was changed with changes included in this pull request. Sometimes it so happens that the pull requests highlights issues with code decisions that were made in the past. While it might be tempting to give comments on how these old changes should be reworked to better suit current situation, usually that is counter productive. It will only likely drag on the process of getting changes into production and potentially create disdain for interacting with older code.\n",
    "\n",
    "Provide suggestions for the problems that you raise. It is not that helpful for other engineer when you review the pull request and just state that \"this or that\" is wrong and should be made better. It is best if you provide actionable points on how exactly the code could be improved.\n",
    "\n",
    "Prioritise helping other learn, rather that scold. While there is some inherent friction in the pull request review process, because it is inherently asymmetrical, as a reviewer, try to make it as pleasant as possible for the reviewee. Don't go into blame games or trying to show the \"smart way of doing things\". Provide actionable solutions and focus on getting the code good enough, rather than perfect. Code usually can be infinitely optimised, but if the current code does what it is supposed to do and is sufficiently maintainable - it is probably good enough."
   ]
  },
  {
   "cell_type": "markdown",
   "metadata": {},
   "source": [
    "### Code readability\n",
    "\n",
    "One of the goals of the pull request is to make sure that the code that was produced is *readable*. By readable it means that other engineer than the author can easily understand what the code is doing. Doing this usually involves making sure that the variables, classes and methods are appropriately and descriptively named.\n",
    "\n",
    "Make sure that you as well as others will be able to understand the code well enough in the future to maintain it.\n",
    "\n",
    "A bit more on readable code: [https://blog.pragmaticengineer.com/readable-code/](https://blog.pragmaticengineer.com/readable-code/)."
   ]
  },
  {
   "cell_type": "markdown",
   "metadata": {},
   "source": [
    "## Additional reading\n",
    "\n",
    "- [https://github.com/git-guides/git-commit](https://github.com/git-guides/git-commit)\n",
    "- [https://github.blog/developer-skills/github/how-to-review-code-effectively-a-github-staff-engineers-philosophy/](https://github.blog/developer-skills/github/how-to-review-code-effectively-a-github-staff-engineers-philosophy/)\n",
    "- [https://rogerdudler.github.io/git-guide/](https://rogerdudler.github.io/git-guide/)\n",
    "- [https://learngitbranching.js.org/](https://learngitbranching.js.org/)\n",
    "- [https://ndpsoftware.com/git-cheatsheet.html](https://ndpsoftware.com/git-cheatsheet.html)\n",
    "\n"
   ]
  }
 ],
 "metadata": {
  "kernelspec": {
   "display_name": ".NET (C#)",
   "language": "C#",
   "name": ".net-csharp"
  },
  "language_info": {
   "name": "polyglot-notebook"
  },
  "polyglot_notebook": {
   "kernelInfo": {
    "defaultKernelName": "csharp",
    "items": [
     {
      "aliases": [],
      "languageName": "csharp",
      "name": "csharp"
     }
    ]
   }
  }
 },
 "nbformat": 4,
 "nbformat_minor": 2
}
