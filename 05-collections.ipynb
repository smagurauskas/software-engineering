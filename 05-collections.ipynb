{
 "cells": [
  {
   "cell_type": "markdown",
   "metadata": {},
   "source": [
    "# Collections\n",
    "\n",
    "Collections refers to types in C# that are intended to store and manage groups of objects within them. Some of the collections are located within the `System.Collections` namespace in .NET framework, some, like arrays or memory spans, are within the defined in the `System` namespace and supported by the C# language itself.\n",
    "\n",
    "Collections are designed for different use cases, and each of their usage as well as performance will benefit some situations more than others. It is important to learn to to determine which collection fits which situation."
   ]
  },
  {
   "cell_type": "markdown",
   "metadata": {},
   "source": [
    "## Arrays\n",
    "\n",
    "Arrays are basic fixed size collections."
   ]
  },
  {
   "cell_type": "code",
   "execution_count": null,
   "metadata": {
    "dotnet_interactive": {
     "language": "csharp"
    },
    "polyglot_notebook": {
     "kernelName": "csharp"
    }
   },
   "outputs": [],
   "source": [
    "// Simple array declaration\n",
    "// In this case array size is inferred from the number of elements during initialization\n",
    "int[] arr = {1, 2, 3, 4, 5};\n",
    "\n",
    "// Alternatively you can specify the size of the array manually\n",
    "int[] arr2 = new int[5];"
   ]
  },
  {
   "cell_type": "code",
   "execution_count": null,
   "metadata": {
    "dotnet_interactive": {
     "language": "csharp"
    },
    "polyglot_notebook": {
     "kernelName": "csharp"
    }
   },
   "outputs": [],
   "source": [
    "// Array can be multi-dimensional\n",
    "// 2x3 array\n",
    "int[,] arr3 = new int[2, 3];\n",
    "\n",
    "// 3x3x3 array\n",
    "int[,,] arr4 = {\n",
    "    {\n",
    "        {1, 2, 3},\n",
    "        {4, 5, 6},\n",
    "        {7, 8, 9}\n",
    "    },\n",
    "    {\n",
    "        {10, 11, 12},\n",
    "        {13, 14, 15},\n",
    "        {16, 17, 18}\n",
    "    },\n",
    "    {\n",
    "        {19, 20, 21},\n",
    "        {22, 23, 24},\n",
    "        {25, 26, 27}\n",
    "    }\n",
    "};"
   ]
  },
  {
   "cell_type": "code",
   "execution_count": null,
   "metadata": {
    "dotnet_interactive": {
     "language": "csharp"
    },
    "polyglot_notebook": {
     "kernelName": "csharp"
    }
   },
   "outputs": [],
   "source": [
    "// Not to be confused with array of arrays, called jagged arrays\n",
    "int[][] arr5 = new int[2][];\n",
    "\n",
    "arr5[0] = new int[] {1, 2, 3};\n",
    "arr5[1] = new int[] {4, 5, 6, 7, 8};"
   ]
  },
  {
   "cell_type": "code",
   "execution_count": null,
   "metadata": {
    "dotnet_interactive": {
     "language": "csharp"
    },
    "polyglot_notebook": {
     "kernelName": "csharp"
    }
   },
   "outputs": [],
   "source": [
    "// Array class can be used to access some helpful methods for working with arrays\n",
    "\n",
    "// Initialize an empty array\n",
    "var emptyArray = Array.Empty<int>();\n",
    "\n",
    "// Create an array with a specified length\n",
    "// Although notice that it is not type safe and you need to cast it to the desired type\n",
    "var lengthArray = Array.CreateInstance(typeof(int), 5);\n",
    "\n",
    "// LINQ has some better alternatives for methods in Array class and is generally preferred"
   ]
  },
  {
   "cell_type": "markdown",
   "metadata": {},
   "source": [
    "## `List`\n",
    "\n",
    "List is a generic collection that does not have a fixed size allows to easily add or remove elements. List acts like \"bag\" as in you just throw items into, but if you need to get 1 specific item from it, then you have manually go through them."
   ]
  },
  {
   "cell_type": "code",
   "execution_count": null,
   "metadata": {
    "polyglot_notebook": {
     "kernelName": "csharp"
    }
   },
   "outputs": [],
   "source": [
    "// Initialize the list\n",
    "var list = new List<int> {1, 2, 3, 4, 5};\n",
    "\n",
    "// Add an element to the list\n",
    "list.Add(6);\n",
    "\n",
    "// Get the amount of elements in the list\n",
    "var count = list.Count;\n",
    "Console.WriteLine(count);\n",
    "\n",
    "// Remove an element from the list\n",
    "// It will remove the first occurrence of the element (matching the equality check)\n",
    "list.Remove(6);\n",
    "\n",
    "Console.WriteLine(list.Count);"
   ]
  },
  {
   "cell_type": "code",
   "execution_count": null,
   "metadata": {
    "polyglot_notebook": {
     "kernelName": "csharp"
    }
   },
   "outputs": [],
   "source": [
    "// List has a backing array that can be accessed directly\n",
    "for (int i = 0; i < 20; i++)\n",
    "{\n",
    "    list.Add(i);\n",
    "    Console.WriteLine($\"Count = {list.Count}, Capacity = {list.Capacity}\");\n",
    "}"
   ]
  },
  {
   "cell_type": "code",
   "execution_count": null,
   "metadata": {
    "polyglot_notebook": {
     "kernelName": "csharp"
    }
   },
   "outputs": [],
   "source": [
    "// Because List implement IEnumerable, you can iterate over it using foreach\n",
    "foreach (var item in list)\n",
    "{\n",
    "    Console.WriteLine(item);\n",
    "}"
   ]
  },
  {
   "cell_type": "markdown",
   "metadata": {},
   "source": [
    "## `Dictionary`\n",
    "\n",
    "Dictionary is a generic key-value collection. Items are placed with a unique key and retrieved using the same key was well."
   ]
  },
  {
   "cell_type": "code",
   "execution_count": null,
   "metadata": {
    "polyglot_notebook": {
     "kernelName": "csharp"
    }
   },
   "outputs": [],
   "source": [
    "// Create a dictionary with initialiser\n",
    "var dict = new Dictionary<string, int>\n",
    "{\n",
    "    {\"one\", 1},\n",
    "    {\"two\", 2},\n",
    "    {\"three\", 3}\n",
    "};\n",
    "\n",
    "// Add a new value\n",
    "dict[\"four\"] = 4;\n",
    "\n",
    "// Access a value\n",
    "var value = dict[\"two\"];\n",
    "Console.WriteLine(value);"
   ]
  },
  {
   "cell_type": "code",
   "execution_count": null,
   "metadata": {
    "polyglot_notebook": {
     "kernelName": "csharp"
    }
   },
   "outputs": [],
   "source": [
    "// As with List, Dictionary also implements IEnumerable, so you can iterate over it\n",
    "foreach (var pair in dict)\n",
    "{\n",
    "    Console.WriteLine($\"{pair.Key} = {pair.Value}\");\n",
    "}"
   ]
  },
  {
   "cell_type": "markdown",
   "metadata": {},
   "source": [
    "## `Queue`\n",
    "\n",
    "Queue is collection to process element in order. Elements can be pushed (`Enqueue`d) and popped (`Dequeue`d) from the queue. Queue is a first-in-first-out collection."
   ]
  },
  {
   "cell_type": "code",
   "execution_count": null,
   "metadata": {
    "polyglot_notebook": {
     "kernelName": "csharp"
    }
   },
   "outputs": [],
   "source": [
    "// Initialize a new Queue\n",
    "var queue = new Queue<int>();\n",
    "\n",
    "// Enqueue elements\n",
    "queue.Enqueue(1);\n",
    "\n",
    "// Dequeue elements\n",
    "var dequeued = queue.Dequeue();"
   ]
  },
  {
   "cell_type": "code",
   "execution_count": null,
   "metadata": {
    "polyglot_notebook": {
     "kernelName": "csharp"
    }
   },
   "outputs": [],
   "source": [
    "// Push multiple elements\n",
    "for (var i = 0; i < 5; i++)\n",
    "{\n",
    "    Console.WriteLine($\"Enqueueing {i}\");\n",
    "    queue.Enqueue(i);\n",
    "}"
   ]
  },
  {
   "cell_type": "code",
   "execution_count": null,
   "metadata": {
    "polyglot_notebook": {
     "kernelName": "csharp"
    }
   },
   "outputs": [],
   "source": [
    "// Dequeue all elements. Dequeuing an element removes it from the queue\n",
    "while (queue.Count > 0)\n",
    "{\n",
    "    Console.WriteLine($\"Dequeuing {queue.Dequeue()}\");\n",
    "}"
   ]
  },
  {
   "cell_type": "code",
   "execution_count": null,
   "metadata": {
    "polyglot_notebook": {
     "kernelName": "csharp"
    }
   },
   "outputs": [],
   "source": [
    "// If the queue is empty, Dequeue will throw an exception\n",
    "try\n",
    "{\n",
    "    queue.Dequeue();\n",
    "}\n",
    "catch (InvalidOperationException)\n",
    "{\n",
    "    Console.WriteLine(\"Queue is empty\");\n",
    "}"
   ]
  },
  {
   "cell_type": "code",
   "execution_count": null,
   "metadata": {
    "polyglot_notebook": {
     "kernelName": "csharp"
    }
   },
   "outputs": [],
   "source": [
    "// Get the count of elements in the queue\n",
    "var queueCount = queue.Count;\n",
    "Console.WriteLine(queueCount);"
   ]
  },
  {
   "cell_type": "code",
   "execution_count": null,
   "metadata": {
    "polyglot_notebook": {
     "kernelName": "csharp"
    }
   },
   "outputs": [],
   "source": [
    "// Queue implements IEnumerable, so you can iterate over it using foreach\n",
    "foreach (var element in queue)\n",
    "{\n",
    "    Console.WriteLine(element);\n",
    "}\n",
    "\n",
    "// Iterating through element does not remove them from the Queue\n",
    "Console.WriteLine($\"Count of elements in the queue: {queue.Count}\");"
   ]
  },
  {
   "cell_type": "markdown",
   "metadata": {},
   "source": [
    "## `Stack`\n",
    "\n",
    "Stack is a collection to process element in last-in-first-out order. Elements can be `Push`ed and `Pop`ed to and from the Stack."
   ]
  },
  {
   "cell_type": "code",
   "execution_count": null,
   "metadata": {
    "polyglot_notebook": {
     "kernelName": "csharp"
    }
   },
   "outputs": [],
   "source": [
    "// Initialize the stack\n",
    "var stack = new Stack<int>();\n",
    "\n",
    "// Push to the Stack\n",
    "stack.Push(1);\n",
    "\n",
    "// Pop from the Stack\n",
    "var popped = stack.Pop();"
   ]
  },
  {
   "cell_type": "code",
   "execution_count": null,
   "metadata": {
    "polyglot_notebook": {
     "kernelName": "csharp"
    }
   },
   "outputs": [],
   "source": [
    "// Count the number of elements in the Stack\n",
    "var count = stack.Count;\n",
    "Console.WriteLine(count);"
   ]
  },
  {
   "cell_type": "code",
   "execution_count": null,
   "metadata": {
    "polyglot_notebook": {
     "kernelName": "csharp"
    }
   },
   "outputs": [],
   "source": [
    "// Push multiple elements to stack\n",
    "for (var i = 0; i < 5; i++)\n",
    "{\n",
    "    Console.WriteLine($\"Pushing {i}\");\n",
    "    stack.Push(i);\n",
    "}"
   ]
  },
  {
   "cell_type": "code",
   "execution_count": null,
   "metadata": {
    "polyglot_notebook": {
     "kernelName": "csharp"
    }
   },
   "outputs": [],
   "source": [
    "// Pop all elements from the stack\n",
    "while (stack.Count > 0)\n",
    "{\n",
    "    Console.WriteLine($\"Popping {stack.Pop()}\");\n",
    "}"
   ]
  },
  {
   "cell_type": "code",
   "execution_count": null,
   "metadata": {
    "polyglot_notebook": {
     "kernelName": "csharp"
    }
   },
   "outputs": [],
   "source": [
    "// Trying to pop from an empty stack will throw an exception\n",
    "try\n",
    "{\n",
    "    stack.Pop();\n",
    "}\n",
    "catch (InvalidOperationException)\n",
    "{\n",
    "    Console.WriteLine(\"Stack is empty\");\n",
    "}"
   ]
  },
  {
   "cell_type": "code",
   "execution_count": null,
   "metadata": {
    "polyglot_notebook": {
     "kernelName": "csharp"
    }
   },
   "outputs": [],
   "source": [
    "// Stack can be iterated over using foreach as well\n",
    "foreach (var element in stack)\n",
    "{\n",
    "    Console.WriteLine(element);\n",
    "}"
   ]
  },
  {
   "cell_type": "markdown",
   "metadata": {},
   "source": [
    "## `HashSet`\n",
    "\n",
    "`HashSet` is a collection for storing unique elements. Only unique values are stored in the `HashSet`."
   ]
  },
  {
   "cell_type": "code",
   "execution_count": null,
   "metadata": {
    "polyglot_notebook": {
     "kernelName": "csharp"
    }
   },
   "outputs": [],
   "source": [
    "// Initialize a HashSet\n",
    "var hashSet = new HashSet<int>();\n",
    "\n",
    "// Add elements to the HashSet\n",
    "hashSet.Add(1);\n",
    "\n",
    "// Check if an element is in the HashSet\n",
    "var contains = hashSet.Contains(1);\n",
    "Console.WriteLine(contains);\n",
    "\n",
    "// Remove an element from the HashSet\n",
    "hashSet.Remove(1);"
   ]
  },
  {
   "cell_type": "code",
   "execution_count": null,
   "metadata": {
    "polyglot_notebook": {
     "kernelName": "csharp"
    }
   },
   "outputs": [],
   "source": [
    "// Add multiple elements to the HashSet\n",
    "hashSet.Add(1);\n",
    "hashSet.Add(1);\n",
    "\n",
    "// HashSet will only contain unique elements\n",
    "Console.WriteLine(hashSet.Count);"
   ]
  },
  {
   "cell_type": "code",
   "execution_count": null,
   "metadata": {
    "polyglot_notebook": {
     "kernelName": "csharp"
    }
   },
   "outputs": [],
   "source": [
    "// Larger example\n",
    "for (var i = 0; i < 5; i++)\n",
    "{\n",
    "    for (var j = 0; j < 5; j++)\n",
    "    {\n",
    "        Console.WriteLine($\"Adding {i}\");\n",
    "        hashSet.Add(i);\n",
    "    }\n",
    "}\n",
    "\n",
    "// Only unique elements were added\n",
    "Console.WriteLine($\"Count of elements: {hashSet.Count}\");"
   ]
  },
  {
   "cell_type": "code",
   "execution_count": null,
   "metadata": {
    "polyglot_notebook": {
     "kernelName": "csharp"
    }
   },
   "outputs": [],
   "source": [
    "// As all other collections HashSet can be iterated as well\n",
    "foreach (var element in hashSet)\n",
    "{\n",
    "    Console.WriteLine(element);\n",
    "}"
   ]
  },
  {
   "cell_type": "markdown",
   "metadata": {},
   "source": [
    "## Indexers\n",
    "\n",
    "Some collections allow to access their elements with indexers, by specifying some value between `[]`. In array that is typically a numerical value indicating the index, but for instance with `Dictionary` that can be any type. Any type can be given this behavior by specifying the indexers."
   ]
  },
  {
   "cell_type": "code",
   "execution_count": null,
   "metadata": {
    "polyglot_notebook": {
     "kernelName": "csharp"
    }
   },
   "outputs": [],
   "source": [
    "// Type with indexer\n",
    "public class IndexerExample\n",
    "{\n",
    "    private int[] _data = new int[5];\n",
    "\n",
    "    public int this[int index]\n",
    "    {\n",
    "        get => _data[index];\n",
    "        set => _data[index] = value;\n",
    "    }\n",
    "}\n",
    "\n",
    "var instance = new IndexerExample();"
   ]
  },
  {
   "cell_type": "code",
   "execution_count": null,
   "metadata": {
    "polyglot_notebook": {
     "kernelName": "csharp"
    }
   },
   "outputs": [],
   "source": [
    "Console.WriteLine(instance[0]);"
   ]
  },
  {
   "cell_type": "code",
   "execution_count": null,
   "metadata": {
    "polyglot_notebook": {
     "kernelName": "csharp"
    }
   },
   "outputs": [],
   "source": [
    "instance[0] = 42;\n",
    "Console.WriteLine(instance[0]);"
   ]
  },
  {
   "cell_type": "code",
   "execution_count": null,
   "metadata": {
    "polyglot_notebook": {
     "kernelName": "csharp"
    }
   },
   "outputs": [],
   "source": [
    "// Other types than int can be used\n",
    "public class StringIndexerExample\n",
    "{\n",
    "    public int this[string index]\n",
    "    {\n",
    "        get => index.Length;\n",
    "    }\n",
    "}\n",
    "\n",
    "var stringInstance = new StringIndexerExample();\n",
    "\n",
    "Console.WriteLine(stringInstance[\"Hello\"]);"
   ]
  },
  {
   "cell_type": "markdown",
   "metadata": {},
   "source": [
    "## Spread operator\n",
    "\n",
    "Collections have a `..e` spread operator, which is a syntactic sugar for working with collections. It works by adding all elements in collection into expression. It is also allows collection type inference from the **left** side."
   ]
  },
  {
   "cell_type": "code",
   "execution_count": null,
   "metadata": {
    "polyglot_notebook": {
     "kernelName": "csharp"
    }
   },
   "outputs": [],
   "source": [
    "var arrayToSpread = new int[] {1, 2, 3, 4, 5};\n",
    "int[] spread = [..arrayToSpread, 6];\n",
    "\n",
    "spread.Display();"
   ]
  },
  {
   "cell_type": "code",
   "execution_count": null,
   "metadata": {
    "polyglot_notebook": {
     "kernelName": "csharp"
    }
   },
   "outputs": [],
   "source": [
    "List<int> spreadList = [..arrayToSpread, 6, 7, 8];\n",
    "spreadList.Display();"
   ]
  },
  {
   "cell_type": "markdown",
   "metadata": {},
   "source": [
    "## Homemade collection\n",
    "\n",
    "Assume that we need to create collection that satisfies the following criteria:\n",
    "1. It should provide type safety (`object` doesn't fit),\n",
    "2. It should be dynamically sizeable, meaning any amount of elements can be added or removed,\n",
    "3. It should be indexable,\n",
    "4. It should be iterable via `foreach` loop.\n",
    "\n",
    "In a nutshell it is a `List<>` with reduced capabilities. Memory and CPU optimizations are irrelevant for this example."
   ]
  },
  {
   "cell_type": "code",
   "execution_count": null,
   "metadata": {
    "polyglot_notebook": {
     "kernelName": "csharp"
    }
   },
   "outputs": [],
   "source": [
    "// As it is required to be type safe and support multiple types\n",
    "// The obvious solution is to use generics\n",
    "\n",
    "class HomemadeList<T>\n",
    "{\n",
    "    public void Add(T item) { }\n",
    "    public void Remove(T item) { }\n",
    "    public T Get(int index) { return default(T); }\n",
    "}"
   ]
  },
  {
   "cell_type": "code",
   "execution_count": null,
   "metadata": {
    "polyglot_notebook": {
     "kernelName": "csharp"
    }
   },
   "outputs": [],
   "source": [
    "// Use an array as a backing store\n",
    "class HomemadeList<T>\n",
    "{\n",
    "    private T[] _data = new T[5];\n",
    "    private int _count = 0;\n",
    "\n",
    "    public void Add(T item)\n",
    "    {\n",
    "        _data[_count] = item;\n",
    "        _count++;\n",
    "    }\n",
    "\n",
    "    public void Remove(T item)\n",
    "    {\n",
    "        for (var i = 0; i < _count; i++)\n",
    "        {\n",
    "            if (_data[i].Equals(item))\n",
    "            {\n",
    "                // Shift the remaining items down\n",
    "                for (var j = i; j < _count - 1; j++)\n",
    "                {\n",
    "                    _data[j] = _data[j + 1];\n",
    "                }\n",
    "\n",
    "                _count--;\n",
    "                break;\n",
    "            }\n",
    "        }\n",
    "    }\n",
    "\n",
    "    public T Get(int index)\n",
    "    {\n",
    "        return _data[index];\n",
    "    }\n",
    "}"
   ]
  },
  {
   "cell_type": "code",
   "execution_count": null,
   "metadata": {
    "polyglot_notebook": {
     "kernelName": "csharp"
    }
   },
   "outputs": [],
   "source": [
    "// However now it has a problem if more items are added than the initial capacity\n",
    "var list = new HomemadeList<int>();\n",
    "\n",
    "for (var i = 0; i < 6; i++)\n",
    "{\n",
    "    list.Add(i);\n",
    "}"
   ]
  },
  {
   "cell_type": "code",
   "execution_count": null,
   "metadata": {
    "polyglot_notebook": {
     "kernelName": "csharp"
    }
   },
   "outputs": [],
   "source": [
    "// If there is not enough space in the current backing array\n",
    "// Then a new array of bigger size needs to be created\n",
    "class HomemadeList<T>\n",
    "{\n",
    "    private T[] _data = new T[5];\n",
    "    private int _count = 0;\n",
    "\n",
    "    public void Add(T item)\n",
    "    {\n",
    "        if (_count == _data.Length)\n",
    "        {\n",
    "            var newData = new T[_data.Length * 2];\n",
    "            Array.Copy(_data, newData, _data.Length);\n",
    "            _data = newData;\n",
    "        }\n",
    "\n",
    "        _data[_count] = item;\n",
    "        _count++;\n",
    "    }\n",
    "\n",
    "    public void Remove(T item)\n",
    "    {\n",
    "        for (var i = 0; i < _count; i++)\n",
    "        {\n",
    "            if (_data[i].Equals(item))\n",
    "            {\n",
    "                // Shift the remaining items down\n",
    "                for (var j = i; j < _count - 1; j++)\n",
    "                {\n",
    "                    _data[j] = _data[j + 1];\n",
    "                }\n",
    "\n",
    "                _count--;\n",
    "                break;\n",
    "            }\n",
    "        }\n",
    "    }\n",
    "\n",
    "    public T Get(int index)\n",
    "    {\n",
    "        return _data[index];\n",
    "    }\n",
    "}"
   ]
  },
  {
   "cell_type": "code",
   "execution_count": null,
   "metadata": {
    "polyglot_notebook": {
     "kernelName": "csharp"
    }
   },
   "outputs": [],
   "source": [
    "// Because the list has to be indexed, a this[] blocks needs to be added\n",
    "class HomemadeList<T>\n",
    "{\n",
    "    private T[] _data = new T[5];\n",
    "    private int _count = 0;\n",
    "\n",
    "    public T this[int index]\n",
    "    {\n",
    "        get => _data[index];\n",
    "        set => _data[index] = value;\n",
    "    }\n",
    "\n",
    "    public void Add(T item)\n",
    "    {\n",
    "        if (_count == _data.Length)\n",
    "        {\n",
    "            var newData = new T[_data.Length * 2];\n",
    "            Array.Copy(_data, newData, _data.Length);\n",
    "            _data = newData;\n",
    "        }\n",
    "\n",
    "        _data[_count] = item;\n",
    "        _count++;\n",
    "    }\n",
    "\n",
    "    public void Remove(T item)\n",
    "    {\n",
    "        for (var i = 0; i < _count; i++)\n",
    "        {\n",
    "            if (_data[i].Equals(item))\n",
    "            {\n",
    "                // Shift the remaining items down\n",
    "                for (var j = i; j < _count - 1; j++)\n",
    "                {\n",
    "                    _data[j] = _data[j + 1];\n",
    "                }\n",
    "\n",
    "                _count--;\n",
    "                break;\n",
    "            }\n",
    "        }\n",
    "    }\n",
    "\n",
    "    // Get can be removed as the indexer replaces it completely\n",
    "}"
   ]
  },
  {
   "cell_type": "code",
   "execution_count": null,
   "metadata": {
    "polyglot_notebook": {
     "kernelName": "csharp"
    }
   },
   "outputs": [],
   "source": [
    "// Final requirement is to make it iterable using foreach\n",
    "// For this an IEnumerable<T> interface needs to be implemented\n",
    "\n",
    "class HomemadeList<T> : IEnumerable<T>\n",
    "{\n",
    "    private T[] _data = new T[5];\n",
    "    private int _count = 0;\n",
    "\n",
    "    public T this[int index]\n",
    "    {\n",
    "        get => _data[index];\n",
    "        set => _data[index] = value;\n",
    "    }\n",
    "\n",
    "    public void Add(T item)\n",
    "    {\n",
    "        if (_count == _data.Length)\n",
    "        {\n",
    "            var newData = new T[_data.Length * 2];\n",
    "            Array.Copy(_data, newData, _data.Length);\n",
    "            _data = newData;\n",
    "        }\n",
    "\n",
    "        _data[_count] = item;\n",
    "        _count++;\n",
    "    }\n",
    "\n",
    "    public void Remove(T item)\n",
    "    {\n",
    "        for (var i = 0; i < _count; i++)\n",
    "        {\n",
    "            if (_data[i].Equals(item))\n",
    "            {\n",
    "                // Shift the remaining items down\n",
    "                for (var j = i; j < _count - 1; j++)\n",
    "                {\n",
    "                    _data[j] = _data[j + 1];\n",
    "                }\n",
    "\n",
    "                _count--;\n",
    "                break;\n",
    "            }\n",
    "        }\n",
    "    }\n",
    "\n",
    "    public IEnumerator<T> GetEnumerator()\n",
    "    {\n",
    "        for (var i = 0; i < _count; i++)\n",
    "        {\n",
    "            yield return _data[i];\n",
    "        }\n",
    "    }\n",
    "\n",
    "    IEnumerator IEnumerable.GetEnumerator()\n",
    "    {\n",
    "        return GetEnumerator();\n",
    "    }\n",
    "}"
   ]
  },
  {
   "cell_type": "code",
   "execution_count": null,
   "metadata": {
    "polyglot_notebook": {
     "kernelName": "csharp"
    }
   },
   "outputs": [],
   "source": [
    "// Short detour on how yield return works\n",
    "// It allows to return enumerable values one by one\n",
    "// Excecution is paused until the next value is requested\n",
    "\n",
    "IEnumerable<int> GetNumbers()\n",
    "{\n",
    "    Console.WriteLine(\"Pong\");\n",
    "    yield return 1;\n",
    "    Console.WriteLine(\"Pong\");\n",
    "    yield return 2;\n",
    "    Console.WriteLine(\"Pong\");\n",
    "    yield return 3;\n",
    "}\n",
    "\n",
    "foreach (var number in GetNumbers())\n",
    "{\n",
    "    Console.WriteLine(\"Ping\");\n",
    "    Console.WriteLine(number);\n",
    "}"
   ]
  },
  {
   "cell_type": "code",
   "execution_count": null,
   "metadata": {
    "polyglot_notebook": {
     "kernelName": "csharp"
    }
   },
   "outputs": [],
   "source": [
    "// Now let's verify that all the requirements work\n",
    "\n",
    "// 1. Verify it is type safe\n",
    "var list = new HomemadeList<int>();\n",
    "\n",
    "list.Add(1);\n",
    "\n",
    "int element = list[0];\n",
    "\n",
    "// Assuming the above compiles"
   ]
  },
  {
   "cell_type": "code",
   "execution_count": null,
   "metadata": {
    "polyglot_notebook": {
     "kernelName": "csharp"
    }
   },
   "outputs": [],
   "source": [
    "// 2. Verify that it dynamically adapts to any size\n",
    "// While we cannot easily verify that it would fit any size, we can check if would fit quite a large size\n",
    "var list = new HomemadeList<int>();\n",
    "for (var i = 0; i < 1_000_000; i++)\n",
    "{\n",
    "    list.Add(i);\n",
    "}"
   ]
  },
  {
   "cell_type": "code",
   "execution_count": null,
   "metadata": {
    "polyglot_notebook": {
     "kernelName": "csharp"
    }
   },
   "outputs": [],
   "source": [
    "// 3. Verify that the list is indexable\n",
    "var list = new HomemadeList<int>();\n",
    "\n",
    "for (var i = 0; i < 5; i++)\n",
    "{\n",
    "    list.Add(i);\n",
    "}\n",
    "\n",
    "Console.WriteLine(list[4]);"
   ]
  },
  {
   "cell_type": "code",
   "execution_count": null,
   "metadata": {
    "polyglot_notebook": {
     "kernelName": "csharp"
    }
   },
   "outputs": [],
   "source": [
    "// 4. Verify that the list is iterable with foreach\n",
    "\n",
    "var list = new HomemadeList<int>();\n",
    "\n",
    "for (var i = 0; i < 5; i++)\n",
    "{\n",
    "    list.Add(i);\n",
    "}\n",
    "\n",
    "foreach (var element in list)\n",
    "{\n",
    "    Console.WriteLine(element);\n",
    "}"
   ]
  }
 ],
 "metadata": {
  "kernelspec": {
   "display_name": ".NET (C#)",
   "language": "C#",
   "name": ".net-csharp"
  },
  "language_info": {
   "name": "polyglot-notebook"
  },
  "polyglot_notebook": {
   "kernelInfo": {
    "defaultKernelName": "csharp",
    "items": [
     {
      "aliases": [],
      "languageName": "csharp",
      "name": "csharp"
     }
    ]
   }
  }
 },
 "nbformat": 4,
 "nbformat_minor": 2
}
