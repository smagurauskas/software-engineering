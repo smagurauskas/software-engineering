{
 "cells": [
  {
   "cell_type": "markdown",
   "metadata": {
    "dotnet_interactive": {
     "language": "csharp"
    },
    "polyglot_notebook": {
     "kernelName": "csharp"
    },
    "slideshow": {
     "slide_type": "slide"
    },
    "vscode": {
     "languageId": "polyglot-notebook"
    }
   },
   "source": [
    "# SOLID\n",
    "\n",
    "SOLID is a set of 5 software design principles that intends to make code more understandable and maintainable.\n",
    "\n",
    "SOLID is a mnemonic acronym:\n",
    "- Single-Responsibility Principle\n",
    "- Open-Close Principle\n",
    "- Liskov Substitution Principle\n",
    "- Interface Segregation Principle\n",
    "- Dependency Inversion Principle"
   ]
  },
  {
   "cell_type": "markdown",
   "metadata": {
    "slideshow": {
     "slide_type": "subslide"
    }
   },
   "source": [
    "SOLID principles originally were published in paper [Design Principles and Design Pattern](https://staff.cs.utu.fi/~jounsmed/doos_06/material/DesignPrinciplesAndPatterns.pdf) by Robert C. Martin (Uncle Bob)."
   ]
  },
  {
   "cell_type": "markdown",
   "metadata": {
    "slideshow": {
     "slide_type": "fragment"
    }
   },
   "source": [
    "Robert C. Martin is an author of several other courses and books. Some of the most famous of which are Clean Code series. Ideas in clean code series, just like in SOLID, are reasonable when looked at from the high level perspective. However they have a danger to be overused and backfire."
   ]
  },
  {
   "cell_type": "markdown",
   "metadata": {
    "slideshow": {
     "slide_type": "subslide"
    }
   },
   "source": [
    "Function with 1000 lines of code is hard to understand, because there are lots things happening in it, and just the sheer amount of code causes high mental load because you need to think about it as a single unit (single function). But the same applies to a class with 100s of 3 line long methods, where the single method might be more obvious to understand in isolation, but the amount of indirection happening makes the mental load unbearable as well."
   ]
  },
  {
   "cell_type": "markdown",
   "metadata": {
    "slideshow": {
     "slide_type": "slide"
    }
   },
   "source": [
    "![Code readability vs function length](assets/code_readability_vs_function_length.png)"
   ]
  },
  {
   "cell_type": "markdown",
   "metadata": {
    "slideshow": {
     "slide_type": "subslide"
    }
   },
   "source": [
    "Like the example with Single-Responsibility Principle in the section, it is possible to go overboard when trying to principles and output even less legible code, than before applying the principles that are supposed to help.\n",
    "\n",
    "*P.S. the examples next are supposed to illustrate the SOLID principles and not the perfect code.*"
   ]
  },
  {
   "cell_type": "markdown",
   "metadata": {
    "slideshow": {
     "slide_type": "notes"
    }
   },
   "source": [
    "Additional reading:\n",
    "- Ideas on how to reason about principles like SOLID: https://softwareengineering.stackexchange.com/a/447543/264283.\n",
    "- Critique on Clean Code and how misusing the principles can have the opposite effect: https://qntm.org/clean."
   ]
  },
  {
   "cell_type": "markdown",
   "metadata": {
    "slideshow": {
     "slide_type": "slide"
    }
   },
   "source": [
    "## Single-Responsibility Principle\n",
    "\n",
    ">A class should only have one reason to change\n",
    "\n",
    "If a class has more than one responsibility, then the responsibilities become coupled. Changes to one responsibility may break the class’ ability to fulfil other responsibilities.\n",
    "\n",
    "This can apply to:\n",
    "- Methods\n",
    "- Classes\n",
    "- Modules\n",
    "- Etc."
   ]
  },
  {
   "cell_type": "code",
   "execution_count": null,
   "metadata": {
    "dotnet_interactive": {
     "language": "csharp"
    },
    "polyglot_notebook": {
     "kernelName": "csharp"
    },
    "slideshow": {
     "slide_type": "subslide"
    }
   },
   "outputs": [],
   "source": [
    "// Bad example - what are the readons to change?\n",
    "\n",
    "using System.Text.Json;\n",
    "using System.IO;\n",
    "\n",
    "class NameRegistry\n",
    "{\n",
    "    private string _title;\n",
    "    private string _firstName;\n",
    "    private string _lastName;\n",
    "\n",
    "    public void EnterTitle()\n",
    "    {\n",
    "        Console.WriteLine(\"Enter title:\");\n",
    "        _title = Console.ReadLine();\n",
    "    }\n",
    "\n",
    "    public void EnterFirstName()\n",
    "    {\n",
    "        Console.WriteLine(\"Enter first name:\");\n",
    "        _firstName = Console.ReadLine();\n",
    "    }\n",
    "\n",
    "    public void EnterLastName()\n",
    "    {\n",
    "        Console.WriteLine(\"Enter last name:\");\n",
    "        _lastName = Console.ReadLine();\n",
    "    }\n",
    "\n",
    "    public void Save()\n",
    "    {\n",
    "        var name = new { Name = $\"{_title} {_firstName} {_lastName}\" };\n",
    "        File.WriteAllText(\"name.txt\", JsonSerializer.Serialize(name));\n",
    "    }\n",
    "}"
   ]
  },
  {
   "cell_type": "markdown",
   "metadata": {
    "slideshow": {
     "slide_type": "subslide"
    }
   },
   "source": [
    "Possible reasons to change for the `NameRegistry` class:\n",
    "- Name parts should come from different source than `Console`.\n",
    "- Name should be assembled into different format.\n",
    "- Name should be serialized to different format than JSON.\n",
    "- Should be persisted not in file, but somewhere else."
   ]
  },
  {
   "cell_type": "code",
   "execution_count": null,
   "metadata": {
    "dotnet_interactive": {
     "language": "csharp"
    },
    "polyglot_notebook": {
     "kernelName": "csharp"
    },
    "slideshow": {
     "slide_type": "subslide"
    }
   },
   "outputs": [],
   "source": [
    "interface INameSupplier\n",
    "{\n",
    "    string GetTitle();\n",
    "    string GetFirstName();\n",
    "    string GetLastName();\n",
    "}\n",
    "\n",
    "interface INameRepository\n",
    "{\n",
    "    void Save(string value);\n",
    "}\n",
    "\n",
    "interface INameFormatter\n",
    "{\n",
    "    string Format(string title, string firstName, string lastName);\n",
    "}\n",
    "\n",
    "interface INameSerializer\n",
    "{\n",
    "    string Serialize(string name);\n",
    "}\n",
    "\n",
    "class NameRegistry\n",
    "{\n",
    "    private string _title;\n",
    "    private string _firstName;\n",
    "    private string _lastName;\n",
    "\n",
    "    private readonly INameSupplier _nameSupplier;\n",
    "    private readonly INameRepository _nameRepository;\n",
    "    private readonly INameSerializer _nameSerializer;\n",
    "    private readonly INameFormatter _nameFormatter;\n",
    "\n",
    "    private NameRegistry(\n",
    "        INameSupplier nameSupplier, \n",
    "        INameSerializer nameSerializer, \n",
    "        INameRepository nameRepository,\n",
    "        INameFormatter nameFormatter)\n",
    "    {\n",
    "        _nameSupplier = nameSupplier;\n",
    "        _nameSerializer = nameSerializer;\n",
    "        _nameRepository = nameRepository;\n",
    "        _nameFormatter = nameFormatter;\n",
    "    }\n",
    "\n",
    "    public void EnterTitle()\n",
    "    {\n",
    "        _title = _nameSupplier.GetTitle();\n",
    "    }\n",
    "\n",
    "    public void EnterFirstName()\n",
    "    {\n",
    "        _firstName = _nameSupplier.GetFirstName();\n",
    "    }\n",
    "\n",
    "    public void EnterLastName()\n",
    "    {\n",
    "        _lastName = _nameSupplier.GetLastName();\n",
    "    }\n",
    "    \n",
    "    public void Save()\n",
    "    {\n",
    "        var formatted = _nameFormatter.Format(_title, _firstName, _lastName);\n",
    "        var serialized = _nameSerializer.Serialize(formatted);\n",
    "        _nameRepository.Save(serialized);\n",
    "    }\n",
    "}"
   ]
  },
  {
   "cell_type": "markdown",
   "metadata": {
    "slideshow": {
     "slide_type": "slide"
    }
   },
   "source": [
    "## Open-Close Principle\n",
    "\n",
    "> You should be able to extend a classes behavior, without modifying it."
   ]
  },
  {
   "cell_type": "markdown",
   "metadata": {
    "slideshow": {
     "slide_type": "fragment"
    }
   },
   "source": [
    "If you need to add new behaviour to a class, you should not need to go and modify that class. This most prominently applies to \"one more\" type of problems. I.e. when we have a few types of customers, but now we need to start supporting additional type of customer."
   ]
  },
  {
   "cell_type": "code",
   "execution_count": null,
   "metadata": {
    "dotnet_interactive": {
     "language": "csharp"
    },
    "polyglot_notebook": {
     "kernelName": "csharp"
    },
    "slideshow": {
     "slide_type": "subslide"
    }
   },
   "outputs": [],
   "source": [
    "// Bad example\n",
    "// If a new customer type would be added, this would imply that you need to go and modify this class to support it.\n",
    "\n",
    "class Customer\n",
    "{\n",
    "    public int Type { get; set; }\n",
    "\n",
    "    public Customer(int type)\n",
    "    {\n",
    "        Type = type;\n",
    "    }\n",
    "\n",
    "    public double GetDiscountRate()\n",
    "    {\n",
    "        if (Type == 1)\n",
    "        {\n",
    "            return 0.1;\n",
    "        }\n",
    "        else if (Type == 2)\n",
    "        {\n",
    "            return 0.2;\n",
    "        }\n",
    "        else\n",
    "        {\n",
    "            return 0;\n",
    "        }\n",
    "    }\n",
    "}"
   ]
  },
  {
   "cell_type": "code",
   "execution_count": null,
   "metadata": {
    "dotnet_interactive": {
     "language": "csharp"
    },
    "polyglot_notebook": {
     "kernelName": "csharp"
    },
    "slideshow": {
     "slide_type": "subslide"
    }
   },
   "outputs": [],
   "source": [
    "// An approach in spirit of Open/Closed principle\n",
    "\n",
    "class Customer\n",
    "{\n",
    "    public virtual double GetDiscountRate()\n",
    "    {\n",
    "        return 0;\n",
    "    }\n",
    "}\n",
    "\n",
    "class SilverCustomer : Customer\n",
    "{\n",
    "    public override double GetDiscountRate()\n",
    "    {\n",
    "        return 0.1;\n",
    "    }\n",
    "}\n",
    "\n",
    "class GoldCustomer : Customer\n",
    "{\n",
    "    public override double GetDiscountRate()\n",
    "    {\n",
    "        return 0.2;\n",
    "    }\n",
    "}"
   ]
  },
  {
   "cell_type": "markdown",
   "metadata": {
    "slideshow": {
     "slide_type": "subslide"
    }
   },
   "source": [
    "In this example if the behaviour is tied to the customer, and there is a class `Customer` which represents it, it is produces better code by moving all the corresponding behaviour to a subclass. In such case a new instance of appropriate sub-class of customer would have to be created and then passed forward to other classes, but this would prevent need to modify the same `Customer` class or other users of this class."
   ]
  },
  {
   "cell_type": "code",
   "execution_count": null,
   "metadata": {
    "dotnet_interactive": {
     "language": "csharp"
    },
    "polyglot_notebook": {
     "kernelName": "csharp"
    },
    "slideshow": {
     "slide_type": "subslide"
    }
   },
   "outputs": [],
   "source": [
    "// Another bad example\n",
    "// For every new shape that would be added, the AreaCalculator class would need to be modified.\n",
    "\n",
    "class Rectangle\n",
    "{\n",
    "    public double Width { get; set; }\n",
    "    public double Height { get; set; }\n",
    "}\n",
    "\n",
    "class Circle\n",
    "{\n",
    "    public double Radius { get; set; }\n",
    "}\n",
    "\n",
    "class AreaCalculator\n",
    "{\n",
    "    public double CalculateArea(object shape)\n",
    "    {\n",
    "        if (shape is Rectangle)\n",
    "        {\n",
    "            var rectangle = (Rectangle)shape;\n",
    "            return rectangle.Width * rectangle.Height;\n",
    "        }\n",
    "        else if (shape is Circle)\n",
    "        {\n",
    "            var circle = (Circle)shape;\n",
    "            return circle.Radius * circle.Radius * Math.PI;\n",
    "        }\n",
    "        else\n",
    "        {\n",
    "            throw new ArgumentException();\n",
    "        }\n",
    "    }\n",
    "}"
   ]
  },
  {
   "cell_type": "code",
   "execution_count": null,
   "metadata": {
    "dotnet_interactive": {
     "language": "csharp"
    },
    "polyglot_notebook": {
     "kernelName": "csharp"
    },
    "slideshow": {
     "slide_type": "subslide"
    }
   },
   "outputs": [],
   "source": [
    "// A better approach\n",
    "class Shape\n",
    "{\n",
    "    public virtual double Area()\n",
    "    {\n",
    "        return 0;\n",
    "    }\n",
    "}\n",
    "\n",
    "class Rectangle : Shape\n",
    "{\n",
    "    public double Width { get; set; }\n",
    "    public double Height { get; set; }\n",
    "\n",
    "    public override double Area()\n",
    "    {\n",
    "        return Width * Height;\n",
    "    }\n",
    "}\n",
    "\n",
    "class Circle : Shape\n",
    "{\n",
    "    public double Radius { get; set; }\n",
    "\n",
    "    public override double Area()\n",
    "    {\n",
    "        return Radius * Radius * Math.PI;\n",
    "    }\n",
    "}\n",
    "\n",
    "class AreaCalculator\n",
    "{\n",
    "    public double CalculateArea(Shape shape)\n",
    "    {\n",
    "        return shape.Area();\n",
    "    }\n",
    "}"
   ]
  },
  {
   "cell_type": "markdown",
   "metadata": {
    "slideshow": {
     "slide_type": "slide"
    }
   },
   "source": [
    "## Liskov Substitution Principle\n",
    "\n",
    "> Objects in a program should be replaceable with instances of their subtypes without altering the correctness of that program."
   ]
  },
  {
   "cell_type": "markdown",
   "metadata": {
    "slideshow": {
     "slide_type": "fragment"
    }
   },
   "source": [
    "In other words - it should be possible to pass any subclass instead of base class, and the program should work correctly in every case. If it is no possible pass a subclass instead of the base class, then it most likely means that the subclass should not be inheriting the main class."
   ]
  },
  {
   "cell_type": "markdown",
   "metadata": {
    "slideshow": {
     "slide_type": "subslide"
    }
   },
   "source": [
    "LSP Checklist:\n",
    "- No new exceptions should be thrown in derived class: if your base class threw `ArgumentException` then your subclasses are only allowed to throw exceptions of type `ArgumentException` or any exceptions derived from it. Throwing `IndexOutOfRangeException` is a violation of LSP.\n",
    "- Pre-conditions cannot be strengthened: assume your base class works with a member `int`. Now your subtype requires that `int` to be positive. This is strengthened pre-conditions, and now any code that worked perfectly fine before with negative ints is broken.\n",
    "- Post-conditions cannot be weakened: assume your base class required all connections to database to be closed before the method returned. In your subclass you overrode that method and left connection open for further reuse. "
   ]
  },
  {
   "cell_type": "code",
   "execution_count": null,
   "metadata": {
    "dotnet_interactive": {
     "language": "csharp"
    },
    "polyglot_notebook": {
     "kernelName": "csharp"
    },
    "slideshow": {
     "slide_type": "subslide"
    }
   },
   "outputs": [],
   "source": [
    "// Example of LSP violation\n",
    "\n",
    "class Rectangle\n",
    "{\n",
    "    public virtual double Width { get; set; }\n",
    "    public virtual double Height { get; set; }\n",
    "}\n",
    "\n",
    "class Square : Rectangle\n",
    "{\n",
    "    private double _width;\n",
    "    private double _height;\n",
    "\n",
    "    public override double Width\n",
    "    {\n",
    "        get => _width;\n",
    "        set\n",
    "        {\n",
    "            _width = value;\n",
    "            _height = value;\n",
    "        }\n",
    "    }\n",
    "\n",
    "    public override double Height\n",
    "    {\n",
    "        get => _height;\n",
    "        set\n",
    "        {\n",
    "            _width = value;\n",
    "            _height = value;\n",
    "        }\n",
    "    }\n",
    "}\n",
    "\n",
    "var rectangle = new Rectangle { Width = 2, Height = 3 };\n",
    "var square = new Square { Width = 2, Height = 3 };\n",
    "\n",
    "void PrintDimensions(Rectangle rectangle)\n",
    "{\n",
    "    Console.WriteLine($\"{rectangle.Width} x {rectangle.Height}\");\n",
    "}\n",
    "\n",
    "PrintDimensions(rectangle);\n",
    "PrintDimensions(square);"
   ]
  },
  {
   "cell_type": "markdown",
   "metadata": {
    "slideshow": {
     "slide_type": "slide"
    }
   },
   "source": [
    "## Interface Segregation Principle\n",
    "\n",
    "> Clients should not be forced to implement interfaces they do not use."
   ]
  },
  {
   "cell_type": "markdown",
   "metadata": {
    "slideshow": {
     "slide_type": "fragment"
    }
   },
   "source": [
    "Fat interfaces that contain many methods should be avoided. Instead think if they can be separated by their use cases. Does every user of the interface always uses all methods or only subset of these methods."
   ]
  },
  {
   "cell_type": "code",
   "execution_count": null,
   "metadata": {
    "dotnet_interactive": {
     "language": "csharp"
    },
    "polyglot_notebook": {
     "kernelName": "csharp"
    },
    "slideshow": {
     "slide_type": "subslide"
    }
   },
   "outputs": [],
   "source": [
    "// Bad example\n",
    "\n",
    "interface IPrinter\n",
    "{\n",
    "    void Print();\n",
    "    void Scan();\n",
    "    void Fax();\n",
    "}\n",
    "\n",
    "class FullyFunctionalPrinter : IPrinter\n",
    "{\n",
    "    public void Print()\n",
    "    {\n",
    "        Console.WriteLine(\"Printing...\");\n",
    "    }\n",
    "\n",
    "    public void Scan()\n",
    "    {\n",
    "        Console.WriteLine(\"Scanning...\");\n",
    "    }\n",
    "\n",
    "    public void Fax()\n",
    "    {\n",
    "        Console.WriteLine(\"Faxing...\");\n",
    "    }\n",
    "}\n",
    "\n",
    "class SmallPrinter : IPrinter\n",
    "{\n",
    "    public void Print()\n",
    "    {\n",
    "        Console.WriteLine(\"Printing...\");\n",
    "    }\n",
    "\n",
    "    public void Scan()\n",
    "    {\n",
    "        throw new NotImplementedException();\n",
    "    }\n",
    "\n",
    "    public void Fax()\n",
    "    {\n",
    "        throw new NotImplementedException();\n",
    "    }\n",
    "}"
   ]
  },
  {
   "cell_type": "code",
   "execution_count": null,
   "metadata": {
    "dotnet_interactive": {
     "language": "csharp"
    },
    "polyglot_notebook": {
     "kernelName": "csharp"
    },
    "slideshow": {
     "slide_type": "subslide"
    }
   },
   "outputs": [],
   "source": [
    "// A better approach\n",
    "interface IPrinter\n",
    "{\n",
    "    void Print();\n",
    "}\n",
    "\n",
    "interface IScanner\n",
    "{\n",
    "    void Scan();\n",
    "}\n",
    "\n",
    "interface IFax\n",
    "{\n",
    "    void Fax();\n",
    "}\n",
    "\n",
    "class FullyFunctionalPrinter : IPrinter, IScanner, IFax\n",
    "{\n",
    "    public void Print()\n",
    "    {\n",
    "        Console.WriteLine(\"Printing...\");\n",
    "    }\n",
    "\n",
    "    public void Scan()\n",
    "    {\n",
    "        Console.WriteLine(\"Scanning...\");\n",
    "    }\n",
    "\n",
    "    public void Fax()\n",
    "    {\n",
    "        Console.WriteLine(\"Faxing...\");\n",
    "    }\n",
    "}\n",
    "\n",
    "class SmallPrinter : IPrinter\n",
    "{\n",
    "    public void Print()\n",
    "    {\n",
    "        Console.WriteLine(\"Printing...\");\n",
    "    }\n",
    "}"
   ]
  },
  {
   "cell_type": "code",
   "execution_count": null,
   "metadata": {
    "dotnet_interactive": {
     "language": "csharp"
    },
    "polyglot_notebook": {
     "kernelName": "csharp"
    },
    "slideshow": {
     "slide_type": "subslide"
    }
   },
   "outputs": [],
   "source": [
    "// If you want o reduce verbosity\n",
    "interface IOfficeMachine\n",
    "{\n",
    "    void Print();\n",
    "    void Scan();\n",
    "    void Fax();\n",
    "}"
   ]
  },
  {
   "cell_type": "markdown",
   "metadata": {
    "slideshow": {
     "slide_type": "slide"
    }
   },
   "source": [
    "## Dependency Inversion Principle\n",
    "\n",
    ">Depend on abstractions, not on concretions.\n",
    "\n",
    "- High level modules should not depend upon low level modules. Both should depend upon abstractions.\n",
    "- Abstractions should not depend upon details. Details should depend upon abstractions.\n"
   ]
  },
  {
   "cell_type": "markdown",
   "metadata": {
    "slideshow": {
     "slide_type": "subslide"
    }
   },
   "source": [
    "```mermaid\n",
    "graph LR\n",
    "    A[High-level Module] -->|depends on| B[Abstraction]\n",
    "    C[Low-level Module] -->|depends on| B[Abstraction]\n",
    "```"
   ]
  },
  {
   "cell_type": "markdown",
   "metadata": {
    "slideshow": {
     "slide_type": "subslide"
    }
   },
   "source": [
    "Ways to implement DIP:\n",
    "- Dependency injection – most common way.  \n",
    "- Service Locator\n",
    "- Events\n",
    "- Etc."
   ]
  },
  {
   "cell_type": "code",
   "execution_count": null,
   "metadata": {
    "dotnet_interactive": {
     "language": "csharp"
    },
    "polyglot_notebook": {
     "kernelName": "csharp"
    },
    "slideshow": {
     "slide_type": "subslide"
    }
   },
   "outputs": [],
   "source": [
    "// No dependency inversion:\n",
    "\n",
    "// High level class dealing with application level logic\n",
    "class SalaryCalculator\n",
    "{\n",
    "    public double CalculateSalary(double hourlyRate, int hoursWorked)\n",
    "    {\n",
    "        return hourlyRate * hoursWorked;\n",
    "    }\n",
    "\n",
    "    public void SaveSalary(double salary)\n",
    "    {\n",
    "        var repository = new SalaryFileRepository();\n",
    "        repository.SaveSalary(salary);\n",
    "    }\n",
    "}\n",
    "\n",
    "// Low level class dealing with file operations\n",
    "class SalaryFileRepository\n",
    "{\n",
    "    public void SaveSalary(double salary)\n",
    "    {\n",
    "        System.IO.File.WriteAllText(\"salary.txt\", salary.ToString());\n",
    "    }\n",
    "}"
   ]
  },
  {
   "cell_type": "code",
   "execution_count": null,
   "metadata": {
    "dotnet_interactive": {
     "language": "csharp"
    },
    "polyglot_notebook": {
     "kernelName": "csharp"
    },
    "slideshow": {
     "slide_type": "subslide"
    }
   },
   "outputs": [],
   "source": [
    "// With dependency inversion:\n",
    "\n",
    "// Both classes depend on this interface\n",
    "interface ISalaryRepository\n",
    "{\n",
    "    void SaveSalary(double salary);\n",
    "}\n",
    "\n",
    "class SalaryFileRepository : ISalaryRepository\n",
    "{\n",
    "    public void SaveSalary(double salary)\n",
    "    {\n",
    "        System.IO.File.WriteAllText(\"salary.txt\", salary.ToString());\n",
    "    }\n",
    "}\n",
    "\n",
    "class SalaryCalculator\n",
    "{\n",
    "    private readonly ISalaryRepository _salaryRepository;\n",
    "\n",
    "    // This class does not depend on concrete implementation\n",
    "    // It rather depends on an abstraction, which can be easily replaced\n",
    "    public SalaryCalculator(ISalaryRepository salaryRepository)\n",
    "    {\n",
    "        _salaryRepository = salaryRepository;\n",
    "    }\n",
    "\n",
    "    public double CalculateSalary(double hourlyRate, int hoursWorked)\n",
    "    {\n",
    "        return hourlyRate * hoursWorked;\n",
    "    }\n",
    "\n",
    "    public void SaveSalary(double salary)\n",
    "    {\n",
    "        _salaryRepository.SaveSalary(salary);\n",
    "    }\n",
    "}"
   ]
  },
  {
   "cell_type": "markdown",
   "metadata": {
    "slideshow": {
     "slide_type": "slide"
    }
   },
   "source": [
    "# Other acronyms\n",
    "\n",
    "Just like SOLID, there are a bunch of other quite popular mnemonic devices aimed at promoting writing of more readable code."
   ]
  },
  {
   "cell_type": "markdown",
   "metadata": {
    "slideshow": {
     "slide_type": "subslide"
    }
   },
   "source": [
    "## GRASP\n",
    "\n",
    "> General Responsibility Assignment Software Principles.\n",
    "\n",
    "- Information expert\n",
    "- Creator\n",
    "- Controller\n",
    "- Indirection\n",
    "- Low coupling\n",
    "- High cohesion\n",
    "- Polymorphism\n",
    "- Protected variations\n",
    "- Pure fabrication"
   ]
  },
  {
   "cell_type": "markdown",
   "metadata": {
    "slideshow": {
     "slide_type": "subslide"
    }
   },
   "source": [
    "## KISS\n",
    "\n",
    "> Keep It Simple, Stupid.\n",
    "\n",
    "Acronym suggests not to overengineer the solutions and aim for the simpler implementation."
   ]
  },
  {
   "cell_type": "markdown",
   "metadata": {
    "slideshow": {
     "slide_type": "subslide"
    }
   },
   "source": [
    "## DRY\n",
    "\n",
    "> Don't repeat yourself.\n",
    "\n",
    "If the exact same code, for the exact same purpose is in multiple places - then you are repeating yourself.\n",
    "\n",
    "Acronym suggests to move the repetitive code into a common place and reference it from there."
   ]
  },
  {
   "cell_type": "markdown",
   "metadata": {
    "slideshow": {
     "slide_type": "subslide"
    }
   },
   "source": [
    "## YAGNI\n",
    "\n",
    "> You aren't gonna need it.\n",
    "\n",
    "Don't create reusabilty and abstractions where there is no obvious need for them."
   ]
  },
  {
   "cell_type": "markdown",
   "metadata": {
    "slideshow": {
     "slide_type": "subslide"
    }
   },
   "source": [
    "## CoC\n",
    "\n",
    "> Conventions over Configuration.\n",
    "\n",
    "Provide sensible default for your code which would allow it to work out of the box, instead of asking user to explicitly configure everything."
   ]
  }
 ],
 "metadata": {
  "kernelspec": {
   "display_name": ".NET (C#)",
   "language": "C#",
   "name": ".net-csharp"
  },
  "language_info": {
   "name": "polyglot-notebook"
  },
  "polyglot_notebook": {
   "kernelInfo": {
    "defaultKernelName": "csharp",
    "items": [
     {
      "aliases": [],
      "name": "csharp"
     }
    ]
   }
  }
 },
 "nbformat": 4,
 "nbformat_minor": 2
}
