{
 "cells": [
  {
   "cell_type": "markdown",
   "id": "0",
   "metadata": {
    "slideshow": {
     "slide_type": "slide"
    }
   },
   "source": [
    "# Pull Requests\n",
    "\n",
    "## What are Pull Requests?\n",
    "\n",
    "Pull Requests is a collaborative process of reviewing code changes before they are merged into the main code branch.\n",
    "\n",
    "**Goal**: Increase code quality through peer review."
   ]
  },
  {
   "cell_type": "markdown",
   "id": "1",
   "metadata": {
    "slideshow": {
     "slide_type": "fragment"
    }
   },
   "source": [
    "*Note: Pull requests are usually just called simply \"PRs\" in spoken language. This abbreviated form will be used in the notebook.*"
   ]
  },
  {
   "cell_type": "markdown",
   "id": "2",
   "metadata": {
    "slideshow": {
     "slide_type": "subslide"
    }
   },
   "source": [
    "Code review is an important step of the overall software development process. Research published by Microsoft found that developers spend ~6 hours per week preparing code for PRs or reviewing others' PRs, amounting to around **~15% of total work time** being related to the code review process."
   ]
  },
  {
   "cell_type": "markdown",
   "id": "3",
   "metadata": {
    "slideshow": {
     "slide_type": "notes"
    }
   },
   "source": [
    "*Note: Pull requests may sometimes be called \"Merge requests\" or similar names, based on the platform used.*"
   ]
  },
  {
   "cell_type": "markdown",
   "id": "4",
   "metadata": {
    "slideshow": {
     "slide_type": "slide"
    }
   },
   "source": [
    "### Pull Request Process\n",
    "\n",
    "```mermaid\n",
    "flowchart LR\n",
    "    A[Create<br/>Branch] --> B[Make<br/>Changes]\n",
    "    B --> C[Open PR]\n",
    "    C --> D[Review]\n",
    "    D --> E{Comments?}\n",
    "    E -->|Yes| F[Fix Issues]\n",
    "    F --> D\n",
    "    E -->|No| G{Approved?}\n",
    "    G -->|No| F\n",
    "    G -->|Yes| H[Merge]\n",
    "    H --> I[Deploy]\n",
    "    \n",
    "    style A fill:#e1f5fe,stroke:#01579b,stroke-width:2px\n",
    "    style H fill:#e8f5e8,stroke:#2e7d32,stroke-width:2px\n",
    "    style I fill:#fff3e0,stroke:#ef6c00,stroke-width:2px\n",
    "    style D fill:#f3e5f5,stroke:#7b1fa2,stroke-width:2px\n",
    "```"
   ]
  },
  {
   "cell_type": "markdown",
   "id": "5",
   "metadata": {
    "slideshow": {
     "slide_type": "slide"
    }
   },
   "source": [
    "## Why Pull Requests Matter\n",
    "\n",
    "Pull requests allow multiple engineers to review changes before they are merged into the main trunk. Multiple research studies show that performing code reviews decreases the defect count [3], among other benefits.\n",
    "\n",
    "**Goals and benefits:**\n",
    "- Get a second (or more) look at changes\n",
    "- Provide comments on potential improvements\n",
    "- Ensure code will be understood in the future\n",
    "- Encourage learning between team members"
   ]
  },
  {
   "cell_type": "markdown",
   "id": "6",
   "metadata": {
    "slideshow": {
     "slide_type": "subslide"
    }
   },
   "source": [
    "### Code readability\n",
    "\n",
    "There is a popular quote in software engineering:\n",
    "\n",
    "> Code is read more than it is written\n",
    "\n",
    "While it's hard to trace the origin of this quote, the sentiment remains relevant today.\n",
    "\n",
    "After code is written, it will be read numerous times by the author and, more importantly, by other engineers. Ideas that aren't clearly expressed in code will be forgotten. Cryptic variable names will stop making sense over time. \n",
    "\n",
    "Therefore, it's important to make code future-proof, so that people with little context about the prior history can understand it later."
   ]
  },
  {
   "cell_type": "markdown",
   "id": "7",
   "metadata": {
    "slideshow": {
     "slide_type": "subslide"
    }
   },
   "source": [
    "Many articles and books have been written on code readability. This topic will be explored more throughout the course.\n",
    "\n",
    "For quick inspiration on what makes code readable, start with this article: [Pragmatic Engineer - Readable Code](https://blog.pragmaticengineer.com/readable-code/)."
   ]
  },
  {
   "cell_type": "markdown",
   "id": "8",
   "metadata": {
    "slideshow": {
     "slide_type": "slide"
    }
   },
   "source": [
    "## Code Review Best Practices\n",
    "\n",
    "Modern code reviews use tools to inspect changes and leave comments or start discussions regarding these changes[*]. After reviewing the changes, reviewers leave comments on the code reviewed.\n",
    "\n",
    "Comments can target specific lines of code, specific files, or the whole PR."
   ]
  },
  {
   "cell_type": "markdown",
   "id": "9",
   "metadata": {
    "slideshow": {
     "slide_type": "fragment"
    }
   },
   "source": [
    "[*]: This is stated in contrast to older scientific articles, where code review process can mean very formal, in-person code review, where several people are looking at printouts of the code."
   ]
  },
  {
   "cell_type": "markdown",
   "id": "10",
   "metadata": {
    "slideshow": {
     "slide_type": "slide"
    }
   },
   "source": [
    "## Raising Effective PRs\n",
    "\n",
    "### Key Principles\n",
    "- **Provide context** - Explain what is being changed and why. A good title and proper description can go a long way.\n",
    "- **Keep it small** - The smaller the PR, the easier it is to review [1]\n",
    "- **Review the code yourself** - Looking at poor quality PRs can feel like a waste of time to team members. Always make sure you've taken all the steps on your side to make it as smooth as possible."
   ]
  },
  {
   "cell_type": "markdown",
   "id": "11",
   "metadata": {
    "slideshow": {
     "slide_type": "fragment"
    }
   },
   "source": [
    "*Keeping it small: [1] Study suggests that as the number of files in the PR increases, the usefulness of comments decreases. This is potentially related to the fact that it's harder to reason about large-scale codebases effectively, compared to smaller ones.*"
   ]
  },
  {
   "cell_type": "markdown",
   "id": "12",
   "metadata": {
    "slideshow": {
     "slide_type": "subslide"
    }
   },
   "source": [
    "### Reviewing the code yourself\n",
    "\n",
    "Some things you can do to improve the quality of PRs you submit:\n",
    "\n",
    "- Review your own code first. Check if the variables make sense and try to look through the reviewer's eyes.\n",
    "- Test your changes locally. Run the local automated tests and make sure they pass.\n",
    "- Make sure all automated code formatting or linting tools were run and code style is consistent with your standards.\n",
    "- Compilers can provide warnings which can indicate code smells—make sure they are addressed before submitting the code."
   ]
  },
  {
   "cell_type": "markdown",
   "id": "13",
   "metadata": {
    "slideshow": {
     "slide_type": "slide"
    }
   },
   "source": [
    "## Reviewing PRs Effectively\n",
    "\n",
    "**What to focus on:**\n",
    "- Focus on what is in the scope of the PR\n",
    "- Code readability and maintainability\n",
    "- Logic correctness and potential bugs\n",
    "- Test coverage and quality\n",
    "- Performance implications [*]"
   ]
  },
  {
   "cell_type": "markdown",
   "id": "14",
   "metadata": {
    "slideshow": {
     "slide_type": "fragment"
    }
   },
   "source": [
    "*[&ast;] When it comes to performance implications, it's especially easy to go down the endless rabbit hole of marginal improvements that can be found. This is the very appropriate place to focus on **good instead of perfect**.*"
   ]
  },
  {
   "cell_type": "markdown",
   "id": "15",
   "metadata": {
    "slideshow": {
     "slide_type": "subslide"
    }
   },
   "source": [
    "### Focus on the Current Changes\n",
    "- Review only what's in scope of this PR\n",
    "- Don't address historical code issues in current PR\n",
    "\n",
    "It is sometimes tempting to point out historicall bad solutions in the new PRs. Code that was once OK, now has obvious flaws at it is easy to point that out. However it is better to refrain from this."
   ]
  },
  {
   "cell_type": "markdown",
   "id": "16",
   "metadata": {
    "slideshow": {
     "slide_type": "subslide"
    }
   },
   "source": [
    "### Provide Constructive Feedback\n",
    "- Give actionable suggestions, i.e. not the something is wrong, but how can it be improved\n",
    "- Help others learn rather than scolding for bad code\n",
    "- Focus on \"good enough\" rather than perfect\n",
    "\n",
    "While you do need to identify that something is wrong to be able to fix this, focusing too much on the negativity can lead to overall worse motivation of the team and the outcomes."
   ]
  },
  {
   "cell_type": "markdown",
   "id": "17",
   "metadata": {
    "slideshow": {
     "slide_type": "slide"
    }
   },
   "source": [
    "## Types of Review Comments\n",
    "\n",
    "Generally comments can be grouped into 2 categories:\n",
    "\n",
    "1. **Readability related comments**\n",
    "   - Naming conventions\n",
    "   - Code structure and organization\n",
    "   - Documentation and clarity\n",
    "\n",
    "2. **Code logic or design related comments**\n",
    "   - Business logic correctness\n",
    "   - Error handling\n",
    "   - Performance concerns\n",
    "   - Security issues\n",
    "   - Unconventional design decisions"
   ]
  },
  {
   "cell_type": "markdown",
   "id": "18",
   "metadata": {
    "slideshow": {
     "slide_type": "subslide"
    }
   },
   "source": [
    "### Naming conventions\n",
    "\n",
    "```csharp\n",
    "class Person\n",
    "{\n",
    "    public string FirstName { get; set; } // -- Why PascalCase here?\n",
    "    public string Last_Name { get; set; } // -- But Snake_Case here?\n",
    "}\n",
    "```"
   ]
  },
  {
   "cell_type": "markdown",
   "id": "19",
   "metadata": {
    "slideshow": {
     "slide_type": "fragment"
    }
   },
   "source": [
    "It's not *per se* that one style is better than the other, but the research overwhelmingly shows that consistency is critical to readable code."
   ]
  },
  {
   "cell_type": "markdown",
   "id": "20",
   "metadata": {
    "slideshow": {
     "slide_type": "subslide"
    }
   },
   "source": [
    "### Code structure\n",
    "\n",
    "```csharp\n",
    "class Person\n",
    "{\n",
    "    // -- Why are logically similar properties separated by the construtor?\n",
    "    public string FirstName { get; private set; }\n",
    "\n",
    "    public Person(string firstName, string lastName)\n",
    "    {\n",
    "        FirstName = firstName;\n",
    "        LastName = lastName;\n",
    "    }\n",
    "\n",
    "    public string LastName { get; private set; }\n",
    "}\n",
    "```"
   ]
  },
  {
   "cell_type": "markdown",
   "id": "21",
   "metadata": {
    "slideshow": {
     "slide_type": "subslide"
    }
   },
   "source": [
    "### Documentation and clarity\n",
    "\n",
    "```csharp\n",
    "class Person\n",
    "{\n",
    "    public string FirstName { get; set; }\n",
    "    public string Code { get; set; } // -- What kind of code is this? Maybe personal identification code, but very ambigious just from the name.\n",
    "}\n",
    "```"
   ]
  },
  {
   "cell_type": "markdown",
   "id": "22",
   "metadata": {
    "slideshow": {
     "slide_type": "slide"
    }
   },
   "source": [
    "# Code Review Examples\n",
    "\n",
    "Next will follow a few examples that can be used for inspiration for what to look at when doing code reviews.\n"
   ]
  },
  {
   "cell_type": "markdown",
   "id": "23",
   "metadata": {
    "slideshow": {
     "slide_type": "slide"
    }
   },
   "source": [
    "## Example 1: Poor readbility\n",
    "\n",
    "One of the key goals of pull requests is ensuring code **readability**.\n",
    "\n",
    "**Readable code means:**\n",
    "- Other engineers can easily understand what the code does\n",
    "- Variables, classes, and methods have descriptive names  \n",
    "- Code is maintainable for future changes\n",
    "\n",
    "\n",
    "\n",
    "**Issues**: Unclear names, missing validation, wrong return type"
   ]
  },
  {
   "cell_type": "markdown",
   "id": "24",
   "metadata": {
    "slideshow": {
     "slide_type": "subslide"
    }
   },
   "source": [
    "### ❌ Before\n",
    "\n",
    "```csharp\n",
    "class U\n",
    "{\n",
    "    public int C(List<int> l)\n",
    "    {\n",
    "        var s = 0;\n",
    "        foreach (var i in l) s += i;\n",
    "        return s / l.Count;\n",
    "    }\n",
    "}\n",
    "```"
   ]
  },
  {
   "cell_type": "markdown",
   "id": "25",
   "metadata": {
    "slideshow": {
     "slide_type": "fragment"
    }
   },
   "source": [
    "\n",
    "**Question**: What's wrong with this code? What does it even do?"
   ]
  },
  {
   "cell_type": "markdown",
   "id": "26",
   "metadata": {
    "slideshow": {
     "slide_type": "subslide"
    }
   },
   "source": [
    "### 💬 Comments\n",
    "\n",
    "```csharp\n",
    "class U // -- Cannot understand the intent of the class from it's name. There is also no state, it could probably be `static`\n",
    "{\n",
    "    public int C(List<int> l) // -- Cannot understand what the method is supposed to do from it's name\n",
    "    { // -- What if the list is empty? It is also never modified in the method.\n",
    "        var s = 0; // -- unclear variable name\n",
    "        foreach (var i in l) s += i;\n",
    "        return s / l.Count; // -- Division results in `double` result, but it is narrowed down to `int` by the method. Is this intended?\n",
    "    }\n",
    "}\n",
    "```"
   ]
  },
  {
   "cell_type": "markdown",
   "id": "27",
   "metadata": {
    "slideshow": {
     "slide_type": "fragment"
    }
   },
   "source": [
    "*Trying to point out the potential problems, while also suggesting or implying solutions to them.*"
   ]
  },
  {
   "cell_type": "markdown",
   "id": "28",
   "metadata": {
    "slideshow": {
     "slide_type": "subslide"
    }
   },
   "source": [
    "### ✅ After fixing the code according to comments\n",
    "\n",
    "```csharp\n",
    "static class Statistics\n",
    "{\n",
    "    public static double Average(IReadOnlyList<int> numbers)\n",
    "    {\n",
    "        if (numbers is null) \n",
    "            throw new ArgumentNullException(nameof(numbers));\n",
    "        if (numbers.Count == 0) \n",
    "            throw new ArgumentException(\n",
    "                \"Sequence cannot be empty.\", \n",
    "                nameof(numbers));\n",
    "\n",
    "        var sum = numbers.Sum();\n",
    "        return (double)sum / numbers.Count;\n",
    "    }\n",
    "}\n",
    "```\n",
    "\n",
    "**Benefits**: Clear intent, proper validation, correct return type"
   ]
  },
  {
   "cell_type": "markdown",
   "id": "29",
   "metadata": {
    "slideshow": {
     "slide_type": "slide"
    }
   },
   "source": [
    "## Example 2: Separation of Concerns\n",
    "\n",
    "### ❌ Before  \n",
    "\n",
    "```csharp\n",
    "class OrderProc\n",
    "{\n",
    "    public decimal P(string path)\n",
    "    {\n",
    "        var json = File.ReadAllText(path);\n",
    "        var order = JsonSerializer.Deserialize<Order>(json);\n",
    "        if (order.DiscountCode == \"VIP\") \n",
    "            return order.Amount * 0.8m;\n",
    "        return order.Amount;\n",
    "    }\n",
    "}\n",
    "\n",
    "class Order \n",
    "{ \n",
    "    public decimal Amount { get; set; } \n",
    "    public string DiscountCode { get; set; } \n",
    "}\n",
    "```"
   ]
  },
  {
   "cell_type": "markdown",
   "id": "30",
   "metadata": {
    "slideshow": {
     "slide_type": "fragment"
    }
   },
   "source": [
    "**Question**: How would you test this? What are the different responsibilities here?"
   ]
  },
  {
   "cell_type": "markdown",
   "id": "31",
   "metadata": {
    "slideshow": {
     "slide_type": "subslide"
    }
   },
   "source": [
    "### 💬 Comments\n",
    "\n",
    "```csharp\n",
    "class OrderProc // -- This class has multiple responsibilities: file I/O and pricing logic. Need to be able to test one without the other.\n",
    "{\n",
    "    public decimal P(string path) // -- Method name 'P' is not descriptive. What does it process?\n",
    "    {\n",
    "        var json = File.ReadAllText(path); // -- Would be better if the data could be passed externally\n",
    "        var order = JsonSerializer.Deserialize<Order>(json); // -- What if deserialization fails?\n",
    "        if (order.DiscountCode == \"VIP\")  // -- Pricing logic should be separate from file operations\n",
    "            return order.Amount * 0.8m; // -- Could this be improved to support other discount cases?\n",
    "        return order.Amount;\n",
    "    }\n",
    "}\n",
    "\n",
    "class Order  // -- This is fine, but could benefit from validation\n",
    "{ \n",
    "    public decimal Amount { get; set; } \n",
    "    public string DiscountCode { get; set; } \n",
    "}\n",
    "```"
   ]
  },
  {
   "cell_type": "markdown",
   "id": "32",
   "metadata": {},
   "source": [
    "*Suggesting to separate concerns and make the code more testable by splitting responsibilities.*"
   ]
  },
  {
   "cell_type": "markdown",
   "id": "33",
   "metadata": {
    "slideshow": {
     "slide_type": "subslide"
    }
   },
   "source": [
    "### ✅ After fixing the code according to comments\n",
    "\n",
    "```csharp\n",
    "static class OrderReader\n",
    "{\n",
    "    public static Order ReadFromFile(string path) =>\n",
    "        JsonSerializer.Deserialize<Order>(\n",
    "            File.ReadAllText(path))\n",
    "        ?? throw new InvalidDataException(\n",
    "            \"Order payload invalid\");\n",
    "}\n",
    "\n",
    "static class Pricing\n",
    "{\n",
    "    public static decimal ApplyDiscount(Order order)\n",
    "    {\n",
    "        if (order is null) \n",
    "            throw new ArgumentNullException(nameof(order));\n",
    "        return order.DiscountCode switch\n",
    "        {\n",
    "            \"VIP\" => order.Amount * 0.8m,\n",
    "            \"EMP\" => order.Amount * 0.7m,\n",
    "            _ => order.Amount\n",
    "        };\n",
    "    }\n",
    "}\n",
    "```"
   ]
  },
  {
   "cell_type": "markdown",
   "id": "34",
   "metadata": {
    "slideshow": {
     "slide_type": "fragment"
    }
   },
   "source": [
    "**Improvements**: File access separated from pricing logic\n",
    "**Benefits**: Testable, single responsibility, extensible"
   ]
  },
  {
   "cell_type": "markdown",
   "id": "35",
   "metadata": {
    "slideshow": {
     "slide_type": "slide"
    }
   },
   "source": [
    "## Example 3: Incremental Refactoring\n",
    "\n",
    "### ❌ Before\n",
    "\n",
    "```csharp\n",
    "class ShippingCostCalculatorV1\n",
    "{\n",
    "    public decimal Calculate(string country, int weightGrams)\n",
    "    {\n",
    "        var baseCost = 5m;\n",
    "        if (country == \"US\") baseCost = 3m;\n",
    "        if (weightGrams > 1000) baseCost += 4m;\n",
    "        if (country == \"DE\" && weightGrams < 500) \n",
    "            baseCost -= 1m;\n",
    "        return baseCost;\n",
    "    }\n",
    "}\n",
    "```"
   ]
  },
  {
   "cell_type": "markdown",
   "id": "36",
   "metadata": {
    "slideshow": {
     "slide_type": "fragment"
    }
   },
   "source": [
    "**Question**: This logic is hard to review. How could it be made easier to verify in a PR?"
   ]
  },
  {
   "cell_type": "markdown",
   "id": "37",
   "metadata": {
    "slideshow": {
     "slide_type": "subslide"
    }
   },
   "source": [
    "### 💬 Comments\n",
    "\n",
    "```csharp\n",
    "class ShippingCostCalculatorV1\n",
    "{\n",
    "    public decimal Calculate(string country, int weightGrams)\n",
    "    {\n",
    "        var baseCost = 5m;\n",
    "        if (country == \"US\") baseCost = 3m; // -- Since it clearly changes based on country, maybe this can be placed elsewhere for clarity?\n",
    "        if (weightGrams > 1000) baseCost += 4m;\n",
    "        if (country == \"DE\" && weightGrams < 500) // -- It would be clearer if country specific logic would be separated.\n",
    "            baseCost -= 1m;\n",
    "        return baseCost; // -- base cost sounds misleading at this point\n",
    "    }\n",
    "}\n",
    "```"
   ]
  },
  {
   "cell_type": "markdown",
   "id": "38",
   "metadata": {},
   "source": [
    "*Suggesting to break down complex logic into smaller, testable functions with clear responsibilities.*"
   ]
  },
  {
   "cell_type": "markdown",
   "id": "39",
   "metadata": {
    "slideshow": {
     "slide_type": "subslide"
    }
   },
   "source": [
    "### ✅ After fixing the code according to comments\n",
    "\n",
    "```csharp\n",
    "class ShippingCostCalculatorV2\n",
    "{\n",
    "    public decimal Calculate(string country, int weightGrams)\n",
    "        => Base(country) + Surcharge(weightGrams) + \n",
    "           CountryAdjustment(country, weightGrams);\n",
    "\n",
    "    private static decimal Base(string country) => \n",
    "        country == \"US\" ? 3m : 5m;\n",
    "    \n",
    "    private static decimal Surcharge(int weightGrams) => \n",
    "        weightGrams > 1000 ? 4m : 0m;\n",
    "    \n",
    "    private static decimal CountryAdjustment(\n",
    "        string country, int weightGrams)\n",
    "        => (country, weightGrams) switch \n",
    "        { \n",
    "            (\"DE\", < 500) => -1m, \n",
    "            _ => 0m \n",
    "        };\n",
    "}\n",
    "```"
   ]
  },
  {
   "cell_type": "markdown",
   "id": "40",
   "metadata": {
    "slideshow": {
     "slide_type": "fragment"
    }
   },
   "source": [
    "**Improvement**: Extracted logical parts into small, pure functions."
   ]
  },
  {
   "cell_type": "markdown",
   "id": "41",
   "metadata": {
    "slideshow": {
     "slide_type": "fragment"
    }
   },
   "source": [
    "**Discussion**: \"conventionally\" speaking the code is *cleaner* now, but is it really that much easier to read?"
   ]
  },
  {
   "cell_type": "markdown",
   "id": "42",
   "metadata": {
    "slideshow": {
     "slide_type": "slide"
    }
   },
   "source": [
    "## Example 4\n",
    "\n",
    "### ❌ Before\n",
    "\n",
    "```csharp\n",
    "class UserServiceV1\n",
    "{\n",
    "    public bool Register(string e, string p)\n",
    "    {\n",
    "        if (e.Contains(\"@\") && p.Length > 5)\n",
    "        {\n",
    "            // pretend save\n",
    "            return true;\n",
    "        }\n",
    "        return false;\n",
    "    }\n",
    "}\n",
    "```"
   ]
  },
  {
   "cell_type": "markdown",
   "id": "43",
   "metadata": {},
   "source": [
    "**Question**: What happens on failure? What are the valid inputs for `e` and `p`?"
   ]
  },
  {
   "cell_type": "markdown",
   "id": "44",
   "metadata": {
    "slideshow": {
     "slide_type": "slide"
    }
   },
   "source": [
    "### 💬 Comments\n",
    "\n",
    "```csharp\n",
    "class UserServiceV1\n",
    "{\n",
    "    public bool Register(string e, string p) // -- Parameter names 'e' and 'p' are not descriptive\n",
    "    { // -- What does a false return mean? Validation failed? User already exists?\n",
    "        if (e.Contains(\"@\") && p.Length > 5) // -- Email validation is too simplistic\n",
    "        {\n",
    "            // pretend save // -- What if save fails? No error handling\n",
    "            return true;\n",
    "        }\n",
    "        return false; // -- Failure case gives no information about what went wrong\n",
    "    }\n",
    "}\n",
    "```"
   ]
  },
  {
   "cell_type": "markdown",
   "id": "45",
   "metadata": {
    "slideshow": {
     "slide_type": "fragment"
    }
   },
   "source": [
    "*Suggesting explicit error handling and proper validation to create a clear, enforceable contract.*"
   ]
  },
  {
   "cell_type": "markdown",
   "id": "46",
   "metadata": {
    "slideshow": {
     "slide_type": "subslide"
    }
   },
   "source": [
    "### ✅ After fixing the code according to comments\n",
    "\n",
    "```csharp\n",
    "class InvalidEmailException : ArgumentException { /* ... */ }\n",
    "\n",
    "static class Email\n",
    "{\n",
    "    static readonly Regex Pattern = new Regex(/* ... */);\n",
    "    \n",
    "    public static void EnsureValid(string value, string paramName)\n",
    "    {\n",
    "        if (string.IsNullOrWhiteSpace(value) || \n",
    "            !Pattern.IsMatch(value))\n",
    "            throw new InvalidEmailException(\n",
    "                \"Email format invalid\", paramName);\n",
    "    }\n",
    "}\n",
    "\n",
    "class UserServiceV2\n",
    "{\n",
    "    public void Register(string email, string password)\n",
    "    {\n",
    "        Email.EnsureValid(email, nameof(email));\n",
    "        if (string.IsNullOrWhiteSpace(password) || \n",
    "            password.Length < 6)\n",
    "            throw new ArgumentException(\n",
    "                \"Password must be at least 6 characters.\", \n",
    "                nameof(password));\n",
    "        // persist user here\n",
    "    }\n",
    "}\n",
    "```\n",
    "\n",
    "**Benefits**: Clear failure modes, explicit validation"
   ]
  },
  {
   "cell_type": "markdown",
   "id": "47",
   "metadata": {
    "slideshow": {
     "slide_type": "slide"
    }
   },
   "source": [
    "## Measuring PR Process Effectiveness\n",
    "\n",
    "### Key Metrics to Track\n",
    "- **Review time** - Time from PR creation to approval\n",
    "- **PR size** - Lines of code changed\n",
    "- **Review iterations** - Number of back-and-forth cycles\n",
    "- **Time to merge** - Complete cycle time\n",
    "\n",
    "### References\n",
    "- Benchmarks and reference values: [LinearB Engineering Benchmarks](https://linearb.io/resources/engineering-benchmarks)\n",
    "- DORA metrics: [DORA Metrics Four Keys](https://dora.dev/guides/dora-metrics-four-keys/)"
   ]
  },
  {
   "cell_type": "markdown",
   "id": "48",
   "metadata": {
    "slideshow": {
     "slide_type": "slide"
    }
   },
   "source": [
    "# Key Takeaways\n",
    "\n",
    "## For PR Authors\n",
    "\n",
    "- **Create focused PRs** - One feature/bug fix per PR\n",
    "- **Write clear descriptions** - Explain what, why, and how; include screenshots if UI changes\n",
    "- **Self-review first** - Check your own diff before asking others to review\n",
    "- **Ensure quality** - Run tests, linters, and verify CI passes\n",
    "\n",
    "## For Reviewers\n",
    "\n",
    "- **Stay in scope** - Review only what's changed in this PR\n",
    "- **Be constructive** - Suggest solutions, not just problems\n",
    "- **Consider context** - Balance \"perfect\" vs \"good enough\" based on code criticality"
   ]
  },
  {
   "cell_type": "markdown",
   "id": "49",
   "metadata": {
    "slideshow": {
     "slide_type": "notes"
    }
   },
   "source": [
    "# References\n",
    "\n",
    "[1] Bacchelli, A., & Bird, C. (2013). Characteristics of Useful Code Reviews: An Empirical Study at Microsoft. *Microsoft Research*. https://www.microsoft.com/en-us/research/wp-content/uploads/2016/02/bosu2015useful.pdf\n",
    "\n",
    "[2] Rigby, P. C., & Bird, C. (2013). Convergent Contemporary Software Peer Review Practices. *Proceedings of the 2013 9th Joint Meeting on Foundations of Software Engineering*.\n",
    "\n",
    "[3] McIntosh, S., Yasutaka, K., & Adams, B. (2014). An empirical study of the impact of modern code review practices on software quality. *Empirical Software Engineering*.\n",
    "\n",
    "[4] Sadowski, C., Söderberg, E., Church, L., Sipko, M., & Bacchelli, A. (2018). Expectations, Outcomes, and Challenges of Modern Code Review. *Proceedings of the 40th International Conference on Software Engineering*."
   ]
  }
 ],
 "metadata": {
  "kernelspec": {
   "display_name": "Python 3",
   "language": "python",
   "name": "python3"
  },
  "language_info": {
   "codemirror_mode": {
    "name": "ipython",
    "version": 3
   },
   "file_extension": ".py",
   "mimetype": "text/x-python",
   "name": "python",
   "nbconvert_exporter": "python",
   "pygments_lexer": "ipython3",
   "version": "3.13.7"
  }
 },
 "nbformat": 4,
 "nbformat_minor": 5
}
