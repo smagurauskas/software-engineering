{
 "cells": [
  {
   "cell_type": "markdown",
   "id": "044af3a7",
   "metadata": {},
   "source": [
    "# Pull Requests\n",
    "\n",
    "Pull Requests is a collaborative process of reviewing code changes before they are merged into the main code branch.\n",
    "\n",
    "Goal of code reviews is to increase code quality.\n",
    "\n",
    "Pull requests may sometimes be called \"Merge requests\" or similar names, based on the platform used."
   ]
  },
  {
   "cell_type": "markdown",
   "id": "acf44b76",
   "metadata": {},
   "source": [
    "## Pull requests\n",
    "\n",
    "Pull requests allow to get second (or even more) look on changes before they become they are merged into the main trunk. Pull requests involves other engineers looking through the submited changes and providing comments on what could potentially be improved.\n",
    "\n",
    "Pull requests (and code reviews) in general are considered one of the *best practices* in software engineering. If done correctly they can help engineering teams to prevent bugs from slipping into production and ensuring that the code will be understood in the future."
   ]
  },
  {
   "cell_type": "markdown",
   "id": "64c74650",
   "metadata": {},
   "source": [
    "### Some tips for pull requests\n",
    "\n",
    "When reviewing a pull request it is best to focus only on what was changed with changes included in this pull request. Sometimes it so happens that the pull requests highlights issues with code decisions that were made in the past. While it might be tempting to give comments on how these old changes should be reworked to better suit current situation, usually that is counter productive. It will only likely drag on the process of getting changes into production and potentially create disdain for interacting with older code.\n",
    "\n",
    "Provide suggestions for the problems that you raise. It is not that helpful for other engineer when you review the pull request and just state that \"this or that\" is wrong and should be made better. It is best if you provide actionable points on how exactly the code could be improved.\n",
    "\n",
    "Prioritise helping other learn, rather that scold. While there is some inherent friction in the pull request review process, because it is inherently asymmetrical, as a reviewer, try to make it as pleasant as possible for the reviewee. Don't go into blame games or trying to show the \"smart way of doing things\". Provide actionable solutions and focus on getting the code good enough, rather than perfect. Code usually can be infinitely optimised, but if the current code does what it is supposed to do and is sufficiently maintainable - it is probably good enough."
   ]
  },
  {
   "cell_type": "markdown",
   "id": "3418a3f9",
   "metadata": {},
   "source": [
    "## Raising PRs\n",
    "\n",
    "- Provide context what is being changed.\n",
    "- The smaller the PR - the easier it is to review it.\n",
    "- "
   ]
  },
  {
   "cell_type": "markdown",
   "id": "61333d57",
   "metadata": {},
   "source": [
    "## Reviewing PRs"
   ]
  },
  {
   "cell_type": "markdown",
   "id": "881cd260",
   "metadata": {},
   "source": [
    "- Focus on what is in the scope of the PR."
   ]
  },
  {
   "cell_type": "markdown",
   "id": "14206211",
   "metadata": {},
   "source": [
    "### Code readability\n",
    "\n",
    "One of the goals of the pull request is to make sure that the code that was produced is *readable*. By readable it means that other engineer than the author can easily understand what the code is doing. Doing this usually involves making sure that the variables, classes and methods are appropriately and descriptively named.\n",
    "\n",
    "Make sure that you as well as others will be able to understand the code well enough in the future to maintain it.\n",
    "\n",
    "A bit more on readable code: [https://blog.pragmaticengineer.com/readable-code/](https://blog.pragmaticengineer.com/readable-code/)."
   ]
  },
  {
   "cell_type": "markdown",
   "id": "6e7aa99a",
   "metadata": {},
   "source": [
    "### Example 1: Naming & Intent - Before\n",
    "\n",
    "What's wrong with this code? What does it even do?\n",
    "\n",
    "```csharp\n",
    "class U\n",
    "{\n",
    "    public int C(List<int> l)\n",
    "    {\n",
    "        var s = 0;\n",
    "        foreach (var i in l) s += i;\n",
    "        return s / l.Count;\n",
    "    }\n",
    "}\n",
    "```"
   ]
  },
  {
   "cell_type": "markdown",
   "id": "5c1f7563",
   "metadata": {},
   "source": [
    "### Example 1: Naming & Intent - After\n",
    "\n",
    "Clearer names, validation, and correct types prevent bugs and improve readability.\n",
    "\n",
    "```csharp\n",
    "static class Statistics\n",
    "{\n",
    "    public static double Average(IReadOnlyList<int> numbers)\n",
    "    {\n",
    "        if (numbers is null) throw new ArgumentNullException(nameof(numbers));\n",
    "        if (numbers.Count == 0) throw new ArgumentException(\"Sequence cannot be empty.\", nameof(numbers));\n",
    "\n",
    "        var sum = numbers.Sum();\n",
    "        return (double)sum / numbers.Count;\n",
    "    }\n",
    "}\n",
    "```"
   ]
  },
  {
   "cell_type": "markdown",
   "id": "0c5ec25b",
   "metadata": {},
   "source": [
    "Generally comments can be grouped into 2 categories:\n",
    "1. Readability related comments\n",
    "2. Code logic related comments"
   ]
  },
  {
   "cell_type": "markdown",
   "id": "877198c8",
   "metadata": {},
   "source": [
    "- https://linearb.io/resources/engineering-benchmarks Some metrics and reference values to think about when reviewing you PR process.\n"
   ]
  },
  {
   "cell_type": "markdown",
   "id": "d95c61cd",
   "metadata": {},
   "source": [
    "### Example 2: Separation of Concerns - Before\n",
    "\n",
    "How would you test this? What are the different responsibilities here?\n",
    "\n",
    "```csharp\n",
    "class OrderProc\n",
    "{\n",
    "    public decimal P(string path)\n",
    "    {\n",
    "        var json = File.ReadAllText(path);\n",
    "        var order = JsonSerializer.Deserialize<Order>(json);\n",
    "        if (order.DiscountCode == \"VIP\") return order.Amount * 0.8m;\n",
    "        return order.Amount;\n",
    "    }\n",
    "}\n",
    "\n",
    "class Order { public decimal Amount { get; set; } public string DiscountCode { get; set; } }\n",
    "```"
   ]
  },
  {
   "cell_type": "markdown",
   "id": "f5042870",
   "metadata": {},
   "source": [
    "### Example 2: Separation of Concerns - After\n",
    "\n",
    "Separating file access from pricing logic makes the code testable and easier to understand.\n",
    "\n",
    "```csharp\n",
    "static class OrderReader\n",
    "{\n",
    "    public static Order ReadFromFile(string path) =>\n",
    "        JsonSerializer.Deserialize<Order>(File.ReadAllText(path))\n",
    "        ?? throw new InvalidDataException(\"Order payload invalid\");\n",
    "}\n",
    "\n",
    "static class Pricing\n",
    "{\n",
    "    public static decimal ApplyDiscount(Order order)\n",
    "    {\n",
    "        if (order is null) throw new ArgumentNullException(nameof(order));\n",
    "        return order.DiscountCode switch\n",
    "        {\n",
    "            \"VIP\" => order.Amount * 0.8m,\n",
    "            \"EMP\" => order.Amount * 0.7m,\n",
    "            _ => order.Amount\n",
    "        };\n",
    "    }\n",
    "}\n",
    "```"
   ]
  },
  {
   "cell_type": "markdown",
   "id": "0ccb795a",
   "metadata": {},
   "source": [
    "### Example 3: Incremental Refactoring - Before\n",
    "\n",
    "This logic is hard to review. How could you make the change easier to verify in a PR?\n",
    "\n",
    "```csharp\n",
    "class ShippingCostCalculatorV1\n",
    "{\n",
    "    public decimal Calculate(string country, int weightGrams)\n",
    "    {\n",
    "        var baseCost = 5m;\n",
    "        if (country == \"US\") baseCost = 3m;\n",
    "        if (weightGrams > 1000) baseCost += 4m;\n",
    "        if (country == \"DE\" && weightGrams < 500) baseCost -= 1m;\n",
    "        return baseCost;\n",
    "    }\n",
    "}\n",
    "```"
   ]
  },
  {
   "cell_type": "markdown",
   "id": "98789378",
   "metadata": {},
   "source": [
    "### Example 3: Incremental Refactoring - After\n",
    "\n",
    "Extracting decisions into small, pure functions makes the change easy to review and test.\n",
    "\n",
    "```csharp\n",
    "class ShippingCostCalculatorV2\n",
    "{\n",
    "    public decimal Calculate(string country, int weightGrams)\n",
    "        => Base(country) + Surcharge(weightGrams) + CountryAdjustment(country, weightGrams);\n",
    "\n",
    "    private static decimal Base(string country) => country == \"US\" ? 3m : 5m;\n",
    "    private static decimal Surcharge(int weightGrams) => weightGrams > 1000 ? 4m : 0m;\n",
    "    private static decimal CountryAdjustment(string country, int weightGrams)\n",
    "        => (country, weightGrams) switch { (\"DE\", < 500) => -1m, _ => 0m };\n",
    "}\n",
    "```"
   ]
  },
  {
   "cell_type": "markdown",
   "id": "6aaad1ca",
   "metadata": {},
   "source": [
    "### Example 4: Clear Contracts - Before\n",
    "\n",
    "What happens on failure? What are the valid inputs for `e` and `p`?\n",
    "\n",
    "```csharp\n",
    "class UserServiceV1\n",
    "{\n",
    "    public bool Register(string e, string p)\n",
    "    {\n",
    "        if (e.Contains(\"@\") && p.Length > 5)\n",
    "        {\n",
    "            // pretend save\n",
    "            return true;\n",
    "        }\n",
    "        return false;\n",
    "    }\n",
    "}\n",
    "```"
   ]
  },
  {
   "cell_type": "markdown",
   "id": "fcb04350",
   "metadata": {},
   "source": [
    "### Example 4: Clear Contracts - After\n",
    "\n",
    "Exceptions and specific validation create a clear, enforceable contract.\n",
    "\n",
    "```csharp\n",
    "class InvalidEmailException : ArgumentException { /* ... */ }\n",
    "\n",
    "static class Email\n",
    "{\n",
    "    static readonly Regex Pattern = new Regex(/* ... */);\n",
    "    public static void EnsureValid(string value, string paramName)\n",
    "    {\n",
    "        if (string.IsNullOrWhiteSpace(value) || !Pattern.IsMatch(value))\n",
    "            throw new InvalidEmailException(\"Email format invalid\", paramName);\n",
    "    }\n",
    "}\n",
    "\n",
    "class UserServiceV2\n",
    "{\n",
    "    public void Register(string email, string password)\n",
    "    {\n",
    "        Email.EnsureValid(email, nameof(email));\n",
    "        if (string.IsNullOrWhiteSpace(password) || password.Length < 6)\n",
    "            throw new ArgumentException(\"Password must be at least 6 characters.\", nameof(password));\n",
    "        // persist user here\n",
    "    }\n",
    "}\n",
    "```"
   ]
  },
  {
   "cell_type": "markdown",
   "id": "145e4a08",
   "metadata": {
    "vscode": {
     "languageId": "polyglot-notebook"
    }
   },
   "source": [
    "### Comments - Why focus on them?\n",
    "\n",
    "- Comments should explain the why, constraints, and trade-offs — not restate code.\n",
    "- Next slides: a quick before/after illustrating helpful vs redundant comments."
   ]
  }
 ],
 "metadata": {
  "language_info": {
   "name": "csharp"
  }
 },
 "nbformat": 4,
 "nbformat_minor": 5
}
