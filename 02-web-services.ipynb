{
 "cells": [
  {
   "cell_type": "markdown",
   "metadata": {},
   "source": [
    "# Web Serivces\n",
    "\n",
    "## Topics\n",
    "- What are the web serivces?\n",
    "- Demo for setting up minimal web API using ASP.NET\n",
    "- Deeper look into ASP.NET\n",
    "- Controllers in ASP.NET\n",
    "- Different types of web services\n"
   ]
  },
  {
   "cell_type": "markdown",
   "metadata": {},
   "source": [
    "## What are the Web Services\n",
    "\n",
    "In short: web based application that returns information that is *typically* intended to be consumed by another application.\n",
    "\n",
    "However, for the sake of academic purposes it is worth diving deeper into the subject."
   ]
  },
  {
   "cell_type": "markdown",
   "metadata": {},
   "source": [
    "### What is Web\n",
    "\n",
    "Web is an ecosystem of standards and technologies mainly based on HTTP(S) protocol.\n",
    "\n",
    "Web is based on client-server architecture[^1]:\n",
    "1. Client opens up the TCP connection and sends a request to the server.\n",
    "2. Server responds to the request.\n",
    "\n",
    "Most common typ of a web client is an internet browser. Whenever you type an address into a web browser it sends an HTTP GET request to that server.\n",
    "\n",
    "[^1] HTTP/3 mixed up things a bit by allowing server to push resources to the client once the connection is established."
   ]
  },
  {
   "cell_type": "markdown",
   "metadata": {},
   "source": [
    "### How to define the \"service\"\n",
    "\n",
    "[Cambridge dictionary](https://dictionary.cambridge.org/dictionary/english/service) defines *service* as: “a government system or private organization that is responsible for a particular type of activity, or for providing a particular thing that people need”.\n",
    "\n",
    "When looking at the defitinition from systems perspectice, then we can say it is something that can either:\n",
    "- Gives us something that we want.\n",
    "- Performs us some action that we want."
   ]
  },
  {
   "cell_type": "markdown",
   "metadata": {},
   "source": [
    "### Web-service\n",
    "\n",
    "Web service can be loosely defined as a program that works over HTTP(s) and can be interacted with using machine-readable content types (formats).\n",
    "\n",
    "Emphasis on machine-readable. It could be said that what differentiates web-sites from web-services is that web-site is intended to be interacted with by humans and web-services is intended to be interacted with by machines."
   ]
  },
  {
   "cell_type": "markdown",
   "metadata": {},
   "source": [
    "### URL structure\n",
    "\n",
    "A sample URL `https://github.com/smagurauskas/software-engineering?something=maybe` could be deconstructed into the following parts:\n",
    "\n",
    "1. `https://` which denotes the protocol used for communication, in this case it is `https`.\n",
    "2. `github.com` which denotes domain or a host. It can be further divided into `com` being the top level domain (TLD), `github` being second level domain and so on.\n",
    "3. `smagurauskas/software-engineering` which denotes the path.\n",
    "4. `something=maybe` which denotes the query parameters. Query parameters act as key-value pairs, where `something` is the key, and `maybe` is the value. Multiple query paremeters can be provided by chaining them with the `&`.\n",
    "\n",
    "URLs are defined in the [RFC 3986](https://www.rfc-editor.org/rfc/rfc3986) memo."
   ]
  },
  {
   "cell_type": "markdown",
   "metadata": {},
   "source": [
    "## HTTP\n",
    "\n",
    "HTTP stands for HyperText Transfer Protocol. It is an application layer protocol build on top of TCP communications protocol.\n",
    "\n",
    "HTTP allows to make requests by specifying the request method, path, query parameters and various accompanying headers.\n",
    "\n",
    "Methods are typically used to identify what action should be performed on the specific resource with the request.\n",
    "Headers provide additional information like how the request should be interpreted (read), how the server should respond, authorization information and much more.\n",
    "Query allows to pass additional information for handling the request.\n",
    "\n",
    "Some of the HTTP methods can have request *bodies*. Payloads of the requests are usually provided in the request bodies."
   ]
  },
  {
   "cell_type": "markdown",
   "metadata": {},
   "source": [
    "### Sample HTTP request\n",
    "\n",
    "HTTP request in plain text looks like:\n",
    "\n",
    "```text\n",
    "GET  HTTP/1.1\n",
    "HOST: github.com\n",
    "Accept: text/html\n",
    "```\n",
    "\n",
    "Although in practice you almost never form the requests yourself, but rather use some HTTP library which abstracts most of the internals."
   ]
  },
  {
   "cell_type": "markdown",
   "metadata": {},
   "source": [
    "### HTTP methods\n",
    "\n",
    "Some of the most frequently used methods are:\n",
    "- `GET` - the \"default\" methods (at least for browsers) to retrieve the resource.\n",
    "- `POST` - method for creating a resource or invoking a command. Has body where payload can be transferred.\n",
    "- `PUT` - method for updating the resource, has a body similarly to `POST`.\n",
    "- `DELETE` - method for deleting the resource.\n",
    "- `OPTIONS` - used by browsers for CORS requests. [See more about CORS.](https://developer.mozilla.org/en-US/docs/Web/HTTP/CORS)\n",
    "\n",
    "There various other methods, each of which has their canonical meaning and use case assigned to it. Read more about them in [RFC 9110](https://www.rfc-editor.org/rfc/rfc9110.html#name-methods).\n",
    "\n",
    "HTTP Methods can be further divided into idempotent and non-idempotent methods. Idempotent methods are the methods that do not change the state of the system, meaning that they can be be safely called multiple times and same result should be received everytime (assumin nothing else change the state). Primary example of idempotent methods is `GET`. Non-idempotent methods are methods that do change the state of the system, an example would be `POST`."
   ]
  },
  {
   "cell_type": "markdown",
   "metadata": {},
   "source": [
    "## HTTPS\n",
    "\n",
    "HTTPS is an extension of HTTP with an added Transport Layer Security (TLS) which allows encryption of messages in transit. HTTPS allows encrypting HTTP requests so that only the receiver could decrypt it. If another party were to see the request in transit, then it would not be able to make any sense to it.\n",
    "\n",
    "HTTPS relies on Certificate Authorities (CA) for issuing certificates. A well known CA issues a certificate for a website and the client can check with the CA if it really did issue that certificate. This model relies on the notion that there is only a very limited amount of CAs present and unlimited amount of websites available. Operating systems *typically* come bundled with predefined list of CAs that are trusted. HTTPS client can then locally check if the certificate that was provided by the server is is correctly signed by one of the CA.\n",
    "\n",
    "[Read more on SSL/TLS here.](https://security.stackexchange.com/questions/20803/how-does-ssl-tls-work/20833#20833)"
   ]
  },
  {
   "cell_type": "markdown",
   "metadata": {},
   "source": [
    "In the past due to the fact that there are a limited amount of well known CAs, getting a HTTPS certificate used to be a quite expensive. Currently there are non-profit CAs like [Let's encrypt](https://letsencrypt.org/) which issues certificates for free.\n",
    "\n",
    "Due to certificates being so easy to obain nowadays, it is considered a bad practice not to run a production system on HTTPS."
   ]
  },
  {
   "cell_type": "markdown",
   "metadata": {},
   "source": [
    "## What is an API\n",
    "\n",
    "API stands for Application Programming Interface. Web services are considered to be APIs, but API term is not limited to web services. \n",
    "\n",
    "APIs can be created via other mechanisms than Web. An example of non Web API could be IPC mechanisms like named pipes and memory mapped file, where one process writes to file that is stored in memory and other processes can read from that file."
   ]
  },
  {
   "cell_type": "markdown",
   "metadata": {},
   "source": [
    "There is a good stack overflow answers on the topic how APIs relates to web services:\n",
    "\n",
    "> An API (Application Programming Interface) is the means by which third parties can write code that interfaces with other code. A Web Service is a type of API, one that almost always operates over HTTP (though some, like SOAP, can use alternate transports, like SMTP). The official W3C definition mentions that Web Services don't necessarily use HTTP, but this is almost always the case and is usually assumed unless mentioned otherwise.\n",
    "\n",
    "> For examples of web services specifically, see SOAP, REST, and XML-RPC. For an example of another type of API, one written in C for use on a local machine, see the Linux Kernel API.\n",
    "\n",
    "> As far as the protocol goes, a Web service API almost always uses HTTP (hence the Web part), and definitely involves communication over a network. APIs in general can use any means of communication they wish. The Linux kernel API, for example, uses Interrupts to invoke the system calls that comprise its API for calls from user space.\n",
    "\n",
    "[https://stackoverflow.com/questions/808421/api-vs-webservice/808467#808467](https://stackoverflow.com/questions/808421/api-vs-webservice/808467#808467)."
   ]
  },
  {
   "cell_type": "markdown",
   "metadata": {},
   "source": [
    "### HTTP Content types\n",
    "\n",
    "HTTP has `Content-Type` header which denotes what format (type) the content of the message is and it is used for both requests and responses.\n",
    "\n",
    "Value of `Content-Type` header is called media type or MIME type. MIME stands for Multipurpose Internet Mail Extensions. MIME types are defined in [RFC 6838](https://datatracker.ietf.org/doc/html/rfc6838).\n",
    "\n",
    "`Content-Type` header has a structure of `type/subtype`. It has additionally be follower by parameter following `;` after `subtype`.\n",
    "\n",
    "`type` generally indicates what kind of content the message is going to contain. Among other types there are such as `text` and `application`. `text` type messages are intended to be consumer by humands, as they should be human readable. `application` types are structured so that they could be consumer by other applications, although that does not prevent them being human readable, it is just that their goal is to be parseable.\n",
    "\n",
    "[More on MIME types](https://developer.mozilla.org/en-US/docs/Web/HTTP/Basics_of_HTTP/MIME_types)."
   ]
  },
  {
   "cell_type": "markdown",
   "metadata": {},
   "source": [
    "### Machine readable formats\n",
    "\n",
    "Although there are [multiple `application` types](https://www.iana.org/assignments/media-types/media-types.xhtml#application) currently most common ones are `application/json`, `application/xml` and `application/yaml`. Of these the most popular by far is `json`.\n",
    "\n",
    "See more in [tag popularity in stack overflow questions](https://trends.stackoverflow.co/?tags=json,xml,yaml)."
   ]
  },
  {
   "cell_type": "markdown",
   "metadata": {},
   "source": [
    "#### XML\n",
    "\n",
    "Stands for Stands for eXtensible Markup Language.\n",
    "\n",
    "Standard format for Web API protocols such as SOAP. But with fall in popularity of SOAP and related protocols, so fell the popularity of SOAP, and it is not as popular for new developments currently. \n",
    "\n",
    "Fall in popularity also coincides with XML not being easily deserializable into typical object oriented languages, because of it's attribute structure.\n",
    "\n",
    "XML also has accompanying standards like XSLT which allows to transform XML documents into different ones, and XSD which allows to define a schema against which the XML document can be validated."
   ]
  },
  {
   "cell_type": "markdown",
   "metadata": {},
   "source": [
    "##### XML sample\n",
    "\n",
    "```xml\n",
    "<Courses>\n",
    "    <Course name=\"Software Engineering\" description=\"...\">\n",
    "        <Subject>Web Services</Subject>\n",
    "        <Subject>APIs</Subject>\n",
    "    </Course>\n",
    "</Courses>\n",
    "```"
   ]
  },
  {
   "cell_type": "markdown",
   "metadata": {},
   "source": [
    "#### JSON\n",
    "\n",
    "Stands for JavaScript Object Notation. Native to JavaScript language, as in serialized content could be directly pasted into JS script and would work.\n",
    "\n",
    "Grew in popularity due to prevalence of JavaScript.\n",
    "\n",
    "Due to it's simplicity it is pretty easy to parse JSON files and in does not create much mental overhead."
   ]
  },
  {
   "cell_type": "markdown",
   "metadata": {},
   "source": [
    "##### JSON sample\n",
    "\n",
    "```json\n",
    "{\n",
    "    \"Courses\": \n",
    "    [\n",
    "        { \n",
    "            \"Name\": \"Software Engineering\",\n",
    "            \"Subjects\": \n",
    "            [\n",
    "                \"Web Services\",\n",
    "                \"APIs\"\n",
    "            ]\n",
    "        }\n",
    "    ]\n",
    "}\n",
    "```"
   ]
  },
  {
   "cell_type": "markdown",
   "metadata": {},
   "source": [
    "## Summary"
   ]
  },
  {
   "cell_type": "markdown",
   "metadata": {},
   "source": [
    "Web service is a program that:\n",
    "\n",
    "1. Works over HTTP(s) protocol.\n",
    "2. Exposes an interface machine readable content types that is intended to be used by other programs.\n",
    "3. Provides some kind of a service."
   ]
  }
 ],
 "metadata": {
  "kernelspec": {
   "display_name": ".NET (C#)",
   "language": "C#",
   "name": ".net-csharp"
  },
  "language_info": {
   "name": "polyglot-notebook"
  },
  "polyglot_notebook": {
   "kernelInfo": {
    "defaultKernelName": "csharp",
    "items": [
     {
      "aliases": [],
      "languageName": "csharp",
      "name": "csharp"
     }
    ]
   }
  }
 },
 "nbformat": 4,
 "nbformat_minor": 2
}
