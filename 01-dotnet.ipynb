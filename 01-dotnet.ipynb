{
 "cells": [
  {
   "cell_type": "markdown",
   "id": "0",
   "metadata": {
    "slideshow": {
     "slide_type": "slide"
    }
   },
   "source": [
    "# Quick intro into .NET Core and C#"
   ]
  },
  {
   "cell_type": "markdown",
   "id": "1",
   "metadata": {
    "slideshow": {
     "slide_type": "slide"
    }
   },
   "source": [
    "## Agenda:\n",
    "- Why C# for this course?\n",
    "- What is .NET Core?\n",
    "- C# as a virtual machine-based language\n",
    "- Common Language Runtime (CLR)\n",
    "- Memory management: Heap and Stack"
   ]
  },
  {
   "cell_type": "markdown",
   "id": "2",
   "metadata": {
    "slideshow": {
     "slide_type": "slide"
    }
   },
   "source": [
    "## Why C# for this course?\n",
    "\n",
    "- Easy to work with, especially for web development\n",
    "- Runs on all platforms\n",
    "- C# an OOP language, so it lends itself well to exploring some OOP specific concepts\n",
    "- High standardization in ecosystem helps to avoid niche issues"
   ]
  },
  {
   "cell_type": "markdown",
   "id": "3",
   "metadata": {
    "slideshow": {
     "slide_type": "slide"
    }
   },
   "source": [
    "## What is .NET Core?\n",
    "\n",
    ".NET Core is a **free**, **cross-platform** and **open-source** framework for building modern applications.\n",
    "\n",
    "ASP.NET Core is framework built on top of .NET Core, that is used for building **web applications**."
   ]
  },
  {
   "cell_type": "markdown",
   "id": "4",
   "metadata": {
    "slideshow": {
     "slide_type": "subslide"
    }
   },
   "source": [
    "### Evolution:\n",
    "- 2002: .NET Framework 1.0 (Windows-only)\n",
    "- 2012: .NET Framework 4.5 (still Windows-only)\n",
    "---\n",
    "- 2016: .NET Core 1.0 (now cross-platform and open-source)\n",
    "- 2019: .NET Core 3.0\n",
    "- 2020: .NET 5 (.NET Core version 4 is skipped, the word **core* is dropped)"
   ]
  },
  {
   "cell_type": "markdown",
   "id": "5",
   "metadata": {
    "slideshow": {
     "slide_type": "slide"
    }
   },
   "source": [
    "## C# is a Virtual Machine-Based Language\n",
    "\n",
    "C# doesn't compile directly to machine code. Instead, it follows a **two-step compilation process**:\n",
    "\n",
    "### Compilation Process:\n",
    "1. **Source Code → Intermediate Language (IL)**\n",
    "   - C# code is compiled to Common Intermediate Language (CIL/IL)\n",
    "   - IL is platform-independent bytecode\n",
    "\n",
    "2. **IL → Machine Code (Just-In-Time)**\n",
    "   - Common Language Runtime (CLR) compiles IL to native machine code\n",
    "   - Happens at runtime (JIT compilation)\n",
    "\n",
    "### Benefits:\n",
    "- **Platform independence**: Same IL runs on different operating systems\n",
    "- **Language interoperability**: Multiple .NET languages can are translated into same IL\n",
    "- **Optimization**: JIT can optimize for specific hardware at runtime"
   ]
  },
  {
   "cell_type": "markdown",
   "id": "6",
   "metadata": {
    "slideshow": {
     "slide_type": "subslide"
    }
   },
   "source": [
    "```mermaid\n",
    "graph LR\n",
    "    CSharp[C#] --> IL[Intermediate Language]\n",
    "    FSharp[F#] --> IL\n",
    "    VBNet[VB.NET] --> IL\n",
    "\n",
    "    IL --> Windows[Windows runtime]\n",
    "    IL --> Linux[Linux runtime]\n",
    "    IL --> Mac[Mac runtime]\n",
    "```"
   ]
  },
  {
   "cell_type": "markdown",
   "id": "7",
   "metadata": {
    "slideshow": {
     "slide_type": "slide"
    }
   },
   "source": [
    "## Common Language Runtime (CLR)\n",
    "\n",
    "The **CLR** is the execution environment for .NET applications. It provides:\n",
    "\n",
    "- **Just-In-Time (JIT) Compilation**: Converts IL to native machine code\n",
    "- **Memory Management**: Automatic garbage collection"
   ]
  },
  {
   "cell_type": "markdown",
   "id": "8",
   "metadata": {
    "slideshow": {
     "slide_type": "slide"
    }
   },
   "source": [
    "## Memory Management: Heap and Stack\n",
    "\n",
    ".NET applications use **two main memory areas**:\n",
    "\n",
    "### Stack Memory\n",
    "- **Fast allocation and deallocation**\n",
    "- Stores **value types** and **method call information**\n",
    "- **LIFO** (Last In, First Out) structure\n",
    "- **Automatically managed** - no garbage collection needed\n",
    "- **Thread-specific** - each thread has its own stack\n",
    "\n",
    "### Heap Memory\n",
    "- **Slower allocation, managed deallocation**\n",
    "- Stores **reference types** (objects)\n",
    "- **Garbage Collector (GC)** automatically frees unused memory\n",
    "- **Shared across threads**\n",
    "- **Generations**: Gen 0, Gen 1, Gen 2 for optimization"
   ]
  },
  {
   "cell_type": "markdown",
   "id": "9",
   "metadata": {
    "slideshow": {
     "slide_type": "slide"
    }
   },
   "source": [
    "## Automatic Garbage Collection\n",
    "\n",
    ".NET's **Garbage Collector (GC)** automatically manages heap memory:\n",
    "\n",
    "### How it works:\n",
    "1. **Allocation**: Objects are allocated in Generation 0\n",
    "2. **Collection**: When Gen 0 fills up, GC runs\n",
    "3. **Survival**: Surviving objects move to Generation 1\n",
    "4. **Promotion**: Long-lived objects eventually reach Generation 2\n",
    "\n",
    "### Benefits:\n",
    "- **No manual memory management** (no `free()` or `delete`)\n",
    "- **Memory leaks prevention** (mostly)\n",
    "- **Automatic optimization**"
   ]
  },
  {
   "cell_type": "markdown",
   "id": "10",
   "metadata": {
    "slideshow": {
     "slide_type": "slide"
    }
   },
   "source": [
    "## Strong Type System\n",
    "\n",
    "C# has a **strong, static type system** that provides:\n",
    "\n",
    "### Type Safety:\n",
    "- **Compile-time type checking**\n",
    "- **Runtime type verification**\n",
    "- **No undefined behavior** from type mismatches\n",
    "\n",
    "### Two Main Categories:\n",
    "\n",
    "#### Value Types\n",
    "- **Stored directly on stack** (when not boxed)\n",
    "- **Copy semantics** - assignment creates a copy\n",
    "- Examples: `int`, `double`, `bool`, `char`, `struct`, `enum`\n",
    "\n",
    "#### Reference Types\n",
    "- **Stored on heap**, reference on stack\n",
    "- **Reference semantics** - assignment copies the reference\n",
    "- Examples: `class`, `interface`, `delegate`, `string`, `object`, `array`"
   ]
  },
  {
   "cell_type": "markdown",
   "id": "11",
   "metadata": {
    "slideshow": {
     "slide_type": "slide"
    }
   },
   "source": [
    "## Key Takeaways\n",
    "\n",
    "- **.NET** is a cross-platform, open-source framework\n",
    "- **C#** is a **VM-based language** that compiles to Intermediate Language (IL)  \n",
    "- **Common Language Runtime (CLR)** executes the IL\n",
    "- **Memory management** uses Stack (fast, value types) and Heap (managed, reference types)  \n",
    "- **Garbage Collection** automatically manages heap memory  \n",
    "- **Strong type system** provides safety and performance  "
   ]
  }
 ],
 "metadata": {
  "language_info": {
   "name": "csharp"
  }
 },
 "nbformat": 4,
 "nbformat_minor": 5
}
