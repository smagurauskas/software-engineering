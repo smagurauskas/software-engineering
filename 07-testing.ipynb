{
 "cells": [
  {
   "cell_type": "markdown",
   "metadata": {
    "slideshow": {
     "slide_type": "slide"
    }
   },
   "source": [
    "# Testing\n",
    "\n",
    "```mermaid\n",
    "mindmap\n",
    "  root((Quality assurance))\n",
    "    (Testing)\n",
    "      Manual testing\n",
    "      Automated testing\n",
    "        Unit testing\n",
    "        Integration testing\n",
    "        E2E testing\n",
    "        ...\n",
    "    (Coding standards)\n",
    "      Static analysis\n",
    "      Linting rules\n",
    "      Style guidelines\n",
    "    (Code reviews)\n",
    "      Pull requests\n",
    "    (Other activities)\n",
    "      ...\n",
    "```\n"
   ]
  },
  {
   "cell_type": "markdown",
   "metadata": {
    "slideshow": {
     "slide_type": "skip"
    }
   },
   "source": [
    "Testing is a part of overall software quality assurance process. Testing is used to ensure that the developed software does what it is supposed to do by trying it out.\n",
    "\n",
    "Software engineers usually does testing while automated test development. Automated tests take on many forms depending on the scope of what is being tested.\n",
    "\n",
    "Automated test's scope can range from testing a single method by passing predefined inputs and expecting predefined outputs, to running a whole application, including dependencies like database, and testing that the application behaves correctly when interacted via UI."
   ]
  },
  {
   "cell_type": "markdown",
   "metadata": {
    "dotnet_interactive": {
     "language": "csharp"
    },
    "polyglot_notebook": {
     "kernelName": "csharp"
    },
    "slideshow": {
     "slide_type": "slide"
    }
   },
   "source": [
    "The most simple automated test is just a dedicated method that calls another method with predefined input, and asserts that returned results is what was expected.\n",
    "\n",
    "```csharp\n",
    "public int AddNumber(int a, int b)\n",
    "{\n",
    "    return a + b;\n",
    "}\n",
    "\n",
    "public void Test_AddNumber()\n",
    "{\n",
    "    if (AddNumber(5, 9) == 14)\n",
    "    {\n",
    "        Console.WriteLine(\"Test passed\");\n",
    "        return;\n",
    "    }\n",
    "\n",
    "    Console.WriteLine(\"Test_AddNumber failed\");\n",
    "}\n",
    "```"
   ]
  },
  {
   "cell_type": "markdown",
   "metadata": {
    "slideshow": {
     "slide_type": "subslide"
    }
   },
   "source": [
    "Usually the methods you are testing are going to have more functionality and they will have to be tested against several cases:\n",
    "\n",
    "```csharp\n",
    "public double PerformMath(string expression)\n",
    "{\n",
    "    var parts = expression.Split(' ');\n",
    "    var a = double.Parse(parts[0]);\n",
    "    var b = double.Parse(parts[2]);\n",
    "\n",
    "    switch (parts[1])\n",
    "    {\n",
    "        case \"+\":\n",
    "            return a + b;\n",
    "        case \"-\":\n",
    "            return a - b;\n",
    "        case \"*\":\n",
    "            return a * b;\n",
    "        case \"/\":\n",
    "            return a / b;\n",
    "        default:\n",
    "            throw new ArgumentException(\"Invalid operator\");\n",
    "    }\n",
    "}\n",
    "```"
   ]
  },
  {
   "cell_type": "markdown",
   "metadata": {
    "dotnet_interactive": {
     "language": "csharp"
    },
    "polyglot_notebook": {
     "kernelName": "csharp"
    },
    "slideshow": {
     "slide_type": "subslide"
    }
   },
   "source": [
    "Test methods:\n",
    "\n",
    "```csharp\n",
    "public void PerformMath_Addition_Works()\n",
    "{\n",
    "    var result = PerformMath(\"2 + 3\");\n",
    "    \n",
    "    if (result != 5)\n",
    "    {\n",
    "        throw new Exception(\"Addition failed\");\n",
    "    }\n",
    "\n",
    "    Console.WriteLine(\"Addition works\");\n",
    "}\n",
    "\n",
    "public void PerformMath_Subtraction_Works()\n",
    "{\n",
    "    var result = PerformMath(\"2 - 3\");\n",
    "    \n",
    "    if (result != -1)\n",
    "    {\n",
    "        throw new Exception(\"Subtraction failed\");\n",
    "    }\n",
    "\n",
    "    Console.WriteLine(\"Subtraction works\");\n",
    "}\n",
    "\n",
    "```"
   ]
  },
  {
   "cell_type": "markdown",
   "metadata": {
    "slideshow": {
     "slide_type": "slide"
    }
   },
   "source": [
    "## What the automated tests should be like\n",
    "\n",
    "Good automated tests are:\n",
    "- Fast to execute.\n",
    "- Predictable, meaning that there are no variations between runs.\n",
    "- Easy to understand."
   ]
  },
  {
   "cell_type": "markdown",
   "metadata": {
    "slideshow": {
     "slide_type": "skip"
    }
   },
   "source": [
    "### Fast to run tests\n",
    "\n",
    "Test should run relatively fast. The longer the tests are going to run, the less frequently engineers are going to run them. For a medium sized project ~1min to run the tests is reasonable. If the tests were to run longer, for let's say 10 minutes, then it is almost guaranteed that engineers would run them very rarely, maybe once before the pull request.\n",
    "\n",
    "The less frequently the tests are ran, the less obvious benefit they bring, so the less intrinsic motivation engineers have to maintain and expand them.\n",
    "\n",
    "Same logic applies to launching the tests. Tests should be launched with a single command. No additional commands, no additional service startups or environment preparations must be needed. The more setup tests requires, the less likely they are going to be ran because of the friction. Good tests are started with a single command and no external dependencies.\n",
    "\n",
    "However there are some possible trade-offs when the longer running test might be tolerable if thoroughly tests a large project or many smaller services."
   ]
  },
  {
   "cell_type": "markdown",
   "metadata": {
    "slideshow": {
     "slide_type": "subslide"
    }
   },
   "source": [
    "### Test predictability\n",
    "\n",
    "Tests must be predictable between runs. This means that if the code under testing was not changed and the test itself was not changed, then the outcome of the test must be always the same, regardless of how many times or when it was ran.\n",
    "\n",
    "Tests that are not predictable between runs are called *brittle*."
   ]
  },
  {
   "cell_type": "code",
   "execution_count": null,
   "metadata": {
    "language_info": {
     "name": "polyglot-notebook"
    },
    "polyglot_notebook": {
     "kernelName": "csharp"
    },
    "slideshow": {
     "slide_type": "subslide"
    }
   },
   "outputs": [],
   "source": [
    "int GetEpochTime()\n",
    "{\n",
    "    return (int)(DateTime.UtcNow - new DateTime(1970, 1, 1)).TotalSeconds;\n",
    "}\n",
    "\n",
    "void Test_GetEpochTime()\n",
    "{\n",
    "    int epochTime1 = GetEpochTime();\n",
    "    // Imagine some delay here\n",
    "    System.Threading.Thread.Sleep(100);\n",
    "    int epochTime2 = GetEpochTime();\n",
    "\n",
    "    if (epochTime2 != epochTime1)\n",
    "    {\n",
    "        Console.WriteLine(\"Test failed.\");\n",
    "    }\n",
    "    else\n",
    "    {\n",
    "        Console.WriteLine(\"Test passed.\");\n",
    "    }\n",
    "}\n",
    "\n",
    "Test_GetEpochTime();"
   ]
  },
  {
   "cell_type": "markdown",
   "metadata": {
    "slideshow": {
     "slide_type": "skip"
    }
   },
   "source": [
    "Tests usually become brittle if they are using some shared state or relying on some uncontrolled, global, variables.\n",
    "\n",
    "Examples of shared state include using a live database, shared sqlite database file or a shared real implementation of some API. This means that the tests might influence each others data and the subsequent tests can run against the data leftovers of the previous test\n",
    "\n",
    "Examples of global variables could be `DateTime.UtcNow` or similar date constructs. Because they are `static` it is difficult to mock them. On top of that they are not controllable by user, but are rather provided by the runtime. If the tests assumes that some date is always going to be future date and asserts it against some predefined date. Eventually the future will arrive and the date will become past date and the test will begin to fail. "
   ]
  },
  {
   "cell_type": "markdown",
   "metadata": {
    "slideshow": {
     "slide_type": "slide"
    }
   },
   "source": [
    "### Measuring test coverage  \n",
    "\n",
    "Test coverage percentage is used to find out how much of the code was \"touched\" by the tests during the test execution."
   ]
  },
  {
   "cell_type": "markdown",
   "metadata": {
    "slideshow": {
     "slide_type": "skip"
    }
   },
   "source": [
    "Coverage is calculated based on data collected while tests run. Line coverage measures the percentage of lines executed, and branch coverage checks if all paths in conditional statements are tested. These results are combined into a total percentage to show how many code tests cover.\n",
    "\n",
    "In .NET, test coverage can be checked using Coverlet. It creates reports automatically and shows the percentage of covered code and highlights tested and untested areas.\n",
    "\n",
    "Some parts of the code should be excluded from coverage calculation. For example, generated code, third-party libraries, trivial code like simple getters and setters, utility functions, and code related to debugging or logging. Without those parts, test coverage becomes more meaningful.  \n",
    "\n",
    "Test coverage percentage is not a very reliable metric for software quality. High coverage shows that the code runs during tests but doesn’t prove that behavior is tested correctly. However, it is quick to implement and can be useful when combined with practices like code reviews."
   ]
  },
  {
   "cell_type": "markdown",
   "metadata": {
    "slideshow": {
     "slide_type": "subslide"
    }
   },
   "source": [
    "Lines covered by the tests in the previous example are prefixed with `+`.\n",
    "\n",
    "```csharp\n",
    "public double PerformMath(string expression)\n",
    "{\n",
    "+    var parts = expression.Split(' ');\n",
    "+    var a = double.Parse(parts[0]);\n",
    "+    var b = double.Parse(parts[2]);\n",
    "\n",
    "+   switch (parts[1])\n",
    "    {\n",
    "+       case \"+\":\n",
    "+            return a + b;\n",
    "+       case \"-\":\n",
    "+            return a - b;\n",
    "        case \"*\":\n",
    "            return a * b;\n",
    "        case \"/\":\n",
    "            return a / b;\n",
    "        default:\n",
    "            throw new ArgumentException(\"Invalid operator\");\n",
    "    }\n",
    "}\n",
    "```\n",
    "\n",
    "In this example we could argue that 8 out of 14 LOC were covered by tests in the previous example so the total coverage is 8/14 ~= 57%."
   ]
  },
  {
   "cell_type": "markdown",
   "metadata": {
    "slideshow": {
     "slide_type": "slide"
    }
   },
   "source": [
    "## Why automated tests?\n",
    "\n",
    "```mermaid\n",
    "mindmap\n",
    "  root(Automated testing)\n",
    "    Goals of the automated testing\n",
    "      Increased code quality\n",
    "      Increased trust in the application\n",
    "      Increased development velocity\n",
    "```"
   ]
  },
  {
   "cell_type": "markdown",
   "metadata": {
    "slideshow": {
     "slide_type": "skip"
    }
   },
   "source": [
    "Automated tested is supposed to help quickly and repeatedly reliably determine if the code is functioning as expected. This in turn should help to increase the development velocity over time. Even if it does not look worthwhile to write tests at the beginning, because writing the tests themselves takes time, it is largely accepted that writing them pays off over sufficiently long time.\n",
    "\n",
    "The term \"*sufficiently long time*\" might be a bit ambiguous, so to put more concreteness into it: if you are guaranteed that some script you are writing is only going to be ran once and only by you, then it might not be worthwhile to write automated tests as testing manually might indeed be faster. However if it is some project that you will be working on for a month, it is most likely already worthwhile to write some automated tests for it."
   ]
  },
  {
   "cell_type": "markdown",
   "metadata": {
    "slideshow": {
     "slide_type": "skip"
    }
   },
   "source": [
    "Automated tests should tell you:\n",
    "1. Is the code being tested working as expected?\n",
    "2. If it is not working, then point you in the direction of problems.\n",
    "\n",
    "The 1st point is obvious, while the 2nd point has much more to it than it might appear at first. Firstly the failing test should indicate what part of code is not working so you would know what you should investigate. This can be done via test naming, custom failure exception messages or combination of both. Usually it is easier to do this via test names.\n",
    "\n",
    "Secondly, even if by the failing test name you know the use case that is failing, it would still be nice if the test could point you even more. This can be achieved via very clean test method code. The test code must be very legible. If the test code is very clear, then it should be very easy to trace how the assertion value that failed was acquired. Knowing the exact sequence of how the failure was produced should help you finding the source of the problem."
   ]
  },
  {
   "cell_type": "markdown",
   "metadata": {
    "slideshow": {
     "slide_type": "slide"
    }
   },
   "source": [
    "## Types of tests\n",
    "\n",
    "```mermaid\n",
    "mindmap\n",
    "  root((Quality assurance))\n",
    "    (Automated testing)\n",
    "      Unit testing\n",
    "      Integration testing\n",
    "      E2E testing\n",
    "      ...\n",
    "```"
   ]
  },
  {
   "cell_type": "markdown",
   "metadata": {
    "slideshow": {
     "slide_type": "skip"
    }
   },
   "source": [
    "### Unit tests\n",
    "\n",
    "Unit tests are testing a single unit. The definition of unit can vary a lot, it can range from single method, to the whole assembly.\n",
    "\n",
    "Whatever the size of unit is decided to be, such tests, by definition, needs to test that unit in isolation. Testing in isolation means, that all dependencies of that unit are substituted with fakes or mocks, and only the logic of that unit is tested.\n",
    "\n",
    "The upside of this is that the tests allows to isolate the source of the problem easier, because an exact failing unit is known. However, the downside is that this warrants much more tests to cover all of the needed functionality, because these tests end up being small in their scope."
   ]
  },
  {
   "cell_type": "markdown",
   "metadata": {
    "slideshow": {
     "slide_type": "skip"
    }
   },
   "source": [
    "### Integration tests\n",
    "\n",
    "Integrations tests several units at once. You could say that integration tests test how well the unit integrate with each other.\n",
    "\n",
    "In practice this means that integration test can several modules at once, or test an application together with database or with some other dependency.\n",
    "\n",
    "However it is still crucial that the dependencies used would work deterministically, which means that testing with some development or production database is not the best idea. Running a special containerized instance of the database in such case would be a better solution.\n",
    "\n",
    "In ASP.NET integration tests could be done by using `TestServer` which allows to override startup procedures of generic host applications and launch them in custom mode. THis would allow to test partially assembled application, which depending on the architecture, could be convenient."
   ]
  },
  {
   "cell_type": "markdown",
   "metadata": {
    "slideshow": {
     "slide_type": "skip"
    }
   },
   "source": [
    "### E2E tests\n",
    "\n",
    "E2E stands for end-to-end. E2E tests test all the application by running full production like environment and then interacting with the application via the UI.\n",
    "\n",
    "The upsides of such tests is that they reflect the way users will be using the application the best. In the end it doesn't matter if the `Calculator` class is implemented perfectly, if the button that is supposed to show the result does not work.\n",
    "\n",
    "Another upside is that a single test can test multiple layers and use cases of the application, so relatively little amount of such tests produce large coverage.\n",
    "\n",
    "The downside of E2E tests is that they tend to be brittle. For example changing the button label might make such tests to fail. Other downside is that such tests are not very specific in pointing engineering to the root cause of what is causing the test to fail. They can tell you that something is not working, but not exactly what."
   ]
  },
  {
   "cell_type": "markdown",
   "metadata": {
    "slideshow": {
     "slide_type": "subslide"
    }
   },
   "source": [
    "### Alternative categorization of automated tests\n",
    "\n",
    "```mermaid\n",
    "mindmap\n",
    "  root(Quality assurance)\n",
    "    Automated testing\n",
    "      Small tests\n",
    "      Medium tests\n",
    "      Large tests\n",
    "```"
   ]
  },
  {
   "cell_type": "markdown",
   "metadata": {
    "slideshow": {
     "slide_type": "slide"
    }
   },
   "source": [
    "## Test doubles\n",
    "\n",
    "```mermaid\n",
    "mindmap\n",
    "  root((Test doubles))\n",
    "    [**Fakes**\n",
    "\n",
    "        Imitates real work implementation\n",
    "    ]\n",
    "    [**Stubs**\n",
    "\n",
    "        Uses hard coded or otherwise fixed values and/or assertions\n",
    "    ]\n",
    "```"
   ]
  },
  {
   "cell_type": "markdown",
   "metadata": {
    "slideshow": {
     "slide_type": "skip"
    }
   },
   "source": [
    "In order to isolate the code under test from irrelevant dependencies test doubles can be used. Test doubles provide substitute implementation that allows the code under test to work but be more deterministic, or to force the expected scenarios or behavior."
   ]
  },
  {
   "cell_type": "markdown",
   "metadata": {
    "slideshow": {
     "slide_type": "skip"
    }
   },
   "source": [
    "### Fakes\n",
    "\n",
    "Fakes are implementations that are compatible with the real world implementations, but uses are more isolated approach that is easier to manager when testing. An example would be for repository, which in real world cases would be using database for persistance, could be substituted with the fake implementation that persists everything in memory.\n",
    "\n",
    "Such fake implementation could not be used for real world scenarios, but depending on what is being tested and fidelity of the fake implementation, it could be sufficient to test the desired use cases."
   ]
  },
  {
   "cell_type": "markdown",
   "metadata": {
    "slideshow": {
     "slide_type": "skip"
    }
   },
   "source": [
    "### Stubs\n",
    "\n",
    "Stubs (might also be called *mocking*) provide predefined \"stubbed\" implementations for dependencies. For example with the same repository which in real cases uses database for persistence, the stubbed repository could simply return `Task.CompletedTask` from save method, and return a single hardcoded value when trying to get all records.\n",
    "\n",
    "Stubs can also be set up to verify certain conditions, such as that `Save` method was called exactly once on the stubbed class. However this should be done with caution, as using this incorrectly could lead to testing the way class was implemented and not what it does.\n",
    "\n",
    "In .NET packages like `Moq` could be used to help with this. "
   ]
  },
  {
   "cell_type": "markdown",
   "metadata": {
    "slideshow": {
     "slide_type": "slide"
    }
   },
   "source": [
    "## Testing pyramid\n",
    "\n",
    "![Testing pyramid](assets/testing_pyramid.png)"
   ]
  },
  {
   "cell_type": "markdown",
   "metadata": {
    "slideshow": {
     "slide_type": "skip"
    }
   },
   "source": [
    "Testing pyramid is an example model for how amounts of different test types should be distributed.\n",
    "\n",
    "The basis should be the unit tests, which should make up the majority of all tests. Rationale being that they are quick to write (1 test) and high signal.\n",
    "\n",
    "Middle part should be integration tests.\n",
    "\n",
    "And the smallest part should be the E2E tests."
   ]
  },
  {
   "cell_type": "markdown",
   "metadata": {
    "slideshow": {
     "slide_type": "subslide"
    }
   },
   "source": [
    "### Testing diamond\n",
    "\n",
    "![Testing diamond](assets/testing_diamond.png)"
   ]
  },
  {
   "cell_type": "markdown",
   "metadata": {
    "slideshow": {
     "slide_type": "skip"
    }
   },
   "source": [
    "Testing diamond is an alternative model to testing pyramid.\n",
    "\n",
    "Testing diamond suggests that integration tests should make up the majority of all tests.\n",
    "\n",
    "Rationale in this case is that while they might be more compliated to write than unit tests, they also cover larger surface area. In this model, one would argue that integration tests provide \"better certainty\" per \"time invested\"."
   ]
  },
  {
   "cell_type": "markdown",
   "metadata": {
    "slideshow": {
     "slide_type": "slide"
    }
   },
   "source": [
    "## Tests cannot ensure 100% quality\n",
    "\n",
    "![Test coverage vs cost](assets/test_coverage_vs_cost.png)"
   ]
  },
  {
   "cell_type": "markdown",
   "metadata": {
    "slideshow": {
     "slide_type": "skip"
    }
   },
   "source": [
    "Tests can only ensure that only what was tested works. It is increasingly difficult to cover 100% of application in tests. This difficulty makes it economically impractical to strive for such coverage in most cases."
   ]
  },
  {
   "cell_type": "markdown",
   "metadata": {
    "slideshow": {
     "slide_type": "skip"
    }
   },
   "source": [
    "There are always going to be additional freaky argument pair that was not tested. Just because `\"2 + 3\"` argument worked in the last example, you cannot be 100% guaranteed that `\"2 + 4\"` will work.\n",
    "\n",
    "However you can decide to be confident that if `\"2 + 4\"`, `\"4 + 4\"`, and `\"4 + 3\"` works, then maybe all other addition operation are going to work as well.\n",
    "\n",
    "The more tests you write and more cases you cover - the more you can be certain that all possible cases work as well. However each test requires investment to write and maintain. You need to decide when you are confident enough with the existing tests and it is no longer worth the price to introduce more tests."
   ]
  },
  {
   "cell_type": "markdown",
   "metadata": {
    "slideshow": {
     "slide_type": "slide"
    }
   },
   "source": [
    "## Frameworks\n",
    "\n",
    "```mermaid\n",
    "mindmap\n",
    "  root((Testing frameworks))\n",
    "    Python\n",
    "      PyTest\n",
    "      Unittest\n",
    "      Nose2\n",
    "    JavaScript\n",
    "      Jest\n",
    "      Mocha\n",
    "      Jasmine\n",
    "    Java\n",
    "      JUnit\n",
    "      TestNG\n",
    "      Mockito\n",
    "    C#\n",
    "      NUnit\n",
    "      MSTest\n",
    "      xUnit\n",
    "\n",
    "```"
   ]
  },
  {
   "cell_type": "markdown",
   "metadata": {
    "slideshow": {
     "slide_type": "skip"
    }
   },
   "source": [
    "Frameworks are used to discover and run tests defined in certain assembly. After the test run finishes, then the framework provides the statistics about the test run. However in order for test framework to work, you have to write tests in manner in which the testing framework expects.\n",
    "\n",
    ".NET CLI prepacked with with `MSTest`, `NUnit` and `xUnit` testing framework templates. This notebook will focus on `xUnit`, however other options are solid choices as well, and will most likely suit all your needs."
   ]
  },
  {
   "cell_type": "markdown",
   "metadata": {
    "slideshow": {
     "slide_type": "skip"
    }
   },
   "source": [
    "### xUnit\n",
    "\n",
    "#### Creating testing project\n",
    "\n",
    "`dotnet new xunit` will create a new testing project, that will use the `xUnit` project for testing.\n",
    "\n",
    "#### Defining test case\n",
    "\n",
    "`[Fact]` attribute denotes the method as a test method. Such method would test a single condition.\n",
    "\n",
    "```csharp\n",
    "[Fact]\n",
    "public void Addition_2Plus6_Equals8()\n",
    "{\n",
    "    var calculator = new Calculator();\n",
    "    var result = calculator.Calculate(\"2 + 6\");\n",
    "\n",
    "    Assert.Equals(8, result);\n",
    "}\n",
    "```\n",
    "\n",
    "#### Multiple test cases with single method\n",
    "\n",
    "`[Theory]` attribute can be used to run the same test against multiple inputs. In this case test method must also accept arguments, these arguments are passed using `[InlineData]` or similar method.\n",
    "\n",
    "```csharp\n",
    "[Theory]\n",
    "[InlineData(1, 2, 3)]\n",
    "[InlineData(2, 5, 7)]\n",
    "[InlineData(5, 5, 10)]\n",
    "public void Addition_2Numbers_EqualsExpectedResult(int firstNumber, int secondNumber, int expectedResult)\n",
    "{\n",
    "    var calculator = new Calculator();\n",
    "    var result = calculator.Calculate($\"{firstNumber} + ${secondNumber}\");\n",
    "\n",
    "    Assert.Equals(expectedResult, result);\n",
    "}\n",
    "```\n",
    "\n",
    "In this example this one method definition would create 3 different test cases. Arguments in passed via `[InlineData]` must match those that the theory method accepts."
   ]
  },
  {
   "cell_type": "markdown",
   "metadata": {
    "slideshow": {
     "slide_type": "slide"
    }
   },
   "source": [
    "## Test behavior, not implementation\n",
    "\n",
    "Test how the class behaves against it's public interface. Not how it uses it's dependencies or how it manages it's internals.\n",
    "\n",
    "Good:\n",
    "```csharp\n",
    "public void Test_List_CountsCorrectly() {\n",
    "    var list = new List<int>();\n",
    "    list.Add(123);\n",
    "\n",
    "    Assert.Equals(1, list.Count());\n",
    "}\n",
    "```\n",
    "\n",
    "Bad:\n",
    "```csharp\n",
    "public void Test_List_CountsCorrectly() {\n",
    "    var list = new List<int>();\n",
    "    list.Add(123);\n",
    "\n",
    "    var size = GetFieldViaReflection<int>(list, \"_size\");\n",
    "    Assert.Equals(1, size);\n",
    "}\n",
    "```"
   ]
  },
  {
   "cell_type": "markdown",
   "metadata": {
    "slideshow": {
     "slide_type": "subslide"
    }
   },
   "source": [
    "For a more elaborate example - consider the following class, which can save a record to the database using `Entity Framework` and also select from the database using it as well:\n",
    "\n",
    "```csharp\n",
    "public class StudentRepository\n",
    "{\n",
    "    private readonly IDbContext _dbContext;\n",
    "\n",
    "    public StudentRepository(IDbContext dbContext)\n",
    "    {\n",
    "        _dbContext = dbContext;\n",
    "    }\n",
    "\n",
    "    public void Save(Student student)\n",
    "    {\n",
    "        _dbContext.Students.Add(student);\n",
    "        await _dbContext.SaveChanges();\n",
    "    }\n",
    "\n",
    "    public List<Student> GetAll()\n",
    "    {\n",
    "        return _dbContext.Students.ToList();\n",
    "    }\n",
    "}\n",
    "```"
   ]
  },
  {
   "cell_type": "markdown",
   "metadata": {
    "slideshow": {
     "slide_type": "subslide"
    }
   },
   "source": [
    "**Bad example** where the underlying state is tested:\n",
    "\n",
    "```csharp\n",
    "[Fact]\n",
    "public void Save_PersistsStudent()\n",
    "{\n",
    "    var fakeDbContext = CreateFakeDbContext();\n",
    "    var studentRepository = new StudentRepository(fakeDbContext);\n",
    "\n",
    "    var id = Guid.NewGuid();\n",
    "    studentRepository.Save(new Student { Id = id });\n",
    "\n",
    "    Assert.True(fakeDbContext.Students.Any(s => s.Id == id));\n",
    "}\n",
    "```"
   ]
  },
  {
   "cell_type": "markdown",
   "metadata": {
    "slideshow": {
     "slide_type": "skip"
    }
   },
   "source": [
    "The example above does white-box testing and it tests the way how the `StudentRepository` class is implemented rather than what it does. If the underlying implementation of `StudentRepository` class was changed to use some other ORM, then this class would break, although from the user's perspective the behavior would remain the same."
   ]
  },
  {
   "cell_type": "markdown",
   "metadata": {
    "slideshow": {
     "slide_type": "subslide"
    }
   },
   "source": [
    "**Better example** of how to test such case:\n",
    "\n",
    "```csharp\n",
    "[Fact]\n",
    "public void Save_PersistsStudent()\n",
    "{\n",
    "    var fakeDbContext = CreateFakeDbContext();\n",
    "    var studentRepository = new StudentRepository(fakeDbContext);\n",
    "\n",
    "    var id = Guid.NewGuid();\n",
    "    studentRepository.Save(new Student { Id = id });\n",
    "\n",
    "    var students = studentRepository.GetAll();\n",
    "\n",
    "    Assert.True(students.Any(s => s.Id == id));\n",
    "}\n",
    "```"
   ]
  },
  {
   "cell_type": "markdown",
   "metadata": {
    "slideshow": {
     "slide_type": "skip"
    }
   },
   "source": [
    "In this case the tests asserts against the output of public interface of the class. It tests the behavior that after saving, the method that returns all students will return the newly saved student as well. This is black-box testing approach, where you ignore the implementation details and only test against the public interface of the class.\n",
    "\n",
    "When tested like this, it allows for the implementation details of the class to change, without needing to update the tests."
   ]
  },
  {
   "cell_type": "markdown",
   "metadata": {
    "slideshow": {
     "slide_type": "skip"
    }
   },
   "source": [
    "### Integration testing in ASP.NET\n",
    "\n",
    "ASP.NET provides `TestServer` feature, which could be used to develop integration tests against the ASP.NET API.\n",
    "\n",
    "To start off add package to the xUnit project:\n",
    "\n",
    "```\n",
    "dotnet add package Microsoft.AspNetCore.Mvc.Testing\n",
    "```\n",
    "\n",
    "Add class fixture to the test class:\n",
    "\n",
    "```csharp\n",
    ": IClassFixture<WebApplicationFactory<Program>>\n",
    "```\n",
    "\n",
    "`Program` class must be the startup class of the web API that you want to test. If the `Program` class created implicitly, then it will have insufficient accessibility to be reached by other assemblies by default. In such case an additional `public partial` class will have be added to the `Program.cs` file : `public partial class Program { }`.\n",
    "\n",
    "Wire up everything in constructor:\n",
    "\n",
    "```csharp\n",
    "public UnitTest1(WebApplicationFactory<Program> factory)\n",
    "{\n",
    "    _factory = factory;\n",
    "    _client = factory.CreateClient(new WebApplicationFactoryClientOptions\n",
    "    {\n",
    "        AllowAutoRedirect = false\n",
    "    });\n",
    "}\n",
    "```\n",
    "\n",
    "Now inside the test `_client` can be used to make HTTP requests against the running server."
   ]
  },
  {
   "cell_type": "markdown",
   "metadata": {
    "slideshow": {
     "slide_type": "skip"
    }
   },
   "source": [
    "## Assertions\n",
    "\n",
    "Assertions are used to ensure that the code under test performed what was expected of it. Testing libraries provide various assertion methods that can be used to verify states of the objects. If the assertion fails, then the assertion method usually throws an exception (typically specific to that testing framework)\n",
    "\n",
    "It is considered a good practice to assert on the public contracts of classes and not on their internal implementations."
   ]
  },
  {
   "cell_type": "markdown",
   "metadata": {
    "slideshow": {
     "slide_type": "slide"
    }
   },
   "source": [
    "## Test method structure \n",
    "\n",
    "Tests methods tend to follow a certain structure within the test.\n",
    "\n",
    "Most common structure is like this:\n",
    "1. Arrange the classes, data and dependencies for test.\n",
    "2. Act the test - execute the methods under testing.\n",
    "3. Assert that the results is what was expected.\n",
    "\n",
    "Some guidelines suggest that these blocks should be followed within the methods as much possible."
   ]
  },
  {
   "cell_type": "markdown",
   "metadata": {
    "slideshow": {
     "slide_type": "slide"
    }
   },
   "source": [
    "## Test naming conventions\n",
    "\n",
    "There are multiple naming conventions to choose from, and it is also possible not to have one at all and still have sensible test names.\n",
    "\n",
    "However, one of the more popular conventions is to use 3 part name identifiers: \n",
    "\n",
    "1. Name of the method being tested.\n",
    "2. Scenario which is being tested.\n",
    "3. Expected outcome.\n",
    "\n",
    "`public void RegisterUser_EmailIsAlreadyTaken_ThrowAnException()`."
   ]
  },
  {
   "cell_type": "markdown",
   "metadata": {
    "slideshow": {
     "slide_type": "skip"
    }
   },
   "source": [
    "## Sample project for testing\n",
    "\n",
    "For the following examples, a very minimal project will be used.\n",
    "\n",
    "- The project is an API for a learning app\n",
    "- User is given an list of words in one language, and then the user has to translate these words into another language.\n",
    "- If all words are translated correctly, then user is awared some amount of experience.\n",
    "- User can check how much experience it has.\n",
    "\n",
    "Authorization part is mostly skipped and user just identifies by providing email address."
   ]
  },
  {
   "cell_type": "markdown",
   "metadata": {
    "slideshow": {
     "slide_type": "skip"
    }
   },
   "source": [
    "Code for the sample project:\n",
    "\n",
    "```csharp\n",
    "var builder = WebApplication.CreateBuilder(args);\n",
    "\n",
    "builder.Services.AddSingleton<IUserRepository>(new JsonFileUserRepository(\"users.json\"));\n",
    "builder.Services.AddSingleton<GameService>();\n",
    "builder.Services.AddSingleton<UserService>();\n",
    "\n",
    "var app = builder.Build();\n",
    "\n",
    "app.UseHttpsRedirection();\n",
    "app.MapPost(\n",
    "    \"/start-game\",\n",
    "    (GameService gameService, string playerEmail) =>\n",
    "    {\n",
    "        var response = gameService.StartGame(playerEmail);\n",
    "        return Results.Ok(response);\n",
    "    }\n",
    ");\n",
    "app.MapPost(\n",
    "    \"/complete-game\",\n",
    "    (GameService gameService, string playerEmail, string[] translatedWords) =>\n",
    "    {\n",
    "        var response = gameService.CompleteGame(playerEmail, translatedWords);\n",
    "        return Results.Ok(response);\n",
    "    }\n",
    ");\n",
    "app.MapGet(\n",
    "    \"/user\",\n",
    "    (UserService userService, string email) =>\n",
    "    {\n",
    "        var user = userService.GetUserByEmail(email);\n",
    "        if (user != null)\n",
    "        {\n",
    "            return Results.Ok(user);\n",
    "        }\n",
    "        else\n",
    "        {\n",
    "            return Results.NotFound();\n",
    "        }\n",
    "    }\n",
    ");\n",
    "\n",
    "app.Run();\n",
    "\n",
    "class User\n",
    "{\n",
    "    public required string Email { get; set; }\n",
    "    public required int Experience { get; set; }\n",
    "}\n",
    "\n",
    "class Game\n",
    "{\n",
    "    public required string PlayerEmail { get; set; }\n",
    "    public required int ExperienceReward { get; set; }\n",
    "    public required string[] WordsToTranslate { get; set; }\n",
    "}\n",
    "\n",
    "record StartGameResponse(string[] WordsToTranslate);\n",
    "\n",
    "record CompleteGameResponse(bool Success, int ExperienceGained);\n",
    "\n",
    "class GameService\n",
    "{\n",
    "    private static readonly List<Game> ActiveGames = new();\n",
    "    private static readonly Dictionary<string, string> WordBank = new()\n",
    "    {\n",
    "        [\"hello\"] = \"hallo\",\n",
    "        [\"world\"] = \"welt\",\n",
    "        [\"example\"] = \"beispiel\",\n",
    "        [\"computer\"] = \"computer\",\n",
    "        [\"programming\"] = \"programmierung\",\n",
    "        [\"language\"] = \"sprache\",\n",
    "        [\"game\"] = \"spiel\",\n",
    "    };\n",
    "\n",
    "    private readonly IUserRepository _userRepository;\n",
    "\n",
    "    public GameService(IUserRepository userRepository)\n",
    "    {\n",
    "        _userRepository = userRepository;\n",
    "    }\n",
    "\n",
    "    public StartGameResponse StartGame(string playerEmail)\n",
    "    {\n",
    "        var wordsToTranslate = WordBank\n",
    "            .Select(kvp => kvp.Key)\n",
    "            .OrderBy(x => Guid.NewGuid())\n",
    "            .Take(3)\n",
    "            .ToArray();\n",
    "        ActiveGames.RemoveAll(g => g.PlayerEmail == playerEmail);\n",
    "        ActiveGames.Add(\n",
    "            new Game\n",
    "            {\n",
    "                PlayerEmail = playerEmail,\n",
    "                WordsToTranslate = wordsToTranslate,\n",
    "                ExperienceReward = 0,\n",
    "            }\n",
    "        );\n",
    "\n",
    "        return new StartGameResponse(wordsToTranslate);\n",
    "    }\n",
    "\n",
    "    public CompleteGameResponse CompleteGame(string playerEmail, string[] translatedWords)\n",
    "    {\n",
    "        var game = ActiveGames.FirstOrDefault(g => g.PlayerEmail == playerEmail);\n",
    "\n",
    "        if (\n",
    "            game != null\n",
    "            && translatedWords.SequenceEqual(game.WordsToTranslate.Select(w => WordBank[w]))\n",
    "        )\n",
    "        {\n",
    "            var userService = new UserService(_userRepository);\n",
    "            userService.AddExperience(playerEmail, game.ExperienceReward);\n",
    "            ActiveGames.RemoveAll(g => g.PlayerEmail == playerEmail);\n",
    "            return new CompleteGameResponse(true, game.ExperienceReward);\n",
    "        }\n",
    "        else\n",
    "        {\n",
    "            return new CompleteGameResponse(false, 0);\n",
    "        }\n",
    "    }\n",
    "}\n",
    "\n",
    "class UserService\n",
    "{\n",
    "    private readonly IUserRepository _userRepository;\n",
    "\n",
    "    public UserService(IUserRepository userRepository)\n",
    "    {\n",
    "        _userRepository = userRepository;\n",
    "    }\n",
    "\n",
    "    public void AddExperience(string email, int experienceToAdd)\n",
    "    {\n",
    "        var user = _userRepository.FindByEmail(email);\n",
    "        if (user == null)\n",
    "        {\n",
    "            user = new User { Email = email, Experience = 0 };\n",
    "        }\n",
    "\n",
    "        user.Experience += experienceToAdd;\n",
    "        _userRepository.AddOrUpdate(user);\n",
    "    }\n",
    "\n",
    "    public User? GetUserByEmail(string email)\n",
    "    {\n",
    "        return _userRepository.FindByEmail(email);\n",
    "    }\n",
    "}\n",
    "\n",
    "interface IUserRepository\n",
    "{\n",
    "    User? FindByEmail(string email);\n",
    "    void AddOrUpdate(User user);\n",
    "}\n",
    "\n",
    "class JsonFileUserRepository : IUserRepository\n",
    "{\n",
    "    private readonly string _filePath;\n",
    "\n",
    "    public JsonFileUserRepository(string filePath)\n",
    "    {\n",
    "        _filePath = filePath;\n",
    "    }\n",
    "\n",
    "    public User? FindByEmail(string email)\n",
    "    {\n",
    "        var json = File.ReadAllText(_filePath);\n",
    "        var users = System.Text.Json.JsonSerializer.Deserialize<List<User>>(json);\n",
    "        return users?.FirstOrDefault(u => u.Email == email);\n",
    "    }\n",
    "\n",
    "    public void AddOrUpdate(User user)\n",
    "    {\n",
    "        var json = File.ReadAllText(_filePath);\n",
    "        var users =\n",
    "            System.Text.Json.JsonSerializer.Deserialize<List<User>>(json) ?? new List<User>();\n",
    "        users.RemoveAll(u => u.Email == user.Email);\n",
    "        users.Add(user);\n",
    "        File.WriteAllText(_filePath, System.Text.Json.JsonSerializer.Serialize(users));\n",
    "    }\n",
    "}\n",
    "```\n"
   ]
  },
  {
   "cell_type": "markdown",
   "metadata": {
    "slideshow": {
     "slide_type": "skip"
    }
   },
   "source": [
    "### Testing excercises\n",
    "\n",
    "1. When user was not added to `JsonFileUserRepository`, then `FindByEmail` would return `null`.\n",
    "1. User saved in `JsonFileRepository` can be retrieved back via `FindByEmail`.\n",
    "1. Invoking `AddExperience` on `UserService` increases the experience by the provided amount.\n",
    "1. Negative amount of experience should not be allowed to be added.\n",
    "1. Completing a game with correct sequence of words awards experience.\n",
    "1. Completing a game with incorrect sequence of words awards no experience.\n",
    "1. Resubmiting game completion does not award experience twice.\n",
    "1. Starting new game invalidates previously initialized game.\n",
    "1. After starting a game and then completing it via HTTP request, the increased experience amount can be observed.\n",
    "\n",
    "For some of the excercises the code will not be naturally testable as it is and some modifications will have to be made."
   ]
  },
  {
   "cell_type": "markdown",
   "metadata": {
    "slideshow": {
     "slide_type": "slide"
    }
   },
   "source": [
    "# Additional reading\n",
    "\n",
    "- https://madeintandem.com/blog/five-factor-testing/ - Practical reasons to write tests."
   ]
  }
 ],
 "metadata": {
  "kernelspec": {
   "display_name": ".NET (C#)",
   "language": "C#",
   "name": ".net-csharp"
  },
  "language_info": {
   "name": "polyglot-notebook"
  },
  "polyglot_notebook": {
   "kernelInfo": {
    "defaultKernelName": "csharp",
    "items": [
     {
      "aliases": [],
      "languageName": "csharp",
      "name": "csharp"
     }
    ]
   }
  }
 },
 "nbformat": 4,
 "nbformat_minor": 2
}
