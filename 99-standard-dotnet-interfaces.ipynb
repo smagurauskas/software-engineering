{
 "cells": [
  {
   "cell_type": "markdown",
   "metadata": {},
   "source": [
    "# Standard interfaces in .NET\n",
    "\n",
    "Some of the standard interfaces in .NET and what purpose they serve in .NET and C#. Most of such interface also have older, non-generic, versions, but the generic versions should be used where possible."
   ]
  },
  {
   "cell_type": "markdown",
   "metadata": {},
   "source": [
    "## `IEquatable<T>`\n",
    "\n",
    "`IEquatable<T>` has methods to the object equality. It is used by some other classes in the .NET framework, like `Dictionary<T>` or `List<T>`.\n",
    "\n",
    "When implementing the `IEquatable<T>` interface, the `Equals` and `GetHashCode` methods, which are implicitly inherited from the `object` base class, should be overridden as well, to provide consistent behavior."
   ]
  },
  {
   "cell_type": "code",
   "execution_count": null,
   "metadata": {
    "vscode": {
     "languageId": "polyglot-notebook"
    }
   },
   "outputs": [],
   "source": [
    "class Student : IEquatable<Student>\n",
    "{\n",
    "    public string Name { get; set; }\n",
    "    public string IdNumber { get; set; }\n",
    "\n",
    "    // Comes from IEquatable<Student>\n",
    "    public bool Equals(Student other)\n",
    "    {\n",
    "        if (other == null) return false;\n",
    "\n",
    "        // In this case, we say that if the IdNumber matches, then 2 student objects are identical\n",
    "        // Name does not matter in this case\n",
    "        return IdNumber.Equals(other.IdNumber);\n",
    "    }\n",
    "\n",
    "    // Overridden so the behavior would match that of Equals(Student)\n",
    "    public override int GetHashCode()\n",
    "    {\n",
    "        return IdNumber.GetHashCode();\n",
    "    }\n",
    "\n",
    "    // Overridden so the behavior would match that of Equals(Student) and use it as well\n",
    "    public override bool Equals(object obj)\n",
    "    {\n",
    "        if (obj == null) return false;\n",
    "\n",
    "        Student studentObj = obj as Student;\n",
    "        if (studentObj == null) return false;\n",
    "        else return Equals(studentObj);\n",
    "    }\n",
    "}"
   ]
  },
  {
   "cell_type": "code",
   "execution_count": null,
   "metadata": {
    "vscode": {
     "languageId": "polyglot-notebook"
    }
   },
   "outputs": [],
   "source": [
    "// Student names differ, but Id matches:\n",
    "var student1 = new Student { Name = \"John Doe\", IdNumber = \"12345\" };\n",
    "var student2 = new Student { Name = \"Jane Doe\", IdNumber = \"12345\" };"
   ]
  },
  {
   "cell_type": "code",
   "execution_count": null,
   "metadata": {
    "vscode": {
     "languageId": "polyglot-notebook"
    }
   },
   "outputs": [],
   "source": [
    "var list = new List<Student> { student1 };\n",
    "\n",
    "Console.WriteLine(list.Contains(student2));"
   ]
  },
  {
   "cell_type": "code",
   "execution_count": null,
   "metadata": {
    "vscode": {
     "languageId": "polyglot-notebook"
    }
   },
   "outputs": [],
   "source": [
    "var dictionary = new Dictionary<Student, string> { { student1, \"my value\" } };\n",
    "\n",
    "// Dictionary uses the GetHashCode() method to check for key equality,\n",
    "// but it was overridden to use match Equals(Student) instead\n",
    "Console.WriteLine(dictionary.ContainsKey(student2));\n",
    "Console.WriteLine(dictionary[student2]);"
   ]
  },
  {
   "cell_type": "code",
   "execution_count": null,
   "metadata": {
    "vscode": {
     "languageId": "polyglot-notebook"
    }
   },
   "outputs": [],
   "source": [
    "var hashSet = new HashSet<Student>();\n",
    "\n",
    "hashSet.Add(student1);\n",
    "hashSet.Add(student2);\n",
    "\n",
    "// HashSet uses GetHashCode(), but since it was overridden it works consistently with Equals()\n",
    "Console.WriteLine(hashSet.Count);"
   ]
  },
  {
   "cell_type": "markdown",
   "metadata": {},
   "source": [
    "## `IComparable<T>`\n",
    "\n",
    "`IComparable<T>` allows to compare objects. It is used in cases like ordering in `Linq` or classes like `SortedList`.\n",
    "\n",
    "`IComparable<T>` defines method `public int CompareTo(T other)`, which return `int`.\n",
    "\n",
    "`int` shall have such return value:\n",
    "- `<0` when `this < other`\n",
    "- `=0` when `this == other`\n",
    "- `>0` when `this > other`"
   ]
  },
  {
   "cell_type": "code",
   "execution_count": null,
   "metadata": {
    "vscode": {
     "languageId": "polyglot-notebook"
    }
   },
   "outputs": [],
   "source": [
    "class Student : IComparable<Student>\n",
    "{\n",
    "    public string Name { get; set; }\n",
    "    public string IdNumber { get; set; }\n",
    "\n",
    "    // Comes from IComparable<Student> interface\n",
    "    public int CompareTo(Student other)\n",
    "    {\n",
    "        // In this case the students would be sorted by their names\n",
    "        return Name.CompareTo(other.Name);\n",
    "    }   \n",
    "}"
   ]
  },
  {
   "cell_type": "code",
   "execution_count": null,
   "metadata": {
    "vscode": {
     "languageId": "polyglot-notebook"
    }
   },
   "outputs": [],
   "source": [
    "var student1 = new Student { Name = \"John Doe\", IdNumber = \"12345\" };\n",
    "var student2 = new Student { Name = \"Adeline Doe\", IdNumber = \"22345\" };\n",
    "var student3 = new Student { Name = \"John Doe\", IdNumber = \"32345\" };\n",
    "\n",
    "// J > A, so student1 is \"greater\" than student2\n",
    "Console.WriteLine(student1.CompareTo(student2));\n",
    "\n",
    "// And sensible reverse\n",
    "Console.WriteLine(student2.CompareTo(student1));\n",
    "\n",
    "// Same names, so 0\n",
    "Console.WriteLine(student1.CompareTo(student3));"
   ]
  },
  {
   "cell_type": "code",
   "execution_count": null,
   "metadata": {
    "vscode": {
     "languageId": "polyglot-notebook"
    }
   },
   "outputs": [],
   "source": [
    "var list = new List<Student> { student1, student2, student3 };\n",
    "\n",
    "list.Order().DisplayTable();"
   ]
  }
 ],
 "metadata": {
  "kernelspec": {
   "display_name": ".NET (C#)",
   "language": "C#",
   "name": ".net-csharp"
  },
  "language_info": {
   "name": "csharp"
  },
  "polyglot_notebook": {
   "kernelInfo": {
    "defaultKernelName": "csharp",
    "items": [
     {
      "aliases": [],
      "name": "csharp"
     }
    ]
   }
  }
 },
 "nbformat": 4,
 "nbformat_minor": 2
}
