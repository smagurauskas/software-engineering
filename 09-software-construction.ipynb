{
 "cells": [
  {
   "cell_type": "markdown",
   "metadata": {
    "slideshow": {
     "slide_type": "slide"
    }
   },
   "source": [
    "# Software Construction\n",
    "\n",
    "As taken from SWEBOK:\n",
    ">Software construction refers to the detailed creation and maintenance of software through coding, verification, unit testing, integration testing and debugging."
   ]
  },
  {
   "cell_type": "markdown",
   "metadata": {
    "slideshow": {
     "slide_type": "skip"
    }
   },
   "source": [
    "This notebook explores the software construction in general. Software construction process is based on how SWEBOK describes it. However, because software construction doesn't happen in a vacuum, adjacent business areas and how they relate to software engineering will be explored as well.\n",
    "\n",
    "In places where it is relevant, common industry practices are inserted. It is not meant to describe the definitive or best way how the software can be constructed, but rather just to introduce some of the most common practices and rationale behind time."
   ]
  },
  {
   "cell_type": "markdown",
   "metadata": {
    "slideshow": {
     "slide_type": "slide"
    }
   },
   "source": [
    "## SWEBOK\n",
    "\n",
    "**SWEBOK** stands for **S**oft**w**are **E**ngineering **B**ody **o** **K**nowledge. It refers to all common knowledge that exists about the software engineering discipline.\n",
    "\n",
    "\"*SWEBOK Guide*\" is a book that provides an organized overview of that knowledge"
   ]
  },
  {
   "cell_type": "markdown",
   "metadata": {
    "slideshow": {
     "slide_type": "slide"
    }
   },
   "source": [
    "## Software development process\n",
    "\n",
    "In a simplified view the software development process can be broken down into 3 major steps:\n",
    "\n",
    "```mermaid\n",
    "flowchart LR\n",
    "    requirements(Define the requirements)\n",
    "    development(Develop the software)\n",
    "    maintenance(Maintain the software)\n",
    "\n",
    "    requirements --> development\n",
    "    development --> maintenance\n",
    "```"
   ]
  },
  {
   "cell_type": "markdown",
   "metadata": {
    "dotnet_interactive": {
     "language": "csharp"
    },
    "polyglot_notebook": {
     "kernelName": "csharp"
    },
    "slideshow": {
     "slide_type": "subslide"
    }
   },
   "source": [
    "## Defining the requirements\n",
    "\n",
    "Requirements expresses the needs and constraints for software product that contributes to the solution of a real world problem.\n",
    "\n",
    "The software product or project is supposed to introduce some change on the real world. The change might be allowing people to do something they wanted, but could not do before; allowing to perform some desireable task faster, allowing to perform something more pleasurably; allowing to perform something more cost efficiently etc."
   ]
  },
  {
   "cell_type": "markdown",
   "metadata": {
    "slideshow": {
     "slide_type": "subslide"
    }
   },
   "source": [
    "### Developing the software\n",
    "\n",
    "Developing the software is the process of transforming requirements for software into a working product. This process is area is very wide. It can be further broken down into smaller areas, like the software architecture, software design, software development and so on."
   ]
  },
  {
   "cell_type": "markdown",
   "metadata": {
    "slideshow": {
     "slide_type": "subslide"
    }
   },
   "source": [
    "### Maintaining the software\n",
    "\n",
    "Maintaining the software is (generally speaking) what is done to the software after it is initially launched. \n",
    "\n",
    "Business and the world around software keeps constantly changing. The software that was perfectly serving user's needs one day, might need to be extended with new functionality to serve the users tomorrow.\n",
    "\n",
    "Even if the needs of users do not change, the software degrades over time and it needs to be regularly revisited to ensure that it keeps serving the requirements that were initially set to it. For example the requirement for the software product could be that it must strive for the upmost security standard, so no security vulnerabilities are acceptable. Even if the software has no known security vulnerabilities today, a new vulnerability in one of the packages used could be tomorrow, and so the product would not be of satisfactory quality, and would have to be updated to get back in line the initial requirements."
   ]
  },
  {
   "cell_type": "markdown",
   "metadata": {
    "slideshow": {
     "slide_type": "slide"
    }
   },
   "source": [
    "## Roles\n",
    "\n",
    "This lists the most common roles in software development teams. There are additional roles that are not covered here, but they are relatively rare.\n",
    "\n",
    "```mermaid\n",
    "mindmap\n",
    "  root((Software Development Roles))\n",
    "    SoftwareEngineer(\"Software Engineer\")\n",
    "    ProductManager(\"Product Manager\")\n",
    "    ProductDesigner(\"Product Designer\")\n",
    "    DataAnalyst(\"Data Analyst\")\n",
    "    QualityEngineer(\"Quality Assurance Engineer\")\n",
    "    ProjectManager(\"Project Manager\")\n",
    "    EngineeringManager(\"Engineering Manager\")\n",
    "    SupportRole(\"Support\")\n",
    "```"
   ]
  },
  {
   "cell_type": "markdown",
   "metadata": {
    "slideshow": {
     "slide_type": "slide"
    }
   },
   "source": [
    "### Software Engineer\n",
    "\n",
    "Develops the actual software. \n",
    "\n",
    "Job usually involves not only developing the software, but also making design decisions, making configurations (DevOps), or helping other roles with tasks like data exporting and so on.\n",
    "\n",
    "The backbone and most important role in software development."
   ]
  },
  {
   "cell_type": "markdown",
   "metadata": {
    "slideshow": {
     "slide_type": "slide"
    }
   },
   "source": [
    "### Engineering Manager\n",
    "\n",
    "Manages the team of engineers.\n",
    "\n",
    "Makes sure the team spends the time on most important things and follows the required practices. \n",
    "\n",
    "Helps members to the team to grow in terms of their careers."
   ]
  },
  {
   "cell_type": "markdown",
   "metadata": {
    "slideshow": {
     "slide_type": "slide"
    }
   },
   "source": [
    "### Product Manager\n",
    "\n",
    "Responsible for defining vision and strategy, and acting as a voice of a user. In practice this means defining the product direction, expressing user requirements and acting as an overall expert of the product. Product Managers play a big role in prioritizing the product roadmap."
   ]
  },
  {
   "cell_type": "markdown",
   "metadata": {
    "dotnet_interactive": {
     "language": "csharp"
    },
    "polyglot_notebook": {
     "kernelName": "csharp"
    },
    "slideshow": {
     "slide_type": "skip"
    }
   },
   "source": [
    "Not to be confused with Product Owner, which is a Scrum role. Due to the naming similarity these titles are sometimes used interchangeably, but the proper role should still be called *Product Manager*."
   ]
  },
  {
   "cell_type": "markdown",
   "metadata": {
    "slideshow": {
     "slide_type": "slide"
    }
   },
   "source": [
    "### Product Designer\n",
    "\n",
    "Product Designer solves problems through user interface and user experience (UX/UI). Product designer is responsible for the *interaction design* of a product and focuses on creating functional, user-friendly and at the same time visually appealing and consistent experience for the end user."
   ]
  },
  {
   "cell_type": "markdown",
   "metadata": {
    "slideshow": {
     "slide_type": "skip"
    }
   },
   "source": [
    "Interaction Design is the process of creating interactive products."
   ]
  },
  {
   "cell_type": "markdown",
   "metadata": {
    "slideshow": {
     "slide_type": "slide"
    }
   },
   "source": [
    "### Data Analyst\n",
    "\n",
    "Responsible for providing data based insights for the further product development. Can explore such cases like finding most profitable demographic or most disliked feature, all based on the data available."
   ]
  },
  {
   "cell_type": "markdown",
   "metadata": {
    "slideshow": {
     "slide_type": "skip"
    }
   },
   "source": [
    "Data Analysts are not responsible for accumulating the data itself, this is usually a responsibility of Software Engineers."
   ]
  },
  {
   "cell_type": "markdown",
   "metadata": {
    "slideshow": {
     "slide_type": "slide"
    }
   },
   "source": [
    "### Quality Assurance Engineer\n",
    "\n",
    "Ensures the quality of the software deliver.\n",
    "\n",
    "This can be done via different means, which can involve manual or automatic testing. Other options can involve providing guidance to organization, promoting better quality practices etc."
   ]
  },
  {
   "cell_type": "markdown",
   "metadata": {
    "slideshow": {
     "slide_type": "slide"
    }
   },
   "source": [
    "### Project Manager\n",
    "\n",
    "Ensures that the project adheres to the budget and timeline."
   ]
  },
  {
   "cell_type": "markdown",
   "metadata": {
    "slideshow": {
     "slide_type": "slide"
    }
   },
   "source": [
    "### Support\n",
    "\n",
    "Helps users to succeed using the product.\n",
    "\n",
    "Can also take on variety of different names like *Customer Success Manager* or *Helpdesk* or similar."
   ]
  },
  {
   "cell_type": "markdown",
   "metadata": {
    "slideshow": {
     "slide_type": "slide"
    }
   },
   "source": [
    "## Business needs analysis\n",
    "\n",
    "Before creating requirements, you need to be figure out what problem you are solving. Without knowing having the problem (the goal), the requirements would be just an arbitrary list of tasks/things to accomplish.\n",
    "\n",
    "Business needs analysis deals with identifying valuable problems to solve.\n",
    "\n",
    "Business needs analysis has many techniques. However these techniques focus not on providing definitive answers on how to do the business, but on structuring the thinking process."
   ]
  },
  {
   "cell_type": "markdown",
   "metadata": {
    "slideshow": {
     "slide_type": "slide"
    }
   },
   "source": [
    "### Vision, Mission, Strategy\n",
    "\n",
    "![Vision, mission, strategy pyramid](assets/vision-mission-strategy.png)"
   ]
  },
  {
   "cell_type": "markdown",
   "metadata": {
    "slideshow": {
     "slide_type": "slide"
    }
   },
   "source": [
    "- Vision - what is the ideal situation you would like to live in?\n",
    "- Mission - how will you help to achieve that?\n",
    "- Strategy - how are you going to do that?\n",
    "- Roadmap - what steps are you taking to implement the strategy?\n",
    "- OKRs - how will you measure if you are succeeding?\n",
    "- Tasks - daily activities to reach the goals"
   ]
  },
  {
   "cell_type": "markdown",
   "metadata": {
    "slideshow": {
     "slide_type": "slide"
    }
   },
   "source": [
    "Vision (sometimes – mission) is the reason why the product exists.\n",
    "\n",
    "- Disney: To make people happy.\n",
    "- Ikea: To create a better everyday life for the many people.\n",
    "- Google: to provide access to the world's information in one click.\n",
    "- Microsoft: to help people and businesses throughout the world realize their full potential."
   ]
  },
  {
   "cell_type": "markdown",
   "metadata": {
    "slideshow": {
     "slide_type": "skip"
    }
   },
   "source": [
    "Various versions of such pyramid exists. The levels can be different, and the number of these levels can differ as well. However the shared theme is that at the top there is at the top are the most abstract level, and at the bottom the most concrete one."
   ]
  },
  {
   "cell_type": "markdown",
   "metadata": {
    "slideshow": {
     "slide_type": "slide"
    }
   },
   "source": [
    "### MOST Analysis\n",
    "\n",
    "```text\n",
    "+-------------------------------+\n",
    "|           Mission             |\n",
    "| (Purpose of the organization) |\n",
    "+-------------------------------+\n",
    "|          Objectives           |\n",
    "| (Key goals to achieve mission)|\n",
    "+-------------------------------+\n",
    "|           Strategy            |\n",
    "|  (Approach to meet objectives)|\n",
    "+-------------------------------+\n",
    "|            Tactics            |\n",
    "|  (Specific actions to execute)|\n",
    "+-------------------------------+\n",
    "```"
   ]
  },
  {
   "cell_type": "markdown",
   "metadata": {
    "slideshow": {
     "slide_type": "slide"
    }
   },
   "source": [
    "### Business model canvas\n",
    "\n",
    "![Business model canvas](https://upload.wikimedia.org/wikipedia/commons/1/10/Business_Model_Canvas.png)\n"
   ]
  },
  {
   "cell_type": "markdown",
   "metadata": {
    "slideshow": {
     "slide_type": "slide"
    }
   },
   "source": [
    "### SWOT\n",
    "\n",
    "```text\n",
    "+-------------------------+-------------------------+\n",
    "|        Strengths        |        Weaknesses       |\n",
    "|-------------------------|-------------------------|\n",
    "| - Internal capabilities | - Internal limitations  |\n",
    "| - Positive attributes   | - Areas for improvement |\n",
    "| - Competitive advantages| - Competitive           |\n",
    "|                         |   disadvantages         |\n",
    "+-------------------------+-------------------------+\n",
    "|       Opportunities     |         Threats         |\n",
    "|-------------------------|-------------------------|\n",
    "| - External conditions   | - External risks        |\n",
    "| - Market trends         | - Competition           |\n",
    "| - Potential for growth  | - Market challenges     |\n",
    "+-------------------------+-------------------------+\n",
    "```"
   ]
  },
  {
   "cell_type": "markdown",
   "metadata": {
    "slideshow": {
     "slide_type": "skip"
    }
   },
   "source": [
    "SWOT analysis can be used to guide decisions and strategy the product takes."
   ]
  },
  {
   "cell_type": "markdown",
   "metadata": {
    "slideshow": {
     "slide_type": "slide"
    }
   },
   "source": [
    "### 5 Whys\n",
    "\n",
    "```mermaid\n",
    "\n",
    "flowchart TD\n",
    "    A[\"Problem Statement\"]\n",
    "    A --> B[\"Why #1: First reason identified\"]\n",
    "    B --> C[\"Why #2: Reason for Why #1\"]\n",
    "    C --> D[\"Why #3: Reason for Why #2\"]\n",
    "    D --> E[\"Why #4: Reason for Why #3\"]\n",
    "    E --> F[\"Why #5: Root cause identified\"]\n",
    "\n",
    "\n",
    "```"
   ]
  },
  {
   "cell_type": "markdown",
   "metadata": {
    "slideshow": {
     "slide_type": "subslide"
    }
   },
   "source": [
    "Five whys (or 5 whys) is an iterative interrogative technique used to explore the cause-and-effect relationships underlying a particular problem.\n",
    "\n",
    "The primary goal of the technique is to determine the root cause of a defect or problem by repeating the question \"Why?\". The idea is that if you ask 5 recursively 5 times, then you should arrive at the root cause. Of course the number 5 is arbitrary here, but the notion of recursively asking question \"why?\" until you arrive to the root causes is a widely used technique for unwrap complex problems."
   ]
  },
  {
   "cell_type": "markdown",
   "metadata": {
    "slideshow": {
     "slide_type": "slide"
    }
   },
   "source": [
    "### Stakeholder management\n",
    "\n",
    "Stakeholder: a member of \"groups without whose support the organization would cease to exist\".\n",
    "\n",
    "Each stakeholder group has different stakes at company or product."
   ]
  },
  {
   "cell_type": "markdown",
   "metadata": {
    "slideshow": {
     "slide_type": "slide"
    }
   },
   "source": [
    "#### Examples of stakeholders\n",
    "\n",
    "- Software Engineer - develops the actual software.\n",
    "- Product Manager - sets direction of the product.\n",
    "- End User - person that uses the product.\n",
    "- Economic buyer - in B2C context a person that makes the decision to purchase the product.\n",
    "- Customer Support/Success Specialist - needs to helps users to use the product successfully.\n",
    "- Marketing Specialist - promotes the product to potential clients.\n",
    "- Sales Representative - closes the deals with the clients.\n",
    "- Legal - makes sure the product is legally compliant.\n",
    "- Executive Sponsor - decides if the product idea worth pursuing.\n",
    "- Investor - expects return on investment from the product."
   ]
  },
  {
   "cell_type": "markdown",
   "metadata": {
    "slideshow": {
     "slide_type": "skip"
    }
   },
   "source": [
    "From SWEBOK:\n",
    "\n",
    "- Stakeholders should provide support, information, and feedback at all stages of the software life cycle process. \n",
    "- For example, during the early stages, it is critical to identify all stakeholders and discover how the product will affect them.\n",
    "- So that sufficient definition of the stakeholder requirements can be properly and completely captured.\n",
    "- It is vital to maintain open and productive communication with stakeholders for the duration of the software product’s lifetime.\n"
   ]
  },
  {
   "cell_type": "markdown",
   "metadata": {
    "slideshow": {
     "slide_type": "slide"
    }
   },
   "source": [
    "### SMART Goals\n",
    "\n",
    "```text\n",
    "+---------------+--------------------------------------+\n",
    "|     SMART     |           Goal Criteria             |\n",
    "+---------------+--------------------------------------+\n",
    "|    Specific   | Clear and specific goal              |\n",
    "+---------------+--------------------------------------+\n",
    "|   Measurable  | Progress can be tracked and measured |\n",
    "+---------------+--------------------------------------+\n",
    "|   Achievable  | Realistic and attainable             |\n",
    "+---------------+--------------------------------------+\n",
    "|   Relevant    | Aligned with broader objectives      |\n",
    "+---------------+--------------------------------------+\n",
    "|   Time-Bound  | Has a defined timeline or deadline   |\n",
    "+---------------+--------------------------------------+\n",
    "```"
   ]
  },
  {
   "cell_type": "markdown",
   "metadata": {
    "slideshow": {
     "slide_type": "slide"
    }
   },
   "source": [
    "### OKRs\n",
    "\n",
    "OKR stands for **O**bjective and **K**ey **R**esults.\n",
    "\n",
    "John Doerr introduced Google to OKR, has a formula for setting goals:\n",
    "\n",
    ">I will ________ as measured by ____________.\n",
    "\n",
    "Example of OKR:\n",
    ">I will (Objective) as measured by (this set of Key Results).\n"
   ]
  },
  {
   "cell_type": "markdown",
   "metadata": {
    "slideshow": {
     "slide_type": "slide"
    }
   },
   "source": [
    "#### OKR example\n",
    "\n",
    "Objective: Create an Awesome Customer Experience.\n",
    "\n",
    "Key Results:\n",
    "- Improve Net Promoter Score from X to Y.\n",
    "- Increase Repurchase Rate from X to Y.\n",
    "- Maintain Customer Acquisition cost under Y."
   ]
  },
  {
   "cell_type": "markdown",
   "metadata": {
    "slideshow": {
     "slide_type": "slide"
    }
   },
   "source": [
    "Objective: Delight our customers.\n",
    "\n",
    "Key Results:\n",
    "- Reduce revenue churn (cancellation) from X% to Y%.\n",
    "- Increase Net Promoter Score from X to Y.\n",
    "- Improve average weekly visits per active user from X to Y.\n",
    "- Increase non-paid (organic) traffic to from X to Y.\n",
    "- Improve engagement (users that complete a full profile) from X to Y.\n"
   ]
  },
  {
   "cell_type": "markdown",
   "metadata": {
    "slideshow": {
     "slide_type": "slide"
    }
   },
   "source": [
    "Objective : Refactor our old user management module.\n",
    "\n",
    "Key Results:\n",
    "- Survey 5 external API users regarding issues with our authentication.\n",
    "- Discuss the user management code usage with 5 engineers having used it in production.\n",
    "- Rewrite and launch new version of our user management module.\n",
    "- Rewrite the API user authentication for new version."
   ]
  },
  {
   "cell_type": "markdown",
   "metadata": {
    "slideshow": {
     "slide_type": "slide"
    }
   },
   "source": [
    "Objective: Improve our testing procedures.\n",
    "\n",
    "Key Results:\n",
    "- Implement test-driven development in 3 new development teams.\n",
    "- Increase unit test coverage to 75% of code.\n",
    "- Conduct a security assessment of our codebase using automated tools.\n",
    "- Make sure satisfaction score of product management to the testing team is at least 7.5.\n",
    "- Discover at least 100 bugs and open issues in old code not reviewed in 6 months."
   ]
  },
  {
   "cell_type": "markdown",
   "metadata": {
    "slideshow": {
     "slide_type": "slide"
    }
   },
   "source": [
    "### Requirements analysis\n",
    "\n",
    "At its most basic, a software requirement is a property that must be exhibited in order to solve some problem in the real world.\n",
    "\n",
    "Software requirements should be stated as clearly and as unambiguously as possible, and, where appropriate, quantitatively.\n",
    "\n",
    "An essential property of all software requirements is that they be verifiable. Sometimes that might be difficult."
   ]
  },
  {
   "cell_type": "markdown",
   "metadata": {
    "slideshow": {
     "slide_type": "slide"
    }
   },
   "source": [
    "#### Functional requirements\n",
    "\n",
    ">Functional requirements specify observable behaviors that the software is to provide — policies to be enforced and processes to be carried out. Example policies in banking software might be “an account shall always have at least one customer as its owner,” and “the balance of an account shall never be negative.”"
   ]
  },
  {
   "cell_type": "markdown",
   "metadata": {
    "slideshow": {
     "slide_type": "slide"
    }
   },
   "source": [
    "#### Non-functional requirements\n",
    "\n",
    ">Nonfunctional requirements in some way constrain the technologies to be used in the implementation: What computing platform(s)? What database engine(s)? How accurate do results need to be? How quickly must results be presented? How many records of a certain type need to be stored?"
   ]
  },
  {
   "cell_type": "markdown",
   "metadata": {
    "slideshow": {
     "slide_type": "slide"
    }
   },
   "source": [
    "## Software construction\n",
    "\n",
    ">Software construction refers to the detailed creation and maintenance of software through coding,  verification, unit testing, integration testing and debugging"
   ]
  },
  {
   "cell_type": "markdown",
   "metadata": {
    "slideshow": {
     "slide_type": "slide"
    }
   },
   "source": [
    "### Fundamental concepts\n",
    "\n",
    "Software construction has 5 fundamental concepts:\n",
    "\n",
    "1. Minimizing complexity.\n",
    "1. Anticipating change.\n",
    "1. Constructing for verification.\n",
    "1. Reusing assets.\n",
    "1. Applying standards.\n",
    "\n",
    "These concepts are heavily intertwined and influence each other."
   ]
  },
  {
   "cell_type": "markdown",
   "metadata": {
    "slideshow": {
     "slide_type": "slide"
    }
   },
   "source": [
    "#### Minimizing complexity\n",
    "\n",
    "People are limited by the amount of things they can maintain in the working memory at any given time.\n",
    "\n",
    "Complexity is reduced by writing code easy to read, rather than writing smart code."
   ]
  },
  {
   "cell_type": "markdown",
   "metadata": {
    "slideshow": {
     "slide_type": "subslide"
    }
   },
   "source": [
    "Very good repository explaining the most important points about the cognitive load in software engineering: https://github.com/zakirullin/cognitive-load."
   ]
  },
  {
   "cell_type": "markdown",
   "metadata": {
    "slideshow": {
     "slide_type": "slide"
    }
   },
   "source": [
    "Metrics that measure complexity:\n",
    "\n",
    "- McCabe's cyclomatic complexity metric\n",
    "- Halstead complexity measures metric\n",
    "- Chidamber & Kemerer object-oriented metrics suite"
   ]
  },
  {
   "cell_type": "markdown",
   "metadata": {
    "slideshow": {
     "slide_type": "slide"
    }
   },
   "source": [
    "#### Anticipating change\n",
    "\n",
    "It is accepted that software will have to change overtime. Code should be written in such a way that it should be possible to change to adapt to future needs.\n",
    "\n",
    "Problem is:\n",
    "- If the code is not properly design to allow making changes, then the development cost might increase unsustainably over time.\n",
    "- If the code is too optimized for change, then it will likely too many abstractions and indirection.\n",
    "\n",
    "Goal is too properly identify what is most likely to change and optimize only these areas to the needed degree."
   ]
  },
  {
   "cell_type": "markdown",
   "metadata": {
    "slideshow": {
     "slide_type": "slide"
    }
   },
   "source": [
    "#### Constructing for verification\n",
    "\n",
    ">Constructing for verification builds software in such a way that faults can be readily found by\n",
    "the software engineers writing the software as well as by the testers and users during independent testing and operational activities.\n",
    "\n",
    ">Specific techniques that support constructing for verification include following coding standards to support code reviews and unit testing, organizing code to support automated testing, restricting the use of complex or difficult-to-understand language structures, and recording software behaviors with logs."
   ]
  },
  {
   "cell_type": "markdown",
   "metadata": {
    "slideshow": {
     "slide_type": "slide"
    }
   },
   "source": [
    "#### Reusing assets\n",
    "\n",
    "Modern software development is absolutely based on reusing assets. Almost no software is being written without any frameworks or libraries.\n",
    "\n",
    "Libraries can be created to promote asset reuse within the same or different projects.\n",
    "\n",
    "Main problem is to correctly identify what is worth reusing and what is worth reusing and what is not."
   ]
  },
  {
   "cell_type": "markdown",
   "metadata": {
    "slideshow": {
     "slide_type": "slide"
    }
   },
   "source": [
    "#### Applying standards\n",
    "\n",
    "It is generally accepted that applying standards helps to increase quality and efficiency.\n",
    "\n",
    "Examples where standards can be applied:\n",
    "- Programming languages used.\n",
    "- Standardizing formats and protocols used (i.e. every project must expose OpenAPI specification).\n",
    "- Code standards (style).\n",
    "- Solving common problems, i.e. how exceptions should be handled.\n",
    "- What tools are used by developers (i.e. IDEs)."
   ]
  },
  {
   "cell_type": "markdown",
   "metadata": {
    "slideshow": {
     "slide_type": "slide"
    }
   },
   "source": [
    "### Practical considerations\n",
    "\n",
    "Examples of things software engineers need to consider during the software development process:\n",
    "\n",
    "- Choosing a language,\n",
    "- Coding conventions,\n",
    "- What to reuse,\n",
    "- What to make reusable."
   ]
  },
  {
   "cell_type": "markdown",
   "metadata": {
    "slideshow": {
     "slide_type": "slide"
    }
   },
   "source": [
    "#### Choosing a language\n",
    "\n",
    "What language to use for the job?\n",
    "\n",
    "Criteria for consideration:\n",
    "- What language are engineers on the team are familiar with?\n",
    "- Does the performance (speed) of language matter?\n",
    "- How big is the language's ecosystem?\n",
    "- How easy it is hire engineers working with this language?\n",
    "- And more..."
   ]
  },
  {
   "cell_type": "markdown",
   "metadata": {
    "slideshow": {
     "slide_type": "slide"
    }
   },
   "source": [
    "#### Coding conventions\n",
    "\n",
    "It is accepted that any unified code style is better than mix of styles. However there are questions with more nuances:\n",
    "\n",
    "- How big the classes should be?\n",
    "- How long the method should be?\n",
    "- What should be the upper limit on the number of parameters a method can have?\n",
    "- Should you have standardized library for solving specific use case (i.e. automappers)?\n",
    "- Should there be a policy how the exceptions should be handled?\n",
    "- And more..."
   ]
  },
  {
   "cell_type": "markdown",
   "metadata": {
    "slideshow": {
     "slide_type": "slide"
    }
   },
   "source": [
    "#### Reuse in construction\n",
    "\n",
    "When to reuse existing assets?\n",
    "\n",
    "Pros of reusing:\n",
    "- Readily solves the problem at hand (maybe).\n",
    "- Provides standardization between projects or organizations (if using some shared libraries).\n",
    "- If it is a common problem, then external library might be better maintained than what you could build yourself.\n",
    "\n",
    "Potential problems of reusing:\n",
    "- Is it worth to include whole library if only 1 method is needed?\n",
    "- Is it better to use readily available implementation that is 90% perfects or to build your own?\n",
    "- Potentially introducing security risks with external package."
   ]
  },
  {
   "cell_type": "markdown",
   "metadata": {
    "slideshow": {
     "slide_type": "slide"
    }
   },
   "source": [
    "#### Construction for reuse\n",
    "\n",
    "Should the code being written should be made reusable?\n",
    "\n",
    "Things to consider:\n",
    "- Is this already a recurring problem?\n",
    "- Can this implementation serve more than a single use case?"
   ]
  },
  {
   "cell_type": "markdown",
   "metadata": {
    "slideshow": {
     "slide_type": "slide"
    }
   },
   "source": [
    "### Defensive programming\n",
    "\n",
    "Defensive programming is a software development practice to always validate all the inputs. To do defensive programming means not to assume anywhere that the inputs are going to be always valid.\n",
    "\n",
    "```csharp\n",
    "public class BankAccount\n",
    "{\n",
    "    public decimal Balance { get; private set; }\n",
    "\n",
    "    public void Withdraw(decimal amount)\n",
    "    {\n",
    "        if (amount <= 0) throw new ArgumentException(\"Withdrawal must be positive.\");\n",
    "        if (amount > Balance) throw new InvalidOperationException(\"Insufficient funds.\");\n",
    "        Balance -= amount;\n",
    "    }\n",
    "}\n",
    "```"
   ]
  },
  {
   "cell_type": "markdown",
   "metadata": {
    "slideshow": {
     "slide_type": "slide"
    }
   },
   "source": [
    "### Choosing deployment model\n",
    "\n",
    "Microservices vs. Monolith.\n",
    "\n",
    "Microservices:\n",
    "- Complex.\n",
    "- Introduces development overhead.\n",
    "- Can help with scaling for more users or more teams.\n",
    "\n",
    "Monolith:\n",
    "- Easy to start with.\n",
    "- Easy to understand, all the references can typically be navigable within the same project.\n",
    "- Can be vertically scaled with cloud technologies quite well.\n",
    "- Blast radius increases when more teams are onboarded."
   ]
  },
  {
   "cell_type": "markdown",
   "metadata": {
    "slideshow": {
     "slide_type": "slide"
    }
   },
   "source": [
    "## Maintenance and modification\n",
    "\n",
    "Software maintenance in software engineering is the modification of a software product after delivery to correct faults, to improve performance or other attributes.\n",
    "\n",
    "A common perception of maintenance is that it is bug-fixing, although ~80% of maintenance effort is used for non-corrective actions."
   ]
  },
  {
   "cell_type": "markdown",
   "metadata": {
    "slideshow": {
     "slide_type": "slide"
    }
   },
   "source": [
    "### Maintenance objectives\n",
    "\n",
    "Maintenance is done in order to:\n",
    "- correct faults,\n",
    "- improve the design,\n",
    "- implement enhancements,\n",
    "- interface with other software,\n",
    "- adapt programs so that different hardware, software, system features, and telecommunications facilities can be used,\n",
    "- migrate legacy software,\n",
    "- retire software."
   ]
  },
  {
   "cell_type": "markdown",
   "metadata": {
    "slideshow": {
     "slide_type": "slide"
    }
   },
   "source": [
    "### Maintainability\n",
    "\n",
    "The ease with which a product can be maintained in order to:\n",
    "- correct defects or their cause,\n",
    "- repair or replace faulty or worn-out components without having to replace still working parts,\n",
    "- prevent unexpected working conditions,\n",
    "- maximize a product's useful life,\n",
    "- maximize efficiency, reliability, and safety,\n",
    "- meet new requirements,\n",
    "- make future maintenance easier, or\n",
    "- cope with a changed environment."
   ]
  },
  {
   "cell_type": "markdown",
   "metadata": {
    "slideshow": {
     "slide_type": "slide"
    }
   },
   "source": [
    "## Further reading\n",
    "\n",
    "- https://berthub.eu/articles/posts/on-long-term-software-development/ - challenges faced during long term software project development.\n",
    "- https://www.writethedocs.org/guide/ - writing software documentation."
   ]
  }
 ],
 "metadata": {
  "kernelspec": {
   "display_name": ".NET (C#)",
   "language": "C#",
   "name": ".net-csharp"
  },
  "language_info": {
   "name": "polyglot-notebook"
  },
  "polyglot_notebook": {
   "kernelInfo": {
    "defaultKernelName": "csharp",
    "items": [
     {
      "aliases": [],
      "languageName": "csharp",
      "name": "csharp"
     }
    ]
   }
  }
 },
 "nbformat": 4,
 "nbformat_minor": 2
}
