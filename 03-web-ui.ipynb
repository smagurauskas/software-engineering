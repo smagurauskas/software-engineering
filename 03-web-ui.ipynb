{
 "cells": [
  {
   "cell_type": "markdown",
   "metadata": {
    "slideshow": {
     "slide_type": "slide"
    }
   },
   "source": [
    "# Web development\n",
    "\n",
    "Web (*webpages* or *websites* or *web app*) developments allows to deliver programs with rich user interaces served by web browsers and are delivered via HTTP(S) protocol."
   ]
  },
  {
   "cell_type": "markdown",
   "metadata": {
    "slideshow": {
     "slide_type": "subslide"
    }
   },
   "source": [
    "Website development predominantly uses `HTML`, `CSS` and `JavaScript` languages:\n",
    "- `HTML` allows to set the structure of elements rendered on web page.\n",
    "- `CSS` allows to change the styles of these rendered elements.\n",
    "- `JavaScript` allows to add dynamic interactions to the web page."
   ]
  },
  {
   "cell_type": "markdown",
   "metadata": {
    "slideshow": {
     "slide_type": "subslide"
    }
   },
   "source": [
    "Server returns an `html` file to the browser, and then browser figures out how to display that to the user (aka renders it).\n",
    "\n",
    "```html\n",
    "<html>\n",
    "  <body>\n",
    "    <h1>Hello class!</h1>\n",
    "  </body>\n",
    "</html>\n",
    "```\n",
    "\n",
    "---\n",
    "\n",
    "<html>\n",
    "  <body>\n",
    "    <h1>Hello class!</h1>\n",
    "  </body>\n",
    "</html>\n"
   ]
  },
  {
   "cell_type": "markdown",
   "metadata": {
    "slideshow": {
     "slide_type": "skip"
    }
   },
   "source": [
    "Websites can be served to users as simple static `HTML` files. But static websites have limited capabilities - they cannot dynamically update their content with new data. In order for website to dynamically adapt to new data it cannot be static, but it needs to be rendered dynamically instead. Rendering in this case means assembling `HTML` document, that can be taken by browser to display the website to user."
   ]
  },
  {
   "cell_type": "markdown",
   "metadata": {
    "slideshow": {
     "slide_type": "slide"
    }
   },
   "source": [
    "### HTML\n",
    "\n",
    "`HTML` stands for Hypertext Markup Language.\n",
    "\n",
    "`HTML` is a markup language meaning that it does not have capabilities of traditional programming languages to sciprt algorithms, but it is instead used to define structure of the document.\n",
    "\n",
    "```html\n",
    "<html>\n",
    "    <head>\n",
    "        <title>Title for this document</title>\n",
    "    </head>\n",
    "    <body>\n",
    "        This is a very simple HTML document\n",
    "    </body>\n",
    "</html>\n",
    "```"
   ]
  },
  {
   "cell_type": "markdown",
   "metadata": {
    "slideshow": {
     "slide_type": "subslide"
    }
   },
   "source": [
    "Although `html` looks very similar to `xml`, it is incorrect to state that any `html` document is also an `xml` document.\n",
    "\n",
    "Instead they both share common parent language - [SGML](https://en.wikipedia.org/wiki/Standard_Generalized_Markup_Language).\n",
    "\n",
    "```mermaid\n",
    "graph TD\n",
    "    SGML --> HTML\n",
    "    SGML --> XML\n",
    "```"
   ]
  },
  {
   "cell_type": "markdown",
   "metadata": {
    "slideshow": {
     "slide_type": "subslide"
    }
   },
   "source": [
    "#### Elements and tags\n",
    "\n",
    "`HTML` markup consists of elements. Elements consists of openning and closing tags.\n",
    "\n",
    "Star tag is written by specifying element name between `<` and `>`, i.e. `<div>`.\n",
    "End tag is written by specifying element name between `</` and `>`, i.e. `</div>`. The only difference between opening and closing tags are the `/` symbol following `<`."
   ]
  },
  {
   "cell_type": "markdown",
   "metadata": {
    "slideshow": {
     "slide_type": "skip"
    }
   },
   "source": [
    "Every[^1] opening tag must have a corresponding closing tag.\n",
    "\n",
    "Element can be opened and closed in same tag, by prepending `/` before the closing symbol `>`, i.e. `<div />`. This is used in cases where element does not have any inner content and is primarily used for some rendering purposes.\n",
    "\n",
    "[^1] - in most of cases. This would be true in `XML`, but since `HTML` is not `XML`, there are some cases, where it is a legit `HTML` syntax for opening tag not to have a closing tag."
   ]
  },
  {
   "cell_type": "markdown",
   "metadata": {
    "slideshow": {
     "slide_type": "subslide"
    }
   },
   "source": [
    "There are some syntax quirks that are valid for `html` documents, but would be invalid `xml` documents, i.e. in the example below, omitting the `<body>` openning tag [would technically be valid](https://html.spec.whatwg.org/multipage/syntax.html#syntax-tag-omission):\n",
    "\n",
    "```html\n",
    "<html>\n",
    "text text text\n",
    "</body>\n",
    "</html>\n",
    "```\n"
   ]
  },
  {
   "cell_type": "markdown",
   "metadata": {
    "slideshow": {
     "slide_type": "subslide"
    }
   },
   "source": [
    "#### Attributes\n",
    "\n",
    "`HTML` elements can also have attributes, just like `XML` elements have.\n",
    "\n",
    "Attributes are specified in start tag between element name and closing `>`.\n",
    "\n",
    "`<a href=\"#\">hello</a>` element has an attribute `href` with the value of `#`.\n",
    "\n",
    "Elements can have more than one attribute."
   ]
  },
  {
   "cell_type": "markdown",
   "metadata": {
    "slideshow": {
     "slide_type": "subslide"
    }
   },
   "source": [
    "#### Comments\n",
    "\n",
    "Comments in `HTML` documents are specified between `<!--` and `-->` tags.\n",
    "\n",
    "An example comment in `HTML` looks like this: `<!-- this is a comment -->`.\n",
    "\n",
    "Comments are ignored when browser renders the document."
   ]
  },
  {
   "cell_type": "markdown",
   "metadata": {
    "slideshow": {
     "slide_type": "subslide"
    }
   },
   "source": [
    "#### HTML document structure\n",
    "\n",
    "`HTML` are always wrapped in `<html>` element. Every document must have this element as the root element.\n",
    "\n",
    "Immediately inside `<html>` element there can be `<head>` element. `<head>` element is not rendered by the browser directly, but rather it can contain various references and other metadata for the page. Examples of such references are inlined or imported `js` scripts, references to `css` files or other metadata elements such as `<title>` which specifies the title of the page to be displayed by the browser.\n",
    "\n",
    "The `<body>` element comes next. `<body>` element contains other children elements that will be rendered by the browser into an UI."
   ]
  },
  {
   "cell_type": "markdown",
   "metadata": {
    "slideshow": {
     "slide_type": "skip"
    }
   },
   "source": [
    "`HTML` has a large selection of elements for rendering the UI, which can be found [here](https://developer.mozilla.org/en-US/docs/Web/HTML/Element). There are elements for different purposes: from `<div>` which is used for very generic wrapping purposes, to `<table>` which is used to conveniently display rendered tables.\n",
    "\n",
    "Check [this reference](https://developer.mozilla.org/en-US/docs/Web/HTML/Element) to learn more about the available elements and how to use each of these elements."
   ]
  },
  {
   "cell_type": "markdown",
   "metadata": {
    "slideshow": {
     "slide_type": "subslide"
    }
   },
   "source": [
    "```html\n",
    "<!-- very simplistic example of an html document with no style or interactivity -->\n",
    "<html>\n",
    "    <head>\n",
    "        <title>simple document</title>\n",
    "    </head>\n",
    "    <body>\n",
    "        <div>text wrapped in container</div>\n",
    "        <b>text but bold</b>\n",
    "        <button>pushable button</button>\n",
    "    </body>\n",
    "</html>\n",
    "```\n",
    "---\n",
    "<html>\n",
    "    <head>\n",
    "        <title>simple document</title>\n",
    "    </head>\n",
    "    <body>\n",
    "        <div>text wrapped in container</div>\n",
    "        <b>text but bold</b>\n",
    "        <button>pushable button</button>\n",
    "    </body>\n",
    "</html>"
   ]
  },
  {
   "cell_type": "markdown",
   "metadata": {
    "slideshow": {
     "slide_type": "notes"
    }
   },
   "source": [
    "Static `HTML` documents can be tested by simply saving them as `.html` files and the opening them with the internet browser application."
   ]
  },
  {
   "cell_type": "markdown",
   "metadata": {
    "slideshow": {
     "slide_type": "slide"
    }
   },
   "source": [
    "### CSS\n",
    "\n",
    "`CSS` stands for Cascading Style Sheets. `CSS` is a language for specifying the styling for the `HTML` documents.\n",
    "\n",
    "`CSS` styling includes such use cases as `width` or `height` of the elements, `colors` of these elements, font sizes and families, how and when should be elements be wrapped into new lines and more."
   ]
  },
  {
   "cell_type": "markdown",
   "metadata": {
    "slideshow": {
     "slide_type": "skip"
    }
   },
   "source": [
    "`html` element references usually will also contain information about the available style options for these elements."
   ]
  },
  {
   "cell_type": "markdown",
   "metadata": {
    "slideshow": {
     "slide_type": "subslide"
    }
   },
   "source": [
    "Sample `css` file:\n",
    "\n",
    "```css\n",
    ".blue-box\n",
    "{\n",
    "    background-color: #0000FF;\n",
    "    width: 100px;\n",
    "    height: 100px;\n",
    "}\n",
    "```\n",
    "\n",
    "This `css` would be applied to an `html` element which has a `class` attribute with `.blue-box` name."
   ]
  },
  {
   "cell_type": "markdown",
   "metadata": {
    "slideshow": {
     "slide_type": "subslide"
    }
   },
   "source": [
    "`css` can be applied to `html` elements by simply inlining it:\n",
    "\n",
    "```html\n",
    "<html>\n",
    "    <head>\n",
    "        <style>\n",
    "            .blue-box\n",
    "            {\n",
    "                background-color: #0000FF;\n",
    "                width: 100px;\n",
    "                height: 100px;\n",
    "            }\n",
    "        </style>\n",
    "    </head>\n",
    "    <body>\n",
    "        <div class=\"blue-box\">this will be a blue box</div>\n",
    "    </body>\n",
    "</html>\n",
    "```\n",
    "---\n",
    "<html>\n",
    "    <head>\n",
    "        <style>\n",
    "            .blue-box\n",
    "            {\n",
    "                background-color: #0000FF;\n",
    "                width: 100px;\n",
    "                height: 100px;\n",
    "            }\n",
    "        </style>\n",
    "    </head>\n",
    "    <body>\n",
    "        <div class=\"blue-box\">this will be a blue box</div>\n",
    "    </body>\n",
    "</html>\n",
    "    "
   ]
  },
  {
   "cell_type": "markdown",
   "metadata": {
    "slideshow": {
     "slide_type": "subslide"
    }
   },
   "source": [
    "`css` statements consists of `selector` statement followed by a style statement between `{ }`. \n",
    "\n",
    "Selectors specify which `html` elements the style should apply to. Selectors can be specified to apply to all elements with certain `class` attribute, to elements with certain `id` attribute or to all elements of certain type.\n",
    "\n",
    "On top of that these rules can be nested by chaining selectors separated by an empty space. For example rule with selector `.blue-box .white-box` would apply to all elements with `class` name `white-box` that are children of element of class `blue-box`.\n",
    "\n",
    "Rules can also be used in conjunction: `.white-box.blue-box` would apply to elements that have both `white-box` and `blue-box` classes.\n",
    "\n",
    "For the full reference of available rules see [this](https://developer.mozilla.org/en-US/docs/Web/CSS/CSS_selectors)."
   ]
  },
  {
   "cell_type": "markdown",
   "metadata": {
    "slideshow": {
     "slide_type": "subslide"
    }
   },
   "source": [
    "To get the hang of `css` selectors, you can try a simple game like such [https://flukeout.github.io/](https://flukeout.github.io/)."
   ]
  },
  {
   "cell_type": "markdown",
   "metadata": {
    "slideshow": {
     "slide_type": "subslide"
    }
   },
   "source": [
    "To import `css` into an `html` document a `<link rel=\"stylesheet\" href=\"style.css\">` element should be added as child of `<head>` element. In this case `href` value (in the example it is `style.css`) specifies relative or absolute path of the `css` file to be imported into the `html` document.\n",
    "\n",
    "An example\n",
    "\n",
    "File `style.css`:\n",
    "\n",
    "```css\n",
    ".blue-box {\n",
    "  background-color: #0000ff;\n",
    "  width: 100px;\n",
    "  height: 100px;\n",
    "}\n",
    "```\n",
    "\n",
    "File `page.html`:\n",
    "\n",
    "```html\n",
    "<html>\n",
    "  <head>\n",
    "    <link rel=\"stylesheet\" href=\"style.css\" />\n",
    "  </head>\n",
    "  <body>\n",
    "    <div class=\"blue-box\">this will be a blue box</div>\n",
    "  </body>\n",
    "</html>\n",
    "```\n"
   ]
  },
  {
   "cell_type": "markdown",
   "metadata": {
    "slideshow": {
     "slide_type": "subslide"
    }
   },
   "source": [
    "*Better* practices when using `css`:\n",
    "- Try to use selectors that use `class` names when targeting specific `html` elements.\n",
    "- Link `css` from a file rather than inlining on `html` elements.\n",
    "- Use [flexbox](https://developer.mozilla.org/en-US/docs/Learn/CSS/CSS_layout/Flexbox) to achieve the wanted page layout."
   ]
  },
  {
   "cell_type": "markdown",
   "metadata": {
    "slideshow": {
     "slide_type": "slide"
    }
   },
   "source": [
    "### JavaScript\n",
    "\n",
    "JavaScript is used to add dynamic functionality to the web sites. Browsers have a capability to execute JavaScript (`js`) scripts that are added to the `html` document to give the website dynamic interactions. `js` is being executed on the client side (user's computer) and is the driving force behind the interactivity in the modern websites.\n",
    "\n",
    "`js` can access `document` api and other predefined functions in the browser to alter the `html` document and perform other actions. Things `js` can do include:\n",
    "- Dynamically add or remove `html` element from the document.\n",
    "- Call web services to fetch or send data.\n",
    "- Do any calculations (JavaScript is proper Turing-complete language)."
   ]
  },
  {
   "cell_type": "markdown",
   "metadata": {
    "slideshow": {
     "slide_type": "subslide"
    }
   },
   "source": [
    "JavaScript can be imported to `html` document via `<script>` element in the `<head>`:\n",
    "\n",
    "```html\n",
    "<html>\n",
    "  <head>\n",
    "    <script src=\"javascript.js\"></script>\n",
    "    <script>\n",
    "      alert(\"inline alert\");\n",
    "    </script>\n",
    "  </head>\n",
    "  <body></body>\n",
    "</html>\n",
    "```\n",
    "\n",
    "The `html` document in the example above would import the `javascript.js` file with all the scripts inside of it and then would run the inline written script with `alert(\"inline alert\");` (it would make an alert box pop up) statement.\n"
   ]
  },
  {
   "cell_type": "markdown",
   "metadata": {
    "slideshow": {
     "slide_type": "subslide"
    }
   },
   "source": [
    "Example for javascript uses:\n",
    "\n",
    "<html>\n",
    "  <head>\n",
    "   \n",
    "<script>\n",
    "// Array of messages to show off JavaScript capabilities\n",
    "const messages = [\n",
    "  \"✅ JS can update HTML!\",\n",
    "  \"🕒 Current time: \" + new Date().toLocaleTimeString(),\n",
    "  \"🔄 Dynamically change styles\",\n",
    "  \"🎲 Random number: \" + Math.floor(Math.random() * 100),\n",
    "  \"🌍 It can handle dates, numbers, text...\"\n",
    "];\n",
    "\n",
    "let i = 0;\n",
    "setInterval(() => {\n",
    "  const box = document.getElementById(\"demo-box\");\n",
    "\n",
    "  // Cycle through messages\n",
    "  const msg = messages[i % messages.length];\n",
    "  box.innerHTML = msg;\n",
    "\n",
    "  if (msg.startsWith(\"🕒\")) {\n",
    "  box.innerHTML = \"🕒 Current time: \" + new Date().toLocaleTimeString();\n",
    "  }\n",
    "  else if (msg.startsWith(\"🎲\")) {\n",
    "  box.innerHTML = \"🎲 Random number: \" + Math.floor(Math.random() * 100);\n",
    "  }\n",
    "\n",
    "  // Change box color randomly\n",
    "  box.style.backgroundColor = `hsl(${Math.random() * 360}, 70%, 90%)`;\n",
    "\n",
    "  i++;\n",
    "  }, 1000);\n",
    "</script>\n",
    "\n",
    "  </head>\n",
    "  <body>\n",
    "    <div id=\"demo-box\">\n",
    "      Waiting for update...\n",
    "    </div>\n",
    "  </body>\n",
    "</html>\n"
   ]
  },
  {
   "cell_type": "markdown",
   "metadata": {
    "slideshow": {
     "slide_type": "slide"
    }
   },
   "source": [
    "### WebSockets\n",
    "\n",
    "Due to the nature and history of protocols used, web development was predominantly based on request-response model for the communication between client and the server.\n",
    "\n",
    "However this may not be the most efficient approach, especially when the frontend wants to update the data frequently."
   ]
  },
  {
   "cell_type": "markdown",
   "metadata": {
    "slideshow": {
     "slide_type": "skip"
    }
   },
   "source": [
    "For example - think about the live chat applications. User would typically expect to see the message as soon as the other user sends it. Using the typical request-response pattern this would mean that client needs to ask the server (poll) if there are any new messages every few seconds. The lower the interval between requests the lower would be the delay, but at the same time - the more requests would just have blank responses.\n",
    "\n",
    "Using the request-response approach there is a trade-off between wasting resources and introducing delay to the user. However braking free from the request-response model can enables us to have both - not wasting the resources and presenting the information in a timely manner.\n",
    "\n",
    "WebSockets enables webapps to use two way communication with the server. Using the two way communication, the server can \"push\" the information to the client, without the client explicitly asking for it first.\n",
    "\n",
    "Although the WebSockets technology is not exclusive to web user interfaces, it is widely used in web development, when frequent updates are required from the server to the web client."
   ]
  },
  {
   "cell_type": "markdown",
   "metadata": {
    "slideshow": {
     "slide_type": "subslide"
    }
   },
   "source": [
    "```mermaid\n",
    "graph LR\n",
    "    subgraph ClientSide\n",
    "        C[Client]\n",
    "    end\n",
    "\n",
    "    subgraph ServerSide\n",
    "        S[Server]\n",
    "    end\n",
    "\n",
    "    %% Persistent WebSocket connection (bidirectional)\n",
    "    C ---|WebSocket connection| S\n",
    "    %% Client requests\n",
    "    C -->|Client request| S\n",
    "    %% Server pushes data\n",
    "    S -->|Server push| C\n",
    "\n",
    "    style C fill:#61bffc,stroke:#333,stroke-width:2px,color:#fff\n",
    "    style S fill:#ff4136,stroke:#333,stroke-width:2px,color:#fff\n",
    "\n",
    "```"
   ]
  },
  {
   "cell_type": "markdown",
   "metadata": {
    "slideshow": {
     "slide_type": "slide"
    }
   },
   "source": [
    "## Ways of rendering the `html` documents\n",
    "\n",
    "`HTML` documents have 2 major options how they can be rendered:\n",
    "1. Server side\n",
    "2. Client side\n",
    "\n",
    "Both of these options has their own pros and cons, and none of them is supperior to the other."
   ]
  },
  {
   "cell_type": "markdown",
   "metadata": {
    "slideshow": {
     "slide_type": "subslide"
    }
   },
   "source": [
    "### Server side rendering\n",
    "\n",
    "Traditional way of rendering the `html` documents is rendering them on the server side. This means that all or the majority of `html` document is assembled on the server side, however some smaller part of the document can still be created or manipulated by the `javascript` on the client side."
   ]
  },
  {
   "cell_type": "markdown",
   "metadata": {
    "slideshow": {
     "slide_type": "subslide"
    }
   },
   "source": [
    "In case of server side rendering, the server can simply return differnt `html` on each request. After reloading the page a different rendered view would be seen.\n",
    "\n",
    "```csharp\n",
    "if (hi is true)\n",
    "{\n",
    "    return \"<html>Hello world</html>\";\n",
    "}\n",
    "else\n",
    "{\n",
    "    return \"<html>Goodbye</html>\";\n",
    "}\n",
    "```\n"
   ]
  },
  {
   "cell_type": "markdown",
   "metadata": {
    "slideshow": {
     "slide_type": "subslide"
    }
   },
   "source": [
    "This method has such advantages as:\n",
    "- An ability to cache the rendered websites on the server side so they could be served faster for the future users.\n",
    "- If rendering of the websites requires lots of data from the server, this might be faster because there would be less latency when fetching the data from the server, since all the action is happening in the server itself.\n",
    "- Server, as a machine, might be faster than the consumer device, which might speed up the calculations needed to assemble the `html` document in certain cases. "
   ]
  },
  {
   "cell_type": "markdown",
   "metadata": {
    "slideshow": {
     "slide_type": "subslide"
    }
   },
   "source": [
    "### Client side rendering\n",
    "\n",
    "Client side rendering is done by the `javascript` or *similar other language*[^1] on the user's browser.\n",
    "\n",
    "In such rendering cases only very basic `html` is returned with the initial `document` load. The document references scipts instead instead of code at first. There scripts fetch the needed data from the server and assemble the `html` document on the client's machine. There are popular SPA (single page application) frameworks for this purpose, like `react.js`, `angular` or `vue.js`."
   ]
  },
  {
   "cell_type": "markdown",
   "metadata": {
    "slideshow": {
     "slide_type": "subslide"
    }
   },
   "source": [
    "In case of client side rendering, the `html` document would be constructed on the client side (in this case the \"client side\" is simply a web browser).\n",
    "\n",
    "The logic needed to modify the document would written in `JavaScript`, `WASM` or some derrivative language.\n",
    "\n",
    "```html\n",
    "<html>\n",
    "  <script type=\"text/javascript\">\n",
    "    setInterval(() => {\n",
    "      document.getElementById(\"hello\").innerText = document\n",
    "        .getElementById(\"hello\")\n",
    "        .innerText.split(\"\")\n",
    "        .reverse()\n",
    "        .join(\"\");\n",
    "    }, 2000);\n",
    "  </script>\n",
    "  <h1 id=\"hello\">Hello</h1>\n",
    "  <html></html>\n",
    "</html>\n",
    "```\n",
    "\n",
    "Would render as:\n",
    "\n",
    "<html>\n",
    "  <script type=\"text/javascript\">\n",
    "    setInterval(() => {\n",
    "      document.getElementById(\"hello\").innerText = document\n",
    "        .getElementById(\"hello\")\n",
    "        .innerText.split(\"\").reverse().join(\"\");\n",
    "    }, 2000);\n",
    "  </script>\n",
    "  <h1 id=\"hello\">Hello</h1>\n",
    "  <html></html>\n",
    "</html>\n"
   ]
  },
  {
   "cell_type": "markdown",
   "metadata": {
    "slideshow": {
     "slide_type": "subslide"
    }
   },
   "source": [
    "In the case of client side rendering, the specific data needed to render the page would be fetched using the `XHR` requests.\n",
    "\n",
    "```html\n",
    "<div id=\"fact\"></div>\n",
    "<script>\n",
    "  setInterval(() => {\n",
    "    let x = new XMLHttpRequest();\n",
    "    x.open(\"GET\", \"https://catfact.ninja/fact\");\n",
    "    x.onload = () =>\n",
    "      (document.getElementById(\"fact\").innerText = JSON.parse(x.response).fact);\n",
    "    x.send();\n",
    "  }, 60000);\n",
    "</script>\n",
    "```\n",
    "\n",
    "Would render as:\n",
    "\n",
    "<div id=\"fact\"></div>\n",
    "<script>\n",
    "  setInterval(() => {\n",
    "    let x = new XMLHttpRequest();\n",
    "    x.open(\"GET\", \"https://catfact.ninja/fact\");\n",
    "    x.onload = () =>\n",
    "      (document.getElementById(\"fact\").innerText = JSON.parse(x.response).fact);\n",
    "    x.send();\n",
    "  }, 60000);\n",
    "</script>\n"
   ]
  },
  {
   "cell_type": "markdown",
   "metadata": {
    "slideshow": {
     "slide_type": "subslide"
    }
   },
   "source": [
    "This method offers advantages like:\n",
    "\n",
    "- Increased level of interactivity of the website. This allows to easily add interaction to `html` elements that would be handled on the client side.\n",
    "- Initial latency might be reduced. Because a very simple document is only loaded initially, some loading state indicator can be displayed on screen very quickly. To fully render the website will still take time, but the first interactive version can be displayed very quickly.\n",
    "- Potentially reduced computational load on the server side.\n",
    "\n",
    "^1 - there are options like compiled web assemblies (wasm), that are not `javascript`, but can be used for similar purposes.\n"
   ]
  },
  {
   "cell_type": "markdown",
   "metadata": {
    "slideshow": {
     "slide_type": "slide"
    }
   },
   "source": [
    "## Further reading\n",
    "\n",
    "- https://thecascade.dev/article/least-amount-of-css/ - the least amount of CSS to get decent improvement over defaults."
   ]
  }
 ],
 "metadata": {
  "kernelspec": {
   "display_name": ".NET (C#)",
   "language": "C#",
   "name": ".net-csharp"
  },
  "language_info": {
   "name": "polyglot-notebook"
  },
  "polyglot_notebook": {
   "kernelInfo": {
    "defaultKernelName": "csharp",
    "items": [
     {
      "aliases": [],
      "languageName": "csharp",
      "name": "csharp"
     }
    ]
   }
  }
 },
 "nbformat": 4,
 "nbformat_minor": 2
}
