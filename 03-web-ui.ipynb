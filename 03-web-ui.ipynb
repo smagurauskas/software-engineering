{
 "cells": [
  {
   "cell_type": "markdown",
   "metadata": {
    "slideshow": {
     "slide_type": "slide"
    }
   },
   "source": [
    "# Web development\n",
    "\n",
    "Web (*webpages* or *websites* or *web app*) developments allows to deliver programs with rich user interaces served by web browsers and are delivered via HTTP(S) protocol."
   ]
  },
  {
   "cell_type": "markdown",
   "metadata": {
    "slideshow": {
     "slide_type": "subslide"
    }
   },
   "source": [
    "Website development predominantly uses `HTML`, `CSS` and `JavaScript` languages:\n",
    "- `HTML` allows to set the structure of elements rendered on web page.\n",
    "- `CSS` allows to change the styles of these rendered elements.\n",
    "- `JavaScript` allows to add dynamic interactions to the web page."
   ]
  },
  {
   "cell_type": "markdown",
   "metadata": {
    "slideshow": {
     "slide_type": "subslide"
    }
   },
   "source": [
    "Websites can be served to users as simple static `HTML` files. But static websites have limited capabilities - they cannot dynamically update their content with new data. In order for website to dynamically adapt to new data it cannot be static, but it needs to be rendered dynamically instead. Rendering in this case means assembling `HTML` document, that can be taken by browser to display the website to user.\n",
    "\n",
    "`HTML` documents have 2 major options how they can be rendered:\n",
    "1. Server side\n",
    "2. Client side\n",
    "\n",
    "Each of these options comes with their pros and cons, and none of them is supperior to the other."
   ]
  },
  {
   "cell_type": "markdown",
   "metadata": {
    "slideshow": {
     "slide_type": "slide"
    }
   },
   "source": [
    "## Web app development overview\n"
   ]
  },
  {
   "cell_type": "markdown",
   "metadata": {
    "slideshow": {
     "slide_type": "slide"
    }
   },
   "source": [
    "### HTML\n",
    "\n",
    "`HTML` stands for Hypertext Markup Language.\n",
    "\n",
    "`HTML` is a markup language meaning that it does not have capabilities of traditional programming languages to sciprt algorithms, but it is instead used to define structure of the document.\n",
    "\n",
    "```html\n",
    "<html>\n",
    "    <head>\n",
    "    \n",
    "    </head>\n",
    "    <body>\n",
    "        This is a very simple HTML document\n",
    "    </body>\n",
    "</html>\n",
    "```"
   ]
  },
  {
   "cell_type": "markdown",
   "metadata": {
    "slideshow": {
     "slide_type": "subslide"
    }
   },
   "source": [
    "#### Elements and tags\n",
    "\n",
    "`HTML` markup consists of elements. Elements consists of openning and closing tags.\n",
    "\n",
    "Opening tag is written by specifying element name between `<` and `>`, i.e. `<div>`.\n",
    "Closing tag is written by specifying element name between `</` and `>`, i.e. `</div>`. The only difference between opening and closing tags are the `/` symbol following `<`.\n",
    "\n",
    "Every[^1] opening tag must have a corresponding closing tag.\n",
    "\n",
    "Element can be opened and closed in same tag, by prepending `/` before the closing symbol `>`, i.e. `<div />`. This is used in cases where element does not have any inner content and is primarily used for some rendering purposes.\n",
    "\n",
    "[^1] - in most of cases. This would be true in `XML`, but since `HTML` is not `XML`, there are some cases, where it is a legit `HTML` syntax for opening tag not to have a closing tag."
   ]
  },
  {
   "cell_type": "markdown",
   "metadata": {
    "slideshow": {
     "slide_type": "subslide"
    }
   },
   "source": [
    "#### Attributes\n",
    "\n",
    "`HTML` elements can also have attributes, just like `XML` elements have.\n",
    "\n",
    "Attributes are specified in opening tag between element name and closing `>`.\n",
    "\n",
    "`<a href=\"#\">hello</a>` element has an attribute `href` with the value of `#`.\n",
    "\n",
    "Elements can have more than one attribute."
   ]
  },
  {
   "cell_type": "markdown",
   "metadata": {
    "slideshow": {
     "slide_type": "subslide"
    }
   },
   "source": [
    "#### Comments\n",
    "\n",
    "Comments in `HTML` documents are specified between `<!--` and `-->` tags.\n",
    "\n",
    "An example comment in `HTML` looks like this: `<!-- this is a comment -->`.\n",
    "\n",
    "Comments are ignored when browser renders the document."
   ]
  },
  {
   "cell_type": "markdown",
   "metadata": {
    "slideshow": {
     "slide_type": "subslide"
    }
   },
   "source": [
    "#### HTML document structure\n",
    "\n",
    "`HTML` are always wrapped in `<html>` element. Every document must have this element as the root element.\n",
    "\n",
    "Immediately inside `<html>` element there can be `<head>` element. `<head>` element is not rendered by the browser directly, but rather it can contain various references and other metadata for the page. Examples of such references are inlined or imported `js` scripts, references to `css` files or other metadata elements such as `<title>` which specifies the title of the page to be displayed by the browser.\n",
    "\n",
    "The `<body>` element comes next. `<body>` element contains other children elements that will be rendered by the browser into an UI.\n",
    "\n",
    "`HTML` has a large selection of elements for rendering the UI, which can be found [here](https://developer.mozilla.org/en-US/docs/Web/HTML/Element). There are elements for different purposes: from `<div>` which is used for very generic wrapping purposes, to `<table>` which is used to conveniently display rendered tables.\n",
    "\n",
    "Check [this reference](https://developer.mozilla.org/en-US/docs/Web/HTML/Element) to learn more about the available elements and how to use each of these elements."
   ]
  },
  {
   "cell_type": "markdown",
   "metadata": {
    "slideshow": {
     "slide_type": "subslide"
    }
   },
   "source": [
    "```html\n",
    "<!-- very simplistic example of an html document with no style or interactivity -->\n",
    "<html>\n",
    "    <head>\n",
    "        <title>simple document</title>\n",
    "    </head>\n",
    "    <body>\n",
    "        <div>text wrapped in container</div>\n",
    "        <b>text but bold</b>\n",
    "        <button>pushable button</button>\n",
    "    </body>\n",
    "</html>\n",
    "```"
   ]
  },
  {
   "cell_type": "markdown",
   "metadata": {
    "slideshow": {
     "slide_type": "notes"
    }
   },
   "source": [
    "Static `HTML` documents can be tested by simply saving them as `.html` files and the opening them with the internet browser application."
   ]
  },
  {
   "cell_type": "markdown",
   "metadata": {
    "slideshow": {
     "slide_type": "slide"
    }
   },
   "source": [
    "### CSS\n",
    "\n",
    "`CSS` stands for Cascading Style Sheets. `CSS` is a language for specifying the styling for the `HTML` documents.\n",
    "\n",
    "`CSS` styling includes such use cases as `width` or `height` of the elements, `colors` of these elements, font sizes and families, how and when should be elements be wrapped into new lines and more.\n",
    "\n",
    "`html` element references usually will also contain information about the available style options for these elements."
   ]
  },
  {
   "cell_type": "markdown",
   "metadata": {
    "slideshow": {
     "slide_type": "subslide"
    }
   },
   "source": [
    "Sample `css` file:\n",
    "\n",
    "```css\n",
    ".blue-box\n",
    "{\n",
    "    background-color: #0000FF;\n",
    "    width: 100px;\n",
    "    height: 100px;\n",
    "}\n",
    "```\n",
    "\n",
    "This `css` would be applied to an `html` element which has a `class` attribute with `.blue-box` name."
   ]
  },
  {
   "cell_type": "markdown",
   "metadata": {
    "slideshow": {
     "slide_type": "subslide"
    }
   },
   "source": [
    "`css` statements consists of `selector` statement followed by a style statement between `{ }`. \n",
    "\n",
    "Selectors specify which `html` elements the style should apply to. Selectors can be specified to apply to all elements with certain `class` attribute, to elements with certain `id` attribute or to all elements of certain type.\n",
    "\n",
    "On top of that these rules can be nested by chaining selectors separated by an empty space. For example rule with selector `.blue-box .white-box` would apply to all elements with `class` name `white-box` that are children of element of class `blue-box`.\n",
    "\n",
    "Rules can also be used in conjunction: `.white-box.blue-box` would apply to elements that have both `white-box` and `blue-box` classes.\n",
    "\n",
    "For the full reference of available rules see [this](https://developer.mozilla.org/en-US/docs/Web/CSS/CSS_selectors)."
   ]
  },
  {
   "cell_type": "markdown",
   "metadata": {
    "slideshow": {
     "slide_type": "subslide"
    }
   },
   "source": [
    "To import `css` into an `html` document a `<link rel=\"stylesheet\" href=\"style.css\">` element should be added as child of `<head>` element. In this case `href` value (in the example it is `style.css`) specifies relative or absolute path of the `css` file to be imported into the `html` document.\n",
    "\n",
    "An example\n",
    "\n",
    "File `style.css`:\n",
    "```css\n",
    ".blue-box\n",
    "{\n",
    "    background-color: #0000FF;\n",
    "    width: 100px;\n",
    "    height: 100px;\n",
    "}\n",
    "```\n",
    "\n",
    "File `page.html`:\n",
    "```html\n",
    "<html>\n",
    "    <head>\n",
    "        <link rel=\"stylesheet\" href=\"style.css\">\n",
    "    </head>\n",
    "    <body>\n",
    "        <div class=\"blue-box\">this will be a blue box</div>\n",
    "    </body>\n",
    "</html>\n",
    "```"
   ]
  },
  {
   "cell_type": "markdown",
   "metadata": {
    "slideshow": {
     "slide_type": "subslide"
    }
   },
   "source": [
    "*Better* practices when using `css`:\n",
    "- Try to use selectors that use `class` names when targeting specific `html` elements.\n",
    "- Link `css` from a file rather than inlining on `html` elements.\n",
    "- Use [flexbox](https://developer.mozilla.org/en-US/docs/Learn/CSS/CSS_layout/Flexbox) to achieve the wanted page layout."
   ]
  },
  {
   "cell_type": "markdown",
   "metadata": {
    "slideshow": {
     "slide_type": "slide"
    }
   },
   "source": [
    "### JavaScript\n",
    "\n",
    "JavaScript is used to add dynamic functionality to the web sites. Browsers have a capability to execute JavaScript (`js`) scripts that are added to the `html` document to give the website dynamic interactions. `js` is being executed on the client side (user's computer) and is the driving force behind the interactivity in the modern websites.\n",
    "\n",
    "`js` can access `document` api and other predefined functions in the browser to alter the `html` document and perform other actions. Things `js` can do include:\n",
    "- Dynamically add or remove `html` element from the document.\n",
    "- Call web services to fetch or send data.\n",
    "- Do any calculations (JavaScript is proper Turing-complete language)."
   ]
  },
  {
   "cell_type": "markdown",
   "metadata": {
    "slideshow": {
     "slide_type": "subslide"
    }
   },
   "source": [
    "JavaScript can be imported to `html` document via `<script>` element in the `<head>`:\n",
    "\n",
    "```html\n",
    "<html>\n",
    "    <head>\n",
    "        <script src=\"javascript.js\"></script>\n",
    "        <script>\n",
    "            alert(\"inline alert\");\n",
    "        </script>\n",
    "    </head>\n",
    "    <body>\n",
    "    </body>\n",
    "</html>\n",
    "```\n",
    "\n",
    "The `html` document in the example above would import the `javascript.js` file with all the scripts inside of it and then would run the inline written script with `alert(\"inline alert\");` (it would make an alert box pop up) statement."
   ]
  },
  {
   "cell_type": "markdown",
   "metadata": {
    "slideshow": {
     "slide_type": "slide"
    }
   },
   "source": [
    "### WebSockets\n",
    "\n",
    "WebSockets enables webapps to use two way communication with the server. Although the technology is not exclusive to web user interfaces, it is widely used in web development, when frequent updates are required from the server to the web client."
   ]
  },
  {
   "cell_type": "markdown",
   "metadata": {
    "slideshow": {
     "slide_type": "slide"
    }
   },
   "source": [
    "### Server side rendering\n",
    "\n",
    "Traditional way of rendering the `html` documents is rendering them on the server side. This means that all or the majority of `html` document is assembled on the server side, however some smaller part of the document can still be created or manipulated by the `javascript` on the client side.\n",
    "\n",
    "This method has such advantages as:\n",
    "- An ability to cache the rendered websites on the server side so they could be served faster for the future users.\n",
    "- If rendering of the websites requires lots of data from the server, this might be faster because there would be less latency when fetching the data from the server, since all the action is happening in the server itself.\n",
    "- Server, as a machine, might be faster than the consumer device, which might speed up the calculations needed to assemble the `html` document in certain cases. "
   ]
  },
  {
   "cell_type": "markdown",
   "metadata": {
    "slideshow": {
     "slide_type": "slide"
    }
   },
   "source": [
    "### Client side rendering\n",
    "\n",
    "Client side rendering is done by the `javascript` or *similar other language*[^1] on the user's browser.\n",
    "\n",
    "In such rendering cases only very basic `html` is returned with the initial `document` load. The document references scipts instead instead of code at first. There scripts fetch the needed data from the server and assemble the `html` document on the client's machine. There are popular SPA (single page application) frameworks for this purpose, like `react.js`, `angular` or `vue.js`.\n",
    "\n",
    "This method offers advantages like:\n",
    "- Increased level of interactivity of the website. This allows to easily add interaction to `html` elements that would be handled on the client side.\n",
    "- Initial latency might be reduced. Because a very simple document is only loaded initially, some loading state indicator can be displayed on screen very quickly. To fully render the website will still take time, but the first interactive version can be displayed very quickly.\n",
    "- Potentially reduced computational load on the server side.\n",
    "\n",
    "^1 - there are options like compiled web assemblies (wasm), that are not `javascript`, but can be used for similar purposes. "
   ]
  }
 ],
 "metadata": {
  "kernelspec": {
   "display_name": ".NET (C#)",
   "language": "C#",
   "name": ".net-csharp"
  },
  "language_info": {
   "name": "polyglot-notebook"
  },
  "polyglot_notebook": {
   "kernelInfo": {
    "defaultKernelName": "csharp",
    "items": [
     {
      "aliases": [],
      "languageName": "csharp",
      "name": "csharp"
     }
    ]
   }
  }
 },
 "nbformat": 4,
 "nbformat_minor": 2
}
