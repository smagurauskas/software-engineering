{
 "cells": [
  {
   "cell_type": "markdown",
   "metadata": {},
   "source": [
    "# Creating Web UIs with ASP.NET"
   ]
  },
  {
   "cell_type": "markdown",
   "metadata": {},
   "source": [
    "Purpose of this topic is not to make the student ASP.NET expert or to provide any definitive guide in any form.\n",
    "\n",
    "The goal is rather to teach ***how to learn*** to work with the Web UI frameworks. How to pick up pieces of relevant information when quick solutions are needed, and how to assemble them into some working MVP. Then, when the situation arises - dive deeper and go through the additional learning material to get the more comprehensive understanding level of the technology. Think of this as an applied learning approach."
   ]
  },
  {
   "cell_type": "markdown",
   "metadata": {},
   "source": [
    "This notebook will focus on using Blazor to create web UIs, although there are other legitimate choices available."
   ]
  },
  {
   "cell_type": "markdown",
   "metadata": {},
   "source": [
    "## Create Blazor project\n",
    "\n",
    "`dotnet new blazor -n <project name>`\n",
    "\n",
    "This will result in directory with the name of `<project name>` created. This directory will have the following structure:\n",
    "\n",
    "- `Components`\n",
    "- `Properties`\n",
    "- `wwwroot`\n",
    "- `appsettings.Development.json`\n",
    "- `appsettings.json`\n",
    "- `Program.cs`\n",
    "- `<project name>.csproj`\n",
    "- `<project name>.sln`"
   ]
  },
  {
   "cell_type": "markdown",
   "metadata": {},
   "source": []
  }
 ],
 "metadata": {
  "kernelspec": {
   "display_name": ".NET (C#)",
   "language": "C#",
   "name": ".net-csharp"
  },
  "language_info": {
   "name": "polyglot-notebook"
  },
  "polyglot_notebook": {
   "kernelInfo": {
    "defaultKernelName": "csharp",
    "items": [
     {
      "aliases": [],
      "languageName": "csharp",
      "name": "csharp"
     }
    ]
   }
  }
 },
 "nbformat": 4,
 "nbformat_minor": 2
}
