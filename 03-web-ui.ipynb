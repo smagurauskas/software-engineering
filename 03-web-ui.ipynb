{
 "cells": [
  {
   "cell_type": "markdown",
   "metadata": {},
   "source": [
    "# Creating Web UIs with ASP.NET"
   ]
  },
  {
   "cell_type": "markdown",
   "metadata": {},
   "source": [
    "Purpose of this topic is not to make the student ASP.NET expert or to provide any definitive guide in any form.\n",
    "\n",
    "The goal is rather to teach ***how to learn*** to work with the Web UI frameworks. How to pick up pieces of relevant information when quick solutions are needed, and how to assemble them into some working MVP. Then, when the situation arises - dive deeper and go through the additional learning material to get the more comprehensive understanding level of the technology. Think of this as an applied learning approach."
   ]
  }
 ],
 "metadata": {
  "kernelspec": {
   "display_name": ".NET (C#)",
   "language": "C#",
   "name": ".net-csharp"
  },
  "language_info": {
   "name": "polyglot-notebook"
  },
  "polyglot_notebook": {
   "kernelInfo": {
    "defaultKernelName": "csharp",
    "items": [
     {
      "aliases": [],
      "languageName": "csharp",
      "name": "csharp"
     }
    ]
   }
  }
 },
 "nbformat": 4,
 "nbformat_minor": 2
}
