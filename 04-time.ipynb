{
 "cells": [
  {
   "cell_type": "markdown",
   "id": "2f08ab97",
   "metadata": {},
   "source": [
    "## Working with time\n",
    "\n",
    "C# has several classes for working with time related matters: `DateTime`, `DateTimeOffset`, `DateOnly`, `TimeOnly` and `Stopwatch`.\n",
    "\n",
    "When thinking about time we can think about it in 2 days:\n",
    "- \"Wall time\" - time that represents a time of day, or in other words a specific moment in time.\n",
    "- \"Monotonic time\" - time that specifies duration between 2 events."
   ]
  },
  {
   "cell_type": "markdown",
   "id": "9f9986dd",
   "metadata": {},
   "source": [
    "### `DateTime`\n",
    "\n",
    "`DateTime` class stores date and time, has 3 `.Kind`s:\n",
    "- `DateTimeKind.Utc`: Coordinated Universal Time\n",
    "- `DateTimeKind.Local`: Local system time\n",
    "- `DateTimeKind.Unspecified`: No time zone context\n",
    "\n",
    "It works fine for most basic use cases. Only caveat is that if you need to store datetime in some specific timezone - it does not support that."
   ]
  },
  {
   "cell_type": "code",
   "execution_count": null,
   "id": "1f1d5368",
   "metadata": {
    "polyglot_notebook": {
     "kernelName": "csharp"
    },
    "vscode": {
     "languageId": "polyglot-notebook"
    }
   },
   "outputs": [],
   "source": [
    "var utcDateTime = DateTime.UtcNow;\n",
    "\n",
    "utcDateTime.Display();"
   ]
  },
  {
   "cell_type": "code",
   "execution_count": null,
   "id": "71e96891",
   "metadata": {
    "polyglot_notebook": {
     "kernelName": "csharp"
    },
    "vscode": {
     "languageId": "polyglot-notebook"
    }
   },
   "outputs": [],
   "source": [
    "var localDateTime = DateTime.Now;\n",
    "\n",
    "localDateTime.Display();\n",
    "\n",
    "// We can print it with time zone offset\n",
    "localDateTime.ToString(\"yyyy-MM-dd HH:mm:ss zzz\").Display();\n",
    "\n",
    "// But if we parse it back, we will only now that it is `Local` kind\n",
    "var parsedLocalDateTime = DateTime.Parse(localDateTime.AddHours(1).ToString(\"yyyy-MM-dd HH:mm:ss zzz\"));\n",
    "parsedLocalDateTime.Display();\n",
    "parsedLocalDateTime.Kind.Display(); // Local"
   ]
  },
  {
   "cell_type": "markdown",
   "id": "6a1d4b42",
   "metadata": {},
   "source": [
    "### `DateTimeOffset`\n",
    "\n",
    "`DateTimeOffset` can be used to store date alongside the time offset info. It should be more flexible for cases when you do care about the time zone."
   ]
  },
  {
   "cell_type": "code",
   "execution_count": null,
   "id": "10f669c3",
   "metadata": {
    "polyglot_notebook": {
     "kernelName": "csharp"
    },
    "vscode": {
     "languageId": "polyglot-notebook"
    }
   },
   "outputs": [],
   "source": [
    "var dateTimeOffset = DateTimeOffset.Now;\n",
    "dateTimeOffset.Display();\n",
    "\n",
    "dateTimeOffset.Offset.Display(); // Time zone offset\n",
    "\n",
    "// Change the time zone offset\n",
    "dateTimeOffset = dateTimeOffset.ToOffset(TimeSpan.FromHours(5));\n",
    "dateTimeOffset.Display();\n",
    "dateTimeOffset.Offset.Display(); // Time zone offset"
   ]
  },
  {
   "cell_type": "markdown",
   "id": "e016e7fe",
   "metadata": {},
   "source": [
    "### `DateOnly` and `TimeOnly`\n",
    "\n",
    "`DateOnly` and `TimeOnly` allows to smaller amount of information that only relates to date or time that you care about. It is useful when you only care about specific part of data and don't want to artificially store the other part."
   ]
  },
  {
   "cell_type": "code",
   "execution_count": null,
   "id": "7fa64f5d",
   "metadata": {
    "polyglot_notebook": {
     "kernelName": "csharp"
    },
    "vscode": {
     "languageId": "polyglot-notebook"
    }
   },
   "outputs": [],
   "source": [
    "var dateOnly = DateOnly.FromDateTime(DateTime.Now);\n",
    "dateOnly.ToString().Display();\n",
    "\n",
    "var timeOnly = TimeOnly.FromDateTime(DateTime.Now);\n",
    "timeOnly.ToString().Display();"
   ]
  },
  {
   "cell_type": "markdown",
   "id": "7cc07a4d",
   "metadata": {},
   "source": [
    "### Wall time pitfalls\n",
    "\n",
    "Wall time in practice is not always linear. Some of the common pitalls you can encounter are:\n",
    "- Time zone changes\n",
    "- System time synchronizations\n",
    "- Leap seconds"
   ]
  },
  {
   "cell_type": "code",
   "execution_count": null,
   "id": "d5db2c63",
   "metadata": {
    "polyglot_notebook": {
     "kernelName": "csharp"
    },
    "vscode": {
     "languageId": "polyglot-notebook"
    }
   },
   "outputs": [],
   "source": [
    "var utcTime = new DateTime(2025, 10, 26, 0, 58, 0, DateTimeKind.Utc);\n",
    "\n",
    "TimeZoneInfo vilniusZone = TimeZoneInfo.FindSystemTimeZoneById(\"FLE Standard Time\");\n",
    "\n",
    "TimeZoneInfo.ConvertTimeFromUtc(utcTime, vilniusZone).Display();\n",
    "TimeZoneInfo.ConvertTimeFromUtc(utcTime.AddMinutes(1), vilniusZone).Display();\n",
    "TimeZoneInfo.ConvertTimeFromUtc(utcTime.AddMinutes(2), vilniusZone).Display();"
   ]
  },
  {
   "cell_type": "markdown",
   "id": "c1975645",
   "metadata": {},
   "source": [
    "### `Stopwatch`\n",
    "\n",
    "`Stopwatch` uses monotonic time provided by the OS when possible, which allows to avoid some of the potential wall time pitfalls, when you care only about time intervals."
   ]
  },
  {
   "cell_type": "code",
   "execution_count": null,
   "id": "2e093003",
   "metadata": {
    "polyglot_notebook": {
     "kernelName": "csharp"
    },
    "vscode": {
     "languageId": "polyglot-notebook"
    }
   },
   "outputs": [],
   "source": [
    "var stopwatch = System.Diagnostics.Stopwatch.StartNew();\n",
    "\n",
    "await Task.Delay(1000);\n",
    "stopwatch.Stop();\n",
    "\n",
    "stopwatch.ElapsedMilliseconds.Display();"
   ]
  }
 ],
 "metadata": {
  "kernelspec": {
   "display_name": ".NET (C#)",
   "language": "C#",
   "name": ".net-csharp"
  },
  "language_info": {
   "name": "csharp"
  },
  "polyglot_notebook": {
   "kernelInfo": {
    "defaultKernelName": "csharp",
    "items": [
     {
      "aliases": [],
      "name": "csharp"
     }
    ]
   }
  }
 },
 "nbformat": 4,
 "nbformat_minor": 5
}
