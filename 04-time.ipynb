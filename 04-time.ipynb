{
 "cells": [
  {
   "cell_type": "markdown",
   "id": "2f08ab97",
   "metadata": {
    "slideshow": {
     "slide_type": "slide"
    }
   },
   "source": [
    "## Working with time\n",
    "\n",
    "C# has several classes for working with time related matters: `DateTime`, `DateTimeOffset`, `DateOnly`, `TimeOnly` and `Stopwatch`.\n",
    "\n",
    "When thinking about time we can think about it in 2 ways:\n",
    "- \"Wall time\" - time that represents a time of day, or in other words a specific moment in time.\n",
    "- \"Monotonic time\" - time that specifies duration between 2 events."
   ]
  },
  {
   "cell_type": "markdown",
   "id": "9f9986dd",
   "metadata": {
    "slideshow": {
     "slide_type": "subslide"
    }
   },
   "source": [
    "### `DateTime`\n",
    "\n",
    "`DateTime` class stores date and time, has 3 `.Kind`s:\n",
    "- `DateTimeKind.Utc`: Coordinated Universal Time\n",
    "- `DateTimeKind.Local`: Local system time\n",
    "- `DateTimeKind.Unspecified`: No time zone context\n",
    "\n",
    "It works fine for most basic use cases. Only caveat is that if you need to store datetime in some specific timezone - it does not support that."
   ]
  },
  {
   "cell_type": "code",
   "execution_count": 1,
   "id": "1f1d5368",
   "metadata": {
    "polyglot_notebook": {
     "kernelName": "csharp"
    },
    "slideshow": {
     "slide_type": "subslide"
    }
   },
   "outputs": [
    {
     "data": {
      "text/html": [
       "<span>2025-09-29 14:54:14Z</span>"
      ]
     },
     "metadata": {},
     "output_type": "display_data"
    }
   ],
   "source": [
    "var utcDateTime = DateTime.UtcNow;\n",
    "\n",
    "utcDateTime.Display();"
   ]
  },
  {
   "cell_type": "code",
   "execution_count": 2,
   "id": "71e96891",
   "metadata": {
    "polyglot_notebook": {
     "kernelName": "csharp"
    },
    "slideshow": {
     "slide_type": "subslide"
    }
   },
   "outputs": [
    {
     "data": {
      "text/html": [
       "<span>2025-09-29 14:54:14Z</span>"
      ]
     },
     "metadata": {},
     "output_type": "display_data"
    },
    {
     "data": {
      "text/plain": [
       "2025-09-29 14:54:14 +00:00"
      ]
     },
     "metadata": {},
     "output_type": "display_data"
    },
    {
     "data": {
      "text/html": [
       "<span>2025-09-29 15:54:14Z</span>"
      ]
     },
     "metadata": {},
     "output_type": "display_data"
    },
    {
     "data": {
      "text/html": [
       "<span>Local</span>"
      ]
     },
     "metadata": {},
     "output_type": "display_data"
    }
   ],
   "source": [
    "var localDateTime = DateTime.Now;\n",
    "\n",
    "localDateTime.Display();\n",
    "\n",
    "// We can print it with time zone offset\n",
    "localDateTime.ToString(\"yyyy-MM-dd HH:mm:ss zzz\").Display();\n",
    "\n",
    "// But if we parse it back, we will only now that it is `Local` kind\n",
    "var parsedLocalDateTime = DateTime.Parse(localDateTime.AddHours(1).ToString(\"yyyy-MM-dd HH:mm:ss zzz\"));\n",
    "parsedLocalDateTime.Display();\n",
    "parsedLocalDateTime.Kind.Display(); // Local"
   ]
  },
  {
   "cell_type": "markdown",
   "id": "6a1d4b42",
   "metadata": {
    "slideshow": {
     "slide_type": "subslide"
    }
   },
   "source": [
    "### `DateTimeOffset`\n",
    "\n",
    "`DateTimeOffset` can be used to store date alongside the time offset info. It should be more flexible for cases when you do care about the time zone."
   ]
  },
  {
   "cell_type": "code",
   "execution_count": 3,
   "id": "10f669c3",
   "metadata": {
    "polyglot_notebook": {
     "kernelName": "csharp"
    },
    "slideshow": {
     "slide_type": "subslide"
    }
   },
   "outputs": [
    {
     "data": {
      "text/html": [
       "<span>2025-09-29 14:54:15Z</span>"
      ]
     },
     "metadata": {},
     "output_type": "display_data"
    },
    {
     "data": {
      "text/html": [
       "<span>00:00:00</span>"
      ]
     },
     "metadata": {},
     "output_type": "display_data"
    },
    {
     "data": {
      "text/html": [
       "<span>2025-09-29 14:54:15Z</span>"
      ]
     },
     "metadata": {},
     "output_type": "display_data"
    },
    {
     "data": {
      "text/html": [
       "<span>05:00:00</span>"
      ]
     },
     "metadata": {},
     "output_type": "display_data"
    }
   ],
   "source": [
    "var dateTimeOffset = DateTimeOffset.Now;\n",
    "dateTimeOffset.Display();\n",
    "\n",
    "dateTimeOffset.Offset.Display(); // Time zone offset\n",
    "\n",
    "// Change the time zone offset\n",
    "dateTimeOffset = dateTimeOffset.ToOffset(TimeSpan.FromHours(5));\n",
    "dateTimeOffset.Display();\n",
    "dateTimeOffset.Offset.Display(); // Time zone offset"
   ]
  },
  {
   "cell_type": "markdown",
   "id": "e016e7fe",
   "metadata": {
    "slideshow": {
     "slide_type": "subslide"
    }
   },
   "source": [
    "### `DateOnly` and `TimeOnly`\n",
    "\n",
    "`DateOnly` and `TimeOnly` allows to smaller amount of information that only relates to date or time that you care about. It is useful when you only care about specific part of data and don't want to artificially store the other part."
   ]
  },
  {
   "cell_type": "code",
   "execution_count": 4,
   "id": "7fa64f5d",
   "metadata": {
    "polyglot_notebook": {
     "kernelName": "csharp"
    },
    "slideshow": {
     "slide_type": "fragment"
    }
   },
   "outputs": [
    {
     "data": {
      "text/plain": [
       "9/29/2025"
      ]
     },
     "metadata": {},
     "output_type": "display_data"
    },
    {
     "data": {
      "text/plain": [
       "2:54 PM"
      ]
     },
     "metadata": {},
     "output_type": "display_data"
    }
   ],
   "source": [
    "var dateOnly = DateOnly.FromDateTime(DateTime.Now);\n",
    "dateOnly.ToString().Display();\n",
    "\n",
    "var timeOnly = TimeOnly.FromDateTime(DateTime.Now);\n",
    "timeOnly.ToString().Display();"
   ]
  },
  {
   "cell_type": "markdown",
   "id": "7cc07a4d",
   "metadata": {
    "slideshow": {
     "slide_type": "subslide"
    }
   },
   "source": [
    "### Wall time pitfalls\n",
    "\n",
    "Wall time in practice is not always linear. Some of the common pitalls you can encounter are:\n",
    "- Time zone changes\n",
    "- System time synchronizations\n",
    "- Leap seconds"
   ]
  },
  {
   "cell_type": "code",
   "execution_count": null,
   "id": "d5db2c63",
   "metadata": {
    "polyglot_notebook": {
     "kernelName": "csharp"
    },
    "slideshow": {
     "slide_type": "fragment"
    }
   },
   "outputs": [
    {
     "data": {
      "text/html": [
       "<span>2025-10-26 03:58:00Z</span>"
      ]
     },
     "metadata": {},
     "output_type": "display_data"
    },
    {
     "data": {
      "text/html": [
       "<span>2025-10-26 03:59:00Z</span>"
      ]
     },
     "metadata": {},
     "output_type": "display_data"
    },
    {
     "data": {
      "text/html": [
       "<span>2025-10-26 03:00:00Z</span>"
      ]
     },
     "metadata": {},
     "output_type": "display_data"
    }
   ],
   "source": [
    "var utcTime = new DateTime(2025, 10, 26, 0, 58, 0, DateTimeKind.Utc);\n",
    "\n",
    "TimeZoneInfo vilniusZone = TimeZoneInfo.FindSystemTimeZoneById(\"FLE Standard Time\");\n",
    "\n",
    "// You would expect time be continously increasing, but due to DST change it is not\n",
    "// which you cannot know, unless you know the time zone it is happening in\n",
    "TimeZoneInfo.ConvertTimeFromUtc(utcTime, vilniusZone).Display();\n",
    "TimeZoneInfo.ConvertTimeFromUtc(utcTime.AddMinutes(1), vilniusZone).Display();\n",
    "TimeZoneInfo.ConvertTimeFromUtc(utcTime.AddMinutes(2), vilniusZone).Display();"
   ]
  },
  {
   "cell_type": "markdown",
   "id": "c1975645",
   "metadata": {
    "slideshow": {
     "slide_type": "subslide"
    }
   },
   "source": [
    "### `Stopwatch`\n",
    "\n",
    "`Stopwatch` uses monotonic time provided by the OS when possible, which allows to avoid some of the potential wall time pitfalls, when you care only about time intervals."
   ]
  },
  {
   "cell_type": "code",
   "execution_count": 6,
   "id": "2e093003",
   "metadata": {
    "polyglot_notebook": {
     "kernelName": "csharp"
    },
    "slideshow": {
     "slide_type": "fragment"
    }
   },
   "outputs": [
    {
     "data": {
      "text/html": [
       "<div class=\"dni-plaintext\"><pre>1001</pre></div><style>\r\n",
       ".dni-code-hint {\r\n",
       "    font-style: italic;\r\n",
       "    overflow: hidden;\r\n",
       "    white-space: nowrap;\r\n",
       "}\r\n",
       ".dni-treeview {\r\n",
       "    white-space: nowrap;\r\n",
       "}\r\n",
       ".dni-treeview td {\r\n",
       "    vertical-align: top;\r\n",
       "    text-align: start;\r\n",
       "}\r\n",
       "details.dni-treeview {\r\n",
       "    padding-left: 1em;\r\n",
       "}\r\n",
       "table td {\r\n",
       "    text-align: start;\r\n",
       "}\r\n",
       "table tr { \r\n",
       "    vertical-align: top; \r\n",
       "    margin: 0em 0px;\r\n",
       "}\r\n",
       "table tr td pre \r\n",
       "{ \r\n",
       "    vertical-align: top !important; \r\n",
       "    margin: 0em 0px !important;\r\n",
       "} \r\n",
       "table th {\r\n",
       "    text-align: start;\r\n",
       "}\r\n",
       "</style>"
      ]
     },
     "metadata": {},
     "output_type": "display_data"
    }
   ],
   "source": [
    "var stopwatch = System.Diagnostics.Stopwatch.StartNew();\n",
    "\n",
    "await Task.Delay(1000);\n",
    "stopwatch.Stop();\n",
    "\n",
    "stopwatch.ElapsedMilliseconds.Display();"
   ]
  }
 ],
 "metadata": {
  "kernelspec": {
   "display_name": ".NET (C#)",
   "language": "C#",
   "name": ".net-csharp"
  },
  "language_info": {
   "name": "polyglot-notebook"
  },
  "polyglot_notebook": {
   "kernelInfo": {
    "defaultKernelName": "csharp",
    "items": [
     {
      "aliases": [],
      "name": "csharp"
     }
    ]
   }
  }
 },
 "nbformat": 4,
 "nbformat_minor": 5
}
