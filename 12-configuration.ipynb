{
 "cells": [
  {
   "cell_type": "markdown",
   "metadata": {
    "slideshow": {
     "slide_type": "slide"
    }
   },
   "source": [
    "# Configuration\n",
    "\n",
    "Configuration allow to change the behavior of program without change the code or it's binaries.\n",
    "\n",
    "Users of the configuration are going to be other engineers."
   ]
  },
  {
   "cell_type": "markdown",
   "metadata": {
    "slideshow": {
     "slide_type": "slide"
    }
   },
   "source": [
    "## Designing configuration\n",
    "\n",
    "When designing configuration, you should consider such questions:\n",
    "- What should be configurable?\n",
    "- How granular the configuration should be?\n",
    "- Can the application work with some default values?\n",
    "- Is the configuration self contained?"
   ]
  },
  {
   "cell_type": "markdown",
   "metadata": {
    "slideshow": {
     "slide_type": "subslide"
    }
   },
   "source": [
    "In the perfect programs should not require any configuration as they would figure how how to configure themselves.\n",
    "\n",
    "If you are implementing the configuration, then be sure about the reasoning why are you investing the effort to make something configurable."
   ]
  },
  {
   "cell_type": "markdown",
   "metadata": {
    "slideshow": {
     "slide_type": "slide"
    }
   },
   "source": [
    "### What to configure\n",
    "\n",
    "Examples of things that you want to configure:\n",
    "- Database connection strings.\n",
    "- Endpoints of external APIs.\n",
    "- Credentials to connect to external services.\n",
    "- What external provider of service to use.\n",
    "- And more..."
   ]
  },
  {
   "cell_type": "markdown",
   "metadata": {
    "slideshow": {
     "slide_type": "subslide"
    }
   },
   "source": [
    "On the same note you could reason that there are something that you don't need to be able to configure, like:\n",
    "\n",
    "- Background color of application.\n",
    "- Button sizes.\n",
    "- Color of console output.\n",
    "- And more..."
   ]
  },
  {
   "cell_type": "markdown",
   "metadata": {
    "slideshow": {
     "slide_type": "skip"
    }
   },
   "source": [
    "What is worth to configure comes down to correctly identifying what will likely need to be changed between the deployments or naturally overtime."
   ]
  },
  {
   "cell_type": "markdown",
   "metadata": {},
   "source": [
    "Making something configurable is going to take more effort, than not to make it configurable. On the same note, implementing configuration is going to result in more code than not implementing configuration.\n",
    "\n",
    "This reduces the decision wether to make something configurable to:\n",
    ">Is the time spend developing configuration and increased code complexity worth the benefits this configuration brings?"
   ]
  },
  {
   "cell_type": "markdown",
   "metadata": {
    "slideshow": {
     "slide_type": "slide"
    }
   },
   "source": [
    "### Spectrum: customizable vs out-of-the-box\n",
    "\n",
    "There are trade offs to make when designing what will be configurable:\n",
    "- Configuration can be made very granular, so even the buttons sizes could be configured, but that would potentially overload the user.\n",
    "- Configuration can be made very coarse, but that would reduce the opportunities for program reuse and code changes might be requested more often than they could."
   ]
  },
  {
   "cell_type": "markdown",
   "metadata": {
    "slideshow": {
     "slide_type": "skip"
    }
   },
   "source": [
    "You could think about these 2 options being on the opposite sides of the spectrum. Configurations for most the programs will fall somewhere in the middle of that spectrum."
   ]
  },
  {
   "cell_type": "markdown",
   "metadata": {
    "slideshow": {
     "slide_type": "slide"
    }
   },
   "source": [
    "### Mandatory vs optional\n",
    "\n",
    "Configuration should use sensible default wherever possible and not require user to explicitly specify values.\n",
    "\n",
    "This helps to reduce the mental load of user to launch the application, and thus reduces friction for it to be used."
   ]
  },
  {
   "cell_type": "markdown",
   "metadata": {
    "slideshow": {
     "slide_type": "slide"
    }
   },
   "source": [
    "### Configuration should be hermetic\n",
    "\n",
    "Configuration should be self contained.\n",
    "\n",
    "Configuration should not depend on any other external sources that it does not control. "
   ]
  },
  {
   "cell_type": "markdown",
   "metadata": {
    "slideshow": {
     "slide_type": "slide"
    }
   },
   "source": [
    "## Configuration in ASP.NET\n",
    "\n",
    "Because ASP.NET currently runs as generic-host application, the configuration happens near the entry point of the program.\n",
    "\n",
    "Web application builder exposes the configuration manager class that can be used to setup the configuration:\n",
    "```csharp\n",
    "var builder = WebApplication.CreateBuilder(args);\n",
    "ConfigurationManager configurationManager = builder.Configuration;\n",
    "```"
   ]
  },
  {
   "cell_type": "markdown",
   "metadata": {
    "slideshow": {
     "slide_type": "skip"
    }
   },
   "source": [
    "This `ConfigurationManager` can be used to setup different providers and priorities of these providers."
   ]
  },
  {
   "cell_type": "markdown",
   "metadata": {
    "slideshow": {
     "slide_type": "slide"
    }
   },
   "source": [
    "For the sake of example, remove configuration source like in the example below, so the default sources would not confuse you when adding your own.\n",
    "\n",
    "```csharp\n",
    "var builder = WebApplication.CreateBuilder(args);\n",
    "builder.Configuration.Sources.Clear();\n",
    "```\n",
    "\n",
    "Multiple configuration sources can be used simultaneously. Values from all sources are stored in a unified key-value list. When same key is defined in multiple sources, the latest added source value overrides value from earlier sources."
   ]
  },
  {
   "cell_type": "markdown",
   "metadata": {
    "slideshow": {
     "slide_type": "slide"
    }
   },
   "source": [
    "To quickly check configuration during the debug:\n",
    "\n",
    "```csharp\n",
    "var configurationRoot = app.Configuration as IConfigurationRoot;\n",
    "if (configurationRoot != null)\n",
    "{\n",
    "    string debugView = configurationRoot.GetDebugView();\n",
    "    Console.WriteLine(\"Configuration debug view:\");\n",
    "    Console.WriteLine(debugView);\n",
    "}\n",
    "```"
   ]
  },
  {
   "cell_type": "markdown",
   "metadata": {
    "slideshow": {
     "slide_type": "slide"
    }
   },
   "source": [
    "### Files\n",
    "\n",
    "Using files for configuration is a common pattern for configuration. Most of frameworks will have such option readily available.\n",
    "\n",
    "When to use:\n",
    "- You are getting started and want a solution that is easy to manage.\n",
    "- These are default config values that you want to share with other engineers.\n",
    "- You want to use different set (file) of values based on some parameter.\n",
    "\n",
    "Beware of:\n",
    "- You might need to use different than default values during the development, so make sure that no one commits their WIP local values.\n",
    "- Config files will be versioned together with other repo files, so be careful not to commit credentials."
   ]
  },
  {
   "cell_type": "markdown",
   "metadata": {
    "slideshow": {
     "slide_type": "slide"
    }
   },
   "source": [
    "#### Files configuration in ASP.NET\n",
    "\n",
    "By default, new ASP.NET projects come prepared with `appsettings.json`, where you can specify your configurations in JSON.\n",
    "\n",
    "This configuration should be enabled by default, but alternatively you can add it like this:\n",
    "\n",
    "```csharp\n",
    "builder.Configuration.AddJsonFile(\"appsettings.json\");\n",
    "```"
   ]
  },
  {
   "cell_type": "markdown",
   "metadata": {
    "slideshow": {
     "slide_type": "slide"
    }
   },
   "source": [
    "### Environment variables\n",
    "\n",
    "Environment variable configuration leverages OS environment variables. This provides more flexibility in some cases at a cost of complexity.\n",
    "\n",
    "When to use:\n",
    "- When you need mechanism to provide configuration values that you can change during the runtime and using different deployment models.\n",
    "\n",
    "Beware of:\n",
    "- Since environment variables are somewhat global variables, beware that some unrelated values that you don't necessarily expect can sneak in."
   ]
  },
  {
   "cell_type": "markdown",
   "metadata": {
    "slideshow": {
     "slide_type": "slide"
    }
   },
   "source": [
    "To add environment variables as a source of configuration:\n",
    "\n",
    "```csharp\n",
    "builder.Configuration.AddEnvironmentVariables();\n",
    "```\n",
    "\n",
    "Other configuration types allow variable nesting, which is not obviously translatable to key-value store like environment variables. For this a separator of 2 underscores (`__`) is used.\n",
    "\n",
    "JSON configuration that looks like this:\n",
    "```json\n",
    "{\n",
    "    \"Database\": {\n",
    "        \"Host\": \"localhost\"\n",
    "    }\n",
    "}\n",
    "```\n",
    "\n",
    "Would be expressed equivalently like this in an environment variable:\n",
    "```sh\n",
    "Database__Host=localhost\n",
    "```"
   ]
  },
  {
   "cell_type": "markdown",
   "metadata": {
    "slideshow": {
     "slide_type": "slide"
    }
   },
   "source": [
    "### User secrets\n",
    "\n",
    "Users secrets is an ASP.NET specific term, but similar mechanisms exist in other platforms as well, but might be called differently. User secrets stores configuration variables in some file stored outside of repository.\n",
    "\n",
    "When to use:\n",
    "- You want to have special config values for local development and you want to be sure that they will not get committed to shared repo.\n",
    "\n",
    "Beware of:\n",
    "- Will not work for deployments."
   ]
  },
  {
   "cell_type": "markdown",
   "metadata": {
    "slideshow": {
     "slide_type": "slide"
    }
   },
   "source": [
    "Usage:\n",
    "\n",
    "```csharp\n",
    "builder.Configuration.AddUserSecrets<Program>();\n",
    "```\n",
    "\n",
    "For user secrets to work a line like this will have to be added (or the IDE will add it automatically) to a `.csproj` file of the type's provided as generic argument assembly. It would be the assembly of `Program` class for the example above.\n",
    "\n",
    "```xml\n",
    "  <PropertyGroup>\n",
    "    <UserSecretsId>f827f785-4194-4c6e-a24a-771ae0297199</UserSecretsId>\n",
    "  </PropertyGroup>\n",
    "```\n",
    "\n",
    "Then the actual secrets will be stored in a file located in:\n",
    "- Linux/Mac: `~/.microsoft/usersecrets/<user_secrets_id>/secrets.json`,\n",
    "- Windows: `%APPDATA%\\Microsoft\\UserSecrets\\<user_secrets_id>\\secrets.json`.\n",
    "\n",
    "Most IDEs will provide functionality to deal with user secrets out of the box or there will be an extension available for this. Otherwise they can be manipulated via `dotnet` CLI as described [here](https://learn.microsoft.com/en-us/aspnet/core/security/app-secrets)."
   ]
  },
  {
   "cell_type": "markdown",
   "metadata": {
    "slideshow": {
     "slide_type": "slide"
    }
   },
   "source": [
    "## Additional reading\n",
    "\n",
    "- https://sre.google/workbook/configuration-design/\n",
    "- https://sre.google/workbook/configuration-specifics/"
   ]
  }
 ],
 "metadata": {
  "kernelspec": {
   "display_name": ".NET (C#)",
   "language": "C#",
   "name": ".net-csharp"
  },
  "language_info": {
   "name": "polyglot-notebook"
  },
  "polyglot_notebook": {
   "kernelInfo": {
    "defaultKernelName": "csharp",
    "items": [
     {
      "aliases": [],
      "name": "csharp"
     }
    ]
   }
  }
 },
 "nbformat": 4,
 "nbformat_minor": 2
}
