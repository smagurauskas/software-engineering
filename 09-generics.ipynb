{
 "cells": [
  {
   "cell_type": "markdown",
   "metadata": {},
   "source": [
    "# Generics\n",
    "\n",
    "In the lecture `04` generics were covered. Generics allow to instantiate classes with variable (generic) type constraints. There are additional constraints that can be with generic classes - variance and covariance.\n",
    "\n",
    "There constrains specify what more or less derived types the references can be substituted with."
   ]
  },
  {
   "cell_type": "markdown",
   "metadata": {},
   "source": [
    "## Variance an contravariance\n",
    "\n",
    "Generic, invariance, covariance and contravariance allows to specify what types can be used for a certain generic type. In other words, can a value of more or less specific generic type be assigned to a generic type variable.\n",
    "\n",
    "This only works with **interfaces** and delegates."
   ]
  },
  {
   "cell_type": "markdown",
   "metadata": {},
   "source": [
    "For the sake of examples, consider that we have such class hierarchy:"
   ]
  },
  {
   "cell_type": "code",
   "execution_count": null,
   "metadata": {
    "dotnet_interactive": {
     "language": "csharp"
    },
    "polyglot_notebook": {
     "kernelName": "csharp"
    }
   },
   "outputs": [],
   "source": [
    "class Base\n",
    "{\n",
    "    public void DoSomething() { }\n",
    "}\n",
    "\n",
    "class Derived : Base\n",
    "{\n",
    "    public void DoSomethingMore() { }\n",
    "}\n",
    "\n",
    "class OtherDerived : Base\n",
    "{\n",
    "    public void DoSomethingElse() { }\n",
    "}\n",
    "\n",
    "class MoreDerived : Derived\n",
    "{\n",
    "    public void DoSomethingEvenMore() { }\n",
    "}"
   ]
  },
  {
   "cell_type": "markdown",
   "metadata": {},
   "source": [
    "## Invariance\n",
    "\n",
    "Generic invariance simply means that only exact type that was specified as generic argument can be used.\n",
    "\n",
    "Even though the `IDerivedInterface` interface is more specific and could be implicitly assigned to a variable of type `IBaseInterface`, that cannot be done for variables with generic invariant types."
   ]
  },
  {
   "cell_type": "code",
   "execution_count": null,
   "metadata": {
    "dotnet_interactive": {
     "language": "csharp"
    },
    "polyglot_notebook": {
     "kernelName": "csharp"
    }
   },
   "outputs": [],
   "source": [
    "interface IInvariantGeneric<T>\n",
    "{\n",
    "    // Invariant T can be used anywhere\n",
    "    T DoStuff(T stuffIn);\n",
    "}\n",
    "\n",
    "class InvariantGeneric<T> : IInvariantGeneric<T>\n",
    "{\n",
    "    public T DoStuff(T stuffIn) => stuffIn;\n",
    "}\n",
    "\n",
    "IInvariantGeneric<Derived> invariantGeneric = new InvariantGeneric<Derived>();\n",
    "IInvariantGeneric<MoreDerived> invariantGeneric2 = new InvariantGeneric<MoreDerived>();\n",
    "\n",
    "// Both are illegal\n",
    "// invariantGeneric = invariantGeneric2;\n",
    "// invariantGeneric2 = invariantGeneric;"
   ]
  },
  {
   "cell_type": "markdown",
   "metadata": {},
   "source": [
    "## Covariance\n",
    "\n",
    "Generic covariance allows to use more specific (more derived) types, when assigning generic types. It is similar to polymorphic behavior of regular, non generic, types.\n",
    "\n",
    "In order to define the generic type as covariant, an `out` keyword should be used before the generic argument name.\n",
    "\n",
    "Covariant arguments can only be used for return types.\n",
    "\n",
    "For example `Generic<out T>` would mean that the `T` would be covariant."
   ]
  },
  {
   "cell_type": "code",
   "execution_count": null,
   "metadata": {
    "dotnet_interactive": {
     "language": "csharp"
    },
    "polyglot_notebook": {
     "kernelName": "csharp"
    }
   },
   "outputs": [],
   "source": [
    "interface ICovariantGeneric<out T>\n",
    "{\n",
    "    // T will only work in places where it is covariantly valid\n",
    "    public T DoStuff(int something);\n",
    "}\n",
    "\n",
    "class CovariantGeneric<T> : ICovariantGeneric<T> \n",
    "{\n",
    "    public T DoStuff(int something) => default;\n",
    "}\n",
    "\n",
    "ICovariantGeneric<Derived> covariantGeneric = new CovariantGeneric<Derived>();\n",
    "ICovariantGeneric<MoreDerived> moreConcreteCovariantGeneric = new CovariantGeneric<MoreDerived>();\n",
    "\n",
    "covariantGeneric = moreConcreteCovariantGeneric;"
   ]
  },
  {
   "cell_type": "markdown",
   "metadata": {},
   "source": [
    "Why only return type is allowed to be covariant? Suppose the interface would make an argument generic:\n",
    "\n",
    "```csharp\n",
    "interface ICovariantGeneric<out T>\n",
    "{\n",
    "    public T DoStuff(T something);\n",
    "}\n",
    "\n",
    "// All types are assignable to object\n",
    "ICovariantGeneric<object> objectCovariantGeneric = new CovariantGeneric<object>();\n",
    "ICovariantGeneric<string> stringCovariantGeneric = new CovariantGeneric<string>();\n",
    "ICovariantGeneric<int> intCovariantGeneric = new CovariantGeneric<int>();\n",
    "\n",
    "// generic type that that requires string could be assigned to one who asks for object\n",
    "objectCovariantGeneric = stringCovariantGeneric;\n",
    "object obj = objectCovariantGeneric.DoStuff(new object());\n",
    "object str = objectCovariantGeneric.DoStuff(\"Hello, World!\");\n",
    "\n",
    "// couldn't work, because although type expects object, but the more specific implementation requires string\n",
    "object num = objectCovariantGeneric.DoStuff(42);\n",
    "\n",
    "// while string could be passed instead of object, other non descendant types could not\n",
    "```\n",
    "\n",
    "This code block above would not compile."
   ]
  },
  {
   "cell_type": "markdown",
   "metadata": {},
   "source": [
    "## Contravariance"
   ]
  },
  {
   "cell_type": "markdown",
   "metadata": {},
   "source": [
    "Generic contravariance allows to use **less** specific types."
   ]
  },
  {
   "cell_type": "code",
   "execution_count": null,
   "metadata": {
    "dotnet_interactive": {
     "language": "csharp"
    },
    "polyglot_notebook": {
     "kernelName": "csharp"
    }
   },
   "outputs": [],
   "source": [
    "interface IContravariantGeneric<in T>\n",
    "{\n",
    "    // T will only work in places where it is contravariantly valid\n",
    "    public void DoStuff(T something);\n",
    "}\n",
    "\n",
    "class ContravariantGeneric<T> : IContravariantGeneric<T>\n",
    "{\n",
    "    public void DoStuff(T something) { }\n",
    "}\n",
    "\n",
    "IContravariantGeneric<Derived> contravariantGeneric = new ContravariantGeneric<Derived>();\n",
    "IContravariantGeneric<Base> moreAbstractContravariantGeneric = new ContravariantGeneric<Base>();\n",
    "\n",
    "contravariantGeneric = moreAbstractContravariantGeneric;"
   ]
  }
 ],
 "metadata": {
  "kernelspec": {
   "display_name": ".NET (C#)",
   "language": "C#",
   "name": ".net-csharp"
  },
  "language_info": {
   "name": "polyglot-notebook"
  },
  "polyglot_notebook": {
   "kernelInfo": {
    "defaultKernelName": "csharp",
    "items": [
     {
      "aliases": [],
      "languageName": "csharp",
      "name": "csharp"
     }
    ]
   }
  }
 },
 "nbformat": 4,
 "nbformat_minor": 2
}
