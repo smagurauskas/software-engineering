{
 "cells": [
  {
   "cell_type": "markdown",
   "metadata": {},
   "source": [
    "# C# Basics\n",
    "\n",
    "This notebook covers C# language basic building blocks: types, operators, cycles, generics, comparison and more."
   ]
  },
  {
   "cell_type": "markdown",
   "metadata": {},
   "source": [
    "## Built-in types\n",
    "\n",
    "C# has 18 built-in types. These types are built into .NET, but they have keywords (aliases in C#). All of these types can be referenced using they full qualifiers, but it is more common practice to reference them by their C# keyword instead."
   ]
  },
  {
   "cell_type": "code",
   "execution_count": null,
   "metadata": {
    "dotnet_interactive": {
     "language": "csharp"
    },
    "polyglot_notebook": {
     "kernelName": "csharp"
    }
   },
   "outputs": [],
   "source": [
    "// Reference by their C# keywords like this\n",
    "float floatNumber = 10;\n",
    "\n",
    "// Instead of this\n",
    "System.Single floatNumberNet = 10;"
   ]
  },
  {
   "cell_type": "code",
   "execution_count": null,
   "metadata": {
    "dotnet_interactive": {
     "language": "csharp"
    },
    "polyglot_notebook": {
     "kernelName": "csharp"
    }
   },
   "outputs": [],
   "source": [
    "bool boolValue = true;\n",
    "bool boolButFalse = false;"
   ]
  },
  {
   "cell_type": "code",
   "execution_count": null,
   "metadata": {
    "dotnet_interactive": {
     "language": "csharp"
    },
    "polyglot_notebook": {
     "kernelName": "csharp"
    }
   },
   "outputs": [],
   "source": [
    "byte byteValue = 255;\n",
    "\n",
    "// Will yield an error\n",
    "// byte byteTooBig = 256;"
   ]
  },
  {
   "cell_type": "code",
   "execution_count": null,
   "metadata": {
    "dotnet_interactive": {
     "language": "csharp"
    },
    "polyglot_notebook": {
     "kernelName": "csharp"
    }
   },
   "outputs": [],
   "source": [
    "char character = 'a';"
   ]
  },
  {
   "cell_type": "code",
   "execution_count": null,
   "metadata": {
    "dotnet_interactive": {
     "language": "csharp"
    },
    "polyglot_notebook": {
     "kernelName": "csharp"
    }
   },
   "outputs": [],
   "source": [
    "// Uses 4 bytes\n",
    "// By default the number with decimal point is double, so F is needed to specify it is float\n",
    "float floatNumber = 10.1F;\n",
    "floatNumber.Display();\n",
    "\n",
    "floatNumber = 10.000001F;\n",
    "floatNumber.Display();\n",
    "\n",
    "floatNumber = 10.0000001F;\n",
    "floatNumber.Display();"
   ]
  },
  {
   "cell_type": "code",
   "execution_count": null,
   "metadata": {
    "dotnet_interactive": {
     "language": "csharp"
    },
    "polyglot_notebook": {
     "kernelName": "csharp"
    }
   },
   "outputs": [],
   "source": [
    "// Can be directly assigned with decimal point\n",
    "double doubleNumber = 10.00000000000001;\n",
    "doubleNumber.Display();\n",
    "\n",
    "// Has quirks around the edge of precision\n",
    "doubleNumber = 10.000000000000001;\n",
    "doubleNumber.Display();"
   ]
  },
  {
   "cell_type": "code",
   "execution_count": null,
   "metadata": {
    "dotnet_interactive": {
     "language": "csharp"
    },
    "polyglot_notebook": {
     "kernelName": "csharp"
    }
   },
   "outputs": [],
   "source": [
    "// Uses different math specification than float/double at the cost of speed\n",
    "decimal decimalNumber = 10.000000000000001M;\n",
    "decimalNumber.Display();\n",
    "\n",
    "decimalNumber = 10.000000000000000000000000001M;\n",
    "decimalNumber.Display();"
   ]
  },
  {
   "cell_type": "code",
   "execution_count": null,
   "metadata": {
    "dotnet_interactive": {
     "language": "csharp"
    },
    "polyglot_notebook": {
     "kernelName": "csharp"
    }
   },
   "outputs": [],
   "source": [
    "// Int32\n",
    "int integerNumber = 2000000000;\n",
    "\n",
    "// Int64\n",
    "long longNumber = 2000000000000000000;"
   ]
  },
  {
   "cell_type": "code",
   "execution_count": null,
   "metadata": {
    "dotnet_interactive": {
     "language": "csharp"
    },
    "polyglot_notebook": {
     "kernelName": "csharp"
    }
   },
   "outputs": [],
   "source": [
    "string text = \"Hello, World!\";"
   ]
  },
  {
   "cell_type": "code",
   "execution_count": null,
   "metadata": {
    "dotnet_interactive": {
     "language": "csharp"
    },
    "polyglot_notebook": {
     "kernelName": "csharp"
    }
   },
   "outputs": [],
   "source": [
    "// Base reference type\n",
    "object objectValue = new object();\n",
    "\n",
    "// Any type can be assigned to it\n",
    "objectValue = 10;\n",
    "objectValue = \"Hello\";\n",
    "objectValue = true;"
   ]
  },
  {
   "cell_type": "markdown",
   "metadata": {},
   "source": [
    "## Nullable types"
   ]
  },
  {
   "cell_type": "code",
   "execution_count": null,
   "metadata": {
    "dotnet_interactive": {
     "language": "csharp"
    },
    "polyglot_notebook": {
     "kernelName": "csharp"
    }
   },
   "outputs": [],
   "source": [
    "// Reference types can be null by default\n",
    "object objectValue = null;"
   ]
  },
  {
   "cell_type": "code",
   "execution_count": null,
   "metadata": {
    "dotnet_interactive": {
     "language": "csharp"
    },
    "polyglot_notebook": {
     "kernelName": "csharp"
    }
   },
   "outputs": [],
   "source": [
    "// value types can't be null by default\n",
    "// int integerNumber = null; // does not compile\n",
    "\n",
    "// Value types can be specified as nullable by adding ?\n",
    "int? nullableInteger = null;"
   ]
  },
  {
   "cell_type": "code",
   "execution_count": null,
   "metadata": {
    "dotnet_interactive": {
     "language": "csharp"
    },
    "polyglot_notebook": {
     "kernelName": "csharp"
    }
   },
   "outputs": [],
   "source": [
    "// HasValue can be used to check if nullable type has value (for value types)\n",
    "int? nullableInteger = null;\n",
    "\n",
    "if (nullableInteger.HasValue)\n",
    "{\n",
    "    Console.WriteLine(\"Has value\");\n",
    "}\n",
    "else\n",
    "{\n",
    "    Console.WriteLine(\"No value\");\n",
    "}\n",
    "\n",
    "nullableInteger = 10;\n",
    "\n",
    "if (nullableInteger.HasValue)\n",
    "{\n",
    "    Console.WriteLine(\"Has value\");\n",
    "}\n",
    "else\n",
    "{\n",
    "    Console.WriteLine(\"No value\");\n",
    "}"
   ]
  },
  {
   "cell_type": "code",
   "execution_count": null,
   "metadata": {
    "dotnet_interactive": {
     "language": "csharp"
    },
    "polyglot_notebook": {
     "kernelName": "csharp"
    }
   },
   "outputs": [],
   "source": [
    "// .Value can be used to obtain the value of nullable type. Obtained value will be of non-nullable type.\n",
    "int? integerNumber = 10;\n",
    "\n",
    "// int value = integerNumber; // does not compile\n",
    "int value = integerNumber.Value; // good"
   ]
  },
  {
   "cell_type": "code",
   "execution_count": null,
   "metadata": {
    "polyglot_notebook": {
     "kernelName": "csharp"
    }
   },
   "outputs": [],
   "source": [
    "// Nullable values are wrapped in `Nullable<T>` struct\n",
    "int? integerNumber = 10;\n",
    "\n",
    "Nullable<int> nullableInteger = integerNumber;"
   ]
  },
  {
   "cell_type": "markdown",
   "metadata": {},
   "source": [
    "It must be noted that C# 10 allows to specify reference types nullable as well. This can be made available using `<Nullable>enable</Nullable>` element in `csproj`."
   ]
  },
  {
   "cell_type": "markdown",
   "metadata": {},
   "source": [
    "## Operators\n",
    "\n",
    "Each type comes with a list of predefined operators. C# also allows overriding of operators for specific types."
   ]
  },
  {
   "cell_type": "markdown",
   "metadata": {},
   "source": [
    "### Arithmetic operators"
   ]
  },
  {
   "cell_type": "code",
   "execution_count": null,
   "metadata": {
    "dotnet_interactive": {
     "language": "csharp"
    },
    "polyglot_notebook": {
     "kernelName": "csharp"
    }
   },
   "outputs": [],
   "source": [
    "// Addition\n",
    "int a = 10;\n",
    "int b = 20;\n",
    "\n",
    "// Addition\n",
    "Console.WriteLine(\"a + b = \" + (a + b));\n",
    "\n",
    "// Subtraction\n",
    "Console.WriteLine(\"a - b = \" + (a - b));\n",
    "\n",
    "// Multiplication\n",
    "Console.WriteLine(\"a * b = \" + (a * b));\n",
    "\n",
    "// Division\n",
    "Console.WriteLine(\"a / b = \" + (a / b));\n",
    "\n",
    "// Modulus\n",
    "Console.WriteLine(\"a % b = \" + (a % b));\n",
    "\n",
    "// Increment\n",
    "Console.WriteLine(\"a: \"  + a++);\n",
    "Console.WriteLine(\"a: \"  + a);\n",
    "\n",
    "Console.Write(\"b: \" + ++b);"
   ]
  },
  {
   "cell_type": "markdown",
   "metadata": {},
   "source": [
    "### Assignment operators"
   ]
  },
  {
   "cell_type": "code",
   "execution_count": null,
   "metadata": {
    "dotnet_interactive": {
     "language": "csharp"
    },
    "polyglot_notebook": {
     "kernelName": "csharp"
    }
   },
   "outputs": [],
   "source": [
    "// = assignment\n",
    "var a = 10;\n",
    "Console.WriteLine(\"a: \" + a);"
   ]
  },
  {
   "cell_type": "code",
   "execution_count": null,
   "metadata": {
    "dotnet_interactive": {
     "language": "csharp"
    },
    "polyglot_notebook": {
     "kernelName": "csharp"
    }
   },
   "outputs": [],
   "source": [
    "// += add and assign\n",
    "\n",
    "var a = 10;\n",
    "var b = 20;\n",
    "\n",
    "a += b;\n",
    "Console.WriteLine(\"a: \" + a);"
   ]
  },
  {
   "cell_type": "code",
   "execution_count": null,
   "metadata": {
    "dotnet_interactive": {
     "language": "csharp"
    },
    "polyglot_notebook": {
     "kernelName": "csharp"
    }
   },
   "outputs": [],
   "source": [
    "// -= subtract and assign\n",
    "\n",
    "var a = 10;\n",
    "var b = 20;\n",
    "\n",
    "a -= b;\n",
    "Console.WriteLine(\"a: \" + a);"
   ]
  },
  {
   "cell_type": "code",
   "execution_count": null,
   "metadata": {
    "dotnet_interactive": {
     "language": "csharp"
    },
    "polyglot_notebook": {
     "kernelName": "csharp"
    }
   },
   "outputs": [],
   "source": [
    "// *= multiply and assign\n",
    "\n",
    "var a = 10;\n",
    "var b = 20;\n",
    "\n",
    "a *= b;\n",
    "Console.WriteLine(\"a: \" + a);"
   ]
  },
  {
   "cell_type": "code",
   "execution_count": null,
   "metadata": {
    "dotnet_interactive": {
     "language": "csharp"
    },
    "polyglot_notebook": {
     "kernelName": "csharp"
    }
   },
   "outputs": [],
   "source": [
    "// /= divide and assign\n",
    "\n",
    "var a = 10;\n",
    "var b = 20;\n",
    "\n",
    "a /= b;\n",
    "Console.WriteLine(\"a: \" + a);"
   ]
  },
  {
   "cell_type": "code",
   "execution_count": null,
   "metadata": {
    "dotnet_interactive": {
     "language": "csharp"
    },
    "polyglot_notebook": {
     "kernelName": "csharp"
    }
   },
   "outputs": [],
   "source": [
    "// %= modulus and assign\n",
    "var a = 10;\n",
    "var b = 20;\n",
    "\n",
    "a %= b;\n",
    "Console.WriteLine(\"a: \" + a);"
   ]
  },
  {
   "cell_type": "code",
   "execution_count": null,
   "metadata": {
    "dotnet_interactive": {
     "language": "csharp"
    },
    "polyglot_notebook": {
     "kernelName": "csharp"
    }
   },
   "outputs": [],
   "source": [
    "// ??= assign if null\n",
    "\n",
    "int? a = null;\n",
    "\n",
    "a ??= 10;\n",
    "Console.WriteLine(\"a: \" + a);\n",
    "a ??= 5;\n",
    "Console.WriteLine(\"a: \" + a);"
   ]
  },
  {
   "cell_type": "code",
   "execution_count": null,
   "metadata": {
    "dotnet_interactive": {
     "language": "csharp"
    },
    "polyglot_notebook": {
     "kernelName": "csharp"
    }
   },
   "outputs": [],
   "source": [
    "// Assignment operators can also be used with bitwise operations\n",
    "var a = 10;\n",
    "var b = 20;\n",
    "\n",
    "// Shift left and assign\n",
    "a <<= 2;\n",
    "Console.WriteLine(\"<<= \" + a);\n",
    "\n",
    "// Shift right and assign\n",
    "a >>= 2;\n",
    "Console.WriteLine(\">>= \" + a);\n",
    "\n",
    "// Bitwise AND and assign\n",
    "a &= b;\n",
    "Console.WriteLine(\"&= \" + a);\n",
    "\n",
    "// Bitwise OR and assign\n",
    "a |= b;\n",
    "Console.WriteLine(\"|= \" + a);\n",
    "\n",
    "// Bitwise XOR and assign\n",
    "a ^= b;\n",
    "Console.WriteLine(\"^= \" + a);\n"
   ]
  },
  {
   "cell_type": "markdown",
   "metadata": {},
   "source": [
    "### Comparison operators"
   ]
  },
  {
   "cell_type": "code",
   "execution_count": null,
   "metadata": {
    "dotnet_interactive": {
     "language": "csharp"
    },
    "polyglot_notebook": {
     "kernelName": "csharp"
    }
   },
   "outputs": [],
   "source": [
    "var a = 10;\n",
    "var b = 20;\n",
    "\n",
    "// Equal\n",
    "Console.WriteLine(\"a == b: \" + (a == b));\n",
    "\n",
    "// Not equal\n",
    "Console.WriteLine(\"a != b: \" + (a != b));\n",
    "\n",
    "// Greater than\n",
    "Console.WriteLine(\"a > b: \" + (a > b));\n",
    "\n",
    "// Less than\n",
    "Console.WriteLine(\"a < b: \" + (a < b));\n",
    "\n",
    "// Greater than or equal\n",
    "Console.WriteLine(\"a >= b: \" + (a >= b));\n",
    "\n",
    "// Less than or equal\n",
    "Console.WriteLine(\"a <= b: \" + (a <= b));"
   ]
  },
  {
   "cell_type": "markdown",
   "metadata": {},
   "source": [
    "### Logical operators"
   ]
  },
  {
   "cell_type": "code",
   "execution_count": null,
   "metadata": {
    "dotnet_interactive": {
     "language": "csharp"
    },
    "polyglot_notebook": {
     "kernelName": "csharp"
    }
   },
   "outputs": [],
   "source": [
    "// Logical AND\n",
    "bool a = true;\n",
    "bool b = false;\n",
    "\n",
    "Console.WriteLine(\"a && b: \" + (a && b));\n",
    "\n",
    "// Logical OR\n",
    "Console.WriteLine(\"a || b: \" + (a || b));\n",
    "\n",
    "// Logical NOT\n",
    "Console.WriteLine(\"!a: \" + (!a));\n"
   ]
  },
  {
   "cell_type": "markdown",
   "metadata": {},
   "source": [
    "#### Short circuits\n",
    "\n",
    "Logical expressions are evaluated left-to-right. Short circuit happens when the result of expression can be determined without evaluating all parts."
   ]
  },
  {
   "cell_type": "code",
   "execution_count": null,
   "metadata": {
    "dotnet_interactive": {
     "language": "csharp"
    },
    "polyglot_notebook": {
     "kernelName": "csharp"
    }
   },
   "outputs": [],
   "source": [
    "bool MethodA()\n",
    "{\n",
    "    Console.WriteLine(\"MethodA\");\n",
    "    return true;\n",
    "}\n",
    "\n",
    "bool MethodB()\n",
    "{\n",
    "    Console.WriteLine(\"MethodB\");\n",
    "    return false;\n",
    "}\n",
    "\n",
    "bool a = MethodA() && MethodB();"
   ]
  },
  {
   "cell_type": "code",
   "execution_count": null,
   "metadata": {
    "dotnet_interactive": {
     "language": "csharp"
    },
    "polyglot_notebook": {
     "kernelName": "csharp"
    }
   },
   "outputs": [],
   "source": [
    "bool b = MethodB() && MethodA();"
   ]
  },
  {
   "cell_type": "code",
   "execution_count": null,
   "metadata": {
    "dotnet_interactive": {
     "language": "csharp"
    },
    "polyglot_notebook": {
     "kernelName": "csharp"
    }
   },
   "outputs": [],
   "source": [
    "bool c = MethodA() || MethodB();"
   ]
  },
  {
   "cell_type": "code",
   "execution_count": null,
   "metadata": {
    "dotnet_interactive": {
     "language": "csharp"
    },
    "polyglot_notebook": {
     "kernelName": "csharp"
    }
   },
   "outputs": [],
   "source": [
    "bool d = MethodB() || MethodA();"
   ]
  },
  {
   "cell_type": "markdown",
   "metadata": {},
   "source": [
    "### Binary operators"
   ]
  },
  {
   "cell_type": "code",
   "execution_count": null,
   "metadata": {
    "dotnet_interactive": {
     "language": "csharp"
    },
    "polyglot_notebook": {
     "kernelName": "csharp"
    }
   },
   "outputs": [],
   "source": [
    "int a = 2;\n",
    "int b = 3;\n",
    "\n",
    "// Binary AND\n",
    "Console.WriteLine(\"a & b: \" + (a & b));\n",
    "\n",
    "// Binary OR\n",
    "Console.WriteLine(\"a | b: \" + (a | b));\n",
    "\n",
    "// Binary XOR\n",
    "Console.WriteLine(\"a ^ b: \" + (a ^ b));\n",
    "\n",
    "// Binary NOT\n",
    "Console.WriteLine(\"~a: \" + (~a));\n",
    "\n",
    "// Binary left shift\n",
    "Console.WriteLine(\"a << 1: \" + (a << 1));\n",
    "\n",
    "// Binary right shift\n",
    "Console.WriteLine(\"a >> 1: \" + (a >> 1));"
   ]
  },
  {
   "cell_type": "markdown",
   "metadata": {},
   "source": [
    "### Overloading operators\n",
    "\n",
    "Operators can be overloaded on user defined types. Overloading allows to give operators to types that do not support these operators by default. Operators are overloaded using the `operator` keyword on that type."
   ]
  },
  {
   "cell_type": "code",
   "execution_count": null,
   "metadata": {
    "dotnet_interactive": {
     "language": "csharp"
    },
    "polyglot_notebook": {
     "kernelName": "csharp"
    }
   },
   "outputs": [],
   "source": [
    "class Number \n",
    "{\n",
    "    protected readonly int Value;\n",
    "\n",
    "    public Number(int value) => Value = value;\n",
    "\n",
    "    public override string ToString() => $\"{Value}\";\n",
    "\n",
    "    public static Number operator +(Number a, Number b)\n",
    "        => new Number(a.Value + b.Value);\n",
    "\n",
    "    public static Number operator -(Number a, Number b)\n",
    "        => new Number(a.Value - b.Value);\n",
    "}"
   ]
  },
  {
   "cell_type": "code",
   "execution_count": null,
   "metadata": {
    "dotnet_interactive": {
     "language": "csharp"
    },
    "polyglot_notebook": {
     "kernelName": "csharp"
    }
   },
   "outputs": [],
   "source": [
    "var a = new Number(10);\n",
    "var b = new Number(20);\n",
    "\n",
    "a.Display();\n",
    "b.Display();"
   ]
  },
  {
   "cell_type": "code",
   "execution_count": null,
   "metadata": {
    "dotnet_interactive": {
     "language": "csharp"
    },
    "polyglot_notebook": {
     "kernelName": "csharp"
    }
   },
   "outputs": [],
   "source": [
    "(a + b).Display();\n",
    "(a - b).Display();"
   ]
  },
  {
   "cell_type": "markdown",
   "metadata": {},
   "source": [
    "### Ternary operator\n",
    "\n",
    "Ternary operator returns value based on predicate."
   ]
  },
  {
   "cell_type": "code",
   "execution_count": null,
   "metadata": {
    "dotnet_interactive": {
     "language": "csharp"
    },
    "polyglot_notebook": {
     "kernelName": "csharp"
    }
   },
   "outputs": [],
   "source": [
    "var a = 1;\n",
    "var b = 2;\n",
    "\n",
    "var outcome = a == b ? \"Equal\" : \"Not equal\";\n",
    "\n",
    "outcome.Display();\n",
    "\n",
    "b = 1;\n",
    "outcome = a == b ? \"Equal\" : \"Not equal\";\n",
    "\n",
    "outcome.Display();"
   ]
  },
  {
   "cell_type": "markdown",
   "metadata": {},
   "source": [
    "### Null coalescing\n",
    "\n",
    "Null coalescing keeps selecting values right-wise, until non `null` value is reached."
   ]
  },
  {
   "cell_type": "code",
   "execution_count": null,
   "metadata": {
    "dotnet_interactive": {
     "language": "csharp"
    },
    "polyglot_notebook": {
     "kernelName": "csharp"
    }
   },
   "outputs": [],
   "source": [
    "string a = null;\n",
    "string b = null;\n",
    "string c = \"C\";\n",
    "\n",
    "var outcome = a ?? b ?? c;\n",
    "outcome.Display();\n",
    "\n",
    "a = \"A\";\n",
    "outcome = a ?? b ?? c;\n",
    "outcome.Display();"
   ]
  },
  {
   "cell_type": "markdown",
   "metadata": {},
   "source": [
    "### `switch`"
   ]
  },
  {
   "cell_type": "code",
   "execution_count": null,
   "metadata": {
    "dotnet_interactive": {
     "language": "csharp"
    },
    "polyglot_notebook": {
     "kernelName": "csharp"
    }
   },
   "outputs": [],
   "source": [
    "// switch allows to different code paths based on the value of a variable\n",
    "\n",
    "int a = 2;\n",
    "\n",
    "switch (a)\n",
    "{\n",
    "    case 1:\n",
    "        Console.WriteLine(\"One\");\n",
    "        break;\n",
    "    case 2:\n",
    "        Console.WriteLine(\"Two\");\n",
    "        break;\n",
    "    case 3:\n",
    "        Console.WriteLine(\"Three\");\n",
    "        break;\n",
    "    default:\n",
    "        Console.WriteLine(\"Other\");\n",
    "        break;\n",
    "}"
   ]
  },
  {
   "cell_type": "markdown",
   "metadata": {},
   "source": [
    "## Cycles"
   ]
  },
  {
   "cell_type": "code",
   "execution_count": null,
   "metadata": {
    "dotnet_interactive": {
     "language": "csharp"
    },
    "polyglot_notebook": {
     "kernelName": "csharp"
    }
   },
   "outputs": [],
   "source": [
    "// basic for loop\n",
    "for (int i = 0; i < 5; i++)\n",
    "{\n",
    "    Console.WriteLine(i);\n",
    "}"
   ]
  },
  {
   "cell_type": "code",
   "execution_count": null,
   "metadata": {
    "dotnet_interactive": {
     "language": "csharp"
    },
    "polyglot_notebook": {
     "kernelName": "csharp"
    }
   },
   "outputs": [],
   "source": [
    "// technically none of for loop parts are required\n",
    "// for (;;) // this would run forever\n",
    "// {\n",
    "//     Console.WriteLine(\"Infinite loop\");\n",
    "//     break;\n",
    "// }"
   ]
  },
  {
   "cell_type": "code",
   "execution_count": null,
   "metadata": {
    "dotnet_interactive": {
     "language": "csharp"
    },
    "polyglot_notebook": {
     "kernelName": "csharp"
    }
   },
   "outputs": [],
   "source": [
    "// while loop\n",
    "int i = 0;\n",
    "\n",
    "while (i < 5)\n",
    "{\n",
    "    Console.WriteLine(i);\n",
    "    i++;\n",
    "}"
   ]
  },
  {
   "cell_type": "code",
   "execution_count": null,
   "metadata": {
    "dotnet_interactive": {
     "language": "csharp"
    },
    "polyglot_notebook": {
     "kernelName": "csharp"
    }
   },
   "outputs": [],
   "source": [
    "// do while loop\n",
    "int i = 0;\n",
    "\n",
    "do\n",
    "{\n",
    "    Console.WriteLine(i);\n",
    "    i++;\n",
    "} while (i < 5);"
   ]
  },
  {
   "cell_type": "code",
   "execution_count": null,
   "metadata": {
    "dotnet_interactive": {
     "language": "csharp"
    },
    "polyglot_notebook": {
     "kernelName": "csharp"
    }
   },
   "outputs": [],
   "source": [
    "// foreach loop\n",
    "int[] numbers = { 1, 2, 3, 4, 5 };\n",
    "\n",
    "foreach (var number in numbers)\n",
    "{\n",
    "    Console.WriteLine(number);\n",
    "}"
   ]
  },
  {
   "cell_type": "code",
   "execution_count": null,
   "metadata": {
    "dotnet_interactive": {
     "language": "csharp"
    },
    "polyglot_notebook": {
     "kernelName": "csharp"
    }
   },
   "outputs": [],
   "source": [
    "// break\n",
    "\n",
    "for (int i = 0; i < 5; i++)\n",
    "{\n",
    "    // break can be used to cancel loop instantly and prematurely\n",
    "    if (i == 3)\n",
    "    {\n",
    "        break;\n",
    "    }\n",
    "\n",
    "    Console.WriteLine(i);\n",
    "}"
   ]
  },
  {
   "cell_type": "code",
   "execution_count": null,
   "metadata": {
    "dotnet_interactive": {
     "language": "csharp"
    },
    "polyglot_notebook": {
     "kernelName": "csharp"
    }
   },
   "outputs": [],
   "source": [
    "// continue\n",
    "\n",
    "for (int i = 0; i < 5; i++)\n",
    "{\n",
    "    // continue can be used to skip the rest of the loop and continue to the next iteration\n",
    "    if (i == 3)\n",
    "    {\n",
    "        continue;\n",
    "    }\n",
    "\n",
    "    Console.WriteLine(i);\n",
    "}"
   ]
  },
  {
   "cell_type": "markdown",
   "metadata": {},
   "source": [
    "## User defined types"
   ]
  },
  {
   "cell_type": "markdown",
   "metadata": {},
   "source": [
    "### Classes\n",
    "\n",
    "`class`es are references types, that can contain method, property and field members. All classes implicitly inherit from the `object` class. Classes can inherit from up to 1 other class (`object` base class excluded). Classes can implement multiple interfaces."
   ]
  },
  {
   "cell_type": "code",
   "execution_count": null,
   "metadata": {
    "dotnet_interactive": {
     "language": "csharp"
    },
    "polyglot_notebook": {
     "kernelName": "csharp"
    }
   },
   "outputs": [],
   "source": [
    "class SimpleClass\n",
    "{\n",
    "    public int Property { get; set; }\n",
    "    public int Field;\n",
    "\n",
    "    // Constructor\n",
    "    public SimpleClass(int value)\n",
    "    {\n",
    "        Property = value;\n",
    "        Field = value;\n",
    "    }\n",
    "\n",
    "    public void Method()\n",
    "    {\n",
    "        Console.WriteLine(\"Property: \" + Property);\n",
    "        Console.WriteLine(\"Field: \" + Field);\n",
    "    }\n",
    "}"
   ]
  },
  {
   "cell_type": "code",
   "execution_count": null,
   "metadata": {
    "dotnet_interactive": {
     "language": "csharp"
    },
    "polyglot_notebook": {
     "kernelName": "csharp"
    }
   },
   "outputs": [],
   "source": [
    "// By default 2 classes are equal if they are the same reference\n",
    "\n",
    "var a = new SimpleClass(10);\n",
    "var b = new SimpleClass(10);\n",
    "\n",
    "(a == b).Display();\n",
    "\n",
    "a = b;\n",
    "(a == b).Display();"
   ]
  },
  {
   "cell_type": "code",
   "execution_count": null,
   "metadata": {
    "dotnet_interactive": {
     "language": "csharp"
    },
    "polyglot_notebook": {
     "kernelName": "csharp"
    }
   },
   "outputs": [],
   "source": [
    "// Classes can have accessibility modifiers:\n",
    "// public - accessible from anywhere\n",
    "// internal - accessible from the same assembly\n",
    "// protected - accessible from the same class or derived classes\n",
    "// private - accessible from the same class\n",
    "// protected internal - accessible from the same assembly or derived classes\n",
    "// private protected - accessible from the same class or derived classes in the same assembly\n",
    "\n",
    "// It is considered a good practice to always explicitly specify the access modifier\n",
    "\n",
    "internal class InternalClass\n",
    "{\n",
    "    private protected class PrivateProtectedClass\n",
    "    {\n",
    "        public void Method()\n",
    "        {\n",
    "            Console.WriteLine(\"Private protected class\");\n",
    "        }\n",
    "    }\n",
    "\n",
    "    public void Method()\n",
    "    {\n",
    "        Console.WriteLine(\"Internal class\");\n",
    "        var privateProtected = new PrivateProtectedClass();\n",
    "        privateProtected.Method();\n",
    "    }\n",
    "}\n",
    "\n",
    "var internalClass = new InternalClass();\n",
    "internalClass.Method();"
   ]
  },
  {
   "cell_type": "markdown",
   "metadata": {},
   "source": [
    "### Structs\n",
    "\n",
    "`struct`s are value types. Structs can have fields, properties and implement interfaces."
   ]
  },
  {
   "cell_type": "code",
   "execution_count": null,
   "metadata": {
    "dotnet_interactive": {
     "language": "csharp"
    },
    "polyglot_notebook": {
     "kernelName": "csharp"
    }
   },
   "outputs": [],
   "source": [
    "struct SimpleStruct\n",
    "{\n",
    "    public int Property { get; set; }\n",
    "    public int Field;\n",
    "\n",
    "    public SimpleStruct(int value)\n",
    "    {\n",
    "        Property = value;\n",
    "        Field = value;\n",
    "    }\n",
    "\n",
    "    public void Method()\n",
    "    {\n",
    "        Console.WriteLine(\"Property: \" + Property);\n",
    "        Console.WriteLine(\"Field: \" + Field);\n",
    "    }\n",
    "}"
   ]
  },
  {
   "cell_type": "code",
   "execution_count": null,
   "metadata": {
    "dotnet_interactive": {
     "language": "csharp"
    },
    "polyglot_notebook": {
     "kernelName": "csharp"
    }
   },
   "outputs": [],
   "source": [
    "var a = new SimpleStruct(10);\n",
    "var b = new SimpleStruct(10);\n",
    "// Structs by default do not have == operator defined\n",
    "// a == b // does not compile\n",
    "\n",
    "// Structs can be compared using Equals method\n",
    "// Structs are considered to be equal if all their fields are equal\n",
    "a.Equals(b).Display();"
   ]
  },
  {
   "cell_type": "markdown",
   "metadata": {},
   "source": [
    "### Records\n",
    "\n",
    "`record` is a special modifier that can be used on `class` (and similarly on `struct`) to define that i is primarily a data wrapping class.\n",
    "\n",
    "`record` are considered to be equal if all their member values are equal. Additionally `record` can make use of primary constructor to define the whole type."
   ]
  },
  {
   "cell_type": "code",
   "execution_count": null,
   "metadata": {
    "dotnet_interactive": {
     "language": "csharp"
    },
    "polyglot_notebook": {
     "kernelName": "csharp"
    }
   },
   "outputs": [],
   "source": [
    "// record class equality will be determined by the values of their properties\n",
    "record class RecordClass\n",
    "{\n",
    "    public int PropertyA { get; set; }\n",
    "    public int PropertyB { get; set; }\n",
    "}\n",
    "\n",
    "var a = new RecordClass { PropertyA = 10, PropertyB = 20 };\n",
    "var b = new RecordClass { PropertyA = 10, PropertyB = 20 };\n",
    "\n",
    "(a == b).Display();\n",
    "\n",
    "a.PropertyA = 11;\n",
    "(a == b).Display();"
   ]
  },
  {
   "cell_type": "code",
   "execution_count": null,
   "metadata": {
    "dotnet_interactive": {
     "language": "csharp"
    },
    "polyglot_notebook": {
     "kernelName": "csharp"
    }
   },
   "outputs": [],
   "source": [
    "// `record` modified allows to use == operator for comparison\n",
    "record struct RecordStruct\n",
    "{\n",
    "    public int PropertyA { get; set; }\n",
    "    public int PropertyB { get; set; }\n",
    "}\n",
    "\n",
    "var a = new RecordStruct { PropertyA = 10, PropertyB = 20 };\n",
    "var b = new RecordStruct { PropertyA = 10, PropertyB = 20 };\n",
    "\n",
    "(a == b).Display();"
   ]
  },
  {
   "cell_type": "code",
   "execution_count": null,
   "metadata": {
    "dotnet_interactive": {
     "language": "csharp"
    },
    "polyglot_notebook": {
     "kernelName": "csharp"
    }
   },
   "outputs": [],
   "source": [
    "record class RecordClass(int PropertyA, int PropertyB);\n",
    "\n",
    "var a = new RecordClass(10, 20);\n",
    "\n",
    "// It infers property names from the constructor\n",
    "a.PropertyA.Display();\n",
    "a.PropertyB.Display();\n",
    "\n",
    "// Record with primary constructor can be deconstructed into positional variables\n",
    "var (propertyA, propertyB) = a;"
   ]
  },
  {
   "cell_type": "markdown",
   "metadata": {},
   "source": [
    "### Interfaces\n",
    "\n",
    "Interfaces allows to define public interface that the type is supposed to implement.\n",
    "\n",
    "In C# interface names are prefixed with letter `I` at the start, i.e. `ISimpleInterface`."
   ]
  },
  {
   "cell_type": "code",
   "execution_count": null,
   "metadata": {
    "dotnet_interactive": {
     "language": "csharp"
    },
    "polyglot_notebook": {
     "kernelName": "csharp"
    }
   },
   "outputs": [],
   "source": [
    "interface ISimpleInterface\n",
    "{\n",
    "    void Method();\n",
    "}\n",
    "\n",
    "class SimpleClass : ISimpleInterface\n",
    "{\n",
    "    // Class must implement \"Method\" otherwise it will not compile \n",
    "    public void Method() => Console.WriteLine(\"Method\");\n",
    "}"
   ]
  },
  {
   "cell_type": "code",
   "execution_count": null,
   "metadata": {
    "dotnet_interactive": {
     "language": "csharp"
    },
    "polyglot_notebook": {
     "kernelName": "csharp"
    }
   },
   "outputs": [],
   "source": [
    "interface IMoreComplexInterface\n",
    "{\n",
    "    void Method();\n",
    "    int Property { get; set; }\n",
    "}\n",
    "\n",
    "class MoreComplexClass : IMoreComplexInterface\n",
    "{\n",
    "    public void Method() => Console.WriteLine(\"Method\");\n",
    "    public int Property { get; set; }\n",
    "}"
   ]
  },
  {
   "cell_type": "code",
   "execution_count": null,
   "metadata": {
    "dotnet_interactive": {
     "language": "csharp"
    },
    "polyglot_notebook": {
     "kernelName": "csharp"
    }
   },
   "outputs": [],
   "source": [
    "// Interface can provide default implementation\n",
    "interface IDefaultInterface\n",
    "{\n",
    "    void Method() { Console.WriteLine(\"Default method\"); }\n",
    "}\n",
    "\n",
    "class DefaultClass : IDefaultInterface\n",
    "{\n",
    "}\n",
    "\n",
    "IDefaultInterface defaultClass = new DefaultClass();\n",
    "defaultClass.Method();\n",
    "\n",
    "// but it wont be reached via class reference\n",
    "DefaultClass strictlyDefaultClass = defaultClass as DefaultClass;\n",
    "//strictlyDefaultClass.Method(); // compile error\n",
    "\n",
    "class ClassWithOverriddenMethod : IDefaultInterface\n",
    "{\n",
    "    public void Method() => Console.WriteLine(\"Overridden method\");\n",
    "}\n",
    "\n",
    "IDefaultInterface overriddenClass = new ClassWithOverriddenMethod();\n",
    "overriddenClass.Method();"
   ]
  },
  {
   "cell_type": "code",
   "execution_count": null,
   "metadata": {
    "dotnet_interactive": {
     "language": "csharp"
    },
    "polyglot_notebook": {
     "kernelName": "csharp"
    }
   },
   "outputs": [],
   "source": [
    "// Interface can inherit from another interface\n",
    "interface IInheritedInterface : ISimpleInterface\n",
    "{\n",
    "    void AnotherMethod();\n",
    "}"
   ]
  },
  {
   "cell_type": "code",
   "execution_count": null,
   "metadata": {
    "dotnet_interactive": {
     "language": "csharp"
    },
    "polyglot_notebook": {
     "kernelName": "csharp"
    }
   },
   "outputs": [],
   "source": [
    "// Because class can inherit multiple interfaces\n",
    "// It is possible for member names to collide\n",
    "interface IInterfaceA\n",
    "{\n",
    "    void Method();\n",
    "}\n",
    "\n",
    "interface IInterfaceB\n",
    "{\n",
    "    void Method();\n",
    "}\n",
    "\n",
    "// Methods can be implemented for each interface explicitly\n",
    "class CollidingClass : IInterfaceA, IInterfaceB\n",
    "{\n",
    "    void IInterfaceA.Method() => Console.WriteLine(\"Interface A method\");\n",
    "    void IInterfaceB.Method() => Console.WriteLine(\"Interface B method\");\n",
    "}\n",
    "\n",
    "var collidingClass = new CollidingClass();\n",
    "(collidingClass as IInterfaceA).Method();\n",
    "(collidingClass as IInterfaceB).Method();\n",
    "\n",
    "//collidingClass.Method(); // compile error"
   ]
  },
  {
   "cell_type": "code",
   "execution_count": null,
   "metadata": {
    "dotnet_interactive": {
     "language": "csharp"
    },
    "polyglot_notebook": {
     "kernelName": "csharp"
    }
   },
   "outputs": [],
   "source": [
    "// Or if the method signature matches between interfaces, same method can be used to satisfy both\n",
    "class AnotherCollidingClass : IInterfaceA, IInterfaceB\n",
    "{\n",
    "    public void Method() => Console.WriteLine(\"Method\");\n",
    "}\n",
    "\n",
    "var anotherCollidingClass = new AnotherCollidingClass();\n",
    "anotherCollidingClass.Method();\n",
    "\n",
    "((IInterfaceA)anotherCollidingClass).Method();\n",
    "((IInterfaceB)anotherCollidingClass).Method();"
   ]
  },
  {
   "cell_type": "markdown",
   "metadata": {},
   "source": [
    "### Enums\n",
    "\n",
    "Enums allows to defined name list of values. Under the hood enums are numbers with nice textual representation in code. \n",
    "\n",
    "It is consider a good practice to use `enum` when you want to have a predefined list of values to choose from."
   ]
  },
  {
   "cell_type": "code",
   "execution_count": null,
   "metadata": {
    "dotnet_interactive": {
     "language": "csharp"
    },
    "polyglot_notebook": {
     "kernelName": "csharp"
    }
   },
   "outputs": [],
   "source": [
    "enum Statuses\n",
    "{\n",
    "    Active,\n",
    "    Inactive,\n",
    "    Deleted,\n",
    "}\n",
    "\n",
    "var statusA = Statuses.Active;\n",
    "var statusB = Statuses.Inactive;\n",
    "\n",
    "class ClassWithStatus\n",
    "{\n",
    "    public Statuses Status { get; set; }\n",
    "}\n",
    "\n",
    "var classWithStatus = new ClassWithStatus();\n",
    "classWithStatus.Status = Statuses.Active;"
   ]
  },
  {
   "cell_type": "code",
   "execution_count": null,
   "metadata": {
    "dotnet_interactive": {
     "language": "csharp"
    },
    "polyglot_notebook": {
     "kernelName": "csharp"
    }
   },
   "outputs": [],
   "source": [
    "// By default enum values are assigned numerical values starting from 0\n",
    "enum Statuses\n",
    "{\n",
    "    Active, // 0\n",
    "    Inactive, // 1\n",
    "    Deleted, // 2\n",
    "}\n",
    "\n",
    "// However numerical values an also be specified explicitly\n",
    "enum StatusesButWithNumbers\n",
    "{\n",
    "    Active = 1,\n",
    "    Inactive = 2,\n",
    "    Deleted = 4,\n",
    "}\n",
    "\n",
    "// Enum values can be casted to int\n",
    "((int)StatusesButWithNumbers.Active).Display();\n",
    "\n",
    "// Numerical values can start from any number\n",
    "enum StatusesButWithBiggerNumbers\n",
    "{\n",
    "    Active = 10,\n",
    "    Inactive = 20,\n",
    "    Deleted = 30,\n",
    "}"
   ]
  },
  {
   "cell_type": "code",
   "execution_count": null,
   "metadata": {
    "dotnet_interactive": {
     "language": "csharp"
    },
    "polyglot_notebook": {
     "kernelName": "csharp"
    }
   },
   "outputs": [],
   "source": [
    "// Enums can be decorated with [Flags] attribute\n",
    "\n",
    "[Flags]\n",
    "enum Permissions\n",
    "{\n",
    "    Read,\n",
    "    Write,\n",
    "    Execute,\n",
    "}\n",
    "\n",
    "var permissions = Permissions.Read | Permissions.Write;\n",
    "permissions.Display();\n",
    "\n",
    "permissions.HasFlag(Permissions.Read).Display();\n",
    "permissions.HasFlag(Permissions.Execute).Display();"
   ]
  },
  {
   "cell_type": "markdown",
   "metadata": {},
   "source": [
    "### Partial classes\n",
    "\n",
    "In C# classes can be `partial`, meaning that single class can be defined in multiple iterations."
   ]
  },
  {
   "cell_type": "code",
   "execution_count": null,
   "metadata": {
    "language_info": {
     "name": "polyglot-notebook"
    },
    "polyglot_notebook": {
     "kernelName": "csharp"
    }
   },
   "outputs": [],
   "source": [
    "public partial class PartialClass\n",
    "{\n",
    "    public void MethodA() => Console.WriteLine(\"Method A\");\n",
    "}\n",
    "\n",
    "public partial class PartialClass\n",
    "{\n",
    "    public void MethodB() => Console.WriteLine(\"Method B\");\n",
    "}\n",
    "\n",
    "var partialClass = new PartialClass();\n",
    "partialClass.MethodA();\n",
    "partialClass.MethodB();"
   ]
  },
  {
   "cell_type": "markdown",
   "metadata": {},
   "source": [
    "### Properties\n",
    "\n",
    "Classes can use fields or properties to contain data. Properties differ from fields, in a way that they provide access to the underlying data field via methods.\n",
    "\n",
    "Methods can be defined implicitly by providing simple `{ get; set; }` which will generate underlying methods with simple assignment or retrieval implementation.\n",
    "\n",
    "Alternatively implementation can be defined explicitly. \n",
    "\n",
    "Both `get` and `set` methods can have different accessibility modifiers."
   ]
  },
  {
   "cell_type": "code",
   "execution_count": null,
   "metadata": {
    "dotnet_interactive": {
     "language": "csharp"
    },
    "polyglot_notebook": {
     "kernelName": "csharp"
    }
   },
   "outputs": [],
   "source": [
    "// class with automatically implemented property\n",
    "class SimpleClass\n",
    "{\n",
    "    public int Property { get; set; }\n",
    "}"
   ]
  },
  {
   "cell_type": "code",
   "execution_count": null,
   "metadata": {
    "dotnet_interactive": {
     "language": "csharp"
    },
    "polyglot_notebook": {
     "kernelName": "csharp"
    }
   },
   "outputs": [],
   "source": [
    "// class with manually implemented property\n",
    "class ManualClass\n",
    "{\n",
    "    private int _property;\n",
    "\n",
    "    public int Property\n",
    "    {\n",
    "        get => _property;\n",
    "        set => _property = value;\n",
    "    }\n",
    "}"
   ]
  },
  {
   "cell_type": "code",
   "execution_count": null,
   "metadata": {
    "dotnet_interactive": {
     "language": "csharp"
    },
    "polyglot_notebook": {
     "kernelName": "csharp"
    }
   },
   "outputs": [],
   "source": [
    "// more sophisticated property\n",
    "class ComplexClass\n",
    "{\n",
    "    private int _property;\n",
    "\n",
    "    public int Property\n",
    "    {\n",
    "        get\n",
    "        {\n",
    "            Console.WriteLine(\"Getting property\");\n",
    "            return _property;\n",
    "        }\n",
    "        set\n",
    "        {\n",
    "            Console.WriteLine(\"Setting property\");\n",
    "            _property = value * 2;\n",
    "        }\n",
    "    }\n",
    "}\n",
    "\n",
    "var complexClass = new ComplexClass();\n",
    "complexClass.Property = 10;\n",
    "complexClass.Property.Display();"
   ]
  },
  {
   "cell_type": "code",
   "execution_count": null,
   "metadata": {
    "dotnet_interactive": {
     "language": "csharp"
    },
    "polyglot_notebook": {
     "kernelName": "csharp"
    }
   },
   "outputs": [],
   "source": [
    "// class with read-only property\n",
    "class ReadOnlyClass\n",
    "{\n",
    "    private int _property;\n",
    "\n",
    "    public ReadOnlyClass(int value) => _property = value;\n",
    "\n",
    "    public int Property { get => _property; }\n",
    "}"
   ]
  },
  {
   "cell_type": "code",
   "execution_count": null,
   "metadata": {
    "dotnet_interactive": {
     "language": "csharp"
    },
    "polyglot_notebook": {
     "kernelName": "csharp"
    }
   },
   "outputs": [],
   "source": [
    "// public getter but private setter\n",
    "class ReadOnlySetterClass\n",
    "{\n",
    "    private int _property;\n",
    "\n",
    "    public int Property { get; private set; }\n",
    "\n",
    "    public ReadOnlySetterClass(int value) => Property = value;\n",
    "\n",
    "    public void Method()\n",
    "    {\n",
    "        Property = 10;\n",
    "    }\n",
    "}\n",
    "\n",
    "var readOnlySetterClass = new ReadOnlySetterClass(5);\n",
    "readOnlySetterClass.Property.Display();\n",
    "\n",
    "// readOnlySetterClass.Property = 10; // does not compile"
   ]
  },
  {
   "cell_type": "markdown",
   "metadata": {},
   "source": [
    "## Exceptions\n",
    "\n",
    "Exceptions are used to signal erroneous state of execution, where the application cannot continue in the intended manner and break of execution is required. All exceptions in C# must inherit `Exception` class directly or indirectly. Exceptions are thrown using the `throw` keyword. "
   ]
  },
  {
   "cell_type": "code",
   "execution_count": null,
   "metadata": {
    "dotnet_interactive": {
     "language": "csharp"
    },
    "polyglot_notebook": {
     "kernelName": "csharp"
    }
   },
   "outputs": [],
   "source": [
    "// Simplest example of exception\n",
    "class CustomException : Exception\n",
    "{\n",
    "    public CustomException(string message) : base(message) { }\n",
    "}\n",
    "\n",
    "try\n",
    "{\n",
    "    throw new CustomException(\"Custom exception\");\n",
    "}\n",
    "catch (CustomException e)\n",
    "{\n",
    "    Console.WriteLine(e.Message);\n",
    "}"
   ]
  },
  {
   "cell_type": "code",
   "execution_count": null,
   "metadata": {
    "dotnet_interactive": {
     "language": "csharp"
    },
    "polyglot_notebook": {
     "kernelName": "csharp"
    }
   },
   "outputs": [],
   "source": [
    "// Exceptions can be caught polymorphically\n",
    "try\n",
    "{\n",
    "    throw new CustomException(\"Custom exception\");\n",
    "}\n",
    "// Will catch because CustomException is derived from Exception\n",
    "catch (Exception e)\n",
    "{\n",
    "    Console.WriteLine(e.Message);\n",
    "}"
   ]
  },
  {
   "cell_type": "code",
   "execution_count": null,
   "metadata": {
    "dotnet_interactive": {
     "language": "csharp"
    },
    "polyglot_notebook": {
     "kernelName": "csharp"
    }
   },
   "outputs": [],
   "source": [
    "// Catch block can be empty to catch all exceptions\n",
    "try\n",
    "{\n",
    "    throw new CustomException(\"Custom exception\");\n",
    "}\n",
    "// Although works same as catch (Exception e)\n",
    "// And not a good practice in general\n",
    "catch\n",
    "{\n",
    "    Console.WriteLine(\"Exception caught\");\n",
    "}"
   ]
  },
  {
   "cell_type": "code",
   "execution_count": null,
   "metadata": {
    "dotnet_interactive": {
     "language": "csharp"
    },
    "polyglot_notebook": {
     "kernelName": "csharp"
    }
   },
   "outputs": [],
   "source": [
    "// Finally block will always be executed, regardles if there was exception or not\n",
    "try {\n",
    "    try\n",
    "    {\n",
    "        throw new CustomException(\"Custom exception\");\n",
    "    }\n",
    "    catch (CustomException e)\n",
    "    {\n",
    "        throw new CustomException(\"Custom exception again\");\n",
    "    }\n",
    "    finally\n",
    "    {\n",
    "        Console.WriteLine(\"Finally block\");\n",
    "    }\n",
    "}\n",
    "catch\n",
    "{\n",
    "    Console.WriteLine(\"Don't want any errors to slip into notebook\");\n",
    "}"
   ]
  },
  {
   "cell_type": "code",
   "execution_count": null,
   "metadata": {
    "dotnet_interactive": {
     "language": "csharp"
    },
    "polyglot_notebook": {
     "kernelName": "csharp"
    }
   },
   "outputs": [],
   "source": [
    "// Finally block will be executed even after `return` from the method\n",
    "int Method()\n",
    "{\n",
    "    try\n",
    "    {\n",
    "        throw new CustomException(\"Custom exception\");\n",
    "        return 10;\n",
    "    }\n",
    "    finally\n",
    "    {\n",
    "        Console.WriteLine(\"Finally block\");\n",
    "    }\n",
    "}\n",
    "\n",
    "try\n",
    "{\n",
    "    Method();\n",
    "}\n",
    "catch (CustomException e)\n",
    "{\n",
    "    Console.WriteLine(e.Message);\n",
    "}"
   ]
  },
  {
   "cell_type": "code",
   "execution_count": null,
   "metadata": {
    "dotnet_interactive": {
     "language": "csharp"
    },
    "polyglot_notebook": {
     "kernelName": "csharp"
    }
   },
   "outputs": [],
   "source": [
    "// If exception variable is not needed, it can be omitted and just the type left\n",
    "try\n",
    "{\n",
    "    throw new CustomException(\"Custom exception\");\n",
    "}\n",
    "catch (CustomException)\n",
    "{\n",
    "    Console.WriteLine(\"Exception caught\");\n",
    "}"
   ]
  },
  {
   "cell_type": "code",
   "execution_count": null,
   "metadata": {
    "dotnet_interactive": {
     "language": "csharp"
    },
    "polyglot_notebook": {
     "kernelName": "csharp"
    }
   },
   "outputs": [],
   "source": [
    "// catch statements support pattern matching to filter exceptions of same polymorphic type\n",
    "try\n",
    "{\n",
    "    throw new CustomException(\"Custom exception\");\n",
    "}\n",
    "catch (Exception e) when (e.Message == \"Custom exception\")\n",
    "{\n",
    "    Console.WriteLine(\"Custom exception caught\");\n",
    "}\n",
    "catch (Exception e)\n",
    "{\n",
    "    Console.WriteLine(\"Other exception caught\");\n",
    "}"
   ]
  },
  {
   "cell_type": "markdown",
   "metadata": {},
   "source": [
    "## Type conversions"
   ]
  },
  {
   "cell_type": "markdown",
   "metadata": {},
   "source": [
    "### Casting\n",
    "\n",
    "Casting is converting variables of one type to another. Because C# is a type-safe language - type conversions are only available when types are compatible for conversion. If types cannot be converted from one to another, then it will result in either runtime or compile time exception."
   ]
  },
  {
   "cell_type": "markdown",
   "metadata": {},
   "source": [
    "#### Implicit cast\n",
    "\n",
    "Implicit casts happen when variable of one type is assigned to the variable of another type. Implicit casting does not require any additional syntax - simple assignment is enough. Implicit casts are typically safe.\n",
    "\n",
    "Implicit casts happen from more specific to mess specific types, or from equivalent more precise types to less precise types."
   ]
  },
  {
   "cell_type": "code",
   "execution_count": null,
   "metadata": {
    "dotnet_interactive": {
     "language": "csharp"
    },
    "polyglot_notebook": {
     "kernelName": "csharp"
    }
   },
   "outputs": [],
   "source": [
    "class LessSpecificType\n",
    "{\n",
    "}\n",
    "\n",
    "class MoreSpecificType : LessSpecificType\n",
    "{\n",
    "}\n",
    "\n",
    "var moreSpecificType = new MoreSpecificType();\n",
    "LessSpecificType lessSpecificType = moreSpecificType;"
   ]
  },
  {
   "cell_type": "markdown",
   "metadata": {},
   "source": [
    "#### User defined cast operators\n",
    "\n",
    "Explicit or implicit cast operations can be defined for user defined types. `implicit` cast is used to define conversion from user-defined type to another. `explicit` cast is used to define cast to user-defined type."
   ]
  },
  {
   "cell_type": "code",
   "execution_count": null,
   "metadata": {
    "dotnet_interactive": {
     "language": "csharp"
    },
    "polyglot_notebook": {
     "kernelName": "csharp"
    }
   },
   "outputs": [],
   "source": [
    "class CustomClass\n",
    "{\n",
    "    public string Property { get; set; }\n",
    "\n",
    "    public CustomClass(string property)\n",
    "    {\n",
    "        Property = property;\n",
    "    }\n",
    "\n",
    "    public static implicit operator int(CustomClass customClass)\n",
    "        => customClass.Property.Length;\n",
    "\n",
    "    public static explicit operator CustomClass(int length)\n",
    "        => new CustomClass(new string('a', length));\n",
    "}\n",
    "\n",
    "var customClass = new CustomClass(\"Hello\");\n",
    "int length = customClass;\n",
    "length.Display();\n",
    "\n",
    "var anotherCustomClass = (CustomClass)5;\n",
    "anotherCustomClass.Property.Display();"
   ]
  },
  {
   "cell_type": "markdown",
   "metadata": {},
   "source": [
    "### Boxing and Unboxing\n",
    "\n",
    "Boxing happens a value type is assigned to reference typed variable. Boxed value is moved to memory-heap and a reference pointing to that place in memory is stored in variable."
   ]
  },
  {
   "cell_type": "code",
   "execution_count": null,
   "metadata": {
    "dotnet_interactive": {
     "language": "csharp"
    },
    "polyglot_notebook": {
     "kernelName": "csharp"
    }
   },
   "outputs": [],
   "source": [
    "// When a value type is assigned to reference typed variable it is called boxing\n",
    "\n",
    "// `object` is an reference type\n",
    "// literal 10 is an `int` which is a value type\n",
    "object boxed = 10;\n",
    "\n",
    "// unboxing\n",
    "int unboxed = (int)boxed;"
   ]
  },
  {
   "cell_type": "markdown",
   "metadata": {},
   "source": [
    "### Widening and narrowing"
   ]
  },
  {
   "cell_type": "code",
   "execution_count": null,
   "metadata": {
    "dotnet_interactive": {
     "language": "csharp"
    },
    "polyglot_notebook": {
     "kernelName": "csharp"
    }
   },
   "outputs": [],
   "source": [
    "// Widening occurs when a value of smaller type is assigned to a value of larger type\n",
    "\n",
    "int a = 10;\n",
    "long b = a;\n",
    "\n",
    "// Widening does not incur a loss of data"
   ]
  },
  {
   "cell_type": "code",
   "execution_count": null,
   "metadata": {
    "dotnet_interactive": {
     "language": "csharp"
    },
    "polyglot_notebook": {
     "kernelName": "csharp"
    }
   },
   "outputs": [],
   "source": [
    "// Narrowing occurs when a value of larger type is assigned to a value of smaller type\n",
    "\n",
    "long a = 10;\n",
    "\n",
    "// Narrowing requires explicit cast\n",
    "int b = (int)a;\n",
    "\n",
    "// Narrowing can incur a loss of data"
   ]
  },
  {
   "cell_type": "markdown",
   "metadata": {},
   "source": [
    "## Generics\n",
    "\n",
    "Generics allow define type constraints in user-defined on per-instance basis."
   ]
  },
  {
   "cell_type": "code",
   "execution_count": null,
   "metadata": {
    "dotnet_interactive": {
     "language": "csharp"
    },
    "polyglot_notebook": {
     "kernelName": "csharp"
    }
   },
   "outputs": [],
   "source": [
    "// Class will be constrained by T type\n",
    "class GenericClass<T>\n",
    "{\n",
    "    public T Value { get; set; }\n",
    "\n",
    "    public GenericClass(T value)\n",
    "    {\n",
    "        Value = value;\n",
    "    }\n",
    "}"
   ]
  },
  {
   "cell_type": "markdown",
   "metadata": {},
   "source": [
    "Generic types are referred to as \"<Type> of T\". Using the example above, if the `GenericClass<>` were instantiated as `GenericExample<int>`, then it would be referred to as \"GenericClass of int\".\n",
    "\n",
    "More examples:\n",
    "- `List<string>` would be \"List of string\",\n",
    "- `Queue<int>` would be \"Queue of int\",\n",
    "- etc..."
   ]
  },
  {
   "cell_type": "code",
   "execution_count": null,
   "metadata": {
    "dotnet_interactive": {
     "language": "csharp"
    },
    "polyglot_notebook": {
     "kernelName": "csharp"
    }
   },
   "outputs": [],
   "source": [
    "// Generics can be used in any place to substitute for a concrete type\n",
    "class GenericClass<T>\n",
    "{\n",
    "    public T Value { get; set; }\n",
    "\n",
    "    public GenericClass(T value)\n",
    "    {\n",
    "        Value = value;\n",
    "    }\n",
    "\n",
    "    public T Method(T value) => value;\n",
    "} "
   ]
  },
  {
   "cell_type": "code",
   "execution_count": null,
   "metadata": {
    "dotnet_interactive": {
     "language": "csharp"
    },
    "polyglot_notebook": {
     "kernelName": "csharp"
    }
   },
   "outputs": [],
   "source": [
    "// Special constraints can be applied to generics\n",
    "// where T : struct - T must be a value type\n",
    "// where T : class - T must be a reference type\n",
    "// where T : new() - T must have a parameterless constructor\n",
    "// where T : <base class> - T must inherit from base class\n",
    "// where T : <interface> - T must implement interface\n",
    "// constraints can also be combined\n",
    "\n",
    "class GenericClass<T> where T : struct\n",
    "{\n",
    "    public T Value { get; set; }\n",
    "\n",
    "    public GenericClass(T value)\n",
    "    {\n",
    "        Value = value;\n",
    "    }\n",
    "}\n",
    "\n",
    "// works\n",
    "var genericClass = new GenericClass<int>(10);\n",
    "\n",
    "// does not work\n",
    "// var genericClass = new GenericClass<string>(\"Hello\");"
   ]
  },
  {
   "cell_type": "code",
   "execution_count": null,
   "metadata": {
    "dotnet_interactive": {
     "language": "csharp"
    },
    "polyglot_notebook": {
     "kernelName": "csharp"
    }
   },
   "outputs": [],
   "source": [
    "// Bad example\n",
    "// Generics can generally be considered useless if they can be replaced with `object`\n",
    "class NotSoGoodGenericClass<T>\n",
    "{\n",
    "    public void Method(T value)\n",
    "    {\n",
    "        Console.WriteLine(value);\n",
    "    }\n",
    "}\n",
    "\n",
    "class SameButNotGenericClass\n",
    "{\n",
    "    public void Method(object value)\n",
    "    {\n",
    "        Console.WriteLine(value);\n",
    "    }\n",
    "}"
   ]
  },
  {
   "cell_type": "markdown",
   "metadata": {},
   "source": [
    "## Memory management\n",
    "\n",
    "C# is a memory safe language. As a developer you do not need to deal with memory allocations or freeing the unused memory.\n",
    "\n",
    "When a new variable is instantiated memory is automatically allocated for storing that variable by the runtime.\n",
    "\n",
    "When a variable is no longer needed, the memory is *eventually* going to be freed up by the Garbage Collector (or GC for short). Garbage Collector looks for memory allocations that do not have any recursive pointers to the from the *main* thread. GC works in iterations and during the iteration there is a possibility that memory that has no references to it will be freed up."
   ]
  },
  {
   "cell_type": "code",
   "execution_count": null,
   "metadata": {
    "dotnet_interactive": {
     "language": "csharp"
    },
    "polyglot_notebook": {
     "kernelName": "csharp"
    }
   },
   "outputs": [],
   "source": [
    "// Garbage collector can be invoked manually\n",
    "GC.Collect();"
   ]
  },
  {
   "cell_type": "code",
   "execution_count": null,
   "metadata": {
    "dotnet_interactive": {
     "language": "csharp"
    },
    "polyglot_notebook": {
     "kernelName": "csharp"
    }
   },
   "outputs": [],
   "source": [
    "// Display the total memory used by the program\n",
    "GC.GetTotalMemory(false).Display();"
   ]
  },
  {
   "cell_type": "markdown",
   "metadata": {},
   "source": [
    "### `unsafe`\n",
    "\n",
    "`unsafe` keywords allows working with pointers directly. Typically it is not recommended to use `unsafe` in any case, but here are certain **very niche** cases when using `unsafe` might used to write more performant code, or to achieve interoperability with legacy applications."
   ]
  },
  {
   "cell_type": "code",
   "execution_count": null,
   "metadata": {
    "dotnet_interactive": {
     "language": "csharp"
    },
    "polyglot_notebook": {
     "kernelName": "csharp"
    }
   },
   "outputs": [],
   "source": [
    "// Unsafe allows to work with pointers\n",
    "unsafe\n",
    "{\n",
    "    int number = 10;\n",
    "    int* pointer = &number;\n",
    "\n",
    "    pointer->Display();\n",
    "}"
   ]
  },
  {
   "cell_type": "code",
   "execution_count": null,
   "metadata": {
    "dotnet_interactive": {
     "language": "csharp"
    },
    "polyglot_notebook": {
     "kernelName": "csharp"
    }
   },
   "outputs": [],
   "source": [
    "// Methods can be marked as unsafe too\n",
    "static unsafe void UnsafeMethod()\n",
    "{\n",
    "    int number = 10;\n",
    "    int* pointer = &number;\n",
    "\n",
    "    pointer->Display();\n",
    "}"
   ]
  },
  {
   "cell_type": "code",
   "execution_count": null,
   "metadata": {
    "dotnet_interactive": {
     "language": "csharp"
    },
    "polyglot_notebook": {
     "kernelName": "csharp"
    }
   },
   "outputs": [],
   "source": [
    "// Unsafe methods can accept pointers as arguments\n",
    "unsafe void UnsafeMethod(int* pointer)\n",
    "{\n",
    "    pointer->Display();\n",
    "}"
   ]
  },
  {
   "cell_type": "code",
   "execution_count": null,
   "metadata": {
    "dotnet_interactive": {
     "language": "csharp"
    },
    "polyglot_notebook": {
     "kernelName": "csharp"
    }
   },
   "outputs": [],
   "source": [
    "// Using unsafe true references can be passed\n",
    "unsafe\n",
    "{\n",
    "    object obj = new object();\n",
    "    var object2 = &obj;\n",
    "\n",
    "    obj = null;\n",
    "    object2->Display();\n",
    "}"
   ]
  }
 ],
 "metadata": {
  "kernelspec": {
   "display_name": ".NET (C#)",
   "language": "C#",
   "name": ".net-csharp"
  },
  "language_info": {
   "name": "polyglot-notebook"
  },
  "polyglot_notebook": {
   "kernelInfo": {
    "defaultKernelName": "csharp",
    "items": [
     {
      "aliases": [],
      "languageName": "csharp",
      "name": "csharp"
     }
    ]
   }
  }
 },
 "nbformat": 4,
 "nbformat_minor": 2
}
