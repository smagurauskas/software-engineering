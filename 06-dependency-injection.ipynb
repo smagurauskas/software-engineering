{
 "cells": [
  {
   "cell_type": "markdown",
   "metadata": {
    "slideshow": {
     "slide_type": "slide"
    }
   },
   "source": [
    "# Dependency injection\n",
    "\n",
    "Dependency injection (DI) is one of the ways to implement the dependency inversion principle.\n",
    "\n",
    "Dependency injection in practice means that the external types the class depends on are passed in from external source, instead of being create in the class itself."
   ]
  },
  {
   "cell_type": "markdown",
   "metadata": {
    "slideshow": {
     "slide_type": "skip"
    }
   },
   "source": [
    "Implementing DI helps by making the code more configurable, because only the type that is being injected can be changed in a single place, instead of the concrete instantiation everywhere.\n",
    "\n",
    "Another place where DI is helpful is in testing. DI makes the code more configurable so it is easier to pass fake class implementations to isolate the type under testing."
   ]
  },
  {
   "cell_type": "markdown",
   "metadata": {
    "slideshow": {
     "slide_type": "subslide"
    }
   },
   "source": [
    "Dependency inversion as one of the SOLID principles:\n",
    "\n",
    "```mermaid\n",
    "graph LR\n",
    "    A[High-level Module] -->|depends on| B[Abstraction]\n",
    "    C[Low-level Module] -->|depends on| B[Abstraction]\n",
    "```"
   ]
  },
  {
   "cell_type": "markdown",
   "metadata": {
    "slideshow": {
     "slide_type": "slide"
    }
   },
   "source": [
    "## Example 1\n",
    "\n",
    "Let's say there is an interface `IStudentRepository` like this:\n",
    "\n",
    "```csharp\n",
    "interface IStudentRepository\n",
    "{\n",
    "    Task SaveStudentAsync(Student student);\n",
    "    Task<List<Student>> GetStudentsAsync();\n",
    "}\n",
    "```"
   ]
  },
  {
   "cell_type": "markdown",
   "metadata": {
    "slideshow": {
     "slide_type": "notes"
    }
   },
   "source": [
    "The `IStudentRepository` interface does not specify how or where the students are stored, interface just deals with what it can do - store and retrieve the students. There are multiple legit ways how to interface can be implemented, so there are multiple possible classes to use in place of this interface."
   ]
  },
  {
   "cell_type": "markdown",
   "metadata": {
    "slideshow": {
     "slide_type": "skip"
    }
   },
   "source": [
    "For this example let's say there is a class `FileStudentRepository` which implements the interface `IStudentRepository` and saves as well as retrieves students from a file.\n",
    "\n",
    "Without using DI, an option how to acquire an instance of `IStudentRepository` int the class `StudentsController` controller class would be by simply manually instantiating `FileStudentRepository` inside the constructur."
   ]
  },
  {
   "cell_type": "markdown",
   "metadata": {
    "slideshow": {
     "slide_type": "subslide"
    }
   },
   "source": [
    "```csharp\n",
    "public class StudentsController : ControllerBase\n",
    "{\n",
    "    private readonly IStudentRepository _repository;\n",
    "\n",
    "    public StudentsController()\n",
    "    {\n",
    "        _repository = new FileStudentRepository();\n",
    "    }\n",
    "\n",
    "    public async Task SaveStudent(StudentDto dto)\n",
    "    {\n",
    "        await _repository.SaveStudentAsync(new Student(dto));\n",
    "    } \n",
    "}\n",
    "```"
   ]
  },
  {
   "cell_type": "markdown",
   "metadata": {
    "slideshow": {
     "slide_type": "skip"
    }
   },
   "source": [
    "It is a fair argument to say, that this works pretty well if this is the only place where `IStudentRepository` is used.\n",
    "\n",
    "If we were certain that the alternative implementation of the interface would not be viable, then this would also work fine. The same goes if we were sure that the exact implementation wouldn't need to be switched during the runtime."
   ]
  },
  {
   "cell_type": "markdown",
   "metadata": {
    "slideshow": {
     "slide_type": "skip"
    }
   },
   "source": [
    "However, the acquisition of instance implementating `IStudentRepository` could be done differently. Specifically - using the dependency inection pattern. Using the DI, the construction of an instance would happen some place else, and the instance would be simply provided via one of few options, based on what DI framework is used."
   ]
  },
  {
   "cell_type": "markdown",
   "metadata": {
    "slideshow": {
     "slide_type": "subslide"
    }
   },
   "source": [
    "`StudentsController` class with `IStudentRepository` injected via constructor:\n",
    "\n",
    "```csharp\n",
    "public class StudentsController : ControllerBase\n",
    "{\n",
    "    private readonly IStudentRepository _repository;\n",
    "\n",
    "    public StudentsController(IStudentRepository repository)\n",
    "    {\n",
    "        _repository = repository;\n",
    "    }\n",
    "\n",
    "    public async Task SaveStudent(StudentDto dto)\n",
    "    {\n",
    "        await _repository.SaveStudentAsync(new Student(dto));\n",
    "    } \n",
    "}\n",
    "```"
   ]
  },
  {
   "cell_type": "markdown",
   "metadata": {
    "slideshow": {
     "slide_type": "skip"
    }
   },
   "source": [
    "With injection like this, the `StudentsController` becomes more modular. Exact implementation can be swapped during the class construction time. Also, since the `StudentsController` doesn't know which exact implementation of `IStudentRepository` is used, one could argue that the abstractions are better isolated."
   ]
  },
  {
   "cell_type": "markdown",
   "metadata": {
    "slideshow": {
     "slide_type": "slide"
    }
   },
   "source": [
    "## Example 2\n",
    "\n",
    "This example follows the idea from the Example 1, but takes a look at the problem from the different angle.\n",
    "\n",
    "Let's say we have a class which is responsible for calculating students grades:\n",
    "\n",
    "```csharp\n",
    "class GradesCalculator\n",
    "{\n",
    "    private readonly string _connectionStringFacultyA = \"<something>\";\n",
    "    private readonly string _connectionStringFacultyB = \"<something>\";\n",
    "\n",
    "    public int CalculateFinalGrade(string studentId)\n",
    "    {\n",
    "        List<int> grades;\n",
    "\n",
    "        if (studentId.EndsWith(\"A\")) {\n",
    "            var dbContext = new FactultyADbContext(_connectionStringFacultyA);\n",
    "            grades = dbContext.Students.Where(x => x.Id == studentId).Select(x => x.Grades).ToList();\n",
    "        }\n",
    "        else if (studentId.EndsWith(\"B\")) {\n",
    "            var dbContext = new FactultyBDbContext(_connectionStringFacultyB);\n",
    "            grades = dbContext.Grades.Where(x => x.StudentId == studentId).Select(x => x.Grades);\n",
    "        }\n",
    "\n",
    "        return grades.Average();\n",
    "    }\n",
    "}\n",
    "```"
   ]
  },
  {
   "cell_type": "markdown",
   "metadata": {
    "language_info": {
     "name": "polyglot-notebook"
    },
    "polyglot_notebook": {
     "kernelName": "csharp"
    },
    "slideshow": {
     "slide_type": "notes"
    }
   },
   "source": [
    "What is happening in the example class above:\n",
    "\n",
    "- Retrieval logic differs slightly based on which factuly the student is studying at.\n",
    "- Different classes are needed to access data based on faculty.\n",
    "- Different parameters are needed to create classes for data access.\n",
    "- Hypothetically if the `GradesCalcualtor` had more methods, which were working with students data, then the same `if/else` blocks could proliferate."
   ]
  },
  {
   "cell_type": "markdown",
   "metadata": {
    "slideshow": {
     "slide_type": "notes"
    }
   },
   "source": [
    "Note: the pattern of \"if value A, then do thing X way, else if value is B, then do the same thing, but in Y way\" is called \"Strategy pattern\"."
   ]
  },
  {
   "cell_type": "markdown",
   "metadata": {
    "slideshow": {
     "slide_type": "subslide"
    }
   },
   "source": [
    "What improvements could be done using DI in such case:\n",
    "\n",
    "1. Standardize the classes for data accessing using an interface:\n",
    "\n",
    "```csharp\n",
    "    interface IStudentDataRepository\n",
    "    {\n",
    "        List<int> GetGrades(string studentId);\n",
    "    }\n",
    "\n",
    "    class FactultyADbContext : IStudentDataRepository\n",
    "    {\n",
    "        // <..> some boilerplate and implementation details\n",
    "        \n",
    "        public List<int> GetGrades(string studentId)\n",
    "        {\n",
    "            return Students.Where(x => x.Id == studentId).Select(x => x.Grades).ToList();\n",
    "        }\n",
    "    }\n",
    "    \n",
    "    // Same for FactultyBDbContext\n",
    "```"
   ]
  },
  {
   "cell_type": "markdown",
   "metadata": {
    "slideshow": {
     "slide_type": "subslide"
    }
   },
   "source": [
    "2. Inject data access logic into the `GradesCalculator`:\n",
    "\n",
    "```csharp\n",
    "class GradesCalculator\n",
    "{\n",
    "    private readonly IStudentDataRepository _repository;\n",
    "\n",
    "    public GradesCalculator(IStudentDataRepository repository) {\n",
    "        _repository = repository\n",
    "    }\n",
    "\n",
    "    public int CalculateFinalGrade(string studentId)\n",
    "    {\n",
    "        List<int> grades = _repository.GetGrades(studentId);\n",
    "\n",
    "        return grades.Average();\n",
    "    }\n",
    "}\n",
    "```"
   ]
  },
  {
   "cell_type": "markdown",
   "metadata": {
    "slideshow": {
     "slide_type": "subslide"
    }
   },
   "source": [
    "3. Wire everything up in the DI framework config:\n",
    "\n",
    "```csharp\n",
    "// Program.cs\n",
    "// <...>\n",
    "builder.Services.AddScoped<ServiceA>();\n",
    "builder.Services.AddScoped<ServiceB>();\n",
    "// <...>\n",
    "builder.Services.AddScoped<Func<string, IStudentDataRepository>>(sp =>\n",
    "    key =>\n",
    "    {\n",
    "        return key switch\n",
    "        {\n",
    "            \"A\" => sp.GetRequiredService<FactultyADbContext>(),\n",
    "            \"B\" => sp.GetRequiredService<FactultyBDbContext>(),\n",
    "            _ => throw new ArgumentException(\"unknown key\"),\n",
    "        };\n",
    "    }\n",
    ");\n",
    "// <...>\n",
    "app.MapGet(\n",
    "    \"/grades/{studentId}\",\n",
    "    (string studentId, Func<string, IService> serviceAccessor) =>\n",
    "    {\n",
    "        var calculator = new GradesCalculator(servicesAccessor(studentId));\n",
    "        return calculator.CalculateFinalGrade(studentId);\n",
    "    }\n",
    ");\n",
    "// <...>\n",
    "```"
   ]
  },
  {
   "cell_type": "markdown",
   "metadata": {
    "slideshow": {
     "slide_type": "subslide"
    }
   },
   "source": [
    "### Was it worth it?\n",
    "\n",
    "When looking at `GradesCalculator` class in isolation, it did indeed became less complicated. On the other hand the `Program.cs` now has configuration logic that wasn't needed before. Depending on specific use case for which DI is being implemented for, varying amount and complexities of code can be removed or would have to be added.\n",
    "\n",
    "It is one of the responsibilities of a Software Engineer to figure out the right balance and decide if introducing some design pattern like DI into the solution is a net-positive or not."
   ]
  },
  {
   "cell_type": "markdown",
   "metadata": {
    "slideshow": {
     "slide_type": "subslide"
    }
   },
   "source": [
    "## Benefits of DI\n",
    "\n",
    "- Force the code be more testable (easier to pass some `Fake` implementation for the classes under testing).\n",
    "- Single instance can be reused by different classes in the same request scope.\n",
    "- Code can be more configurable and modular."
   ]
  },
  {
   "cell_type": "markdown",
   "metadata": {
    "slideshow": {
     "slide_type": "subslide"
    }
   },
   "source": [
    "## Problems with DI\n",
    "\n",
    "Main problem is not with the DI pattern itself, but that it has tendency to provoke overengineerng and indirection.\n",
    "\n",
    "While it is nice that you are not *forced to care* how exactly the dependency is implemented, but sometimes you *need* to know how that dependency works. DI provokes extra to jump through till you find the actual source."
   ]
  },
  {
   "cell_type": "markdown",
   "metadata": {
    "slideshow": {
     "slide_type": "skip"
    }
   },
   "source": [
    "## Further considerations\n",
    "\n",
    "Dependencies can be resolved recursively, which means that the `FileStudentRepository` class can be injecting dependencies it needs as well. The only nuance is that while the dependencies can be injected recursively, the top most class must be instantiated some other way. This is where the dependency injection frameworks comes into play.\n",
    "\n",
    "DI frameworks allows to configure the concrete implementations for injected types, their lifetimes and more. .NET has a `Microsoft` dependency injection framework, which is baked in into the ASP.NET and generic host applications, however there are alternative frameworks like `Autofac` and more.\n",
    "\n",
    "Next sections explores how to create simple dependency injection library yourself and how to use the standard Microsoft DI framework in ASP.NET."
   ]
  },
  {
   "cell_type": "markdown",
   "metadata": {},
   "source": [
    "## Building a DI framework\n",
    "\n",
    "To create a simplest homemade DI framework there are 2 obvious problems that need to be solved:\n",
    "\n",
    "1. How to know what dependencies the class has?\n",
    "2. How to instantiate the top-most class in the tree?\n",
    "\n",
    "For the 1st problem a language feature \"reflection\" is typically used. Reflection allows to get the meta information about the types and assemblies during the runtime. It can also be used instantiate the type dynamically, just by knowing their assembly and name.\n",
    "\n",
    "For the 2nd problem a service locator pattern will be used. Service locator simply takes in a type as an argument and returns the instance that satisfies the type requirement for the given argument."
   ]
  },
  {
   "cell_type": "markdown",
   "metadata": {},
   "source": [
    "### Reflection\n",
    "\n",
    "Types that are used for reflection are located in `System.Reflection` namespace.\n",
    "\n",
    "Reflection can be used to access the member information on the type, get the types in assembly, get the attributes and their values and more. Here we will focus on the essentials."
   ]
  },
  {
   "cell_type": "code",
   "execution_count": null,
   "metadata": {
    "dotnet_interactive": {
     "language": "csharp"
    },
    "polyglot_notebook": {
     "kernelName": "csharp"
    }
   },
   "outputs": [],
   "source": [
    "// Let's define a type that will be used to inspect using the reflection\n",
    "\n",
    "public class Person\n",
    "{\n",
    "    public string Name { get; init; }\n",
    "    public int Age { get; init; }\n",
    "\n",
    "    public Person(string name, int age)\n",
    "    {\n",
    "        Name = name;\n",
    "        Age = age;\n",
    "    }\n",
    "\n",
    "    public void SayHi()\n",
    "    {\n",
    "        Console.WriteLine($\"Hi, my name is {Name} and I'm {Age} years old.\");\n",
    "    }\n",
    "}"
   ]
  },
  {
   "cell_type": "markdown",
   "metadata": {},
   "source": [
    "To start reflecting on the `Person` class a type of this class will have to be acquired first:"
   ]
  },
  {
   "cell_type": "code",
   "execution_count": null,
   "metadata": {
    "dotnet_interactive": {
     "language": "csharp"
    },
    "polyglot_notebook": {
     "kernelName": "csharp"
    }
   },
   "outputs": [],
   "source": [
    "using System.Reflection;\n",
    "\n",
    "// Type can be be assigned during a compile time:\n",
    "var typeCompileTime = typeof(Person);\n",
    "\n",
    "// Or it can be assigned during a runtime:\n",
    "var typeRuntime = new Person(\"John\", 30).GetType();\n",
    "\n",
    "// In any case, they are the same type\n",
    "Console.WriteLine(typeCompileTime == typeRuntime);"
   ]
  },
  {
   "cell_type": "code",
   "execution_count": null,
   "metadata": {
    "dotnet_interactive": {
     "language": "csharp"
    },
    "polyglot_notebook": {
     "kernelName": "csharp"
    }
   },
   "outputs": [],
   "source": [
    "// Just for brevity\n",
    "var type = typeCompileTime;\n",
    "\n",
    "// Get all the properties of the type\n",
    "var properties = type.GetProperties();\n",
    "\n",
    "Console.WriteLine($\"Properties of the type {type.Name}:\");\n",
    "foreach (var property in properties)\n",
    "{\n",
    "    Console.WriteLine(property.Name);\n",
    "}"
   ]
  },
  {
   "cell_type": "code",
   "execution_count": null,
   "metadata": {
    "dotnet_interactive": {
     "language": "csharp"
    },
    "polyglot_notebook": {
     "kernelName": "csharp"
    }
   },
   "outputs": [],
   "source": [
    "// In this example Person class has no public fields:\n",
    "var fields = type.GetFields();\n",
    "foreach (var field in fields)\n",
    "{\n",
    "    Console.WriteLine(field.Name);\n",
    "}"
   ]
  },
  {
   "cell_type": "code",
   "execution_count": null,
   "metadata": {
    "dotnet_interactive": {
     "language": "csharp"
    },
    "polyglot_notebook": {
     "kernelName": "csharp"
    }
   },
   "outputs": [],
   "source": [
    "// But we know that the it has properties, which should have private backing fields generated by the compiler.\n",
    "// To access them, some additional flags indicating that we want to access private members are required:\n",
    "var fieldsWithPrivate = type.GetFields(BindingFlags.NonPublic | BindingFlags.Instance);\n",
    "foreach (var field in fieldsWithPrivate)\n",
    "{\n",
    "    Console.WriteLine(field.Name);\n",
    "}"
   ]
  },
  {
   "cell_type": "markdown",
   "metadata": {},
   "source": [
    "Although we only defined the `SayHi` method, but class has more of them. Some of them come inherited implicitly from the `object` base class, others (like `get_*` and `set_*`) are created during the compilation time."
   ]
  },
  {
   "cell_type": "code",
   "execution_count": null,
   "metadata": {
    "dotnet_interactive": {
     "language": "csharp"
    },
    "polyglot_notebook": {
     "kernelName": "csharp"
    }
   },
   "outputs": [],
   "source": [
    "// Get all the methods of the type\n",
    "var methods = type.GetMethods();\n",
    "foreach (var method in methods)\n",
    "{\n",
    "    Console.WriteLine(method.Name);\n",
    "}"
   ]
  },
  {
   "cell_type": "code",
   "execution_count": null,
   "metadata": {
    "dotnet_interactive": {
     "language": "csharp"
    },
    "polyglot_notebook": {
     "kernelName": "csharp"
    }
   },
   "outputs": [],
   "source": [
    "// Reflection can be used call the methods as well:\n",
    "var instance = new Person(\"John\", 30);\n",
    "var methodInfo = type.GetMethod(\"SayHi\");\n",
    "\n",
    "// Second parameter is an array of arguments, which the SayHi method does not have\n",
    "methodInfo.Invoke(instance, null);"
   ]
  },
  {
   "cell_type": "code",
   "execution_count": null,
   "metadata": {
    "dotnet_interactive": {
     "language": "csharp"
    },
    "polyglot_notebook": {
     "kernelName": "csharp"
    }
   },
   "outputs": [],
   "source": [
    "// Similarly reflection can be used to get and set the property values\n",
    "\n",
    "// Get the property info\n",
    "var propertyInfo = type.GetProperty(\"Name\");\n",
    "\n",
    "// Get the value of the property\n",
    "var value = propertyInfo.GetValue(instance);\n",
    "\n",
    "Console.WriteLine(value);\n",
    "\n",
    "// Set the value of the property\n",
    "propertyInfo.SetValue(instance, \"Jane\");\n",
    "\n",
    "Console.WriteLine(instance.Name);"
   ]
  },
  {
   "cell_type": "code",
   "execution_count": null,
   "metadata": {
    "dotnet_interactive": {
     "language": "csharp"
    },
    "polyglot_notebook": {
     "kernelName": "csharp"
    }
   },
   "outputs": [],
   "source": [
    "// Reflection can be used to obtain information about the types in assembly:\n",
    "var assembly = Assembly.GetExecutingAssembly();\n",
    "\n",
    "var types = assembly.GetTypes();\n",
    "\n",
    "Console.WriteLine($\"Types in the assembly {assembly.FullName}:\");\n",
    "foreach (var t in types)\n",
    "{\n",
    "    Console.WriteLine(t.Name);\n",
    "}\n",
    "\n",
    "// We know there is a Person type in this assembly, but because how the notebooks works,\n",
    "// we cannot simply find it, because it is nested within other class."
   ]
  },
  {
   "cell_type": "code",
   "execution_count": null,
   "metadata": {
    "dotnet_interactive": {
     "language": "csharp"
    },
    "polyglot_notebook": {
     "kernelName": "csharp"
    }
   },
   "outputs": [],
   "source": [
    "// However we can see the type if it is defined in the same cell,\n",
    "// so there following examples will be verbose for them to work.\n",
    "\n",
    "public class Person\n",
    "{\n",
    "    public string Name { get; init; }\n",
    "    public int Age { get; init; }\n",
    "\n",
    "    public Person(string name, int age)\n",
    "    {\n",
    "        Name = name;\n",
    "        Age = age;\n",
    "    }\n",
    "\n",
    "    public void SayHi()\n",
    "    {\n",
    "        Console.WriteLine($\"Hi, my name is {Name} and I'm {Age} years old.\");\n",
    "    }\n",
    "}\n",
    "\n",
    "var assembly = Assembly.GetExecutingAssembly();\n",
    "\n",
    "var types = assembly.GetTypes();\n",
    "\n",
    "Console.WriteLine($\"Types in the assembly {assembly.FullName}:\");\n",
    "foreach (var t in types)\n",
    "{\n",
    "    Console.WriteLine(t.Name);\n",
    "}"
   ]
  },
  {
   "cell_type": "code",
   "execution_count": null,
   "metadata": {
    "dotnet_interactive": {
     "language": "csharp"
    },
    "polyglot_notebook": {
     "kernelName": "csharp"
    }
   },
   "outputs": [],
   "source": [
    "// Reflection can also be used to get the information about the constructors of the type\n",
    "\n",
    "public class Person\n",
    "{\n",
    "    public string Name { get; init; }\n",
    "    public int Age { get; init; }\n",
    "\n",
    "    public Person(string name, int age)\n",
    "    {\n",
    "        Name = name;\n",
    "        Age = age;\n",
    "    }\n",
    "\n",
    "    public void SayHi()\n",
    "    {\n",
    "        Console.WriteLine($\"Hi, my name is {Name} and I'm {Age} years old.\");\n",
    "    }\n",
    "}\n",
    "\n",
    "var constructors = typeof(Person).GetConstructors();\n",
    "\n",
    "Console.WriteLine($\"Constructors of the type {type.Name}:\");\n",
    "foreach (var constructor in constructors)\n",
    "{\n",
    "    Console.WriteLine(constructor);\n",
    "}"
   ]
  },
  {
   "cell_type": "code",
   "execution_count": null,
   "metadata": {
    "dotnet_interactive": {
     "language": "csharp"
    },
    "polyglot_notebook": {
     "kernelName": "csharp"
    }
   },
   "outputs": [],
   "source": [
    "// Reflection can be used to instantiate the type completely dynamically\n",
    "\n",
    "public class Person\n",
    "{\n",
    "    public string Name { get; init; }\n",
    "    public int Age { get; init; }\n",
    "\n",
    "    public Person(string name, int age)\n",
    "    {\n",
    "        Name = name;\n",
    "        Age = age;\n",
    "    }\n",
    "\n",
    "    public void SayHi()\n",
    "    {\n",
    "        Console.WriteLine($\"Hi, my name is {Name} and I'm {Age} years old.\");\n",
    "    }\n",
    "}\n",
    "\n",
    "var type = typeof(Person);\n",
    "\n",
    "var constructor = type.GetConstructors()[0];\n",
    "var instance = constructor.Invoke(new object[] { \"John\", 30 });\n",
    "\n",
    "var methodInfo = type.GetMethod(\"SayHi\");\n",
    "methodInfo.Invoke(instance, null);"
   ]
  },
  {
   "cell_type": "markdown",
   "metadata": {},
   "source": [
    "### DI framework implementation with Service Locator\n",
    "\n",
    "Service locator is a design pattern to which you pass the type and get the instance back.\n",
    "\n",
    "The simple interface for the pattern can look like this:\n",
    "\n",
    "```csharp\n",
    "public class ServiceLocator\n",
    "{\n",
    "    public T GetInstance<T>() { }\n",
    "}\n",
    "```"
   ]
  },
  {
   "cell_type": "markdown",
   "metadata": {},
   "source": [
    "For this example assume that there is an interface `IStudentRepository` and `FileStudentRepository` which implements the interface. Our DI library will be simple and convention based: it will search for a type defined in the same assembly that is assignable to the type requested by the constructor."
   ]
  },
  {
   "cell_type": "code",
   "execution_count": null,
   "metadata": {
    "dotnet_interactive": {
     "language": "csharp"
    },
    "polyglot_notebook": {
     "kernelName": "csharp"
    }
   },
   "outputs": [],
   "source": [
    "public class Student { }\n",
    "\n",
    "public interface IStudentRepository\n",
    "{\n",
    "    void Save(Student student);\n",
    "}\n",
    "\n",
    "public class StudentController\n",
    "{\n",
    "    private readonly IStudentRepository _studentRepository;\n",
    "\n",
    "    public StudentController(IStudentRepository studentRepository)\n",
    "    {\n",
    "        _studentRepository = studentRepository;\n",
    "    }\n",
    "\n",
    "    public void SaveStudent(Student student)\n",
    "    {\n",
    "        Console.WriteLine(\"Saving student in the controller\");\n",
    "        _studentRepository.Save(student);\n",
    "    }\n",
    "}\n",
    "\n",
    "public class FileStudentRepository : IStudentRepository\n",
    "{\n",
    "    public void Save(Student student)\n",
    "    {\n",
    "        Console.WriteLine(\"Saving student to a file\");\n",
    "    }\n",
    "}\n",
    "\n",
    "class ServiceLocator\n",
    "{\n",
    "    // Because the reflection happens at runtime, there is no way of being type safe then.\n",
    "    // This adds a generic layer and casting to convert the object to the desired type.\n",
    "    public T GetInstance<T>() where T : class\n",
    "    {\n",
    "        return (T)GetInstance(typeof(T));\n",
    "    }\n",
    "\n",
    "    private static object GetInstance(Type requestedType)\n",
    "    {\n",
    "        var assembly = Assembly.GetExecutingAssembly();\n",
    "        var types = assembly.GetTypes();\n",
    "\n",
    "        // Find the first class that is assignable to the requested type\n",
    "        var type = types.FirstOrDefault(x => x.IsClass && x.IsAssignableTo(requestedType));\n",
    "        if (type == null)\n",
    "        {\n",
    "            throw new InvalidOperationException($\"Cannot locate implementation for type {requestedType}\");\n",
    "        }\n",
    "\n",
    "        var ctors = type.GetConstructors();\n",
    "\n",
    "        // Just use the first constructor, might not work well if there were more than one\n",
    "        var ctor = ctors[0];\n",
    "        if (ctor.GetParameters().Length == 0) \n",
    "        {\n",
    "            return Activator.CreateInstance(type);\n",
    "        }\n",
    "\n",
    "        // Constructor can require other type to be injected, so we need to resolve them recursively\n",
    "        var ctorParams = new List<object>();\n",
    "        foreach (var param in ctor.GetParameters())\n",
    "        {\n",
    "            ctorParams.Add(GetInstance(param.ParameterType));\n",
    "        }\n",
    "\n",
    "        return ctor.Invoke(ctorParams.ToArray());\n",
    "    }\n",
    "}\n",
    "\n",
    "\n",
    "// Test it out\n",
    "var serviceLocator = new ServiceLocator();\n",
    "var studentController = serviceLocator.GetInstance<StudentController>();\n",
    "studentController.SaveStudent(new Student());"
   ]
  },
  {
   "cell_type": "markdown",
   "metadata": {
    "vscode": {
     "languageId": "polyglot-notebook"
    }
   },
   "source": [
    "## Usage of Microsoft DI in .NET\n",
    "\n",
    "The actual purpose built DI libraries are much more capable than the one in the example above. ASP.NET comes with Microsoft DI library out of the box and it is a solid choice to use for most scenarios.\n",
    "\n",
    "Since the controller or an endpoint definition are natural entry points for most cases in the ASP.NET application, there is no need to use things like service locators. To start using DI it is enough to create constructor with the required type (or add an argument when using endpoints).\n",
    "\n",
    "For DI framework to know which type will have to be injected, it will have to be manually registered.\n",
    "\n",
    "ASP.NET application will have templated code looking something like this:\n",
    "\n",
    "```csharp\n",
    "var builder = WebApplication.CreateBuilder(args);\n",
    "\n",
    "// The builder is of WebApplicationBuilder or similar type.\n",
    "// It has property `.Services` with methods needed to register services to the container.\n",
    "\n",
    "builder.Services.AddSingleton<IStudentRepository, FileStudentRepository>();\n",
    "```\n",
    "\n",
    "In the example above there is everything that needs to be done to start injecting the `IStudentRepository` inside the controller.\n",
    "\n",
    "One important thing to know are the lifetimes of instances. They can be:\n",
    "- Singleton (`AddSingleton()`).\n",
    "- Scoped (`AddScoped()`).\n",
    "- Transient (`.AddTransient()`).\n",
    "\n",
    "Singletons use a single instance for all the injections within the application lifetime.\n",
    "\n",
    "Scoped uses a single instance for the single scope. In ASP.NET the single scope is 1 HTTP requests. However if this DI framework were to be used for console app, then the scopes could be manually configured to mean whatever makes sense in that case. From practical point of view in ASP.NET this will be mean that if several dependencies uses `ILogger`, then the exact same instance of `ILogger` would injected into them during the single request.\n",
    "\n",
    "Transient uses injects new instance for every single injection. This means that if there are couple of classes injected into constructor and they both require `ILogger`, then different instances will be injected to them."
   ]
  }
 ],
 "metadata": {
  "kernelspec": {
   "display_name": ".NET (C#)",
   "language": "C#",
   "name": ".net-csharp"
  },
  "language_info": {
   "name": "polyglot-notebook"
  },
  "polyglot_notebook": {
   "kernelInfo": {
    "defaultKernelName": "csharp",
    "items": [
     {
      "aliases": [],
      "name": "csharp"
     }
    ]
   }
  }
 },
 "nbformat": 4,
 "nbformat_minor": 2
}
