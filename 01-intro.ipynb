{
 "cells": [
  {
   "cell_type": "markdown",
   "metadata": {
    "slideshow": {
     "slide_type": "slide"
    }
   },
   "source": [
    "# Software Engineering I\n",
    "## Intro lecture\n",
    "\n",
    "All the course material (including these notebooks) can be found at https://github.com/smagurauskas/software-engineering.\n",
    "\n",
    "Lectures will be held in English."
   ]
  },
  {
   "cell_type": "markdown",
   "metadata": {
    "slideshow": {
     "slide_type": "slide"
    }
   },
   "source": [
    "## What is Software Engineering?\n",
    "\n",
    "Software engineering is *programming over time*.\n",
    "\n",
    "Software engineering deals with such topics as:\n",
    "- How to scale development team\n",
    "- How to ensure that the project is maintainable as long as it needs to be\n",
    "- Making trade-offs in the system design\n",
    "- How to ensure the quality of software being built\n",
    "- And much more..."
   ]
  },
  {
   "cell_type": "markdown",
   "metadata": {
    "slideshow": {
     "slide_type": "slide"
    }
   },
   "source": [
    "## Lecture's agenda\n",
    "\n",
    "1. Mandatory information about the course and lectures.\n",
    "2. What the lab classes will look like.\n",
    "3. Quick intro/recap on GIT."
   ]
  },
  {
   "cell_type": "markdown",
   "metadata": {
    "slideshow": {
     "slide_type": "slide"
    }
   },
   "source": [
    "## Course material\n",
    "\n",
    "All these notebooks are versioned and placed here https://github.com/smagurauskas/software-engineering.\n",
    "\n",
    "Pull requests for changes are welcome!\n",
    "\n",
    "Additional lecture material will also be placed at [https://emokymai.vu.lt](https://emokymai.vu.lt)."
   ]
  },
  {
   "cell_type": "markdown",
   "metadata": {
    "slideshow": {
     "slide_type": "slide"
    }
   },
   "source": [
    "## Lecture format\n",
    "\n",
    "- Lectures are 3 *academic* hours long.\n",
    "- That will mean 2:00 - 2:30 hours long lectures.\n",
    "- Will have break sometime in the middle of lecture.\n",
    "\n",
    "The course is worth 10 ECTS credits. Most of it comes from individual work."
   ]
  },
  {
   "cell_type": "markdown",
   "metadata": {
    "slideshow": {
     "slide_type": "slide"
    }
   },
   "source": [
    "## Purpose of the course unit\n",
    "\n",
    "> To get acquainted with software development methods using C# programming language and .NET Core framework, to consolidate knowledge of object-oriented programming."
   ]
  },
  {
   "cell_type": "markdown",
   "metadata": {
    "slideshow": {
     "slide_type": "slide"
    }
   },
   "source": [
    "### Learning outcomes of the course unit\n",
    "\n",
    "- Design, implement and develop applied programs, apply code reviews;\n",
    "- Apply knowledge of software systems engineering, make qualified design and architectural decisions while expanding the functionality of the developed system;\n",
    "- Combine theory and practice using .NET framework technologies and developing OO application systems;\n",
    "- Develop the knowledge about data types, named and optional arguments as well as other new features of C# programming language;\n",
    "- Program in C# independently and in a team, applying basic OO design templates using C# programming environment;\n",
    "- Recognize the need for continuous learning and will have the initial skills;\n",
    "- Work in the team - on site and remotely."
   ]
  },
  {
   "cell_type": "markdown",
   "metadata": {},
   "source": [
    "Although course is heavily based on C# and .NET, it is not the primary goal of the course to teach these technologies.\n",
    "\n",
    "Primary goal is to teach the general principles in modern software engineering, that could be applied when working with any other technology. C# and .NET is just a tool in doing this. Most of the concepts taught in this course have equivalents in other software language and ecosystems, so the knowledge acquired during this course should be more universal than specific."
   ]
  },
  {
   "cell_type": "markdown",
   "metadata": {
    "slideshow": {
     "slide_type": "slide"
    }
   },
   "source": [
    "## Main ideas behind the course\n",
    "\n",
    "- Code is a liability.\n",
    "- Development effort is only the most obviously visible part of the cost.\n",
    "- Code is read more often than it is written.\n",
    "- *Learning to learn* a technology is more important than *learning a technology*."
   ]
  },
  {
   "cell_type": "markdown",
   "metadata": {
    "slideshow": {
     "slide_type": "slide"
    }
   },
   "source": [
    "## Planned lecture topics\n",
    "\n",
    "These are general guidelines on what the lecture are going to be about. It is possible that if the topics might shift a bit during the semester.\n",
    "\n",
    "Course is organized to get students up to speed with the lab assignments first, and then circle back and dive deeper into C# and software engineering topics. Because of this first few lectures might look a bit complicated and disjointed from the rest of lectures.\n",
    "\n",
    "For example if there is specific interest in topic, then more time might be dedicated to it during the lectures, so the subsequent topics might shift a bit further. Analogously if the topic is covered very quickly and there are no questions on it - a topic that was scheduled for later lecture might be shifted earlier."
   ]
  },
  {
   "cell_type": "markdown",
   "metadata": {
    "slideshow": {
     "slide_type": "slide"
    }
   },
   "source": [
    "### Lecture 2\n",
    "\n",
    "- Web services: \n",
    "    - What are the web services?\n",
    "    - What is HTTP(S)?\n",
    "    - What are REST, GraphQL, SOAP and gRPC?\n",
    "- Developing web services using ASP.NET"
   ]
  },
  {
   "cell_type": "markdown",
   "metadata": {
    "slideshow": {
     "slide_type": "slide"
    }
   },
   "source": [
    "### Lecture 3\n",
    "\n",
    "- Building graphical web UIs with ASP.NET\n",
    "- Intro into Agile software development"
   ]
  },
  {
   "cell_type": "markdown",
   "metadata": {
    "slideshow": {
     "slide_type": "slide"
    }
   },
   "source": [
    "### Lecture 4\n",
    "\n",
    "- .NET data types\n",
    "- Classes and structs in C#\n",
    "- Generic types and methods\n",
    "- Type conversions\n",
    "- Standard .NET interfaces\n",
    "- Creation of objects and object lifecycle\n",
    "- SOLID"
   ]
  },
  {
   "cell_type": "markdown",
   "metadata": {
    "slideshow": {
     "slide_type": "slide"
    }
   },
   "source": [
    "### Lecture 5\n",
    "\n",
    "- Working with persistent data\n",
    "- Reading and write the data\n",
    "- Collections\n",
    "- Delegates, anonymous methods and lambda expressions"
   ]
  },
  {
   "cell_type": "markdown",
   "metadata": {
    "slideshow": {
     "slide_type": "slide"
    }
   },
   "source": [
    "### Lecture 6\n",
    "\n",
    "- Introduction to LINQ\n",
    "- Working with data\n",
    "- Extension methods\n",
    "- Dependency injection"
   ]
  },
  {
   "cell_type": "markdown",
   "metadata": {
    "slideshow": {
     "slide_type": "slide"
    }
   },
   "source": [
    "### Lecture 7\n",
    "\n",
    "- Unit and integration testing\n",
    "- Writing tests in .NET"
   ]
  },
  {
   "cell_type": "markdown",
   "metadata": {
    "slideshow": {
     "slide_type": "slide"
    }
   },
   "source": [
    "### Lecture 8\n",
    "\n",
    "- Working with databases\n",
    "- Introduction to ORMs and Entity Framework\n",
    "- Using LINQ when working with ORM"
   ]
  },
  {
   "cell_type": "markdown",
   "metadata": {
    "slideshow": {
     "slide_type": "slide"
    }
   },
   "source": [
    "### Lecture 9\n",
    "\n",
    "- Software system construction (SWEBOK)\n",
    "- Business needs analysis (BABOK)\n",
    "- Software modification and maintenance\n",
    "- More on generic types in C#"
   ]
  },
  {
   "cell_type": "markdown",
   "metadata": {
    "slideshow": {
     "slide_type": "slide"
    }
   },
   "source": [
    "### Lecture 10\n",
    "\n",
    "- Multi-threading in C#\n",
    "- `async` and `await` keywords and their usage\n",
    "- Concurrent collections"
   ]
  },
  {
   "cell_type": "markdown",
   "metadata": {
    "slideshow": {
     "slide_type": "slide"
    }
   },
   "source": [
    "### Lecture 11\n",
    "\n",
    "- User interfaces and user experience"
   ]
  },
  {
   "cell_type": "markdown",
   "metadata": {
    "slideshow": {
     "slide_type": "slide"
    }
   },
   "source": [
    "### Lecture 12\n",
    "\n",
    "- Improving the software development process\n",
    "- Automated tools for code quality assurance (static analysis)\n",
    "- Software deployment\n",
    "- Continuous integration and deployment"
   ]
  },
  {
   "cell_type": "markdown",
   "metadata": {
    "slideshow": {
     "slide_type": "slide"
    }
   },
   "source": [
    "### Lecture 13\n",
    "\n",
    "- Debugging and refactoring"
   ]
  },
  {
   "cell_type": "markdown",
   "metadata": {
    "slideshow": {
     "slide_type": "slide"
    }
   },
   "source": [
    "### Lecture 14\n",
    "\n",
    "- Design patterns\n",
    "- Modern OO architectures overview"
   ]
  },
  {
   "cell_type": "markdown",
   "metadata": {
    "slideshow": {
     "slide_type": "slide"
    }
   },
   "source": [
    "### Lecture 15\n",
    "\n",
    "- Preparation for exam"
   ]
  },
  {
   "cell_type": "markdown",
   "metadata": {
    "slideshow": {
     "slide_type": "slide"
    }
   },
   "source": [
    "## Labs\n",
    "\n",
    "Students form teams of 4 students and develop a project together during the semester, based on one of the topics provided. Teams work in mini 1 week sprints and present the progress during the lab class each week.\n",
    "\n",
    "Students evaluate themselves and their team members each week according to the individual contributions that week. Final lab assignment grades depend on these self evaluations.\n",
    "\n",
    "General requirements:\n",
    "- Project must be a web application based on ASP.NET. UI layer framework/technology can be selected freely.\n",
    "- Requirements for lab assignments are meant to be implemented in C#.\n",
    "- Project must be versioned in GitHub.\n",
    "- All commits must be reviewed via pull requests. "
   ]
  },
  {
   "cell_type": "markdown",
   "metadata": {
    "slideshow": {
     "slide_type": "slide"
    }
   },
   "source": [
    "## 2024 Lab project topics\n",
    "\n",
    "General topic: improving cognitive skills using gamification.\n",
    "\n",
    "Concrete suggestions:\n",
    "1. Practice in order to improve your memory. *I.e. allow user to create mnemonics for specific concepts and then quiz on these mnemonics.*\n",
    "2. Practice to improve your reflexes. *I.e. think of [https://play.typeracer.com/](https://play.typeracer.com/) to improve the typing speed or [https://aimtrainer.io/](https://aimtrainer.io/) to improve mouse aiming skills.*\n",
    "3. Practice to improve your reading speed. *I.e. present the user some practical quick reading tips, then give a limited amount of time to read some text, finally give a quiz on that text.*"
   ]
  },
  {
   "cell_type": "markdown",
   "metadata": {
    "slideshow": {
     "slide_type": "slide"
    }
   },
   "source": [
    "## Evaluation\n",
    "\n",
    "- Exam in written form (max 5.0):\n",
    "    - Exam is considered to be passed if at least 1.5 out of 5 points are collected\n",
    "    - Exam can be taken only when total amount of points collected during the semester is 3.0 or more\n",
    "- Laboratory assignments (max 5.0)\n",
    "    - Three assignments (1.5 + 1.5 + 2.0)\n",
    "- Additional points (max 1.5):\n",
    "    - *Might* be some quizzes during the lecture (<1.0).\n",
    "    - Advanced settlement of tasks (5.0 x 10%).\n",
    "    - Additional contributions or outstanding performance (<1.0).\n"
   ]
  },
  {
   "cell_type": "markdown",
   "metadata": {
    "slideshow": {
     "slide_type": "slide"
    }
   },
   "source": [
    "## Lab assignment #1\n",
    "\n",
    "Deadline: week 7.\n",
    "\n",
    "Official goal: to develop an web application using the material covered in 1-6 lectures.\n",
    "\n",
    "Unofficial goal: to develop an app in ASP.NET that has basic functionality of assigned APP. Understand the usage of GitHub, coding in team principles. Prepare foundation for future work. Learn to code review yourself and take the feedback when getting one.\n",
    "\n",
    "Points: 1.5\n",
    "\n",
    "1. Application can be interacted with using *some* sort of interface\n",
    "2. Creating and using your own class, struct, record and enum\n",
    "3. Property usage in struct and class\n",
    "4. Named and optional argument usage\n",
    "5. Extension method usage\n",
    "6. Iterating through collection the right way\n",
    "7. Using a stream to load data (can be from file, web service, socket etc.)\n",
    "8. Boxing and unboxing\n",
    "9. LINQ to Objects usage (methods or queries)\n",
    "10. Implement at least one of the standard .NET interfaces (IEnumerable, IComparable, IComparer, IEquatable, IEnumerator, etc.)"
   ]
  },
  {
   "cell_type": "markdown",
   "metadata": {
    "slideshow": {
     "slide_type": "slide"
    }
   },
   "source": [
    "## Lab assignment #2\n",
    "\n",
    "Deadline: week 11.\n",
    "\n",
    "Official goal: continue developing an app while working in groups while using material covered in 7-10 lectures.\n",
    "\n",
    "Unofficial goal: start using database and testing the project. Deepen the functionality of application while being creative.\n",
    "\n",
    "Points: 1.5\n",
    "\n",
    "1. Relational database and Entity Framework is used for storing all the data\n",
    "2. Create a generic type with generic method; define at least 2 generic constraints\n",
    "3. Create at least 1 exception type and throw it; meaningfully deal with it; (most of the exceptions are logged to a file or a server)\n",
    "4. Usage of async/await\n",
    "5. Use at least 1 concurrent collection\n",
    "6. Dependency Injection is used everywhere where reasonable\n",
    "7. Unit and integration tests coverage at least 50%"
   ]
  },
  {
   "cell_type": "markdown",
   "metadata": {
    "slideshow": {
     "slide_type": "slide"
    }
   },
   "source": [
    "## Lab assignment #3\n",
    "\n",
    "Deadline: week 15.\n",
    "\n",
    "Official goal: continue developing an app while working in groups while using material covered in 11-14 lectures.\n",
    "\n",
    "Unofficial goal: think about the end-user experience, deepen the functionality of application while being creative. Finish up an MVP version of your application.\n",
    "\n",
    "Points: 2.0\n",
    "\n",
    "1. Application is in a stable state (presentation is made and no obvious usability issues/errors are observed). Additional user flows could be asked to be shown during the presentation.\n",
    "2. Unit and integration test coverage is at least 80%.\n",
    "3. Value proposition of the application can be clearly articulated.\n",
    "4. Application is shown to solve the problem the students have defined.\n",
    "\n",
    "Bonus points if:\n",
    "1. Application is hosted and demonstrated in a production like environment."
   ]
  },
  {
   "cell_type": "markdown",
   "metadata": {
    "slideshow": {
     "slide_type": "slide"
    }
   },
   "source": [
    "## Exam\n",
    "\n",
    "Exam will be some combination of this:\n",
    "- Open ended questions on general software engineering principles, i.e. code reviews, unit and integration testing, design patterns etc.\n",
    "- Circle the correct answer(s) questions - snippet of C# code, what will be it's output?\n",
    "- Type in the answer - what will the code print out?\n",
    "- Complete the code - part of the C# code is missing, complete the code to get the desired result.\n",
    "- Pull request review - review the pull requests and provide the comments."
   ]
  },
  {
   "cell_type": "markdown",
   "metadata": {
    "slideshow": {
     "slide_type": "slide"
    }
   },
   "source": [
    "## Literature\n",
    "\n",
    "### Official literature\n",
    "1. Software Engineering at Google: Lessons Learned from Programming Over Time.\n",
    "2. C# in Depth - Jon Skeet.\n",
    "3. The Pragmatic Programmer: your journey to mastery - Andy Hunt.\n",
    "4. The Art of Unit Testing: with examples in C# - Roy Osherove.\n",
    "\n",
    "and more...\n",
    "\n",
    "#### Other highly recommended literature\n",
    "1. Accelerate: The Science of Lean Software and DevOps: Building and Scaling High Performing Technology Organizations. "
   ]
  }
 ],
 "metadata": {
  "kernelspec": {
   "display_name": ".NET (C#)",
   "language": "C#",
   "name": ".net-csharp"
  },
  "language_info": {
   "name": "polyglot-notebook"
  },
  "polyglot_notebook": {
   "kernelInfo": {
    "defaultKernelName": "csharp",
    "items": [
     {
      "aliases": [],
      "languageName": "csharp",
      "name": "csharp"
     }
    ]
   }
  }
 },
 "nbformat": 4,
 "nbformat_minor": 2
}
