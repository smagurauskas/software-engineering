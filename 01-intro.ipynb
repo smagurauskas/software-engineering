{
 "cells": [
  {
   "cell_type": "markdown",
   "metadata": {
    "slideshow": {
     "slide_type": "slide"
    }
   },
   "source": [
    "# Software Engineering I\n",
    "## Intro lecture\n",
    "\n",
    "All the course material (including these notebooks) can be found at https://github.com/smagurauskas/software-engineering.\n",
    "\n",
    "Lectures will be held in English."
   ]
  },
  {
   "cell_type": "markdown",
   "metadata": {
    "slideshow": {
     "slide_type": "slide"
    }
   },
   "source": [
    "# Agenda\n",
    "\n",
    "1. Mandatory information about the course and lectures.\n",
    "2. What the lab classes will look.\n",
    "3. Quick intro/recap on GIT."
   ]
  },
  {
   "cell_type": "markdown",
   "metadata": {
    "slideshow": {
     "slide_type": "slide"
    }
   },
   "source": [
    "# Course material\n",
    "\n",
    "All these notebooks are versioned and placed here https://github.com/smagurauskas/software-engineering.\n",
    "\n",
    "Pull requests for changes are welcome!"
   ]
  },
  {
   "cell_type": "markdown",
   "metadata": {
    "slideshow": {
     "slide_type": "slide"
    }
   },
   "source": [
    "# Lecture format\n",
    "\n",
    "- Lectures are 3 *academic* hours long.\n",
    "- That will mean 2:00 - 2:30 hours long lectures.\n",
    "- Will have break sometime in the middle of lecture.\n",
    "\n",
    "The course is worth 10 ECTS credits. Most of it comes from individual work."
   ]
  },
  {
   "cell_type": "markdown",
   "metadata": {
    "slideshow": {
     "slide_type": "slide"
    }
   },
   "source": [
    "# Purpose of the course unit\n",
    "\n",
    "> To get acquainted with software development methods using C# programming language and .NET Core framework, to consolidate knowledge of object-oriented programming.\n",
    "\n",
    "### Learning outcomes of the course unit\n",
    "\n",
    "- Design, implement and develop applied programs, apply code reviews;\n",
    "- Apply knowledge of software systems engineering, make qualified design and architectural decisions while expanding the functionality of the developed system;\n",
    "- Combine theory and practice using .NET framework technologies and developing OO application systems;\n",
    "- Develop the knowledge about data types, named and optional arguments as well as other new features of C# programming language;\n",
    "- Program in C# independently and in a team, applying basic OO design templates using C# programming environment;\n",
    "- Recognize the need for continuous learning and will have the initial skills;\n",
    "- Work in the team - on site and remotely.\n"
   ]
  },
  {
   "cell_type": "markdown",
   "metadata": {},
   "source": [
    "## Lecture 2 and 3\n",
    "\n",
    "This and that"
   ]
  },
  {
   "cell_type": "markdown",
   "metadata": {
    "slideshow": {
     "slide_type": "slide"
    }
   },
   "source": [
    "# Exam\n",
    "\n",
    "Exam will be some combination of this:\n",
    "- Open ended questions on general software engineering principles, i.e. code reviews, unit and integration testing, design patterns etc.\n",
    "- Circle correct answer(s) questions - snippet of C# code, what will be it's output?\n",
    "- Type in the answer - what will the code print out?\n",
    "- Complete the code - part of the C# code is missing, complete the code to get the desired result.\n",
    "- Pull request review - review the pull requests and provide the comments."
   ]
  },
  {
   "cell_type": "markdown",
   "metadata": {},
   "source": [
    "# Evaluation\n",
    "\n",
    "- Exam in written form (max 5.0):\n",
    "    - Exam is considered to be passed if at least 1.5 out of 5 points are collected\n",
    "    - Exam can be taken only when total amount of points collected during the semester is 3.0 or more\n",
    "- Laboratory assignments (max 5.0)\n",
    "    - Three assignments (1.5 + 1.5 + 2.0)\n",
    "- Additional points (max 1.5)\n",
    "- *Might* be some quizzes during the lecture (<1.0).\n",
    "- Advance settlement of tasks (5.0 x 10%).\n"
   ]
  }
 ],
 "metadata": {
  "kernelspec": {
   "display_name": ".NET (C#)",
   "language": "C#",
   "name": ".net-csharp"
  },
  "language_info": {
   "name": "polyglot-notebook"
  },
  "polyglot_notebook": {
   "kernelInfo": {
    "defaultKernelName": "csharp",
    "items": [
     {
      "aliases": [],
      "languageName": "csharp",
      "name": "csharp"
     }
    ]
   }
  }
 },
 "nbformat": 4,
 "nbformat_minor": 2
}
