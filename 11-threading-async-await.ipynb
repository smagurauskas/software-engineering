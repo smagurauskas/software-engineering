{
 "cells": [
  {
   "cell_type": "markdown",
   "metadata": {},
   "source": [
    "# Multi-threading, async and await"
   ]
  },
  {
   "cell_type": "markdown",
   "metadata": {},
   "source": [
    "## Threads\n",
    "\n",
    "A thread is a lightweight unit of execution within a process. It allows a program to perform multiple tasks simultaneously, which can be useful for improving performance and responsiveness."
   ]
  },
  {
   "cell_type": "markdown",
   "metadata": {},
   "source": [
    "### History\n",
    "According to 1945 von Newmann architecture computer has one of each:\n",
    "- processor (processing unit),\n",
    "- controller(control unit),\n",
    "- memory and I/O mechanism.\n",
    "\n",
    "Central processor (CPU) consists of controller and processor.\n",
    "\n",
    "Since there is only one processor, all the programs are synchronous.\n",
    "\n",
    "Programs that we write are typically read and executed in a top-to-down sequential fashion.\n",
    "\n",
    "Problem is that if one actions is long running, then all other actions have to wait for that long running one to complete. This creates \"freezes\", which we would like to avoid.\n",
    "\n",
    "Solution - threads."
   ]
  },
  {
   "cell_type": "markdown",
   "metadata": {},
   "source": [
    "### How threading helps?\n",
    "\n",
    "Multi-threading allows to perform several operations simultaneously. If there is only a single processor available, it doesn't mean that the operation will happen faster, but, for example, it will allow to perform 1 computation operation and other operation that updates the progress on the screen simultaneously.\n",
    "\n",
    "For desktop or mobile apps multithreading can allow UI to remain responsive while the calculation is going on in the background. For web applications (like ASP.NET) asynchronous programming can be used to free up limited pool of HTTP request handling threads.\n",
    "\n",
    "If there is a large computation needed and there are several CPUs available, then it is theoretically quicker to split workload into several smaller chunks (threads) and run them in parallel."
   ]
  },
  {
   "cell_type": "markdown",
   "metadata": {},
   "source": [
    "### `Thread` in C#"
   ]
  },
  {
   "cell_type": "markdown",
   "metadata": {},
   "source": [
    "In C# you can create a new thread using the Thread class. Once you have created a thread, you can start it using the Start method. The code inside the thread will then execute concurrently with the main thread of the program.\n",
    "\n",
    "The `Thread` and other related classes can be found in `System.Threading` namespace."
   ]
  },
  {
   "cell_type": "code",
   "execution_count": null,
   "metadata": {
    "dotnet_interactive": {
     "language": "csharp"
    },
    "polyglot_notebook": {
     "kernelName": "csharp"
    }
   },
   "outputs": [],
   "source": [
    "using System.Threading;"
   ]
  },
  {
   "cell_type": "markdown",
   "metadata": {},
   "source": [
    "#### Helper `ProgressBar` class\n",
    "\n",
    "Code here is not related to the lecture, but nice for illustrating the progress in following examples."
   ]
  },
  {
   "cell_type": "code",
   "execution_count": null,
   "metadata": {
    "dotnet_interactive": {
     "language": "csharp"
    },
    "polyglot_notebook": {
     "kernelName": "csharp"
    }
   },
   "outputs": [],
   "source": [
    "// Code here is not related to the lecture, but nice for illustrating the progress in following examples.\n",
    "\n",
    "using System;\n",
    "\n",
    "public class ProgressBar\n",
    "{\n",
    "    private int _total;\n",
    "    private int _current;\n",
    "\n",
    "    public ProgressBar(int total)\n",
    "    {\n",
    "        _total = total;\n",
    "        _current = 0;\n",
    "    }\n",
    "\n",
    "    public void Increment(int delta = 1)\n",
    "    {\n",
    "        _current++;\n",
    "        Draw();\n",
    "    }\n",
    "\n",
    "    public void Report(int current)\n",
    "    {\n",
    "        _current = current;\n",
    "        Draw();\n",
    "    }\n",
    "\n",
    "    private void Draw()\n",
    "    {\n",
    "        var progressString = \"[\";\n",
    "        int progress = (int)((float)_current / _total * 100);\n",
    "        for (int i = 0; i < 100; i += 2)\n",
    "        {\n",
    "            if (i < progress)\n",
    "                progressString += \"=\";\n",
    "            else\n",
    "                progressString += \" \";\n",
    "        }\n",
    "        progressString += $\"] {progress}%\\r\";\n",
    "\n",
    "        Console.WriteLine(progressString);\n",
    "    }\n",
    "}\n",
    "\n",
    "\n",
    "// Sample usage:\n",
    "// var bar = new ProgressBar(100);\n",
    "// for (int i = 0; i < 100; i++)\n",
    "// {\n",
    "//     bar.Increment();\n",
    "//     Thread.Sleep(100);\n",
    "// }"
   ]
  },
  {
   "cell_type": "markdown",
   "metadata": {},
   "source": [
    "#### Simple `Thread` example"
   ]
  },
  {
   "cell_type": "code",
   "execution_count": null,
   "metadata": {
    "dotnet_interactive": {
     "language": "csharp"
    },
    "polyglot_notebook": {
     "kernelName": "csharp"
    }
   },
   "outputs": [],
   "source": [
    "Console.WriteLine(Environment.ProcessorCount);\n",
    "\n",
    "// create a progress bar\n",
    "const int MAX = 100;\n",
    "int current = 0;\n",
    "var bar = new ProgressBar(MAX);\n",
    "\n",
    "// create a thread for CPU-bound task\n",
    "var cpuThread = new Thread(() =>\n",
    "{\n",
    "    for (; current < MAX; current++)\n",
    "    {\n",
    "        // simulate a CPU-bound task\n",
    "        Thread.Sleep(100);\n",
    "    }\n",
    "});\n",
    "\n",
    "// create a thread for reporting progress\n",
    "var progressThread = new Thread(() =>\n",
    "{\n",
    "    while (current < MAX)\n",
    "    {\n",
    "        bar.Report(current);\n",
    "        Thread.Sleep(1000);\n",
    "    }\n",
    "\n",
    "    bar.Report(MAX);\n",
    "});\n",
    "\n",
    "// start the threads\n",
    "cpuThread.Start();\n",
    "progressThread.Start();\n",
    "\n",
    "cpuThread.Join();\n",
    "progressThread.Join();"
   ]
  },
  {
   "cell_type": "markdown",
   "metadata": {},
   "source": [
    "#### Threads in .NET\n",
    "\n",
    "All .NET applications have threads, most common:\n",
    "- Garbage Collector thread: self explanatory\n",
    "- Finalizer thread: finalize (destructor) methods execution.\n",
    "- Main thread: starts entry method of the program.\n",
    "- UI thread: WinForms, WPF or Windows Store app has this thread. Responsible for UI changes\n",
    "\n",
    "Threads are either main or background. By default all the threads are created as background threads. Only the entry thread is created as main thread. When all the main threads finishes - the application exits."
   ]
  },
  {
   "cell_type": "markdown",
   "metadata": {},
   "source": [
    "#### Common `Thread` methods and properties\n",
    "\n",
    "- `Start()`: starts the thread.\n",
    "- `Join()`: waits for the thread to complete.\n",
    "- `Sleep()`: pauses the current thread for a specified amount of time. It **blocks the CPU** \"thread\" that is executing this sleep operation.\n",
    "- `IsAlive`: returns `true` if the thread is still running.\n",
    "- `Name`: gets or sets the name of the thread.\n",
    "- `Priority`: gets or sets the priority of the thread.\n",
    "- `CurrentThread`: gets the currently executing thread.\n",
    "\n",
    "- `Abort()`: *Obsolete*. Was marked `Obsoleted` and should no longer be used. Recommended alternative `CancellationToken`."
   ]
  },
  {
   "cell_type": "code",
   "execution_count": null,
   "metadata": {
    "dotnet_interactive": {
     "language": "csharp"
    },
    "polyglot_notebook": {
     "kernelName": "csharp"
    }
   },
   "outputs": [],
   "source": [
    "// Start(): starts the thread.\n",
    "Thread tStart = new Thread(() =>\n",
    "{\n",
    "    Console.WriteLine(\"Thread started\");\n",
    "});\n",
    "\n",
    "tStart.Start();"
   ]
  },
  {
   "cell_type": "code",
   "execution_count": null,
   "metadata": {
    "dotnet_interactive": {
     "language": "csharp"
    },
    "polyglot_notebook": {
     "kernelName": "csharp"
    }
   },
   "outputs": [],
   "source": [
    "Thread tJoin = new Thread(() =>\n",
    "{\n",
    "    for (int i = 0; i < 200; i++)\n",
    "    {\n",
    "        Thread.Sleep(100);\n",
    "        Console.WriteLine($\"Background thread: {i}\");\n",
    "    }\n",
    "});\n",
    "\n",
    "tJoin.Start();\n",
    "\n",
    "for (int i = 0; i < 100; i++)\n",
    "{\n",
    "    Thread.Sleep(100);\n",
    "    Console.WriteLine($\"Main thread: {i}\");\n",
    "}\n",
    "\n",
    "tJoin.Join();"
   ]
  },
  {
   "cell_type": "code",
   "execution_count": null,
   "metadata": {
    "dotnet_interactive": {
     "language": "csharp"
    },
    "polyglot_notebook": {
     "kernelName": "csharp"
    }
   },
   "outputs": [],
   "source": [
    "// Sleep(): pauses the current thread for a specified amount of time.\n",
    "Thread tSleep = new Thread(() =>\n",
    "{\n",
    "    for (int i = 0; i < 5; i++)\n",
    "    {\n",
    "        Console.WriteLine($\"Thread {Thread.CurrentThread.ManagedThreadId} running\");\n",
    "        Thread.Sleep(1000);\n",
    "    }\n",
    "});\n",
    "\n",
    "tSleep.Start();\n",
    "tSleep.Join();"
   ]
  },
  {
   "cell_type": "code",
   "execution_count": null,
   "metadata": {
    "dotnet_interactive": {
     "language": "csharp"
    },
    "polyglot_notebook": {
     "kernelName": "csharp"
    }
   },
   "outputs": [],
   "source": [
    "// IsAlive: returns true if the thread is still running.\n",
    "Thread tAlive = new Thread(() =>\n",
    "{\n",
    "    Thread.Sleep(5000);\n",
    "});\n",
    "\n",
    "tAlive.Start();\n",
    "Console.WriteLine($\"Thread is alive: {tAlive.IsAlive}\");"
   ]
  },
  {
   "cell_type": "code",
   "execution_count": null,
   "metadata": {
    "dotnet_interactive": {
     "language": "csharp"
    },
    "polyglot_notebook": {
     "kernelName": "csharp"
    }
   },
   "outputs": [],
   "source": [
    "// Name: gets or sets the name of the thread.\n",
    "Thread tNamed = new Thread(() =>\n",
    "{\n",
    "    Console.WriteLine($\"Thread name: {Thread.CurrentThread.Name}\");\n",
    "});\n",
    "\n",
    "tNamed.Name = \"MyThread\";\n",
    "tNamed.Start();"
   ]
  },
  {
   "cell_type": "code",
   "execution_count": null,
   "metadata": {
    "dotnet_interactive": {
     "language": "csharp"
    },
    "polyglot_notebook": {
     "kernelName": "csharp"
    }
   },
   "outputs": [],
   "source": [
    "// Priority: gets or sets the priority of the thread.\n",
    "Thread tPrioritised = new Thread(() =>\n",
    "{\n",
    "    Console.WriteLine($\"Thread priority: {Thread.CurrentThread.Priority}\");\n",
    "});\n",
    "\n",
    "tPrioritised.Priority = ThreadPriority.Highest;\n",
    "tPrioritised.Start();"
   ]
  },
  {
   "cell_type": "code",
   "execution_count": null,
   "metadata": {
    "dotnet_interactive": {
     "language": "csharp"
    },
    "polyglot_notebook": {
     "kernelName": "csharp"
    }
   },
   "outputs": [],
   "source": [
    "// CurrentThread: gets the currently executing thread.\n",
    "Thread tId = new Thread(() =>\n",
    "{\n",
    "    Console.WriteLine($\"Current thread: {Thread.CurrentThread.ManagedThreadId}\");\n",
    "});\n",
    "\n",
    "tId.Start();"
   ]
  },
  {
   "cell_type": "markdown",
   "metadata": {},
   "source": [
    "### Thread blocking\n",
    "\n",
    "Thread blocking happens when thread that is not doing anything in particular (i.e. `Sleep`ing) is wasting the thread, because it cannot execute anything else at that moment. In this example there is a pool of 2 threads, that takes and executes actions from queue. If there is a `Thread.Sleep()`, it just waits without pickup up any other action, although theoretically it could, because CPU is not doing anything while the thread sleeps."
   ]
  },
  {
   "cell_type": "code",
   "execution_count": null,
   "metadata": {
    "dotnet_interactive": {
     "language": "csharp"
    },
    "polyglot_notebook": {
     "kernelName": "csharp"
    }
   },
   "outputs": [],
   "source": [
    "using System.Threading;\n",
    "using System.Collections.Concurrent;\n",
    "\n",
    "// Let's say we have a pool of 2 threads.\n",
    "\n",
    "var concurrentQueue = new ConcurrentQueue<Action>();\n",
    "\n",
    "var pool = new Thread[2];\n",
    "\n",
    "for (var i = 0; i < pool.Length; i++)\n",
    "{\n",
    "    pool[i] = new Thread(() =>\n",
    "        {\n",
    "            while (true)\n",
    "            {\n",
    "                if (concurrentQueue.TryDequeue(out var action))\n",
    "                {\n",
    "                    action();\n",
    "                }\n",
    "                else\n",
    "                {\n",
    "                    Thread.Sleep(1);\n",
    "                }\n",
    "            }\n",
    "        }\n",
    "    );\n",
    "    pool[i].Start();\n",
    "}\n",
    "\n",
    "for (var i = 0; i < 100; i++)\n",
    "{\n",
    "    if (i % 2 == 0)\n",
    "    {\n",
    "        concurrentQueue.Enqueue(() => Console.WriteLine(\"Hello\"));\n",
    "    }\n",
    "    else\n",
    "    {\n",
    "        concurrentQueue.Enqueue(() => \n",
    "            { \n",
    "                Console.WriteLine(\"Sleeping...\");\n",
    "                Thread.Sleep(1000);\n",
    "            }\n",
    "        );\n",
    "    }\n",
    "}\n",
    "\n",
    "pool[0].Join();\n",
    "pool[1].Join();"
   ]
  },
  {
   "cell_type": "markdown",
   "metadata": {},
   "source": [
    "## Monitors (`lock`ing)\n",
    "\n",
    "A monitor is a synchronization mechanism that allows multiple threads to access a shared resource in a mutually exclusive way, using the `lock` keyword. When a thread enters a monitor, it acquires a lock on the shared resource, and other threads are blocked from entering the locked section until the lock is released."
   ]
  },
  {
   "cell_type": "code",
   "execution_count": null,
   "metadata": {
    "dotnet_interactive": {
     "language": "csharp"
    },
    "polyglot_notebook": {
     "kernelName": "csharp"
    }
   },
   "outputs": [],
   "source": [
    "class Counter {\n",
    "    private int count = 0;\n",
    "    private object lockObject = new object();\n",
    "\n",
    "    public void Increment() {\n",
    "        lock (lockObject) {\n",
    "            count++;\n",
    "        }\n",
    "    }\n",
    "\n",
    "    public void Decrement() {\n",
    "        lock (lockObject) {\n",
    "            count--;\n",
    "        }\n",
    "    }\n",
    "\n",
    "    public int GetCount() {\n",
    "        lock (lockObject) {\n",
    "            return count;\n",
    "        }\n",
    "    }\n",
    "}\n"
   ]
  },
  {
   "cell_type": "markdown",
   "metadata": {},
   "source": [
    "- To `lock` a part of the code, a \"lock object\" has to be provided (`lockObject` in the example above).\n",
    "- `lockObject` can be any reference type.\n",
    "- Most common practice is to create new `object` type field in the class where the monitor is needed.\n",
    "- When multiple `lock`s are using the same reference of \"lock object\", then only 1 of them will be \"unlocked\" at any given time. \n",
    "- `lockObject` has no relation to the resource that is being locked. The example above has no guarantees and nothing to with access the `lockObject` field. Only the `count` field is locked."
   ]
  },
  {
   "cell_type": "code",
   "execution_count": null,
   "metadata": {
    "dotnet_interactive": {
     "language": "csharp"
    },
    "polyglot_notebook": {
     "kernelName": "csharp"
    }
   },
   "outputs": [],
   "source": [
    "using System.Threading;\n",
    "\n",
    "Counter counter = new Counter();\n",
    "Thread t1 = new Thread(() => {\n",
    "    for (int i = 0; i < 1000000; i++) {\n",
    "        counter.Increment();\n",
    "    }\n",
    "});\n",
    "Thread t2 = new Thread(() => {\n",
    "    for (int i = 0; i < 1000000; i++) {\n",
    "        counter.Decrement();\n",
    "    }\n",
    "});\n",
    "\n",
    "t1.Start();\n",
    "t2.Start();\n",
    "t1.Join();\n",
    "t2.Join();\n",
    "Console.WriteLine(counter.GetCount());\n",
    "\n",
    "// Try commenting out the lock statements in the cell above and see what happens"
   ]
  },
  {
   "cell_type": "markdown",
   "metadata": {},
   "source": [
    "Since the monitor is released manually, we need to make sure that it would be released even if the exception is thrown. That's why good practice would be to wrap `Monitor` sections in `try catch finally` blocks."
   ]
  },
  {
   "cell_type": "markdown",
   "metadata": {},
   "source": [
    "## Interlocked\n",
    "\n",
    "`Interlocked` class provides atomic methods for simple operations on most basic types. Operations being atomic means that they are thread-safe, so multiple threads can call them in parallel and they would work predictably. Main methods of `Interlocked` class:\n",
    "\n",
    "- `Add`: Adds two 32-bit integers and replaces the first integer with the sum, as an atomic operation.\n",
    "- `CompareExchange`: Compares two 32-bit integers for equality and, if they are equal, replaces one of the values.\n",
    "- `Decrement`: Decrements a specified variable and stores the result, as an atomic operation.\n",
    "- `Exchange`: Sets a 32-bit signed integer to a specified value and returns the original value, as an atomic operation.\n",
    "- `Increment`: Increments a specified variable and stores the result, as an atomic operation.\n",
    "- `Read`: Reads and returns the value of a 32-bit signed integer, as an atomic operation.\n",
    "- `Write`: Writes a 32-bit signed integer value to a specified address, as an atomic operation."
   ]
  },
  {
   "cell_type": "code",
   "execution_count": null,
   "metadata": {
    "dotnet_interactive": {
     "language": "csharp"
    },
    "polyglot_notebook": {
     "kernelName": "csharp"
    }
   },
   "outputs": [],
   "source": [
    "using System.Threading;\n",
    "\n",
    "class Counter {\n",
    "    private int count = 0;\n",
    "\n",
    "    public void Increment() {\n",
    "        Interlocked.Increment(ref count);\n",
    "    }\n",
    "\n",
    "    public void Decrement() {\n",
    "        Interlocked.Decrement(ref count);\n",
    "    }\n",
    "\n",
    "    public int GetCount() {\n",
    "        return count;\n",
    "    }\n",
    "}\n",
    "\n",
    "Counter counter = new Counter();\n",
    "Thread t1 = new Thread(() => {\n",
    "    for (int i = 0; i < 1000000; i++) {\n",
    "        counter.Increment();\n",
    "    }\n",
    "});\n",
    "Thread t2 = new Thread(() => {\n",
    "    for (int i = 0; i < 1000000; i++) {\n",
    "        counter.Decrement();\n",
    "    }\n",
    "});\n",
    "\n",
    "t1.Start();\n",
    "t2.Start();\n",
    "t1.Join();\n",
    "t2.Join();\n",
    "Console.WriteLine(counter.GetCount());\n"
   ]
  },
  {
   "cell_type": "markdown",
   "metadata": {},
   "source": [
    "## `Task`, `async` and `await`\n",
    "\n",
    "- Task represents an asynchronous operation or a promise that something is going to be done after the task completes.\n",
    "- You can think of the class `Task` like a wrapper over some workflow.\n",
    "- `Task`s are used in conjunction with `async` and `await` keywords."
   ]
  },
  {
   "cell_type": "markdown",
   "metadata": {},
   "source": [
    "### `async` and `await`\n",
    "\n",
    "The `async` keyword is used to define an asynchronous method. An asynchronous method is a method that can be executed in a non-blocking way, allowing the calling thread to continue executing other code while the asynchronous method is running.\n",
    "\n",
    "In practice marking method as `async` enables the usage of `await` keyword inside that method and implicitly wraps the output of the method inside a `Task` type.\n",
    "\n",
    "Depending if the method is `void` or not, then after making it async it will return:\n",
    "- `Task` if it was`void`, meaning it didn't return anything.\n",
    "- `Task<TResult>` if it were to return `TResult`."
   ]
  },
  {
   "cell_type": "code",
   "execution_count": null,
   "metadata": {
    "dotnet_interactive": {
     "language": "csharp"
    },
    "polyglot_notebook": {
     "kernelName": "csharp"
    }
   },
   "outputs": [],
   "source": [
    "using System;\n",
    "using System.Threading.Tasks;\n",
    "\n",
    "Console.WriteLine(\"Starting async method\");\n",
    "await MethodAsync();\n",
    "Console.WriteLine(\"Async method completed\");\n",
    "\n",
    "async Task MethodAsync()\n",
    "{\n",
    "    Console.WriteLine(\"Entering async method\");\n",
    "    await Task.Delay(1000);\n",
    "    Console.WriteLine(\"Exiting async method\");\n",
    "}"
   ]
  },
  {
   "cell_type": "markdown",
   "metadata": {},
   "source": [
    "#### Parallelization example\n",
    "\n",
    "Assume there are 2 things that needs to be done:\n",
    "- Some calculation that is slow (~1s).\n",
    "- Calling some API.\n",
    "\n",
    "In this case calling API technically does not involve active computation, but rather just waiting for HTTP response."
   ]
  },
  {
   "cell_type": "code",
   "execution_count": null,
   "metadata": {
    "dotnet_interactive": {
     "language": "csharp"
    },
    "polyglot_notebook": {
     "kernelName": "csharp"
    }
   },
   "outputs": [],
   "source": [
    "// Without using tasks and doing everything synchronously\n",
    "\n",
    "using System.Threading;\n",
    "using System.Net.Http;\n",
    "using System.Diagnostics;\n",
    "\n",
    "var noTaskStopwatch = Stopwatch.StartNew();\n",
    "\n",
    "int SlowCalculation()\n",
    "{\n",
    "    // Assume this is calculating something\n",
    "    Thread.Sleep(1000);\n",
    "    return 42;    \n",
    "}\n",
    "\n",
    "using (var client = new HttpClient())\n",
    "{\n",
    "    var response = await client.GetAsync(\"https://swapi.dev/api/people/1/\");\n",
    "    var content = await response.Content.ReadAsStringAsync();\n",
    "    Console.WriteLine(content);\n",
    "}\n",
    "\n",
    "SlowCalculation();\n",
    "\n",
    "noTaskStopwatch.Stop();\n",
    "Console.WriteLine($\"No task stopwatch: {noTaskStopwatch.ElapsedMilliseconds}\");"
   ]
  },
  {
   "cell_type": "code",
   "execution_count": null,
   "metadata": {
    "dotnet_interactive": {
     "language": "csharp"
    },
    "polyglot_notebook": {
     "kernelName": "csharp"
    }
   },
   "outputs": [],
   "source": [
    "// Parallelizing with tasks\n",
    "\n",
    "var taskStopwatch = Stopwatch.StartNew();\n",
    "\n",
    "async Task SlowCalculationAsync()\n",
    "{\n",
    "    await Task.Delay(1000);\n",
    "    Console.WriteLine(\"Slow calculation completed\");\n",
    "}\n",
    "\n",
    "var slowRunningCalculationTask = SlowCalculationAsync();\n",
    "\n",
    "var callApiTask = async() => {\n",
    "    using (var client = new HttpClient())\n",
    "    {\n",
    "        var response = await client.GetAsync(\"https://swapi.dev/api/people/1/\");\n",
    "        var content = await response.Content.ReadAsStringAsync();\n",
    "        Console.WriteLine(content);\n",
    "    }\n",
    "};\n",
    "\n",
    "await Task.WhenAll(slowRunningCalculationTask, callApiTask());\n",
    "\n",
    "taskStopwatch.Stop();\n",
    "Console.WriteLine($\"Task stopwatch: {taskStopwatch.ElapsedMilliseconds}\");\n"
   ]
  },
  {
   "cell_type": "markdown",
   "metadata": {},
   "source": [
    "### Non blocking delay\n",
    "\n",
    "`Thread.Sleep()` is unattractive option to introduce delays into code, because it blocks CPU that is executing the sleep. Blocking meaning that the CPU, while doing nothing with `Sleep` action itself, will not execute any other workloads either.\n",
    "\n",
    "Instead use `Task.Delay()`. It will achieve the same thing, but the CPU will be able to execute other things, while the delay is being waited out."
   ]
  },
  {
   "cell_type": "code",
   "execution_count": null,
   "metadata": {
    "dotnet_interactive": {
     "language": "csharp"
    },
    "polyglot_notebook": {
     "kernelName": "csharp"
    }
   },
   "outputs": [],
   "source": [
    "Console.WriteLine(DateTime.Now);\n",
    "\n",
    "await Task.Delay(2000);\n",
    "\n",
    "Console.WriteLine(DateTime.Now);"
   ]
  },
  {
   "cell_type": "markdown",
   "metadata": {},
   "source": [
    "Referring to the \"Thread blocking\" example that was shown above, the code below does pretty much the same, but uses `async`, `await` and non-blocking `Task.Delay()` to waste time. Notice, that looking at the output, all the actions are handled quicker."
   ]
  },
  {
   "cell_type": "code",
   "execution_count": null,
   "metadata": {
    "dotnet_interactive": {
     "language": "csharp"
    },
    "polyglot_notebook": {
     "kernelName": "csharp"
    }
   },
   "outputs": [],
   "source": [
    "using System.Collections.Concurrent;\n",
    "using System.Threading.Tasks;\n",
    "using System.Threading;\n",
    "\n",
    "var concurrentQueue = new ConcurrentQueue<Task>();\n",
    "\n",
    "var threads = new Thread[2];\n",
    "\n",
    "for (var i = 0; i < threads.Length; i++)\n",
    "{\n",
    "    threads[i] = new Thread(async () =>\n",
    "        {\n",
    "            while (true)\n",
    "            {\n",
    "                if (concurrentQueue.TryDequeue(out var action))\n",
    "                {\n",
    "                    await action;\n",
    "                }\n",
    "                else\n",
    "                {\n",
    "                    await Task.Delay(1);\n",
    "                }\n",
    "            }\n",
    "        }\n",
    "    );\n",
    "    threads[i].Start();\n",
    "}\n",
    "\n",
    "for (var i = 0; i < 100; i++)\n",
    "{\n",
    "    if (i % 2 == 0)\n",
    "    {\n",
    "        concurrentQueue.Enqueue(Task.Run(() => Console.WriteLine(\"Hello\")));\n",
    "    }\n",
    "    else\n",
    "    {\n",
    "        concurrentQueue.Enqueue(Task.Run(async () => \n",
    "            { \n",
    "                Console.WriteLine(\"Sleeping...\");\n",
    "                await Task.Delay(1000);\n",
    "            }\n",
    "        ));\n",
    "    }\n",
    "}\n",
    "\n",
    "foreach (var thread in threads)\n",
    "{\n",
    "    thread.Join();\n",
    "}"
   ]
  },
  {
   "cell_type": "markdown",
   "metadata": {},
   "source": [
    "### Some of `Task` methods"
   ]
  },
  {
   "cell_type": "code",
   "execution_count": null,
   "metadata": {
    "dotnet_interactive": {
     "language": "csharp"
    },
    "polyglot_notebook": {
     "kernelName": "csharp"
    }
   },
   "outputs": [],
   "source": [
    "// Task.WhenAny\n",
    "\n",
    "async Task PrintSomethingAsync()\n",
    "{\n",
    "    Console.WriteLine(\"Entering async method\");\n",
    "    for (var i = 0; i < 10; i++) {\n",
    "        await Task.Delay(1000);\n",
    "        Console.WriteLine(\"Printing in async method\");\n",
    "    }\n",
    "    Console.WriteLine(\"Exiting async method\");\n",
    "}\n",
    "\n",
    "Console.WriteLine(\"Starting async method\");\n",
    "var printSomethingTask = PrintSomethingAsync();\n",
    "Console.WriteLine(\"Async method started\");\n",
    "\n",
    "var continued = printSomethingTask.ContinueWith(task => {\n",
    "    Console.WriteLine(\"Continuation task started\");\n",
    "    Console.WriteLine($\"Continuation task status: {task.Status}\");\n",
    "    Console.WriteLine(\"Continuation task completed\");\n",
    "});\n",
    "\n",
    "await continued;\n"
   ]
  },
  {
   "cell_type": "code",
   "execution_count": null,
   "metadata": {
    "dotnet_interactive": {
     "language": "csharp"
    },
    "polyglot_notebook": {
     "kernelName": "csharp"
    }
   },
   "outputs": [],
   "source": [
    "// Task.WhenAll\n",
    "\n",
    "async Task Wait1000()\n",
    "{\n",
    "    Console.WriteLine(\"Waiting 1000ms\");\n",
    "    await Task.Delay(1000);\n",
    "    Console.WriteLine(\"Waited 1000ms\");\n",
    "}\n",
    "\n",
    "async Task Wait2000()\n",
    "{\n",
    "    Console.WriteLine(\"Waiting 2000ms\");\n",
    "    await Task.Delay(2000);\n",
    "    Console.WriteLine(\"Waited 2000ms\");\n",
    "}\n",
    "\n",
    "async Task Wait3000()\n",
    "{\n",
    "    Console.WriteLine(\"Waiting 3000ms\");\n",
    "    await Task.Delay(3000);\n",
    "    Console.WriteLine(\"Waited 3000ms\");\n",
    "}\n",
    "\n",
    "var wait1000 = Wait1000();\n",
    "var wait2000 = Wait2000();\n",
    "var wait3000 = Wait3000();\n",
    "\n",
    "Console.WriteLine(\"Waiting for tasks to complete\");\n",
    "await Task.WhenAll(wait1000, wait2000, wait3000);\n",
    "Console.WriteLine(\"All tasks completed\");"
   ]
  },
  {
   "cell_type": "code",
   "execution_count": null,
   "metadata": {
    "dotnet_interactive": {
     "language": "csharp"
    },
    "polyglot_notebook": {
     "kernelName": "csharp"
    }
   },
   "outputs": [],
   "source": [
    "// Task.WhenEach\n",
    "\n",
    "async Task Wait1000()\n",
    "{\n",
    "    Console.WriteLine(\"Waiting 1000ms\");\n",
    "    await Task.Delay(1000);\n",
    "    Console.WriteLine(\"Waited 1000ms\");\n",
    "}\n",
    "\n",
    "async Task Wait2000()\n",
    "{\n",
    "    Console.WriteLine(\"Waiting 2000ms\");\n",
    "    await Task.Delay(2000);\n",
    "    Console.WriteLine(\"Waited 2000ms\");\n",
    "}\n",
    "\n",
    "async Task Wait3000()\n",
    "{\n",
    "    Console.WriteLine(\"Waiting 3000ms\");\n",
    "    await Task.Delay(3000);\n",
    "    Console.WriteLine(\"Waited 3000ms\");\n",
    "}\n",
    "\n",
    "var wait1000 = Wait1000();\n",
    "var wait2000 = Wait2000();\n",
    "var wait3000 = Wait3000();\n",
    "\n",
    "Console.WriteLine(\"Waiting for tasks to complete\");\n",
    "\n",
    "// Will work in .NET 9\n",
    "await foreach (var task in Task.WhenEach(wait1000, wait2000, wait3000))\n",
    "{\n",
    "    Console.WriteLine($\"Task completed: {task}\");\n",
    "}"
   ]
  },
  {
   "cell_type": "markdown",
   "metadata": {},
   "source": [
    "### Starting a task\n",
    "\n",
    "If a `Task` is just created, it won't immediately start by itself."
   ]
  },
  {
   "cell_type": "code",
   "execution_count": null,
   "metadata": {
    "dotnet_interactive": {
     "language": "csharp"
    },
    "polyglot_notebook": {
     "kernelName": "csharp"
    }
   },
   "outputs": [],
   "source": [
    "var task = new Task(() => Console.WriteLine(\"Hello\"));\n",
    "\n",
    "// To start the task, you need to call the `Start` method.\n",
    "Console.WriteLine(\"Task not started yet\");\n",
    "task.Start();\n",
    "\n",
    "// Make sure the task has completed\n",
    "await task;"
   ]
  },
  {
   "cell_type": "code",
   "execution_count": null,
   "metadata": {
    "dotnet_interactive": {
     "language": "csharp"
    },
    "polyglot_notebook": {
     "kernelName": "csharp"
    }
   },
   "outputs": [],
   "source": [
    "// Alternatively, you can use the `Run` method to create and start a task immediately.\n",
    "await Task.Run(() => Console.WriteLine(\"Hello\"));"
   ]
  },
  {
   "cell_type": "markdown",
   "metadata": {},
   "source": [
    "### `Task` execution switching\n",
    "\n",
    "Example takes 100 tasks (assuming, that ordinary CPU will have less cores), which forces schedule to switch between `Task` execution. Then it maps when which task was executing. There are plenty of `await`s inside inside the tasks, so context switching would be provoked."
   ]
  },
  {
   "cell_type": "code",
   "execution_count": null,
   "metadata": {
    "dotnet_interactive": {
     "language": "csharp"
    },
    "polyglot_notebook": {
     "kernelName": "csharp"
    }
   },
   "outputs": [],
   "source": [
    "using System;\n",
    "using System.Threading.Tasks;\n",
    "using System.Collections.Concurrent;\n",
    "\n",
    "var tasks = new Task[100];\n",
    "\n",
    "var queue = new ConcurrentQueue<int>();\n",
    "\n",
    "for (var i = 0; i < tasks.Length; i++)\n",
    "{\n",
    "    var isolated = i % 2;;\n",
    "\n",
    "    tasks[i] = Task.Run(async () =>\n",
    "    {\n",
    "        for (var j = 0; j < 100; j++)\n",
    "        {\n",
    "            await Task.Delay(1);\n",
    "            queue.Enqueue(isolated);\n",
    "        }\n",
    "    });\n",
    "}\n",
    "\n",
    "await Task.WhenAll(tasks);\n",
    "\n",
    "var longestConsecutiveStreak = 0;\n",
    "var currentStreak = 0;\n",
    "var previous = -1;\n",
    "\n",
    "while (queue.TryDequeue(out var isolated))\n",
    "{\n",
    "    if (isolated == previous)\n",
    "    {\n",
    "        currentStreak++;\n",
    "    }\n",
    "    else\n",
    "    {\n",
    "        currentStreak = 1;\n",
    "    }\n",
    "\n",
    "    previous = isolated;\n",
    "\n",
    "    if (currentStreak > longestConsecutiveStreak)\n",
    "    {\n",
    "        longestConsecutiveStreak = currentStreak;\n",
    "    }\n",
    "}\n",
    "\n",
    "Console.WriteLine(longestConsecutiveStreak);"
   ]
  },
  {
   "cell_type": "markdown",
   "metadata": {},
   "source": [
    "### CancellationToken\n",
    "\n",
    "`CancellationToken` is an object that can be passed to signal asynchronous operation that it needs to stop. Most of that standard APIs that are async have overloads for methods that accept the `CancellationToken`. It considered a good practice to pipe through the token when possible to these methods."
   ]
  },
  {
   "cell_type": "code",
   "execution_count": null,
   "metadata": {
    "dotnet_interactive": {
     "language": "csharp"
    },
    "polyglot_notebook": {
     "kernelName": "csharp"
    }
   },
   "outputs": [],
   "source": [
    "using System;\n",
    "using System.Threading;\n",
    "using System.Threading.Tasks;\n",
    "\n",
    "async Task DoWorkAsync(CancellationToken cancellationToken)\n",
    "{\n",
    "    Console.WriteLine(\"Starting work\");\n",
    "    for (int i = 0; i < 10; i++)\n",
    "    {\n",
    "        if (cancellationToken.IsCancellationRequested)\n",
    "        {\n",
    "            Console.WriteLine(\"Work cancelled\");\n",
    "            return;\n",
    "        }\n",
    "        Console.WriteLine($\"Working on item {i}\");\n",
    "        await Task.Delay(1000);\n",
    "    }\n",
    "    Console.WriteLine(\"Work completed\");\n",
    "}\n",
    "\n",
    "var cancellationTokenSource = new CancellationTokenSource();\n",
    "var cancellationToken = cancellationTokenSource.Token;\n",
    "\n",
    "var task = DoWorkAsync(cancellationToken);\n",
    "\n",
    "// Cancel the task after 5 seconds\n",
    "await Task.Delay(5000);\n",
    "cancellationTokenSource.Cancel();\n",
    "\n",
    "await task;\n"
   ]
  },
  {
   "cell_type": "markdown",
   "metadata": {},
   "source": [
    "### Working around the `Task`s\n",
    "\n",
    "There are going to be cases when you need to return a `Task` because of an interface or similar constraint, but the code you are writing does not involve any asynchronism. In such cases it is possible to synthetically create `Task` with the methods/properties:\n",
    "- `Task.FromResult()` can be used to wrap any response into task.\n",
    "- `Task.CompletedTask` can be used to return `void`."
   ]
  },
  {
   "cell_type": "code",
   "execution_count": null,
   "metadata": {
    "dotnet_interactive": {
     "language": "csharp"
    },
    "polyglot_notebook": {
     "kernelName": "csharp"
    }
   },
   "outputs": [],
   "source": [
    "Task<bool> TaskWithResultAsync()\n",
    "{\n",
    "    return Task.FromResult(true);\n",
    "}\n",
    "\n",
    "Task TaskWithoutResultAsync()\n",
    "{\n",
    "    return Task.CompletedTask;\n",
    "}\n",
    "\n",
    "Console.WriteLine(\"Starting async method with result\");\n",
    "var taskResult = await TaskWithResultAsync();\n",
    "Console.WriteLine($\"Async method with result completed with result {taskResult}\");\n",
    "Console.WriteLine(\"Async method with result completed\");\n",
    "\n",
    "Console.WriteLine(\"Starting async method without result\");\n",
    "await TaskWithoutResultAsync();\n",
    "Console.WriteLine(\"Async method without result completed\");"
   ]
  },
  {
   "cell_type": "markdown",
   "metadata": {},
   "source": [
    "### When you need to use `Task`, but there is `async` scope around\n",
    "\n",
    "This is considered a bad practice and should be avoided, but it would work for the problem at hand."
   ]
  },
  {
   "cell_type": "code",
   "execution_count": null,
   "metadata": {
    "dotnet_interactive": {
     "language": "csharp"
    },
    "polyglot_notebook": {
     "kernelName": "csharp"
    }
   },
   "outputs": [],
   "source": [
    "async Task<int> DelayAndReturnAsync(int value)\n",
    "{\n",
    "    await Task.Delay(TimeSpan.FromSeconds(1));\n",
    "    return value;\n",
    "}\n",
    "\n",
    "var task = DelayAndReturnAsync(42);\n",
    "var result = task.Result;\n",
    "\n",
    "Console.WriteLine($\"Result: {result}\");\n"
   ]
  },
  {
   "cell_type": "code",
   "execution_count": null,
   "metadata": {
    "dotnet_interactive": {
     "language": "csharp"
    },
    "polyglot_notebook": {
     "kernelName": "csharp"
    }
   },
   "outputs": [],
   "source": [
    "async Task<int> DelayAndReturnAsync(int value)\n",
    "{\n",
    "    await Task.Delay(TimeSpan.FromSeconds(1));\n",
    "    return value;\n",
    "}\n",
    "\n",
    "var task = DelayAndReturnAsync(42);\n",
    "\n",
    "Console.WriteLine(\"Waiting for task to complete\");\n",
    "task.Wait();\n",
    "Console.WriteLine(\"Task completed\");"
   ]
  },
  {
   "cell_type": "markdown",
   "metadata": {},
   "source": [
    "## Concurrent collections\n",
    "\n",
    "Concurrent collections are a set of thread-safe collections that can be accessed by multiple threads simultaneously in predictable manner. \n",
    "\n",
    "- `ConcurrentDictionary<TKey, TValue>`: A thread-safe dictionary equivalent.\n",
    "- `ConcurrentBag<T>`: A thread-safe list equivalent.\n",
    "- `ConcurrentQueue<T>`: A thread-safe queue equivalent.\n",
    "- `ConcurrentStack<T>`: A thread-safe stack equivalent.\n",
    "\n",
    "These collections provide methods that are similar to their non-concurrent counterparts but are not the same. Usually methods provided have less convenient interfaces at the cost of being thread safe."
   ]
  },
  {
   "cell_type": "markdown",
   "metadata": {},
   "source": [
    "### ConcurrentDictionary\n",
    "\n",
    "Key methods:\n",
    "- `TryAdd(TKey, TValue)`: Adds a key-value pair to the dictionary if the key does not already exist, or updates a key-value pair in the dictionary if the key already exists.\n",
    "- `TryGetValue(TKey, out TValue)`: Gets the value associated with the specified key.\n",
    "- `TryRemove(TKey, out TValue)`: Removes the value with the specified key from the dictionary.\n",
    "\n",
    "\n",
    "Notice the difference between `Dictionary<,>` class - methods are prefixed with `Try`. All `Try...` methods returns a `bool` which indicates if the operation has succeeded. If the operation is impossible because some other thread modified the collection, it would simply return `false`. "
   ]
  },
  {
   "cell_type": "code",
   "execution_count": null,
   "metadata": {
    "dotnet_interactive": {
     "language": "csharp"
    },
    "polyglot_notebook": {
     "kernelName": "csharp"
    }
   },
   "outputs": [],
   "source": [
    "using System.Collections.Concurrent;\n",
    "\n",
    "var dict = new ConcurrentDictionary<int, string>();\n",
    "\n",
    "// add some key-value pairs to the dictionary\n",
    "dict.TryAdd(1, \"Apple\");\n",
    "dict.TryAdd(2, \"Banana\");\n",
    "dict.TryAdd(3, \"Cherry\");\n",
    "\n",
    "if (dict.TryGetValue(2, out var value))\n",
    "{\n",
    "    Console.WriteLine($\"The value associated with key 2 is {value}.\");\n",
    "}\n",
    "\n",
    "// update the value associated with a key\n",
    "dict.TryUpdate(3, \"Grape\", \"Cherry\");\n",
    "\n",
    "// remove a key-value pair from the dictionary\n",
    "if (dict.TryRemove(1, out var removedValue))\n",
    "{\n",
    "    Console.WriteLine($\"Removed key 1, which had value {removedValue}.\");\n",
    "}\n",
    "\n",
    "// iterate over the key-value pairs in the dictionary\n",
    "foreach (var kvp in dict)\n",
    "{\n",
    "    Console.WriteLine($\"Key {kvp.Key} has value {kvp.Value}.\");\n",
    "}\n"
   ]
  },
  {
   "cell_type": "markdown",
   "metadata": {},
   "source": [
    "### ConcurrentBag<T>\n",
    "\n",
    "`ConcurrentBag` allows you to throw objects into it, without caring about their ordering. You can take out random elements out of it, or iterate through all of them.\n",
    "\n",
    "Key methods:\n",
    "- `Add(T)`: Adds an object to the bag.\n",
    "- `TryTake(out T)`: Attempts to remove and return an object from the bag."
   ]
  },
  {
   "cell_type": "code",
   "execution_count": null,
   "metadata": {
    "dotnet_interactive": {
     "language": "csharp"
    },
    "polyglot_notebook": {
     "kernelName": "csharp"
    }
   },
   "outputs": [],
   "source": [
    "using System.Collections.Concurrent;\n",
    "\n",
    "var bag = new ConcurrentBag<string>();\n",
    "\n",
    "// add some items to the bag\n",
    "bag.Add(\"Apple\");\n",
    "bag.Add(\"Banana\");\n",
    "bag.Add(\"Cherry\");\n",
    "\n",
    "// retrieve items from the bag\n",
    "if (bag.TryTake(out var item1))\n",
    "{\n",
    "    Console.WriteLine($\"Took item: {item1}.\");\n",
    "}\n",
    "\n",
    "bag.Add(\"Dragonfruit\");\n",
    "\n",
    "if (bag.TryTake(out var item2))\n",
    "{\n",
    "    Console.WriteLine($\"Took item: {item2}.\");\n",
    "}\n",
    "\n",
    "// iterate over the items in the bag\n",
    "foreach (var item in bag)\n",
    "{\n",
    "    Console.WriteLine($\"Item in bag: {item}.\");\n",
    "}\n"
   ]
  },
  {
   "cell_type": "markdown",
   "metadata": {},
   "source": [
    "### ConcurrentQueue<T>\n",
    "\n",
    "Key methods:\n",
    "- `Enqueue(T)`: Adds an object to the end of the queue.\n",
    "- `TryDequeue(out T)`: Attempts to remove and return the object at the beginning of the queue."
   ]
  },
  {
   "cell_type": "code",
   "execution_count": null,
   "metadata": {
    "dotnet_interactive": {
     "language": "csharp"
    },
    "polyglot_notebook": {
     "kernelName": "csharp"
    }
   },
   "outputs": [],
   "source": [
    "using System.Collections.Concurrent;\n",
    "\n",
    "var queue = new ConcurrentQueue<string>();\n",
    "\n",
    "// add some items to the queue\n",
    "queue.Enqueue(\"Apple\");\n",
    "queue.Enqueue(\"Banana\");\n",
    "queue.Enqueue(\"Cherry\");\n",
    "\n",
    "// try to dequeue an item from the queue\n",
    "if (queue.TryDequeue(out var item))\n",
    "{\n",
    "    Console.WriteLine($\"Dequeued item: {item}.\");\n",
    "}\n",
    "\n",
    "queue.Enqueue(\"Dragonfruit\");\n",
    "\n",
    "// try to peek at the next item in the queue\n",
    "if (queue.TryPeek(out var nextItem))\n",
    "{\n",
    "    Console.WriteLine($\"Next item in queue: {nextItem}.\");\n",
    "}\n",
    "\n",
    "// iterate over the items in the queue\n",
    "foreach (var q in queue)\n",
    "{\n",
    "    Console.WriteLine($\"Item in queue: {q}.\");\n",
    "}"
   ]
  },
  {
   "cell_type": "markdown",
   "metadata": {},
   "source": [
    "### ConcurrentStack<T>\n",
    "\n",
    "Key methods:\n",
    "- `Push(T)`: Adds an object to the top of the stack.\n",
    "- `TryPop(out T)`: Attempts to remove and return the object at the top of the stack."
   ]
  },
  {
   "cell_type": "code",
   "execution_count": null,
   "metadata": {
    "dotnet_interactive": {
     "language": "csharp"
    },
    "polyglot_notebook": {
     "kernelName": "csharp"
    }
   },
   "outputs": [],
   "source": [
    "using System.Collections.Concurrent;\n",
    "\n",
    "var stack = new ConcurrentStack<string>();\n",
    "\n",
    "// add some items to the stack\n",
    "stack.Push(\"Apple\");\n",
    "stack.Push(\"Banana\");\n",
    "stack.Push(\"Cherry\");\n",
    "\n",
    "// try to pop an item from the stack\n",
    "if (stack.TryPop(out var item))\n",
    "{\n",
    "    Console.WriteLine($\"Popped item: {item}.\");\n",
    "}\n",
    "\n",
    "stack.Push(\"Dragonfruit\");\n",
    "\n",
    "// try to peek at the next item in the stack\n",
    "if (stack.TryPeek(out var nextItem))\n",
    "{\n",
    "    Console.WriteLine($\"Next item in stack: {nextItem}.\");\n",
    "}\n",
    "\n",
    "// iterate over the items in the stack\n",
    "foreach (var s in stack)\n",
    "{\n",
    "    Console.WriteLine($\"Item in stack: {s}.\");\n",
    "}\n"
   ]
  },
  {
   "cell_type": "markdown",
   "metadata": {},
   "source": [
    "## Task parallel library\n",
    "\n",
    "The Task Parallel Library (TPL) allows to use parallelism in your code without having to explicitly deal with threading as tasks."
   ]
  },
  {
   "cell_type": "code",
   "execution_count": null,
   "metadata": {
    "dotnet_interactive": {
     "language": "csharp"
    },
    "polyglot_notebook": {
     "kernelName": "csharp"
    }
   },
   "outputs": [],
   "source": [
    "// Degree of parallelism is limited by the number of processors available.\n",
    "\n",
    "Environment.ProcessorCount.Display();"
   ]
  },
  {
   "cell_type": "code",
   "execution_count": null,
   "metadata": {
    "dotnet_interactive": {
     "language": "csharp"
    },
    "polyglot_notebook": {
     "kernelName": "csharp"
    }
   },
   "outputs": [],
   "source": [
    "// Create an array of numbers\n",
    "int[] numbers = { 1, 2, 3, 4, 5 };\n",
    "\n",
    "// Use Parallel.ForEach to process each number in parallel\n",
    "Parallel.ForEach(numbers, number =>\n",
    "{\n",
    "    // Process the number here\n",
    "    Console.WriteLine($\"Processing number: {number}\");\n",
    "});"
   ]
  },
  {
   "cell_type": "code",
   "execution_count": null,
   "metadata": {
    "dotnet_interactive": {
     "language": "csharp"
    },
    "polyglot_notebook": {
     "kernelName": "csharp"
    }
   },
   "outputs": [],
   "source": [
    "class TheClass\n",
    "{\n",
    "    public int TheProperty { get; set; }\n",
    "}\n",
    "\n",
    "var myList = new List<TheClass>();\n",
    "\n",
    "for (int i = 0; i < 100_000_000; i++)\n",
    "{\n",
    "    var obj = new TheClass { TheProperty = i };\n",
    "    myList.Add(obj);\n",
    "}"
   ]
  },
  {
   "cell_type": "code",
   "execution_count": null,
   "metadata": {
    "dotnet_interactive": {
     "language": "csharp"
    },
    "polyglot_notebook": {
     "kernelName": "csharp"
    }
   },
   "outputs": [],
   "source": [
    "using System;\n",
    "using System.Diagnostics;\n",
    "\n",
    "var stopwatch = new Stopwatch();\n",
    "stopwatch.Start();\n",
    "\n",
    "for (int i = 0; i < myList.Count; i++)\n",
    "{\n",
    "    myList[i].TheProperty = myList[i].TheProperty + 1;\n",
    "}\n",
    "\n",
    "stopwatch.Stop();\n",
    "TimeSpan executionTime = stopwatch.Elapsed;\n",
    "\n",
    "Console.WriteLine($\"Execution time: {executionTime.TotalSeconds} seconds\");"
   ]
  },
  {
   "cell_type": "code",
   "execution_count": null,
   "metadata": {
    "dotnet_interactive": {
     "language": "csharp"
    },
    "polyglot_notebook": {
     "kernelName": "csharp"
    }
   },
   "outputs": [],
   "source": [
    "using System;\n",
    "using System.Diagnostics;\n",
    "\n",
    "var stopwatch = new Stopwatch();\n",
    "stopwatch.Start();\n",
    "\n",
    "Parallel.For(0, myList.Count, i =>\n",
    "{\n",
    "    myList[(int)i].TheProperty = myList[(int)i].TheProperty + 1;\n",
    "});\n",
    "\n",
    "stopwatch.Stop();\n",
    "TimeSpan executionTime = stopwatch.Elapsed;\n",
    "\n",
    "Console.WriteLine($\"Execution time: {executionTime.TotalSeconds} seconds\");\n"
   ]
  },
  {
   "cell_type": "code",
   "execution_count": null,
   "metadata": {
    "dotnet_interactive": {
     "language": "csharp"
    },
    "polyglot_notebook": {
     "kernelName": "csharp"
    }
   },
   "outputs": [],
   "source": [
    "using System;\n",
    "using System.Diagnostics;\n",
    "using System.Threading.Tasks;\n",
    "\n",
    "var stopwatch = new Stopwatch();\n",
    "stopwatch.Start();\n",
    "\n",
    "Parallel.ForEach(\n",
    "    myList, \n",
    "    new ParallelOptions {\n",
    "        MaxDegreeOfParallelism = 6,\n",
    "    }, \n",
    "    obj =>\n",
    "    {\n",
    "        obj.TheProperty = obj.TheProperty + 1;\n",
    "    });\n",
    "\n",
    "stopwatch.Stop();\n",
    "TimeSpan executionTime = stopwatch.Elapsed;\n",
    "\n",
    "Console.WriteLine($\"Execution time: {executionTime.TotalSeconds} seconds\");\n"
   ]
  },
  {
   "cell_type": "markdown",
   "metadata": {},
   "source": [
    "## PLINQ\n",
    "\n",
    "PLINQ (Parallel LINQ) is an extension of LINQ (Language-Integrated Query) that enables parallel execution of LINQ queries."
   ]
  },
  {
   "cell_type": "code",
   "execution_count": null,
   "metadata": {
    "dotnet_interactive": {
     "language": "csharp"
    },
    "polyglot_notebook": {
     "kernelName": "csharp"
    }
   },
   "outputs": [],
   "source": [
    "using System;\n",
    "using System.Diagnostics;\n",
    "using System.Linq;\n",
    "\n",
    "var stopwatch = new Stopwatch();\n",
    "stopwatch.Start();\n",
    "\n",
    "var filteredList = myList\n",
    "    .Where(obj => obj.TheProperty % 2 == 0)\n",
    "    .Select(x => new TheClass { TheProperty = x.TheProperty })\n",
    "    .ToList();\n",
    "\n",
    "stopwatch.Stop();\n",
    "TimeSpan executionTime = stopwatch.Elapsed;\n",
    "\n",
    "Console.WriteLine($\"Execution time: {executionTime.TotalSeconds} seconds\");\n"
   ]
  },
  {
   "cell_type": "code",
   "execution_count": null,
   "metadata": {
    "dotnet_interactive": {
     "language": "csharp"
    },
    "polyglot_notebook": {
     "kernelName": "csharp"
    }
   },
   "outputs": [],
   "source": [
    "using System;\n",
    "using System.Diagnostics;\n",
    "using System.Linq;\n",
    "\n",
    "var stopwatch = new Stopwatch();\n",
    "stopwatch.Start();\n",
    "\n",
    "var filteredList = myList\n",
    "    .AsParallel()\n",
    "    .WithDegreeOfParallelism(2)\n",
    "    .Where(obj => obj.TheProperty % 2 == 0)\n",
    "    .Select(x => new TheClass { TheProperty = x.TheProperty })\n",
    "    .ToList();\n",
    "\n",
    "stopwatch.Stop();\n",
    "TimeSpan executionTime = stopwatch.Elapsed;\n",
    "\n",
    "Console.WriteLine($\"Execution time: {executionTime.TotalSeconds} seconds\");\n"
   ]
  },
  {
   "cell_type": "markdown",
   "metadata": {},
   "source": [
    "## Exercises\n",
    "\n",
    "1. Compile a simplest program that has `async` and `await` used. Decompile that binary using a tool like [`ILSpy`](https://github.com/icsharpcode/ILSpy). Select C# language version before introduction of `async` and `await` keywords, that is C# 4 or lower. Try to figure how `await` is being implemented.\n",
    "1. Write an `AsyncQueue<T>` class. `Dequeue` returns `Task<T>` instead of `T`. The returned task only completes when there is an element available for dequeueing present in the queue."
   ]
  },
  {
   "cell_type": "markdown",
   "metadata": {},
   "source": [
    "## Further reading\n",
    "\n",
    "- https://github.com/davidfowl/AspNetCoreDiagnosticScenarios/blob/master/AsyncGuidance.md"
   ]
  }
 ],
 "metadata": {
  "kernelspec": {
   "display_name": ".NET (C#)",
   "language": "C#",
   "name": ".net-csharp"
  },
  "language_info": {
   "name": "polyglot-notebook"
  },
  "polyglot_notebook": {
   "kernelInfo": {
    "defaultKernelName": "csharp",
    "items": [
     {
      "aliases": [],
      "languageName": "csharp",
      "name": "csharp"
     }
    ]
   }
  }
 },
 "nbformat": 4,
 "nbformat_minor": 2
}
