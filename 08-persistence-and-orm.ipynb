{
 "cells": [
  {
   "cell_type": "markdown",
   "metadata": {
    "slideshow": {
     "slide_type": "slide"
    }
   },
   "source": [
    "# Persistence and ORMs"
   ]
  },
  {
   "cell_type": "markdown",
   "metadata": {
    "slideshow": {
     "slide_type": "slide"
    }
   },
   "source": [
    "## Databases\n",
    "\n",
    "90% of applications have a need to store data. Storing data simply in files becomes difficult and inefficient after a while. After a while the file containing the data might start getting bigger, and so you would need to start implementing features to speed up the file reading and writing, which in a nutshell is just what the databases do.\n",
    "\n",
    "Databases are purpose built applications for storing and retrieving data."
   ]
  },
  {
   "cell_type": "markdown",
   "metadata": {
    "slideshow": {
     "slide_type": "slide"
    }
   },
   "source": [
    "## CAP theorem\n",
    "\n",
    "CAP theorem applies to distributed data stores. According to CAP, a distributed database can only guarantee 2 of these traits:\n",
    "\n",
    "```mermaid\n",
    "mindmap\n",
    "  root(CAP)\n",
    "    Consistency\n",
    "    Availability\n",
    "    Partition tolerance\n",
    "```"
   ]
  },
  {
   "cell_type": "markdown",
   "metadata": {
    "slideshow": {
     "slide_type": "skip"
    }
   },
   "source": [
    "Consistency - all reads receive the most recently written data.\n",
    "Availability - database is always ready for use.\n",
    "Partition tolerance - database can continue to function properly even if there are networking issues between nodes."
   ]
  },
  {
   "cell_type": "markdown",
   "metadata": {
    "slideshow": {
     "slide_type": "slide"
    }
   },
   "source": [
    "## Migrations\n",
    "\n",
    "```mermaid\n",
    "mindmap\n",
    "  root(Database migrations)\n",
    "    Database first\n",
    "    Code first\n",
    "    Model first\n",
    "```"
   ]
  },
  {
   "cell_type": "markdown",
   "metadata": {
    "slideshow": {
     "slide_type": "skip"
    }
   },
   "source": [
    "### Benefits of using migrations\n",
    "\n",
    "Pros: \n",
    "- Speeds up the development, since you can generate part of reflected code from the existing code.\n",
    "- Ensures consistency between database and code.\n",
    "- Allows to change either the code or database easier.\n",
    "\n",
    "Cons:\n",
    "- If it does not work properly out of the box, then it might end up being a huge time waste."
   ]
  },
  {
   "cell_type": "markdown",
   "metadata": {
    "slideshow": {
     "slide_type": "skip"
    }
   },
   "source": [
    "### Database first\n",
    "\n",
    "Database first Migrations is a development approach where you design your database structure first. It can be done using tools like MySQL Workbench or SQL Server Management Studio, or just running queries via CLI. The point is that the database schema must be created before you start generating code. Once the database is available, then you generate the code, such as entity classes, based on the database schema created. This approach is particularly useful for projects where you need to work with an existing database or want to ensure your code aligns with a predefined database structure."
   ]
  },
  {
   "cell_type": "markdown",
   "metadata": {
    "slideshow": {
     "slide_type": "skip"
    }
   },
   "source": [
    "### Model first\n",
    "\n",
    "Model-First Migrations is a development approach where you design your database schema using a visual modeling tool, designer tool within an ORM framework like Entity Framework, or some intermediate modeling language.\n",
    "\n",
    "After creating the model, you generate the corresponding database schema and code, including entity classes and relationships. This approach is OK when you first start out by designing your database visually."
   ]
  },
  {
   "cell_type": "markdown",
   "metadata": {
    "slideshow": {
     "slide_type": "skip"
    }
   },
   "source": [
    "### Code first\n",
    "\n",
    "Code first migrations allows to generate database structure according to the code that is written. It is a typical feature of ORM frameworks like Entity Framework.\n",
    "\n",
    "Pros:\n",
    "- Fastest to work with.\n",
    "- Changes are neatly versioned.\n",
    "- Code always (mostly) work.\n",
    "\n",
    "Cons:\n",
    "- Tough luck if the migrations library does not support some database feature needed.\n"
   ]
  },
  {
   "cell_type": "markdown",
   "metadata": {
    "slideshow": {
     "slide_type": "slide"
    }
   },
   "source": [
    "## ORM vs no ORM\n",
    "\n",
    "ORM stands for object-relational-mapper. Using ORM means that you interact with the database via classes and methods instead of working directly with the queries against the database. ORMs simplifies the usage of databases at the cost of reduced flexibility.\n",
    "\n",
    "Pros of using ORM:\n",
    "- No need to deal with SQL query statements.\n",
    "- Easier to refactor code, since IDE can track down all the references.\n",
    "- ORM takes care of lots of boilerplate code.\n",
    "\n",
    "Cons of using ORM:\n",
    "- You can only use the database features that the ORM framework supports.\n",
    "- Since query statements are generated by ORM, they can be suboptimal performance wise."
   ]
  },
  {
   "cell_type": "markdown",
   "metadata": {
    "slideshow": {
     "slide_type": "slide"
    }
   },
   "source": [
    "## Connection strings\n",
    "\n",
    "Connection strings specify how to connect and use the data source.\n",
    "\n",
    "Example connection string:\n",
    ">`User ID=root;Password=myPassword;Host=localhost;Port=5432;Database=myDataBase;Pooling=true;Min Pool Size=0;Max Pool Size=100;Connection Lifetime=0;`"
   ]
  },
  {
   "cell_type": "markdown",
   "metadata": {
    "slideshow": {
     "slide_type": "skip"
    }
   },
   "source": [
    "Connection strings can contain usernames, passwords, host address and various other parameters.\n",
    "\n",
    "Connections strings differ based on database connection driver used. Same connection string that worked for one relational database, may not work for other relation database. Always check the reference like https://www.connectionstrings.com/ to be sure how to assemble connection string correctly for your case."
   ]
  },
  {
   "cell_type": "markdown",
   "metadata": {
    "slideshow": {
     "slide_type": "skip"
    }
   },
   "source": [
    "## Persistence in .NET\n",
    "\n",
    ".NET has libraries to work with most of the commonly available databases. This section will take a look at 2 libraries for working with relational databases: `Dapper` and `EntityFramework`."
   ]
  },
  {
   "cell_type": "markdown",
   "metadata": {
    "slideshow": {
     "slide_type": "skip"
    }
   },
   "source": [
    "For these examples consider there exists a database available with schema like this:\n",
    "\n",
    "```sql\n",
    "CREATE TABLE courses (\n",
    "    id INT PRIMARY KEY AUTO_INCREMENT,\n",
    "    course_name VARCHAR(100) NOT NULL,\n",
    "    course_description TEXT,\n",
    "    created_at TIMESTAMP DEFAULT CURRENT_TIMESTAMP\n",
    ");\n",
    "\n",
    "CREATE TABLE subjects (\n",
    "    id INT PRIMARY KEY AUTO_INCREMENT,\n",
    "    subject_name VARCHAR(100) NOT NULL,\n",
    "    subject_description TEXT,\n",
    "    course_id INT,\n",
    "    created_at TIMESTAMP DEFAULT CURRENT_TIMESTAMP,\n",
    "    FOREIGN KEY (course_id) REFERENCES courses(id) ON DELETE CASCADE\n",
    ");\n",
    "```"
   ]
  },
  {
   "cell_type": "markdown",
   "metadata": {
    "slideshow": {
     "slide_type": "skip"
    }
   },
   "source": [
    "### Dapper"
   ]
  },
  {
   "cell_type": "code",
   "execution_count": null,
   "metadata": {
    "dotnet_interactive": {
     "language": "csharp"
    },
    "polyglot_notebook": {
     "kernelName": "csharp"
    }
   },
   "outputs": [],
   "source": [
    "// Define the classes that represent the schema:\n",
    "\n",
    "public class Course\n",
    "{\n",
    "    public int Id { get; set; }\n",
    "    public string CourseName { get; set; }\n",
    "    public string CourseDescription { get; set; }\n",
    "    public DateTime CreatedAt { get; set; }\n",
    "}\n",
    "\n",
    "public class Subject\n",
    "{\n",
    "    public int Id { get; set; }\n",
    "    public string SubjectName { get; set; }\n",
    "    public string SubjectDescription { get; set; }\n",
    "    public int CourseId { get; set; }\n",
    "    public DateTime CreatedAt { get; set; }\n",
    "}"
   ]
  },
  {
   "cell_type": "markdown",
   "metadata": {
    "slideshow": {
     "slide_type": "skip"
    }
   },
   "source": [
    "Add the `Dapper` package from nuget:"
   ]
  },
  {
   "cell_type": "code",
   "execution_count": null,
   "metadata": {
    "dotnet_interactive": {
     "language": "csharp"
    },
    "polyglot_notebook": {
     "kernelName": "csharp"
    }
   },
   "outputs": [],
   "source": [
    "#r \"nuget:Dapper\"\n",
    "#r \"nuget:MySqlConnector\""
   ]
  },
  {
   "cell_type": "markdown",
   "metadata": {
    "slideshow": {
     "slide_type": "skip"
    }
   },
   "source": [
    "Define the connection string, provide the correct credentials:"
   ]
  },
  {
   "cell_type": "code",
   "execution_count": null,
   "metadata": {
    "dotnet_interactive": {
     "language": "csharp"
    },
    "polyglot_notebook": {
     "kernelName": "csharp"
    }
   },
   "outputs": [],
   "source": [
    "// In this example the MySQL database is used\n",
    "var connectionString = \"Server=localhost;Database=example;Uid=root;Pwd=password;\";"
   ]
  },
  {
   "cell_type": "code",
   "execution_count": null,
   "metadata": {
    "dotnet_interactive": {
     "language": "csharp"
    },
    "polyglot_notebook": {
     "kernelName": "csharp"
    }
   },
   "outputs": [],
   "source": [
    "using MySqlConnector;\n",
    "\n",
    "var connection = new MySqlConnection(connectionString);"
   ]
  },
  {
   "cell_type": "code",
   "execution_count": null,
   "metadata": {
    "dotnet_interactive": {
     "language": "csharp"
    },
    "polyglot_notebook": {
     "kernelName": "csharp"
    }
   },
   "outputs": [],
   "source": [
    "using Dapper;\n",
    "\n",
    "var insertCourse = @\"INSERT INTO Courses \n",
    "    (course_name, course_description, created_at) \n",
    "    VALUES (@CourseName, @CourseDescription, @CreatedAt);\n",
    "    SELECT LAST_INSERT_ID();\";\n",
    "\n",
    "var courseId = connection.Query<int>(\n",
    "    insertCourse, \n",
    "    new \n",
    "    { \n",
    "        CourseName = \"Course 1\", \n",
    "        CourseDescription = \"Course 1 Description\", \n",
    "        CreatedAt = DateTime.Now,\n",
    "    });\n",
    "\n",
    "var insertSubject = @\"INSERT INTO Subjects \n",
    "    (subject_name, subject_description, course_id, created_at) \n",
    "    VALUES (@SubjectName, @SubjectDescription, @CourseId, @CreatedAt);\";\n",
    "\n",
    "connection.Query(\n",
    "    insertSubject, \n",
    "    new \n",
    "    { \n",
    "        SubjectName = \"Subject 1\",\n",
    "        SubjectDescription = \"Subject 1 Description\",\n",
    "        CourseId = courseId,\n",
    "        CreatedAt = DateTime.Now \n",
    "    });"
   ]
  },
  {
   "cell_type": "code",
   "execution_count": null,
   "metadata": {
    "dotnet_interactive": {
     "language": "csharp"
    },
    "polyglot_notebook": {
     "kernelName": "csharp"
    }
   },
   "outputs": [],
   "source": [
    "var selectCourses = \"SELECT Id, course_name as CourseName, course_description as CourseDescription, created_at as CreatedAt FROM Courses;\";\n",
    "\n",
    "var courses = connection.Query<Course>(selectCourses);\n",
    "\n",
    "courses.DisplayTable();"
   ]
  },
  {
   "cell_type": "markdown",
   "metadata": {
    "slideshow": {
     "slide_type": "skip"
    }
   },
   "source": [
    "### Entity Framework\n",
    "\n",
    "In Entity Framework everything is going to revolve around the `DbContext` class and `DbSet`s defined in it."
   ]
  },
  {
   "cell_type": "code",
   "execution_count": null,
   "metadata": {
    "dotnet_interactive": {
     "language": "csharp"
    },
    "polyglot_notebook": {
     "kernelName": "csharp"
    }
   },
   "outputs": [],
   "source": [
    "#r \"nuget:Microsoft.EntityFrameworkCore\"\n",
    "\n",
    "// A MySqlConnector adapter for Entity Framework\n",
    "#r \"nuget:Pomelo.EntityFrameworkCore.MySql\""
   ]
  },
  {
   "cell_type": "code",
   "execution_count": null,
   "metadata": {
    "dotnet_interactive": {
     "language": "csharp"
    },
    "polyglot_notebook": {
     "kernelName": "csharp"
    }
   },
   "outputs": [],
   "source": [
    "public class Course\n",
    "{\n",
    "    public int Id { get; set; }\n",
    "    public string CourseName { get; set; }\n",
    "    public string CourseDescription { get; set; }\n",
    "    public DateTime CreatedAt { get; set; }\n",
    "\n",
    "    // Relations will be resolved by EF Core, so define them explicitly here\n",
    "    public List<Subject> Subjects { get; set; }\n",
    "}\n",
    "\n",
    "public class Subject\n",
    "{\n",
    "    public int Id { get; set; }\n",
    "    public string SubjectName { get; set; }\n",
    "    public string SubjectDescription { get; set; }\n",
    "    public DateTime CreatedAt { get; set; }\n",
    "\n",
    "    // Defining the explicit relations\n",
    "    public int CourseId { get; set; }\n",
    "    public Course Course { get; set; }\n",
    "}"
   ]
  },
  {
   "cell_type": "code",
   "execution_count": null,
   "metadata": {
    "dotnet_interactive": {
     "language": "csharp"
    },
    "polyglot_notebook": {
     "kernelName": "csharp"
    }
   },
   "outputs": [],
   "source": [
    "using Microsoft.EntityFrameworkCore;\n",
    "\n",
    "public class StudiesContext : DbContext\n",
    "{\n",
    "    public DbSet<Course> Courses { get; set; }\n",
    "    public DbSet<Subject> Subjects { get; set; }\n",
    "\n",
    "    protected override void OnConfiguring(DbContextOptionsBuilder optionsBuilder)\n",
    "    {\n",
    "        // Should be configurable in the ideal case\n",
    "        var connectionString = \"Server=localhost;Database=example;Uid=root;Pwd=password;\";\n",
    "\n",
    "        optionsBuilder.UseMySql(\n",
    "            connectionString, \n",
    "            // There are syntax differences between MySQL versions\n",
    "            ServerVersion.AutoDetect(connectionString)\n",
    "        );\n",
    "    }\n",
    "\n",
    "    protected override void OnModelCreating(ModelBuilder modelBuilder)\n",
    "    {\n",
    "        // In this example the configuration is very verbose\n",
    "        // but if the naming convention were to be followed, most of it could be ommited.\n",
    "\n",
    "        // Also if the code first migration were used, then configuration would mostly not be needed\n",
    "\n",
    "        var courseConfig = modelBuilder.Entity<Course>();\n",
    "        courseConfig.ToTable(\"courses\");\n",
    "        courseConfig.HasKey(c => c.Id);\n",
    "        courseConfig.Property(c => c.CourseName)\n",
    "            .HasColumnName(\"course_name\")\n",
    "            .HasMaxLength(100);\n",
    "        courseConfig.Property(c => c.CourseDescription)\n",
    "            .HasColumnName(\"course_description\");\n",
    "        courseConfig.Property(c => c.CreatedAt)\n",
    "            .HasColumnName(\"created_at\");\n",
    "\n",
    "        var subjectConfig = modelBuilder.Entity<Subject>();\n",
    "        subjectConfig.ToTable(\"subjects\");\n",
    "        subjectConfig.HasKey(s => s.Id);\n",
    "        subjectConfig.Property(s => s.SubjectName)\n",
    "            .HasColumnName(\"subject_name\")\n",
    "            .HasMaxLength(100);\n",
    "        subjectConfig.Property(s => s.SubjectDescription)\n",
    "            .HasColumnName(\"subject_description\");\n",
    "        subjectConfig.Property(s => s.CreatedAt)\n",
    "            .HasColumnName(\"created_at\");\n",
    "        subjectConfig.Property(s => s.CourseId)\n",
    "            .HasColumnName(\"course_id\");\n",
    "    \n",
    "        subjectConfig\n",
    "            .HasOne(s => s.Course)\n",
    "            .WithMany(c => c.Subjects)\n",
    "            .HasForeignKey(s => s.CourseId)\n",
    "            .OnDelete(DeleteBehavior.Cascade);\n",
    "    }\n",
    "}"
   ]
  },
  {
   "cell_type": "code",
   "execution_count": null,
   "metadata": {
    "dotnet_interactive": {
     "language": "csharp"
    },
    "polyglot_notebook": {
     "kernelName": "csharp"
    }
   },
   "outputs": [],
   "source": [
    "var dbContext = new StudiesContext();\n",
    "\n",
    "var course = new Course\n",
    "{\n",
    "    CourseName = \"Course 2\",\n",
    "    CourseDescription = \"Course 2 Description\",\n",
    "    CreatedAt = DateTime.Now,\n",
    "    Subjects = new List<Subject>\n",
    "    {\n",
    "        new Subject\n",
    "        {\n",
    "            SubjectName = \"Subject 2\",\n",
    "            SubjectDescription = \"Subject 2 Description\",\n",
    "            CreatedAt = DateTime.Now\n",
    "        }\n",
    "    }\n",
    "};\n",
    "\n",
    "dbContext.Courses.Add(course);\n",
    "dbContext.SaveChanges();"
   ]
  },
  {
   "cell_type": "code",
   "execution_count": null,
   "metadata": {
    "dotnet_interactive": {
     "language": "csharp"
    },
    "polyglot_notebook": {
     "kernelName": "csharp"
    }
   },
   "outputs": [],
   "source": [
    "var courses = dbContext.Courses.ToList();\n",
    "courses.DisplayTable();"
   ]
  },
  {
   "cell_type": "code",
   "execution_count": null,
   "metadata": {
    "dotnet_interactive": {
     "language": "csharp"
    },
    "polyglot_notebook": {
     "kernelName": "csharp"
    }
   },
   "outputs": [],
   "source": [
    "var subjects = dbContext.Subjects.ToList();\n",
    "subjects.DisplayTable();"
   ]
  },
  {
   "cell_type": "code",
   "execution_count": null,
   "metadata": {
    "dotnet_interactive": {
     "language": "csharp"
    },
    "polyglot_notebook": {
     "kernelName": "csharp"
    }
   },
   "outputs": [],
   "source": [
    "var courseWithSubject = dbContext.Courses\n",
    "    .Include(c => c.Subjects)\n",
    "    .FirstOrDefault();\n",
    "\n",
    "courseWithSubject.Display();"
   ]
  },
  {
   "metadata": {},
   "cell_type": "markdown",
   "source": [
    "### Materialization with Entity Framework  \n",
    "\n",
    "Materialization is the process where data retrieved from a database is converted into .NET objects. In Entity Framework, this process is handled automatically when queries are executed. Data is mapped to entity properties, and relationships are resolved based on configurations.  \n",
    "\n",
    "Eager loading fetches related data together with the main entity. It is defined in the query and is preferred when related data is required immediately to avoid additional database calls.  \n",
    "\n",
    "Explicit loading retrieves related data later, after the main entity has been loaded. It allows more control over when data is fetched but may result in additional queries.  \n",
    "\n",
    "Lazy loading loads related data only when it is accessed for the first time. It simplifies code but may lead to performance issues if it causes multiple database queries.  \n",
    "\n",
    "Examples  \n",
    "\n",
    "```csharp\n",
    "var courses = dbContext.Courses.Include(c => c.Subjects).ToList(); // Eager loading  \n",
    "\n",
    "var course = dbContext.Courses.First();  \n",
    "dbContext.Entry(course).Collection(c => c.Subjects).Load(); // Explicit loading  \n",
    "\n",
    "var lazyCourse = dbContext.Courses.First();  \n",
    "var subjects = lazyCourse.Subjects; // Lazy loading  "
   ]
  },
  {
   "cell_type": "markdown",
   "metadata": {
    "slideshow": {
     "slide_type": "skip"
    }
   },
   "source": [
    "### Code first migration in Entity Framework\n",
    "\n",
    "CLI tool (dotnet tool) will have to be installed to start generating migrations:\n",
    "\n",
    "```\n",
    "dotnet tool install --global dotnet-ef\n",
    "```\n",
    "\n",
    "After the tool is installed, run the command to generate migrations:\n",
    "\n",
    "```\n",
    "dotnet ef migrations add <name> --project <path to project> --startup-project <path to startup projects> --output-dir <relative path in project dir where to place generated file>\n",
    "```\n",
    "\n",
    "After the migration is generated it can be applied by:\n",
    "\n",
    "a) Scripting the migration and applying it manually: `dotnet ef migrations script`.\n",
    "\n",
    "b) Applying it by launching the project: `dotnet ef database update`.\n",
    "\n",
    "c) Applying it automatically via code on project startup: `dbContext.Database.Migrate();`\n"
   ]
  },
  {
   "cell_type": "markdown",
   "metadata": {
    "slideshow": {
     "slide_type": "skip"
    }
   },
   "source": [
    "## Testing code with databases\n",
    "\n",
    "There are several general approaches how this could be done:\n",
    "\n",
    "- In general libraries like `EntityFramework` have In Memory adapters, which stores the data in memory and emulates the usage of real database with having to use one. Pros of such approach is that it is very easy to set up. Cons is that In Memory adapter tries to emulate the real database, but not always succeeds. This failure to correctly replicate the usage of database, can lead to false positives, where tests succeed, but the actual implementation doesn't work. This can lead to false negatives as well, where tests fail, while the implementation is correct.\n",
    "- Using Sqlite as database for testing. Sqlite is an \"In Application\" database that stores all the data in file and, instead of relying on external service for the database engine, can run everything needed in the hosting application. This is a better representation of the actual database and would be more robust approach than using In Memory database. However the problem is still that in real environment different database engine that Sqlite can be used and this would make tests not fully representative of the final solution.\n",
    "- Using test containers."
   ]
  },
  {
   "cell_type": "markdown",
   "metadata": {
    "slideshow": {
     "slide_type": "skip"
    }
   },
   "source": [
    "### Testing with test containers\n",
    "\n",
    "Test containers is a very good option to setup the database for integration tests. It depends on having docker service running on the machine.\n",
    "\n",
    "Test containers launch a docker container with the desired database. After the test completes, the database container is removed. This allows to run tests against the actual database that is launched and cleared only for the specific test.\n",
    "\n",
    "Although setting up the test container involves quite some code to do that properly."
   ]
  },
  {
   "cell_type": "markdown",
   "metadata": {
    "slideshow": {
     "slide_type": "skip"
    }
   },
   "source": [
    "You can use the class below as fixture for `xUnit` framework, it assumes that tested project is an ASP.NET application and code first migrations are used.\n",
    "\n",
    "It depends on 2 packages installed:\n",
    "- `Testcontainers.MySql`\n",
    "- `Respawn`\n",
    "- `Microsoft.AspNetCore.Mvc.Testing`"
   ]
  },
  {
   "cell_type": "markdown",
   "metadata": {
    "slideshow": {
     "slide_type": "skip"
    }
   },
   "source": [
    "```csharp\n",
    "public class IntegrationTestFactory : WebApplicationFactory<Program>, IAsyncLifetime\n",
    "{\n",
    "    private const string DatabaseName = \"db name\";\n",
    "    private const string DatabaseUser = \"db user\";\n",
    "    private const string DatabasePassword = \"user password\";\n",
    "\n",
    "    private readonly MySqlContainer _container = new MySqlBuilder()\n",
    "        .WithImage(\"mysql:<version needed>\")\n",
    "        .WithUsername(DatabaseUser)\n",
    "        .WithPassword(DatabasePassword)\n",
    "        .WithDatabase(DatabaseName)\n",
    "        .WithCleanUp(true)\n",
    "        .Build();\n",
    "\n",
    "    public IApplicationDbContext DbContext { get; private set; } = null!;\n",
    "    private Respawner _respawner = null!;\n",
    "    private DbConnection _connection = null!;\n",
    "\n",
    "    public async Task ResetDatabaseAsync()\n",
    "    {\n",
    "        await _respawner.ResetAsync(_connection);\n",
    "    }\n",
    "\n",
    "    public async Task InitializeAsync()\n",
    "    {\n",
    "        await _container.StartAsync();\n",
    "        var dbContext = Services.GetRequiredService<ApplicationDbContext>();\n",
    "\n",
    "        DbContext = dbContext;\n",
    "\n",
    "        _connection = dbContext.Database.GetDbConnection();\n",
    "        await _connection.OpenAsync();\n",
    "\n",
    "        _respawner = await Respawner.CreateAsync(\n",
    "            _connection,\n",
    "            new RespawnerOptions\n",
    "            {\n",
    "                DbAdapter = DbAdapter.MySql,\n",
    "                TablesToIgnore =\n",
    "                [\n",
    "                    new Table(\"__efmigrationshistory\"),\n",
    "                    new Table(\"__EFMigrationsHistory \"),\n",
    "                ],\n",
    "            }\n",
    "        );\n",
    "    }\n",
    "\n",
    "    public new async Task DisposeAsync()\n",
    "    {\n",
    "        await _container.DisposeAsync();\n",
    "    }\n",
    "\n",
    "    protected override void ConfigureWebHost(IWebHostBuilder builder)\n",
    "    {\n",
    "        var configValues = new Dictionary<string, string?>\n",
    "        {\n",
    "            [\"Database:Host\"] = \"localhost\",\n",
    "            [\"Database:Port\"] = _container.GetMappedPublicPort(3306).ToString(), // default mysql port\n",
    "            [\"Database:User\"] = DatabaseUser,\n",
    "            [\"Database:Password\"] = DatabasePassword,\n",
    "            [\"Database:Database\"] = DatabaseName,\n",
    "        };\n",
    "        var configuration = new ConfigurationBuilder().AddInMemoryCollection(configValues).Build();\n",
    "\n",
    "        builder\n",
    "            .UseConfiguration(configuration)\n",
    "            .ConfigureAppConfiguration(configurationBuilder =>\n",
    "            {\n",
    "                configurationBuilder.AddInMemoryCollection(configValues);\n",
    "            });\n",
    "\n",
    "        // Optionally replace it completely\n",
    "        // builder.ConfigureTestServices(services =>\n",
    "        // {\n",
    "        //     services.RemoveAll<GraderDbContext>();\n",
    "\n",
    "        //     services.AddDbContext<GraderDbContext>(options =>\n",
    "        //     {\n",
    "        //         options.UseMySql(\n",
    "        //             $\"Server=localhost;Port={_container.GetMappedPublicPort(3306)};Database={DatabaseName};User={DatabaseUser};Password={DatabasePassword}\",\n",
    "        //             new MySqlServerVersion(ServerVersion.Parse(\"9.0.1\"))\n",
    "        //         );\n",
    "        //     });\n",
    "        // });\n",
    "    }\n",
    "}\n",
    "\n",
    "[CollectionDefinition(nameof(DatabaseTestCollection))]\n",
    "public class DatabaseTestCollection : ICollectionFixture<IntegrationTestFactory> { }\n",
    "```"
   ]
  },
  {
   "cell_type": "markdown",
   "metadata": {
    "slideshow": {
     "slide_type": "skip"
    }
   },
   "source": [
    "In the actual test class, this fixture should be used like this:\n",
    "\n",
    "```csharp\n",
    "[Collection(nameof(DatabaseTestCollection))]\n",
    "public class MyIntegrationTest : IAsyncLifetime\n",
    "{\n",
    "    private readonly IApplicationDbContext _dbContext;\n",
    "    private readonly Func<Task> _resetDatabase;\n",
    "\n",
    "    public MyIntegrationTest(IntegrationTestFactory factory)\n",
    "    {\n",
    "        _dbContext = factory.DbContext;\n",
    "        _resetDatabase = factory.ResetDatabaseAsync;\n",
    "    }\n",
    "\n",
    "    // All the tests can go here\n",
    "\n",
    "    public Task DisposeAsync() => Task.CompletedTask;\n",
    "\n",
    "    public Task InitializeAsync() => _resetDatabase();\n",
    "}\n",
    "```"
   ]
  }
 ],
 "metadata": {
  "kernelspec": {
   "display_name": ".NET (C#)",
   "language": "C#",
   "name": ".net-csharp"
  },
  "language_info": {
   "name": "polyglot-notebook"
  },
  "polyglot_notebook": {
   "kernelInfo": {
    "defaultKernelName": "csharp",
    "items": [
     {
      "aliases": [],
      "languageName": "csharp",
      "name": "csharp"
     }
    ]
   }
  }
 },
 "nbformat": 4,
 "nbformat_minor": 2
}
